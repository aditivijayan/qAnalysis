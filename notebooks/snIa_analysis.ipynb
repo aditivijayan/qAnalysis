{
 "cells": [
  {
   "cell_type": "code",
   "execution_count": 1,
   "id": "c631d74c",
   "metadata": {},
   "outputs": [],
   "source": [
    "\n",
    "import _init_\n",
    "from constants import *\n",
    "from set_path import *\n",
    "from config import *\n",
    "from functions import *\n"
   ]
  },
  {
   "cell_type": "code",
   "execution_count": 2,
   "id": "a94e541d",
   "metadata": {},
   "outputs": [],
   "source": [
    "def get_folder_size(directory):\n",
    "    total_size = 0\n",
    "    for dirpath, dirnames, filenames in os.walk(directory):\n",
    "        for filename in filenames:\n",
    "            file_path = os.path.join(dirpath, filename)\n",
    "            # Skip if it is symbolic link\n",
    "            if not os.path.islink(file_path):\n",
    "                total_size += os.path.getsize(file_path)\n",
    "    return total_size"
   ]
  },
  {
   "cell_type": "code",
   "execution_count": 3,
   "id": "f7d3d27b",
   "metadata": {},
   "outputs": [],
   "source": [
    "sigma_sfr = 0.000398107/yr_to_sec "
   ]
  },
  {
   "cell_type": "code",
   "execution_count": null,
   "id": "e92b2f69",
   "metadata": {
    "scrolled": false
   },
   "outputs": [],
   "source": [
    "kk = 0 \n",
    "\n",
    "\n",
    "data_path = os.path.join('/g/data/jh2/av5889/quokka_myrepo/quokka/sims/', 'SetonixData/SN1a')\n",
    "# data_path = os.path.join('/scratch/jh2/av5889/sims/SetonixRuns/SN1a/')\n",
    "\n",
    "os.chdir(data_path)\n",
    "list_file = glob.glob(\"proj_y_plt*/\")\n",
    "Zunit = Msun/1.e3\n",
    "infile   = os.path.join(data_path, 'metal_uniform.in')\n",
    "\n",
    "dom_min, dom_max, ncells = getdomain(infile)\n",
    "fac = 1\n",
    "zrange = np.linspace(dom_min[2], dom_max[2], (fac*int(ncells[2])))\n",
    "xrange = np.linspace(dom_min[0], dom_max[0], (fac*int(ncells[0])))\n",
    "yrange = np.linspace(dom_min[1], dom_max[1], (fac*int(ncells[1])))\n",
    "\n",
    "dx = (dom_max[0]- dom_min[0])/(fac*int(ncells[0]))\n",
    "dy = (dom_max[1]- dom_min[1])/(fac*int(ncells[1]))\n",
    "dz = (dom_max[2]- dom_min[2])/(fac*int(ncells[2]))\n",
    "\n",
    "dom_min = [0.0, -1.2072e+22, 0.0] \n",
    "\n",
    "timestep = np.zeros(len(list_file))\n",
    "\n",
    "tot_mass_flux = np.zeros((len(list_file),xrange.shape[0], zrange.shape[0]))\n",
    "wtot_mass_flux = np.zeros((len(list_file),xrange.shape[0], zrange.shape[0]))\n",
    "htot_mass_flux = np.zeros((len(list_file),xrange.shape[0], zrange.shape[0]))\n",
    "\n",
    "tot_scal_flux = np.zeros((len(list_file),xrange.shape[0], zrange.shape[0]))\n",
    "wtot_scal_flux = np.zeros((len(list_file),xrange.shape[0], zrange.shape[0]))\n",
    "htot_scal_flux = np.zeros((len(list_file),xrange.shape[0], zrange.shape[0]))\n",
    "\n",
    "tot_scal_flux1 = np.zeros((len(list_file),xrange.shape[0], zrange.shape[0]))\n",
    "wtot_scal_flux1 = np.zeros((len(list_file),xrange.shape[0], zrange.shape[0]))\n",
    "htot_scal_flux1 = np.zeros((len(list_file),xrange.shape[0], zrange.shape[0]))\n",
    "\n",
    "tot_scal_flux2 = np.zeros((len(list_file),xrange.shape[0], zrange.shape[0]))\n",
    "wtot_scal_flux2 = np.zeros((len(list_file),xrange.shape[0], zrange.shape[0]))\n",
    "htot_scal_flux2 = np.zeros((len(list_file),xrange.shape[0], zrange.shape[0]))\n",
    "\n",
    "\n",
    "tot_scal = np.zeros((len(list_file), xrange.shape[0], zrange.shape[0]))\n",
    "tot_rho = np.zeros((len(list_file), xrange.shape[0], zrange.shape[0]))\n",
    "tot_scal1 = np.zeros((len(list_file), xrange.shape[0], zrange.shape[0]))\n",
    "tot_scal2 = np.zeros((len(list_file), xrange.shape[0], zrange.shape[0]))\n",
    "\n",
    "\n",
    "dx = (dom_max[0]- dom_min[0])/(fac*int(ncells[0]))\n",
    "\n",
    "\n",
    "max_time=0.0\n",
    "i=0\n",
    "tot_mass_flux = []\n",
    "timestep = []\n",
    "for i in range(len(list_file)):\n",
    "    f = list_file[i]\n",
    "    inputfile = os.path.join(data_path, f)\n",
    "\n",
    "    \n",
    "    file_size = get_folder_size(inputfile) / (1024 * 1024)\n",
    "        \n",
    "    if(file_size<1.):\n",
    "        print('Skipping ', inputfile, '\\n')\n",
    "        continue\n",
    "        \n",
    "    ds   = yt.load(inputfile)\n",
    "    data = ds.covering_grid(level=0, left_edge=dom_min,  dims=ds.domain_dimensions, num_ghost_zones=0)\n",
    "    print(inputfile)\n",
    "    curr_timestep = ds.current_time.to('Myr')\n",
    "    curr_timestep = 10.\n",
    "    if(curr_timestep>0.0):\n",
    "        timestep.append(ds.current_time.to('Myr'))\n",
    "\n",
    "        tot_mass_flux.append(np.array(data['mass_outflow'])[:,0,:]*dx*yr_to_sec/Msun)\n",
    "        \n",
    "        wtot_mass_flux[i,:] = np.array(data['warm_mass_outflow'])[:,0,:]*dx*yr_to_sec/Msun\n",
    "        htot_mass_flux[i,:] = np.array(data['hot_mass_outflow'])[:,0,:]*dx*yr_to_sec/Msun\n",
    "\n",
    "        tot_scal_flux[i,:] = np.array(data['scalar0_outflow'])[:,0,:]*dx\n",
    "        wtot_scal_flux[i,:] = np.array(data['warm_scalar0_outflow'])[:,0,:]*dx\n",
    "        htot_scal_flux[i,:] = np.array(data['hot_scalar0_outflow'])[:,0,:]*dx\n",
    "\n",
    "        tot_scal_flux1[i,:] = np.array(data['scalar1_outflow'])[:,0,:]*dx\n",
    "        wtot_scal_flux1[i,:] = np.array(data['warm_scalar1_outflow'])[:,0,:]*dx\n",
    "        htot_scal_flux1[i,:] = np.array(data['hot_scalar1_outflow'])[:,0,:]*dx\n",
    "\n",
    "        tot_scal[i,:] = np.array(data['scalar0'])[:,0,:]*Zunit\n",
    "        tot_scal1[i,:] = np.array(data['scalar1'])[:,0,:]*Zunit\n",
    "        tot_scal2[i,:] = np.array(data['scalar2'])[:,0,:]*Zunit \n",
    "        tot_rho[i,:] = np.array(data['rho'])[:,0,:]\n",
    "        i+=1\n",
    "    \n",
    "# Zinj = scalar_mass/ rho\n",
    "tot_mass_flux = np.asarray(tot_mass_flux)\n",
    "timestep = np.asarray(timestep)"
   ]
  },
  {
   "cell_type": "markdown",
   "id": "124eb467",
   "metadata": {},
   "source": [
    "# < Z_Ia >_{z < 500 pc} vs time and < Z_II >_{z < 500 pc} vs time"
   ]
  },
  {
   "cell_type": "code",
   "execution_count": null,
   "id": "ba7d921a",
   "metadata": {},
   "outputs": [],
   "source": [
    "#num = \\int_{-z}^{z} \\int \\int rhoZ dxdydz\n",
    "#denom = \\int_{-z}^{z} \\int \\int rho dxdydz\n",
    "\n",
    "\n",
    "X,  Z = np.meshgrid(xrange, zrange)\n",
    "Volmask = (np.abs(Z)<1.*kpc)\n",
    "Z_Ia = np.zeros(timestep.shape[0])\n",
    "Z_II = np.zeros(timestep.shape[0])\n",
    "Z_AGB = np.zeros(timestep.shape[0])\n",
    "metmass_II = np.zeros(timestep.shape[0])\n",
    "metmass_Ia = np.zeros(timestep.shape[0])\n",
    "metmass_AGB = np.zeros(timestep.shape[0])\n",
    "\n",
    "for i in range(timestep.shape[0]):\n",
    "    \n",
    "    numer_0 = np.sum(np.ma.array(tot_scal[i], mask=~Volmask), axis=(0,1)) \n",
    "    numer_1 = np.sum(np.ma.array(tot_scal1[i], mask=~Volmask), axis=(0,1)) \n",
    "    numer_2 = np.sum(np.ma.array(tot_scal2[i], mask=~Volmask), axis=(0,1)) \n",
    "    denom = np.sum(np.ma.array(tot_rho[i], mask=~Volmask), axis=(0,1)) \n",
    "    \n",
    "    Z_II[i] = numer_0 /denom    \n",
    "    Z_Ia[i] = numer_1 /denom    \n",
    "    Z_AGB[i] = numer_2 /denom\n",
    "    if(denom==0.0):\n",
    "        print(i, timestep[i])\n",
    "    \n",
    "    metmass_II[i] = np.sum(tot_scal[i], axis=(0,1)) * dx * dz\n",
    "    metmass_Ia[i] = np.sum(tot_scal1[i], axis=(0,1)) * dx * dz\n",
    "    metmass_AGB[i] = np.sum(tot_scal2[i], axis=(0,1)) * dx * dz\n"
   ]
  },
  {
   "cell_type": "code",
   "execution_count": null,
   "id": "2d08e2a7",
   "metadata": {},
   "outputs": [],
   "source": [
    "Zoxy = 8.6e-3\n",
    "\n",
    "\n",
    "indexes = list(range(len(timestep)))\n",
    "indexes.sort(key=timestep.__getitem__)\n",
    "sorted_time = np.asarray(list(map(timestep.__getitem__, indexes)))\n",
    "sorted_ZII  = np.asarray(list(map(Z_II.__getitem__, indexes)))\n",
    "sorted_ZIa  = np.asarray(list(map(Z_Ia.__getitem__, indexes)))\n",
    "sorted_ZABG  = np.asarray(list(map(Z_AGB.__getitem__, indexes)))\n",
    "\n",
    "plt.figure(figsize=(8,6))\n",
    "plt.plot(sorted_time, sorted_ZII,  label='Type II', lw=3.0)\n",
    "mask= (sorted_ZIa>0.0)\n",
    "plt.plot(sorted_time[mask], sorted_ZIa[mask],  label='Type Ia', lw=3.0)\n",
    "# mask= (sorted_ZIa>0.0)\n",
    "plt.plot(sorted_time, sorted_ZABG,   label='AGB', lw=3.0)\n",
    "\n",
    "plt.legend()\n",
    "plt.title(r'$|z|<1$ kpc')\n",
    "plt.xlabel('Time [Myr]')\n",
    "plt.ylabel(r'$\\rho_Z/\\rho$')\n",
    "plt.yscale('log')\n",
    "# plt.ylim(1.e-5, 5.e-2)"
   ]
  },
  {
   "cell_type": "code",
   "execution_count": null,
   "id": "b2d26f05",
   "metadata": {},
   "outputs": [],
   "source": [
    "Zoxy = 8.6e-3\n",
    "\n",
    "\n",
    "# indexes = list(range(len(timestep)))\n",
    "# indexes.sort(key=timestep.__getitem__)\n",
    "# sorted_time = np.asarray(list(map(timestep.__getitem__, indexes)))\n",
    "sorted_ZII  = np.asarray(list(map(Z_II.__getitem__, indexes)))\n",
    "sorted_ZIa  = np.asarray(list(map(Z_Ia.__getitem__, indexes)))\n",
    "sorted_ZAGB  = np.asarray(list(map(Z_AGB.__getitem__, indexes)))\n",
    "\n",
    "mask= (sorted_ZIa>0.0)\n",
    "\n",
    "plt.figure(figsize=(8,6))\n",
    "# plt.plot(sorted_time, sorted_ZII,  label='Type II', lw=3.0)\n",
    "plt.plot(sorted_time[mask], sorted_ZII[mask]/sorted_ZIa[mask],  label='Type II/Type Ia', lw=3.0)\n",
    "# plt.plot(sorted_time[mask], sorted_ZII[mask]/sorted_ZAGB[mask],  label='Type II/AGB', lw=3.0)\n",
    "plt.legend()\n",
    "plt.title(r'$|z|<1$ kpc')\n",
    "plt.xlabel('Time [Myr]')\n",
    "plt.ylabel(r'$\\langle Z \\rangle_{\\rm II}/\\langle Z \\rangle_{\\rm Ia}$')"
   ]
  },
  {
   "cell_type": "code",
   "execution_count": null,
   "id": "67a5dcdc",
   "metadata": {},
   "outputs": [],
   "source": [
    "deltaT = (2.16766603e+15-7.400353225e+14 )\n",
    "deltaT = 7.400353225e+14\n",
    "AGB = deltaT * 16. * sigma_sfr  \n",
    "103255, AGB, np.sqrt(AGB)"
   ]
  },
  {
   "cell_type": "code",
   "execution_count": null,
   "id": "995a60b9",
   "metadata": {},
   "outputs": [],
   "source": [
    "### Total metal mass/ (dMetall/dt * t) vs time\n",
    "Zoxy = 8.6e-3\n",
    "\n",
    "indexes = list(range(len(timestep)))\n",
    "indexes.sort(key=timestep.__getitem__)\n",
    "\n",
    "sorted_time = np.asarray(list(map(timestep.__getitem__, indexes)))\n",
    "sorted_metmassII  = np.asarray(list(map(metmass_II.__getitem__, indexes)))\n",
    "sorted_metmassIa  = np.asarray(list(map(metmass_Ia.__getitem__, indexes)))\n",
    "sorted_metmassABG  = np.asarray(list(map(metmass_AGB.__getitem__, indexes)))\n",
    "\n",
    "met_injII = 0.6 * sigma_sfr * Msun * sorted_time * Myr \n",
    "met_injIa = 0.4 * sigma_sfr * Msun * sorted_time * Myr \n",
    "met_AGB = 16. * sigma_sfr * Msun * sorted_time * Myr \n",
    "\n",
    "mask = (sorted_metmassIa>0.0)\n",
    "\n",
    "\n",
    "\n",
    "plt.figure(figsize=(8,6))\n",
    "plt.plot(sorted_time, sorted_metmassII/met_injII,  label='Type II', lw=3.0)\n",
    "plt.plot(sorted_time, sorted_metmassIa/met_injIa,  label='Type Ia', lw=3.0)\n",
    "plt.plot(sorted_time,  sorted_metmassABG/met_AGB,  label='AGB', lw=3.0)\n",
    "# plt.plot(sorted_time, met_AGB,  label='th', lw=3.0)\n",
    "plt.yscale('log')\n",
    "plt.legend()\n",
    "\n",
    "plt.xlabel('Time [Myr]')\n",
    "plt.ylabel(r'$M_Z/M_{\\rm Z,inj}$')\n",
    "plt.xlim(-0.1, 5.)\n",
    "plt.ylim(0.0, 2.0)\n"
   ]
  },
  {
   "cell_type": "code",
   "execution_count": null,
   "id": "d0d93fb1",
   "metadata": {},
   "outputs": [],
   "source": [
    "### Total metal mass/ (dMetall/dt * t) vs time\n",
    "met_AGB =  16. * sigma_sfr * Msun * sorted_time * Myr \n",
    "\n",
    "plt.plot(sorted_time, met_AGB,  label='th', lw=3.0)\n",
    "# plt.fill_between(sorted_time, 1.5*met_AGB, 0.7*met_AGB, alpha=0.2,lw=3.0)\n",
    "plt.plot(sorted_time, sorted_metmassABG,  label='AGB', lw=3.0)\n",
    "plt.yscale('log')\n",
    "plt.legend()\n",
    "\n",
    "plt.xlabel('Time [Myr]')\n",
    "plt.ylabel(r'$M$')\n",
    "plt.xlim(-0.1, 50.)\n",
    "# plt.ylim(1.e37, 1.e39)\n"
   ]
  },
  {
   "cell_type": "markdown",
   "id": "9652f986",
   "metadata": {},
   "source": [
    "# Load Slices"
   ]
  },
  {
   "cell_type": "code",
   "execution_count": 4,
   "id": "3dbaef1e",
   "metadata": {},
   "outputs": [],
   "source": [
    "# data_path = '/scratch/jh2/av5889/sims/SNIa/PoissonTest/'\n",
    "data_path = '/g/data/jh2/av5889/quokka_myrepo/quokka/sims/SetonixData/SN1a/PoissonTest/'"
   ]
  },
  {
   "cell_type": "code",
   "execution_count": 5,
   "id": "43773d3e",
   "metadata": {},
   "outputs": [
    {
     "name": "stderr",
     "output_type": "stream",
     "text": [
      "yt : [INFO     ] 2025-01-17 15:07:28,328 Parameters: current_time              = 3328738124800.9785\n",
      "yt : [INFO     ] 2025-01-17 15:07:28,330 Parameters: domain_dimensions         = [ 512  512 4096]\n",
      "yt : [INFO     ] 2025-01-17 15:07:28,332 Parameters: domain_left_edge          = [ 0.0000e+00  0.0000e+00 -1.2072e+22]\n",
      "yt : [INFO     ] 2025-01-17 15:07:28,333 Parameters: domain_right_edge         = [3.0180e+21 3.0180e+21 1.2072e+22]\n"
     ]
    },
    {
     "data": {
      "text/plain": [
       "unyt_quantity(0.10548135, 'Myr')"
      ]
     },
     "execution_count": 5,
     "metadata": {},
     "output_type": "execute_result"
    }
   ],
   "source": [
    "# f = 'proj_y_plt50000/'\n",
    "f = 'plt00500/'\n",
    "inputfile = os.path.join(data_path, f)\n",
    "ds   = yt.load(inputfile)\n",
    "ds.current_time.to('Myr')"
   ]
  },
  {
   "cell_type": "code",
   "execution_count": 6,
   "id": "5f2b10a9",
   "metadata": {},
   "outputs": [],
   "source": [
    "infile   = os.path.join(data_path, 'metal_uniform.in')\n",
    "\n",
    "dom_min, dom_max, ncells = getdomain(infile)\n",
    "fac = 1\n",
    "zrange = np.linspace(dom_min[2], dom_max[2], (fac*int(ncells[2])))\n",
    "xrange = np.linspace(dom_min[0], dom_max[0], (fac*int(ncells[0])))\n",
    "yrange = np.linspace(dom_min[1], dom_max[1], (fac*int(ncells[1])))\n",
    "\n",
    "dx = (dom_max[0]- dom_min[0])/(fac*int(ncells[0]))\n",
    "dy = (dom_max[1]- dom_min[1])/(fac*int(ncells[1]))\n",
    "dz = (dom_max[2]- dom_min[2])/(fac*int(ncells[2]))\n"
   ]
  },
  {
   "cell_type": "code",
   "execution_count": 7,
   "id": "cf95cccb",
   "metadata": {},
   "outputs": [],
   "source": [
    "lev = 0\n",
    "data = ds.covering_grid(level=lev, left_edge=dom_min, dims=ds.domain_dimensions * fac, num_ghost_zones=0)\n",
    "timestep = ds.current_time.to('Myr')\n",
    "\n",
    "rho = np.array(data['gasDensity'])\n",
    "rhoZ0 = np.array(data['scalar_0'])\n",
    "rhoZ1 = np.array(data['scalar_1'])\n",
    "rhoZ2 = np.array(data['scalar_2'])\n",
    "# np.amin(eint)"
   ]
  },
  {
   "cell_type": "code",
   "execution_count": 8,
   "id": "a906af94",
   "metadata": {},
   "outputs": [
    {
     "data": {
      "text/plain": [
       "(1.5662834079344554, 16.797144886178202)"
      ]
     },
     "execution_count": 8,
     "metadata": {},
     "output_type": "execute_result"
    }
   ],
   "source": [
    "num_Ia = 0.4 * sigma_sfr * timestep.value * Myr\n",
    "tIa_scal = num_Ia * Msun\n",
    "tIa_scal_dat = np.sum(rhoZ1)*Msun*dx*dz*dy/1.e3\n",
    "tIa_scal_dat/tIa_scal, num_Ia"
   ]
  },
  {
   "cell_type": "code",
   "execution_count": 9,
   "id": "de8f86f5",
   "metadata": {},
   "outputs": [
    {
     "data": {
      "text/plain": [
       "1.2029460776922742"
      ]
     },
     "execution_count": 9,
     "metadata": {},
     "output_type": "execute_result"
    }
   ],
   "source": [
    "num_II = 0.6 * sigma_sfr * timestep.value * Myr\n",
    "tII_scal = num_II * Msun\n",
    "tII_scal_dat = np.sum(rhoZ0)*Msun*dx*dz*dy/1.e3\n",
    "tII_scal_dat/tII_scal"
   ]
  },
  {
   "cell_type": "code",
   "execution_count": 10,
   "id": "2e03a760",
   "metadata": {},
   "outputs": [
    {
     "data": {
      "text/plain": [
       "(1.0095600977596824, 671.8857954471281)"
      ]
     },
     "execution_count": 10,
     "metadata": {},
     "output_type": "execute_result"
    }
   ],
   "source": [
    "num_agb = 16 * sigma_sfr * timestep.value * Myr\n",
    "# num_agb = 5701\n",
    "agb_scal = num_agb * Msun\n",
    "agb_scal_dat = np.sum(rhoZ2)*Msun*dx*dz*dy/1.e3\n",
    "agb_scal_dat/agb_scal, num_agb"
   ]
  },
  {
   "cell_type": "code",
   "execution_count": null,
   "id": "f86d0ade",
   "metadata": {
    "scrolled": false
   },
   "outputs": [],
   "source": [
    "fig, ax = plt.subplots(1, 4, gridspec_kw = {'wspace':0.02, 'hspace':0.02},figsize=(24, 24))\n",
    "i=0\n",
    "\n",
    "cbarx = 0.13\n",
    "cbheight = 0.02\n",
    "cbary = 0.89\n",
    "cblen = 0.15\n",
    "dx1 = 0.2\n",
    "cbtitlex = 0.1\n",
    "cbtitley = 16.5\n",
    "\n",
    "Zunit = Msun/1.e3\n",
    "Z0 = rhoZ0[:,0,:] #* Zunit/rho[:,0,:]\n",
    "Z1 = rhoZ1[:,0,:] #* Zunit/rho[:,0,:]\n",
    "Z2 = rhoZ2[:,0,:] #* Zunit/rho[:,0,:]\n",
    "\n",
    "plot = ax[0].pcolormesh(yrange/kpc,zrange/kpc, np.transpose(Z0),\\\n",
    "                    norm=mcolors.LogNorm(vmin=1.e-65, vmax=1.e-56),\n",
    "                    cmap='Blues')\n",
    "cax = fig.add_axes([cbarx, cbary, cblen, cbheight])\n",
    "fig.colorbar(plot, cax=cax, orientation='horizontal', ticks=(1.e-3,  1.e-1, 1.e1, 1.e3))\n",
    "cax.xaxis.set_ticks_position('top')\n",
    "cax.set_title(r\" $Z_{\\rm type II}$\" )\n",
    "\n",
    "\n",
    "plot = ax[1].pcolormesh(yrange/kpc,zrange/kpc, np.transpose(Z1),\\\n",
    "                    norm=mcolors.LogNorm(vmin=1.e-65, vmax=1.e-56),\n",
    "                    cmap='Blues')\n",
    "cax = fig.add_axes([cbarx + dx1, cbary, cblen, cbheight])\n",
    "fig.colorbar(plot, cax=cax, orientation='horizontal', ticks=(1.e-3,  1.e-1, 1.e1, 1.e3))\n",
    "cax.xaxis.set_ticks_position('top')\n",
    "cax.set_title(r\" $Z_{\\rm type Ia}$\")\n",
    "\n",
    "plot = ax[2].pcolormesh(yrange/kpc,zrange/kpc, np.transpose(Z2),\\\n",
    "                    norm=mcolors.LogNorm(vmin=1.e-65, vmax=1.e-56),\n",
    "                    cmap='Blues')\n",
    "cax = fig.add_axes([cbarx + 2.*dx1, cbary, cblen, cbheight])\n",
    "fig.colorbar(plot, cax=cax, orientation='horizontal', ticks=(1.e-3,  1.e-1, 1.e1, 1.e3))\n",
    "cax.xaxis.set_ticks_position('top')\n",
    "cax.set_title(r\" $Z_{\\rm AGB}$\" )\n",
    "\n",
    "\n",
    "plot = ax[3].pcolormesh(yrange/kpc,zrange/kpc, np.transpose(rho[:,0,:])/mp,\\\n",
    "                    norm=mcolors.LogNorm(vmin=1.e-8, vmax=1.e-2),\n",
    "                    cmap='Spectral')\n",
    "cax = fig.add_axes([cbarx + 3.*dx1, cbary, cblen, cbheight])\n",
    "fig.colorbar(plot, cax=cax, orientation='horizontal', ticks=(1.e-8,  1.e-6, 1.e-4, 1.e-2))\n",
    "cax.xaxis.set_ticks_position('top')\n",
    "cax.set_title(r\" $\\rho$\" )\n",
    "\n",
    "\n",
    "\n",
    "ax[1].tick_params(axis='y', labelleft=False, labelright=False, right=True, left=True)\n",
    "ax[2].tick_params(axis='y', labelleft=False, labelright=False, right=True, left=True)\n",
    "plt.setp(ax, 'ylim', (-0.1, 4.))"
   ]
  },
  {
   "cell_type": "code",
   "execution_count": 76,
   "id": "53e1b743",
   "metadata": {},
   "outputs": [],
   "source": [
    "data_path = '/g/data/jh2/av5889/quokka_myrepo/quokka/sims/SetonixData/SN1a/PoissonTest/'\n",
    "filename = os.path.join(data_path, 'output_100_4nodes_4pc_SN.log')\n",
    "file = open(filename)\n",
    "lines = file.readlines()"
   ]
  },
  {
   "cell_type": "code",
   "execution_count": 77,
   "id": "8a5080a0",
   "metadata": {
    "scrolled": true
   },
   "outputs": [
    {
     "data": {
      "text/plain": [
       "1548"
      ]
     },
     "execution_count": 77,
     "metadata": {},
     "output_type": "execute_result"
    }
   ],
   "source": [
    "total_count = []\n",
    "for line in lines:\n",
    "    if(len(line.split())>4):\n",
    "        if(line.split()[1]=='AGB'):\n",
    "#             print(line)\n",
    "            total_count.append(int(line.split()[4]))\n",
    "total_count = np.asarray(total_count)\n",
    "np.sum(total_count)"
   ]
  },
  {
   "cell_type": "code",
   "execution_count": 78,
   "id": "42c4af6a",
   "metadata": {},
   "outputs": [
    {
     "data": {
      "text/plain": [
       "680.1669245029196"
      ]
     },
     "execution_count": 78,
     "metadata": {},
     "output_type": "execute_result"
    }
   ],
   "source": [
    "num_agb = 16 * sigma_sfr * 3.363614889e+12 \n",
    "num_agb"
   ]
  },
  {
   "cell_type": "code",
   "execution_count": 30,
   "id": "7608830a",
   "metadata": {},
   "outputs": [
    {
     "data": {
      "text/plain": [
       "[<matplotlib.lines.Line2D at 0x1487e892c820>]"
      ]
     },
     "execution_count": 30,
     "metadata": {},
     "output_type": "execute_result"
    },
    {
     "data": {
      "image/png": "[encoded data removed]",
      "text/plain": [
       "<Figure size 432x288 with 1 Axes>"
      ]
     },
     "metadata": {
      "needs_background": "light"
     },
     "output_type": "display_data"
    }
   ],
   "source": [
    "\n",
    "arr2 = np.random.poisson(79, size =5000)\n",
    "arr22, bins2 = np.histogram(arr2, bins=bins)\n",
    "\n",
    "plt.plot(bins1[:-1], arr)\n",
    "plt.plot(bins2[:-1], arr22)"
   ]
  },
  {
   "cell_type": "code",
   "execution_count": null,
   "id": "04485a82",
   "metadata": {},
   "outputs": [],
   "source": [
    "dt =  1.6557095949e+10\n",
    "expectation_valueAGB = (1.3857971188361884e-54*16.0) * kpc*kpc * dt\n",
    "expectation_valueAGB"
   ]
  },
  {
   "cell_type": "code",
   "execution_count": null,
   "id": "144a5191",
   "metadata": {},
   "outputs": [],
   "source": [
    "expectation_valueIa = (1.3857971188361884e-54*0.4) * kpc*kpc * dt\n",
    "expectation_valueIa"
   ]
  },
  {
   "cell_type": "code",
   "execution_count": null,
   "id": "0c1f61c7",
   "metadata": {},
   "outputs": [],
   "source": [
    "arr = np.random.poisson(expectation_valueAGB, 5000)\n",
    "hist, bins = np.histogram(arr)"
   ]
  },
  {
   "cell_type": "code",
   "execution_count": null,
   "id": "c0e05e5d",
   "metadata": {},
   "outputs": [],
   "source": [
    "arr1 = np.random.poisson(1, 10000)\n",
    "hist1, bins1 = np.histogram(arr1)"
   ]
  },
  {
   "cell_type": "code",
   "execution_count": null,
   "id": "89202362",
   "metadata": {},
   "outputs": [],
   "source": [
    "plt.plot(bins[:-1], hist)\n",
    "plt.plot(bins1[:-1], hist1)"
   ]
  },
  {
   "cell_type": "code",
   "execution_count": null,
   "id": "35395921",
   "metadata": {},
   "outputs": [],
   "source": []
  }
 ],
 "metadata": {
  "kernelspec": {
   "display_name": "Python 3 (ipykernel)",
   "language": "python",
   "name": "python3"
  },
  "language_info": {
   "codemirror_mode": {
    "name": "ipython",
    "version": 3
   },
   "file_extension": ".py",
   "mimetype": "text/x-python",
   "name": "python",
   "nbconvert_exporter": "python",
   "pygments_lexer": "ipython3",
   "version": "3.9.2"
  }
 },
 "nbformat": 4,
 "nbformat_minor": 5
}
