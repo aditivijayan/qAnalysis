{
 "cells": [
  {
   "cell_type": "code",
   "execution_count": 1,
   "id": "8cc08747",
   "metadata": {},
   "outputs": [],
   "source": [
    "\n",
    "import _init_\n",
    "from constants import *\n",
    "from set_path import *\n",
    "from config import *\n",
    "from functions import *"
   ]
  },
  {
   "cell_type": "markdown",
   "id": "98e39a29",
   "metadata": {},
   "source": [
    "# Get temperature"
   ]
  },
  {
   "cell_type": "code",
   "execution_count": 2,
   "id": "1c702809",
   "metadata": {},
   "outputs": [],
   "source": [
    "file = '/g/data/jh2/av5889/quokka_myrepo/quokka/extern/grackle_data_files/input/CloudyData_UVB=HM2012.h5'\n",
    "# file = '/g/data/jh2/av5889/quokka_myrepo/quokka/extern/grackle_data_files/input/CloudyData_UVB=FG2011.h5'\n",
    "#Dim2 is redshift. Dim1 is density. Dim3 is temperature\n",
    "grackle = h5py.File(file)\n",
    "array = grackle['CoolingRates/Primordial/MMW'][()]\n",
    "#density(1.e-6, 1.e4), redshift(0,15), temperature(10., 1.e9)\n",
    "table = array[:,0,:]\n",
    "table_nH   = np.logspace(-10, 4, array.shape[0])\n",
    "table_temp = np.logspace(1,  9, array.shape[2])\n",
    "\n",
    "prim_heating = grackle['CoolingRates/Primordial/Heating'][()][:,0,:]\n",
    "prim_cooling = grackle['CoolingRates/Primordial/Cooling'][()][:,0,:]\n",
    "\n",
    "met_heating  = grackle['CoolingRates/Metals/Heating'][()][:,0,:]\n",
    "met_cooling  = grackle['CoolingRates/Metals/Cooling'][()][:,0,:]\n",
    "\n",
    "netLambda_heat = prim_heating + met_heating\n",
    "netLambda_cooling  = prim_cooling + met_cooling\n",
    "netLambda = netLambda_heat - netLambda_cooling"
   ]
  },
  {
   "cell_type": "code",
   "execution_count": 3,
   "id": "4e9def7a",
   "metadata": {},
   "outputs": [],
   "source": [
    "npath = '/g/data/jh2/av5889/quokka_myrepo/Analysis/notebooks/DatFile/'\n",
    "output = ['metalcooling.dat' , 'primcooling.dat',\\\n",
    "           'metalheating.dat',  'primheating.dat']\n",
    "\n",
    "out_met_cooling = np.zeros(netLambda.shape)\n",
    "out_prim_cooling = np.zeros(netLambda.shape)\n",
    "out_met_heating = np.zeros(netLambda.shape)\n",
    "out_prim_heating = np.zeros(netLambda.shape)\n",
    "arrays = [out_met_cooling, out_prim_cooling, out_met_heating, out_prim_heating]\n",
    "i=j=0\n",
    "for out,arr in zip(output,arrays):\n",
    "    output = os.path.join(npath, out)\n",
    "    with open(output, 'r') as file:\n",
    "        for line in file:\n",
    "            lamda = float(line.split('=')[1].split(',')[0])\n",
    "            indx_i = int(line.split('=')[1].split(',')[1])\n",
    "            indx_j = int(line.split('=')[1].split(',')[2])\n",
    "            arr[indx_i, indx_j] = 10.**lamda*1.67e-24**2"
   ]
  },
  {
   "cell_type": "code",
   "execution_count": 4,
   "id": "0521a33a",
   "metadata": {},
   "outputs": [
    {
     "data": {
      "text/plain": [
       "((array([6]), array([94])), 1.2299529923054886)"
      ]
     },
     "execution_count": 4,
     "metadata": {},
     "output_type": "execute_result"
    }
   ],
   "source": [
    "out_net_lambda = (out_prim_heating + out_met_heating) - (out_prim_cooling + out_met_cooling)\n",
    "diff = (netLambda - out_net_lambda)/netLambda\n",
    "np.where(diff==np.amax(diff)), np.amax(diff)"
   ]
  },
  {
   "cell_type": "code",
   "execution_count": 179,
   "id": "3eb1c8d0",
   "metadata": {},
   "outputs": [
    {
     "data": {
      "image/png": "[encoded data removed]",
      "text/plain": [
       "<Figure size 576x576 with 1 Axes>"
      ]
     },
     "metadata": {
      "needs_background": "light"
     },
     "output_type": "display_data"
    }
   ],
   "source": [
    "fig, ax = plt.subplots(1, 1, gridspec_kw = {'wspace':0.02, 'hspace':0.02},figsize=(8, 8))\n",
    "\n",
    "ax.plot(table_nH, out_net_lambda[:,94], label='Out', lw=2.)\n",
    "ax.plot(table_nH, netLambda[:,94], ls='--', label='Grackle')\n",
    "\n",
    "ax.set_yscale('Symlog', linthresh=1.e-22)\n",
    "ax.set_xscale('log')"
   ]
  },
  {
   "cell_type": "code",
   "execution_count": 180,
   "id": "6380ff9d",
   "metadata": {},
   "outputs": [
    {
     "data": {
      "text/plain": [
       "(array([1.83420269e-23]), 7.157683773530885e-05, -3.653459e-22)"
      ]
     },
     "execution_count": 180,
     "metadata": {},
     "output_type": "execute_result"
    }
   ],
   "source": [
    "# rho, log_nH, T, Edot, netLambda=1.67e-28, -4.15e+00, 1.02e+05, -1.88e-30, -1.31e+26 \n",
    "nH = 1.67e-28 * cloudy_H_mass_fraction/hydrogen_mass_cgs\n",
    "Lambda(1.02e+05, nH), nH, -1.31e+26*hydrogen_mass_cgs*hydrogen_mass_cgs"
   ]
  },
  {
   "cell_type": "code",
   "execution_count": 181,
   "id": "2e93af14",
   "metadata": {},
   "outputs": [
    {
     "data": {
      "text/plain": [
       "(array([3.16227766e-08, 1.00000000e-07]),\n",
       " array([1.        , 1.12201845]),\n",
       " 2.0036743499999968e-23)"
      ]
     },
     "execution_count": 181,
     "metadata": {},
     "output_type": "execute_result"
    }
   ],
   "source": [
    "table_nH[5:7], table_temp[80:82]/1.e5, netLambda[5,80]"
   ]
  },
  {
   "cell_type": "code",
   "execution_count": 182,
   "id": "6912e372",
   "metadata": {},
   "outputs": [
    {
     "data": {
      "text/plain": [
       "(24.000088908446582, 24.36126089151924, 23.332951678659775, 24.785500075259442)"
      ]
     },
     "execution_count": 182,
     "metadata": {},
     "output_type": "execute_result"
    }
   ],
   "source": [
    "# logPrimCool, logPrimHeat, logMetalCool, logMetalHeat=2.51e+01, 2.35e+01, 2.61e+01, 2.35e+01 \n",
    "# netLambda_prim , netLambda_metals=-1.25e+25, -1.19e+26 \n",
    "\n",
    "np.log10(prim_cooling[5,80]/hydrogen_mass_cgs/hydrogen_mass_cgs),\\\n",
    "np.log10(prim_heating[5,80]/hydrogen_mass_cgs/hydrogen_mass_cgs),\\\n",
    "np.log10(met_cooling[5,80]/hydrogen_mass_cgs/hydrogen_mass_cgs),\\\n",
    "np.log10(met_heating[5,80]/hydrogen_mass_cgs/hydrogen_mass_cgs)"
   ]
  },
  {
   "cell_type": "code",
   "execution_count": 183,
   "id": "825b1ecf",
   "metadata": {},
   "outputs": [
    {
     "data": {
      "text/plain": [
       "(23.9785, 24.0042, 23.9485, 23.9726)"
      ]
     },
     "execution_count": 183,
     "metadata": {},
     "output_type": "execute_result"
    }
   ],
   "source": [
    "np.log10(out_prim_cooling[5,80]/hydrogen_mass_cgs/hydrogen_mass_cgs),\\\n",
    "np.log10(out_prim_cooling[5,81]/hydrogen_mass_cgs/hydrogen_mass_cgs),\\\n",
    "np.log10(out_prim_cooling[6,80]/hydrogen_mass_cgs/hydrogen_mass_cgs),\\\n",
    "np.log10(out_prim_cooling[6,81]/hydrogen_mass_cgs/hydrogen_mass_cgs)\n",
    "# np.log10(out_prim_heating[5,80]/hydrogen_mass_cgs/hydrogen_mass_cgs),\\\n",
    "# np.log10(out_met_cooling[5,80]/hydrogen_mass_cgs/hydrogen_mass_cgs),\\\n",
    "# np.log10(out_met_heating[5,80]/hydrogen_mass_cgs/hydrogen_mass_cgs)"
   ]
  },
  {
   "cell_type": "code",
   "execution_count": 184,
   "id": "774690a3",
   "metadata": {},
   "outputs": [
    {
     "data": {
      "text/plain": [
       "(array([-4.5, -4. ]), -4.145227492652394, array([-7.5, -7. ]))"
      ]
     },
     "execution_count": 184,
     "metadata": {},
     "output_type": "execute_result"
    }
   ],
   "source": [
    "# ix, iy, iix, iiy=11, 0, 12, 1\n",
    "# ix, xv.bx, xi, d  =-4.15e+00, -1.00e+01, 5.00e-01, 8.77e+164\n",
    "np.log10(table_nH[11:13]), np.log10(nH), np.log10(table_nH[5:7])"
   ]
  },
  {
   "cell_type": "code",
   "execution_count": 185,
   "id": "1ba88b07",
   "metadata": {},
   "outputs": [
    {
     "data": {
      "text/plain": [
       "(0.5, 4.0, -10.0, 1e-10)"
      ]
     },
     "execution_count": 185,
     "metadata": {},
     "output_type": "execute_result"
    }
   ],
   "source": [
    "# dx = (xf - xi) / static_cast<double>(xv.end - xv.begin - 1);\n",
    "# xi, xf, (xv.end - xv.begin - 1)  =-1.00e+01, 4.00e+00, 28\n",
    "dx = (np.log10(table_nH[-1])- np.log10(table_nH[0]))/(28)\n",
    "dx, np.log10(table_nH[-1]), np.log10(table_nH[0]), 10.**-1.00e+01"
   ]
  },
  {
   "cell_type": "code",
   "execution_count": 153,
   "id": "06a5c880",
   "metadata": {},
   "outputs": [
    {
     "data": {
      "text/plain": [
       "(24.3535, 24.336, 24.0969, 24.0769)"
      ]
     },
     "execution_count": 153,
     "metadata": {},
     "output_type": "execute_result"
    }
   ],
   "source": [
    "np.log10(out_prim_heating[5,80]/hydrogen_mass_cgs/hydrogen_mass_cgs),\\\n",
    "np.log10(out_prim_heating[5,81]/hydrogen_mass_cgs/hydrogen_mass_cgs),\\\n",
    "np.log10(out_prim_heating[6,80]/hydrogen_mass_cgs/hydrogen_mass_cgs),\\\n",
    "np.log10(out_prim_heating[6,81]/hydrogen_mass_cgs/hydrogen_mass_cgs)"
   ]
  },
  {
   "cell_type": "code",
   "execution_count": 90,
   "id": "15b59553",
   "metadata": {},
   "outputs": [
    {
     "name": "stderr",
     "output_type": "stream",
     "text": [
      "/jobfs/108757608.gadi-pbs/ipykernel_560975/4158750917.py:12: MatplotlibDeprecationWarning: shading='flat' when X and Y have the same dimensions as C is deprecated since 3.3.  Either specify the corners of the quadrilaterals with X and Y, or pass shading='auto', 'nearest' or 'gouraud', or set rcParams['pcolor.shading'].  This will become an error two minor releases later.\n",
      "  plot = ax.pcolormesh(table_nH, table_temp, np.transpose(netLambda),\\\n"
     ]
    },
    {
     "data": {
      "image/png": "[encoded data removed]",
      "text/plain": [
       "<Figure size 576x576 with 2 Axes>"
      ]
     },
     "metadata": {
      "needs_background": "light"
     },
     "output_type": "display_data"
    }
   ],
   "source": [
    "fig, ax = plt.subplots(1, 1, gridspec_kw = {'wspace':0.02, 'hspace':0.02},figsize=(8, 8))\n",
    "i=0\n",
    "\n",
    "cbarx = 0.13\n",
    "cbheight = 0.04\n",
    "cbary = 0.89\n",
    "cblen = 0.8\n",
    "dx1 = 0.25\n",
    "cbtitlex = 0.1\n",
    "cbtitley = 16.5\n",
    "\n",
    "plot = ax.pcolormesh(table_nH, table_temp, np.transpose(netLambda),\\\n",
    "                    norm=mcolors.SymLogNorm(linthresh=8.e-24),\n",
    "                    cmap='seismic')\n",
    "cax = fig.add_axes([cbarx, cbary, cblen, cbheight])\n",
    "fig.colorbar(plot, cax=cax, orientation='horizontal', ticks=(-1.e-21, 0.0, 1.e-21))\n",
    "cax.xaxis.set_ticks_position('top')\n",
    "ax.set_yscale('log')\n",
    "ax.set_xscale('log')"
   ]
  },
  {
   "cell_type": "code",
   "execution_count": 10,
   "id": "7c2a50bc",
   "metadata": {},
   "outputs": [
    {
     "name": "stderr",
     "output_type": "stream",
     "text": [
      "/apps/python3/3.9.2/lib/python3.9/site-packages/scipy/optimize/minpack.py:175: RuntimeWarning: The iteration is not making good progress, as measured by the \n",
      "  improvement from the last five Jacobian evaluations.\n",
      "  warnings.warn(msg, RuntimeWarning)\n",
      "/apps/python3/3.9.2/lib/python3.9/site-packages/scipy/optimize/minpack.py:175: RuntimeWarning: The iteration is not making good progress, as measured by the \n",
      "  improvement from the last ten iterations.\n",
      "  warnings.warn(msg, RuntimeWarning)\n"
     ]
    }
   ],
   "source": [
    "\n",
    "from scipy.interpolate import interp1d\n",
    "from scipy.optimize import fsolve\n",
    "\n",
    "# Example arrays of x values and corresponding f(x) values\n",
    "\n",
    "\n",
    "# Define a function that returns f(x) for a given x\n",
    "def f(T,netLambda):\n",
    "    x_values = table_temp\n",
    "    interp_func = interp1d(x_values, netLambda, kind='linear')\n",
    "    return interp_func(T)\n",
    "\n",
    "i=0\n",
    "teq = np.zeros(table_nH.shape[0])\n",
    "teq_prev = 10.\n",
    "guess = np.logspace(1,  9, array.shape[0])\n",
    "for i in range(netLambda.shape[0]):\n",
    "    teq[i] = fsolve(f, table_temp[i], args=(np.abs(netLambda[i])))"
   ]
  },
  {
   "cell_type": "code",
   "execution_count": 17,
   "id": "7fd87457",
   "metadata": {},
   "outputs": [
    {
     "data": {
      "text/plain": [
       "(array(13944.22473323), 4.338456493604605)"
      ]
     },
     "execution_count": 17,
     "metadata": {},
     "output_type": "execute_result"
    }
   ],
   "source": [
    "interp_teq = interp1d(table_nH, teq, kind='linear')\n",
    "interp_teq(7.157683773530885e-05) , np.log10(2.18e+04)"
   ]
  },
  {
   "cell_type": "code",
   "execution_count": 191,
   "id": "f11c05c8",
   "metadata": {},
   "outputs": [],
   "source": [
    "# 1.67e-26, 2.64e-14, 8.78e+03\n",
    "# 1.67e-24, 7.84e-13, 4.13e+03\n",
    "# 1.67e-28, 4.65e-16, 1.39e+04\n",
    "rho_sim = np.asarray([1.67e-28, 1.67e-26, 1.67e-24])\n",
    "cloudy_H_mass_fraction = 1. / (1. + 0.1 * 3.971) \n",
    "nH_sim = rho_sim*cloudy_H_mass_fraction/mp\n",
    "temp_sim = np.asarray([2.01e+04, 8.78e+03,4.13e+03])"
   ]
  },
  {
   "cell_type": "code",
   "execution_count": 19,
   "id": "78f62e76",
   "metadata": {},
   "outputs": [
    {
     "data": {
      "text/plain": [
       "<matplotlib.legend.Legend at 0x14ac57608940>"
      ]
     },
     "execution_count": 19,
     "metadata": {},
     "output_type": "execute_result"
    },
    {
     "data": {
      "image/png": "[encoded data removed]",
      "text/plain": [
       "<Figure size 576x432 with 1 Axes>"
      ]
     },
     "metadata": {
      "needs_background": "light"
     },
     "output_type": "display_data"
    }
   ],
   "source": [
    "fig, ax = plt.subplots(1, 1, gridspec_kw = {'wspace':0.02, 'hspace':0.02},figsize=(8, 6))\n",
    "ax.plot(np.log10(table_nH), np.log10(teq))\n",
    "ax.plot(np.log10(7.157683773530885e-05), np.log10(1.02e5), '*', markersize=12, label='IC')\n",
    "# rho, eint_old, Temp=1.67e-28, 6.71e-16, 2.01e+04\n",
    "# ax.plot(np.log10(7.157683773530885e-05), np.log10(13944.22473323), 's', color='red', markersize=12, label='FiTenal')\n",
    "t_eos = 2.18e+04 \n",
    "ax.plot(np.log10(7.157683773530885e-05), np.log10(t_eos), 's', color='blue', markersize=12, label='Teos')\n",
    "ax.set_xlim(-6, 0.)\n",
    "ax.set_ylim(2.5, 5.5)\n",
    "ax.grid()\n",
    "ax.set_ylabel('log(Temp)')\n",
    "ax.set_xlabel('log(nH)')\n",
    "ax.legend()"
   ]
  },
  {
   "cell_type": "code",
   "execution_count": 11,
   "id": "7178b550",
   "metadata": {},
   "outputs": [
    {
     "data": {
      "text/plain": [
       "array([-3304070.8668594])"
      ]
     },
     "execution_count": 11,
     "metadata": {},
     "output_type": "execute_result"
    }
   ],
   "source": [
    "tcool = 1.5*1.6e-16*1.e7/(1.e-6*Lambda(1.e7, 1.e-3))\n",
    "tcool/Myr"
   ]
  },
  {
   "cell_type": "code",
   "execution_count": 5,
   "id": "bad62fad",
   "metadata": {},
   "outputs": [],
   "source": [
    "Lambda = interpolate.interp2d(table_temp, table_nH, netLambda,\\\n",
    "                              kind='linear', copy=True, bounds_error=False, fill_value=None)"
   ]
  },
  {
   "cell_type": "code",
   "execution_count": 7,
   "id": "f6adfa54",
   "metadata": {},
   "outputs": [
    {
     "data": {
      "text/plain": [
       "array([-59.88972172])"
      ]
     },
     "execution_count": 7,
     "metadata": {},
     "output_type": "execute_result"
    }
   ],
   "source": [
    "# rho, eint_old, Temp=1.67e-28, 7.31e-16, 2.18e+04\n",
    "rho_sim = 1.67e-28\n",
    "cloudy_H_mass_fraction = 1. / (1. + 0.1 * 3.971)\n",
    "nH_sim = rho_sim * cloudy_H_mass_fraction/hydrogen_mass_cgs\n",
    "temp_sim = 1.02e5\n",
    "Eint_sim = 3.42e-15\n",
    "Edot_sim = Lambda(temp_sim, nH_sim) * nH_sim**2\n",
    "tcool = Eint_sim/Edot_sim/Myr\n",
    "tcool"
   ]
  },
  {
   "cell_type": "code",
   "execution_count": 11,
   "id": "e3f002d3",
   "metadata": {},
   "outputs": [
    {
     "data": {
      "text/plain": [
       "array([5.51304156e-22])"
      ]
     },
     "execution_count": 11,
     "metadata": {},
     "output_type": "execute_result"
    }
   ],
   "source": [
    "cloudy_H_mass_fraction = 1. / (1. + 0.1 * 3.971)\n",
    "rho = 1.4626019243256987e-29\n",
    "nH = rho*cloudy_H_mass_fraction/mp\n",
    "Edot  = nH * nH * Lambda(512134.8715954416, nH)\n",
    "Edot *2.201030342e+11"
   ]
  },
  {
   "cell_type": "code",
   "execution_count": 13,
   "id": "b5995075",
   "metadata": {},
   "outputs": [
    {
     "data": {
      "text/plain": [
       "(5.561101383649056, -5.058363615363146)"
      ]
     },
     "execution_count": 13,
     "metadata": {},
     "output_type": "execute_result"
    }
   ],
   "source": [
    "np.log10(3.64e+05), np.log10(rho_sim/hydrogen_mass_cgs)"
   ]
  },
  {
   "cell_type": "code",
   "execution_count": 30,
   "id": "8e307f54",
   "metadata": {},
   "outputs": [
    {
     "data": {
      "text/plain": [
       "(1.080598694097214e-22,\n",
       " 4.2313818836837214e-33,\n",
       " 0.053444393608921524,\n",
       " 6.257615754104846e-06)"
      ]
     },
     "execution_count": 30,
     "metadata": {},
     "output_type": "execute_result"
    }
   ],
   "source": [
    "# The dEint in i=32, j=32, k=32 is = -2.76e-21\n",
    "# rho, eint_old, Temp=1.46e-29, 1.08e-15, 3.64e+05\n",
    "cloudy_H_mass_fraction = 1. / (1. + 0.1 * 3.971)\n",
    "rho_sim = 1.46e-29\n",
    "eint_sim = 1.08e-15\n",
    "temp_sim = 3.64e+05\n",
    "tstep = 1.304538364e+12\n",
    "tcool = 1.5 * nH_sim * 1.38e-16 * temp_sim/Edot/Myr\n",
    "dEint = 2. * 2.76e-21\n",
    "Edot = dEint/tstep\n",
    "nH_sim = rho_sim*cloudy_H_mass_fraction/mp\n",
    "lambda_sim = Edot/nH_sim/nH_sim\n",
    "lambda_sim , Edot, tcool, nH_sim\n"
   ]
  },
  {
   "cell_type": "code",
   "execution_count": 29,
   "id": "5788dcd4",
   "metadata": {},
   "outputs": [
    {
     "data": {
      "text/plain": [
       "(2.8299360339136764e-23,\n",
       " 7.07850305500241e-23,\n",
       " 1.8793632917422953,\n",
       " 1.5815480912771838)"
      ]
     },
     "execution_count": 29,
     "metadata": {},
     "output_type": "execute_result"
    }
   ],
   "source": [
    "# The dEint for high temp cell = -7.79e-12\n",
    "# The dEint for high temp cell = -6.14e-12\n",
    "# rho, eint_old, Temp=4.08e-24, 9.54e-09, 1.16e+07\n",
    "# rho, eint_old, Temp=3.69e-24, 9.54e-09, 1.28e+07\n",
    "\n",
    "\n",
    "rho_sim = 3.69e-24\n",
    "eint_sim = 9.54e-09\n",
    "temp_sim = 1.28e+07\n",
    "tstep = 2.201030342e+11\n",
    "dEint = 2. * 7.79e-12\n",
    "Edot = dEint/tstep\n",
    "tcool = 1.5 * nH_sim * 1.38e-16 * temp_sim/Edot/Myr\n",
    "nH_sim = rho_sim*cloudy_H_mass_fraction/mp\n",
    "lambda_sim = Edot/nH_sim/nH_sim\n",
    "lambda_sim , Edot, tcool, nH_sim\n"
   ]
  },
  {
   "cell_type": "code",
   "execution_count": null,
   "id": "eef7e1f7",
   "metadata": {},
   "outputs": [],
   "source": []
  }
 ],
 "metadata": {
  "kernelspec": {
   "display_name": "Python 3 (ipykernel)",
   "language": "python",
   "name": "python3"
  },
  "language_info": {
   "codemirror_mode": {
    "name": "ipython",
    "version": 3
   },
   "file_extension": ".py",
   "mimetype": "text/x-python",
   "name": "python",
   "nbconvert_exporter": "python",
   "pygments_lexer": "ipython3",
   "version": "3.9.2"
  }
 },
 "nbformat": 4,
 "nbformat_minor": 5
}
