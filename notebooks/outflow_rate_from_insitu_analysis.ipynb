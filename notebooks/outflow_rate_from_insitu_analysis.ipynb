{
 "cells": [
  {
   "cell_type": "code",
   "execution_count": 1,
   "id": "25b389b8",
   "metadata": {},
   "outputs": [],
   "source": [
    "\n",
    "import _init_\n",
    "from constants import *\n",
    "from set_path import *\n",
    "from config import *\n",
    "from functions import *"
   ]
  },
  {
   "cell_type": "code",
   "execution_count": 36,
   "id": "00a40608",
   "metadata": {},
   "outputs": [],
   "source": [
    "folder = 'LowResProduction/R8Zsol/'\n",
    "folder = 'GasGravity/R4/'\n",
    "# folder = 'SummitData/Production2pc/Fiducial/'\n",
    "folder = 'SummitData/GasGravity/Production2pc/R4/'\n",
    "# folder = 'LowResProduction/R4Zsol/'"
   ]
  },
  {
   "cell_type": "code",
   "execution_count": 37,
   "id": "af964fbd",
   "metadata": {},
   "outputs": [],
   "source": [
    "# data_path = os.path.join(scratch, 'sims/', folder)\n",
    "data_path = os.path.join('/g/data/jh2/av5889/quokka_myrepo/quokka/sims/', folder)\n",
    "os.chdir(data_path)\n",
    "list_file = glob.glob(\"proj_y_*\")"
   ]
  },
  {
   "cell_type": "code",
   "execution_count": 38,
   "id": "2a401b8a",
   "metadata": {},
   "outputs": [],
   "source": [
    "infile   = os.path.join(data_path, 'metal_uniform.in')\n",
    "# infile   = os.path.join(data_path, 'metal_uniform_512.in')\n",
    "dom_min, dom_max, ncells = getdomain(infile)\n",
    "fac = 1\n",
    "zrange = np.linspace(dom_min[2], dom_max[2], (fac*int(ncells[2])))\n",
    "xrange = np.linspace(dom_min[0], dom_max[0], (fac*int(ncells[0])))\n",
    "yrange = np.linspace(dom_min[1], dom_max[1], (fac*int(ncells[1])))\n",
    "\n",
    "dx = (dom_max[0]- dom_min[0])/(fac*int(ncells[0]))\n",
    "dy = (dom_max[1]- dom_min[1])/(fac*int(ncells[1]))\n",
    "dz = (dom_max[2]- dom_min[2])/(fac*int(ncells[2]))\n",
    "dV = dx * dy * dz"
   ]
  },
  {
   "cell_type": "code",
   "execution_count": 39,
   "id": "36964d37",
   "metadata": {},
   "outputs": [],
   "source": [
    "timestep = np.zeros(len(list_file))\n",
    "tot_mass_flux = np.zeros((len(list_file), xrange.shape[0], zrange.shape[0]))\n",
    "hot_mass_flux = np.zeros((len(list_file), xrange.shape[0], zrange.shape[0]))\n",
    "warm_mass_flux = np.zeros((len(list_file), xrange.shape[0], zrange.shape[0]))\n",
    "\n",
    "tot_scalar_flux = np.zeros((len(list_file), xrange.shape[0], zrange.shape[0]))\n",
    "hot_scalar_flux = np.zeros((len(list_file), xrange.shape[0], zrange.shape[0]))\n",
    "warm_scalar_flux = np.zeros((len(list_file), xrange.shape[0], zrange.shape[0]))"
   ]
  },
  {
   "cell_type": "code",
   "execution_count": 40,
   "id": "9aecf66f",
   "metadata": {
    "scrolled": false
   },
   "outputs": [
    {
     "name": "stderr",
     "output_type": "stream",
     "text": [
      "yt : [INFO     ] 2024-07-20 09:49:39,492 Parameters: current_time              = 214909373151609.47\n",
      "yt : [INFO     ] 2024-07-20 09:49:39,493 Parameters: domain_dimensions         = [ 512    1 4096]\n",
      "yt : [INFO     ] 2024-07-20 09:49:39,494 Parameters: domain_left_edge          = [ 0.0000e+00  0.0000e+00 -1.2072e+22]\n",
      "yt : [INFO     ] 2024-07-20 09:49:39,495 Parameters: domain_right_edge         = [3.0180e+21 3.0180e+21 1.2072e+22]\n",
      "yt : [INFO     ] 2024-07-20 09:49:40,612 Parameters: current_time              = 507810616152567.0\n",
      "yt : [INFO     ] 2024-07-20 09:49:40,613 Parameters: domain_dimensions         = [ 512    1 4096]\n",
      "yt : [INFO     ] 2024-07-20 09:49:40,615 Parameters: domain_left_edge          = [ 0.0000e+00  0.0000e+00 -1.2072e+22]\n",
      "yt : [INFO     ] 2024-07-20 09:49:40,616 Parameters: domain_right_edge         = [3.0180e+21 3.0180e+21 1.2072e+22]\n",
      "yt : [INFO     ] 2024-07-20 09:49:42,049 Parameters: current_time              = 327808348215316.1\n",
      "yt : [INFO     ] 2024-07-20 09:49:42,051 Parameters: domain_dimensions         = [ 512    1 4096]\n",
      "yt : [INFO     ] 2024-07-20 09:49:42,052 Parameters: domain_left_edge          = [ 0.0000e+00  0.0000e+00 -1.2072e+22]\n",
      "yt : [INFO     ] 2024-07-20 09:49:42,053 Parameters: domain_right_edge         = [3.0180e+21 3.0180e+21 1.2072e+22]\n",
      "yt : [INFO     ] 2024-07-20 09:49:43,586 Parameters: current_time              = 441537433681956.5\n",
      "yt : [INFO     ] 2024-07-20 09:49:43,588 Parameters: domain_dimensions         = [ 512    1 4096]\n",
      "yt : [INFO     ] 2024-07-20 09:49:43,589 Parameters: domain_left_edge          = [ 0.0000e+00  0.0000e+00 -1.2072e+22]\n",
      "yt : [INFO     ] 2024-07-20 09:49:43,591 Parameters: domain_right_edge         = [3.0180e+21 3.0180e+21 1.2072e+22]\n",
      "yt : [INFO     ] 2024-07-20 09:49:45,094 Parameters: current_time              = 269837066423418.8\n",
      "yt : [INFO     ] 2024-07-20 09:49:45,096 Parameters: domain_dimensions         = [ 512    1 4096]\n",
      "yt : [INFO     ] 2024-07-20 09:49:45,097 Parameters: domain_left_edge          = [ 0.0000e+00  0.0000e+00 -1.2072e+22]\n",
      "yt : [INFO     ] 2024-07-20 09:49:45,098 Parameters: domain_right_edge         = [3.0180e+21 3.0180e+21 1.2072e+22]\n",
      "yt : [INFO     ] 2024-07-20 09:49:46,190 Parameters: current_time              = 391143676637263.5\n",
      "yt : [INFO     ] 2024-07-20 09:49:46,191 Parameters: domain_dimensions         = [ 512    1 4096]\n",
      "yt : [INFO     ] 2024-07-20 09:49:46,192 Parameters: domain_left_edge          = [ 0.0000e+00  0.0000e+00 -1.2072e+22]\n",
      "yt : [INFO     ] 2024-07-20 09:49:46,193 Parameters: domain_right_edge         = [3.0180e+21 3.0180e+21 1.2072e+22]\n",
      "yt : [INFO     ] 2024-07-20 09:49:47,672 Parameters: current_time              = 433182657452795.06\n",
      "yt : [INFO     ] 2024-07-20 09:49:47,674 Parameters: domain_dimensions         = [ 512    1 4096]\n",
      "yt : [INFO     ] 2024-07-20 09:49:47,675 Parameters: domain_left_edge          = [ 0.0000e+00  0.0000e+00 -1.2072e+22]\n",
      "yt : [INFO     ] 2024-07-20 09:49:47,676 Parameters: domain_right_edge         = [3.0180e+21 3.0180e+21 1.2072e+22]\n",
      "yt : [INFO     ] 2024-07-20 09:49:49,343 Parameters: current_time              = 382305302901537.94\n",
      "yt : [INFO     ] 2024-07-20 09:49:49,344 Parameters: domain_dimensions         = [ 512    1 4096]\n",
      "yt : [INFO     ] 2024-07-20 09:49:49,346 Parameters: domain_left_edge          = [ 0.0000e+00  0.0000e+00 -1.2072e+22]\n",
      "yt : [INFO     ] 2024-07-20 09:49:49,347 Parameters: domain_right_edge         = [3.0180e+21 3.0180e+21 1.2072e+22]\n",
      "yt : [INFO     ] 2024-07-20 09:49:50,764 Parameters: current_time              = 62346287220855.555\n",
      "yt : [INFO     ] 2024-07-20 09:49:50,765 Parameters: domain_dimensions         = [ 512    1 4096]\n",
      "yt : [INFO     ] 2024-07-20 09:49:50,767 Parameters: domain_left_edge          = [ 0.0000e+00  0.0000e+00 -1.2072e+22]\n",
      "yt : [INFO     ] 2024-07-20 09:49:50,768 Parameters: domain_right_edge         = [3.0180e+21 3.0180e+21 1.2072e+22]\n",
      "yt : [INFO     ] 2024-07-20 09:49:52,205 Parameters: current_time              = 232554673987917.62\n",
      "yt : [INFO     ] 2024-07-20 09:49:52,206 Parameters: domain_dimensions         = [ 512    1 4096]\n",
      "yt : [INFO     ] 2024-07-20 09:49:52,208 Parameters: domain_left_edge          = [ 0.0000e+00  0.0000e+00 -1.2072e+22]\n",
      "yt : [INFO     ] 2024-07-20 09:49:52,209 Parameters: domain_right_edge         = [3.0180e+21 3.0180e+21 1.2072e+22]\n",
      "yt : [INFO     ] 2024-07-20 09:49:53,313 Parameters: current_time              = 406984348846177.94\n",
      "yt : [INFO     ] 2024-07-20 09:49:53,314 Parameters: domain_dimensions         = [ 512    1 4096]\n",
      "yt : [INFO     ] 2024-07-20 09:49:53,315 Parameters: domain_left_edge          = [ 0.0000e+00  0.0000e+00 -1.2072e+22]\n",
      "yt : [INFO     ] 2024-07-20 09:49:53,317 Parameters: domain_right_edge         = [3.0180e+21 3.0180e+21 1.2072e+22]\n",
      "yt : [INFO     ] 2024-07-20 09:49:54,782 Parameters: current_time              = 151060713402196.84\n",
      "yt : [INFO     ] 2024-07-20 09:49:54,783 Parameters: domain_dimensions         = [ 512    1 4096]\n",
      "yt : [INFO     ] 2024-07-20 09:49:54,785 Parameters: domain_left_edge          = [ 0.0000e+00  0.0000e+00 -1.2072e+22]\n",
      "yt : [INFO     ] 2024-07-20 09:49:54,786 Parameters: domain_right_edge         = [3.0180e+21 3.0180e+21 1.2072e+22]\n",
      "yt : [INFO     ] 2024-07-20 09:49:55,887 Parameters: current_time              = 51051238237205.42\n",
      "yt : [INFO     ] 2024-07-20 09:49:55,889 Parameters: domain_dimensions         = [ 512    1 4096]\n",
      "yt : [INFO     ] 2024-07-20 09:49:55,890 Parameters: domain_left_edge          = [ 0.0000e+00  0.0000e+00 -1.2072e+22]\n",
      "yt : [INFO     ] 2024-07-20 09:49:55,891 Parameters: domain_right_edge         = [3.0180e+21 3.0180e+21 1.2072e+22]\n",
      "yt : [INFO     ] 2024-07-20 09:49:57,015 Parameters: current_time              = 133341642922125.73\n",
      "yt : [INFO     ] 2024-07-20 09:49:57,016 Parameters: domain_dimensions         = [ 512    1 4096]\n",
      "yt : [INFO     ] 2024-07-20 09:49:57,018 Parameters: domain_left_edge          = [ 0.0000e+00  0.0000e+00 -1.2072e+22]\n",
      "yt : [INFO     ] 2024-07-20 09:49:57,019 Parameters: domain_right_edge         = [3.0180e+21 3.0180e+21 1.2072e+22]\n",
      "yt : [INFO     ] 2024-07-20 09:49:58,281 Parameters: current_time              = 373554363202854.44\n",
      "yt : [INFO     ] 2024-07-20 09:49:58,283 Parameters: domain_dimensions         = [ 512    1 4096]\n",
      "yt : [INFO     ] 2024-07-20 09:49:58,284 Parameters: domain_left_edge          = [ 0.0000e+00  0.0000e+00 -1.2072e+22]\n",
      "yt : [INFO     ] 2024-07-20 09:49:58,285 Parameters: domain_right_edge         = [3.0180e+21 3.0180e+21 1.2072e+22]\n",
      "yt : [INFO     ] 2024-07-20 09:50:00,609 Parameters: current_time              = 95008327879013.48\n",
      "yt : [INFO     ] 2024-07-20 09:50:00,610 Parameters: domain_dimensions         = [ 512    1 4096]\n",
      "yt : [INFO     ] 2024-07-20 09:50:00,611 Parameters: domain_left_edge          = [ 0.0000e+00  0.0000e+00 -1.2072e+22]\n",
      "yt : [INFO     ] 2024-07-20 09:50:00,613 Parameters: domain_right_edge         = [3.0180e+21 3.0180e+21 1.2072e+22]\n",
      "yt : [INFO     ] 2024-07-20 09:50:01,912 Parameters: current_time              = 466578572769501.25\n",
      "yt : [INFO     ] 2024-07-20 09:50:01,913 Parameters: domain_dimensions         = [ 512    1 4096]\n",
      "yt : [INFO     ] 2024-07-20 09:50:01,914 Parameters: domain_left_edge          = [ 0.0000e+00  0.0000e+00 -1.2072e+22]\n",
      "yt : [INFO     ] 2024-07-20 09:50:01,916 Parameters: domain_right_edge         = [3.0180e+21 3.0180e+21 1.2072e+22]\n",
      "yt : [INFO     ] 2024-07-20 09:50:03,443 Parameters: current_time              = 499694073822719.8\n",
      "yt : [INFO     ] 2024-07-20 09:50:03,445 Parameters: domain_dimensions         = [ 512    1 4096]\n",
      "yt : [INFO     ] 2024-07-20 09:50:03,446 Parameters: domain_left_edge          = [ 0.0000e+00  0.0000e+00 -1.2072e+22]\n",
      "yt : [INFO     ] 2024-07-20 09:50:03,448 Parameters: domain_right_edge         = [3.0180e+21 3.0180e+21 1.2072e+22]\n",
      "yt : [INFO     ] 2024-07-20 09:50:05,019 Parameters: current_time              = 279815861430785.72\n",
      "yt : [INFO     ] 2024-07-20 09:50:05,020 Parameters: domain_dimensions         = [ 512    1 4096]\n",
      "yt : [INFO     ] 2024-07-20 09:50:05,022 Parameters: domain_left_edge          = [ 0.0000e+00  0.0000e+00 -1.2072e+22]\n",
      "yt : [INFO     ] 2024-07-20 09:50:05,023 Parameters: domain_right_edge         = [3.0180e+21 3.0180e+21 1.2072e+22]\n"
     ]
    },
    {
     "name": "stderr",
     "output_type": "stream",
     "text": [
      "yt : [INFO     ] 2024-07-20 09:50:06,908 Parameters: current_time              = 104538632744860.16\n",
      "yt : [INFO     ] 2024-07-20 09:50:06,909 Parameters: domain_dimensions         = [ 512    1 4096]\n",
      "yt : [INFO     ] 2024-07-20 09:50:06,910 Parameters: domain_left_edge          = [ 0.0000e+00  0.0000e+00 -1.2072e+22]\n",
      "yt : [INFO     ] 2024-07-20 09:50:06,912 Parameters: domain_right_edge         = [3.0180e+21 3.0180e+21 1.2072e+22]\n",
      "yt : [INFO     ] 2024-07-20 09:50:07,981 Parameters: current_time              = 73376651252329.56\n",
      "yt : [INFO     ] 2024-07-20 09:50:07,982 Parameters: domain_dimensions         = [ 512    1 4096]\n",
      "yt : [INFO     ] 2024-07-20 09:50:07,983 Parameters: domain_left_edge          = [ 0.0000e+00  0.0000e+00 -1.2072e+22]\n",
      "yt : [INFO     ] 2024-07-20 09:50:07,984 Parameters: domain_right_edge         = [3.0180e+21 3.0180e+21 1.2072e+22]\n",
      "yt : [INFO     ] 2024-07-20 09:50:09,056 Parameters: current_time              = 177470803467919.88\n",
      "yt : [INFO     ] 2024-07-20 09:50:09,057 Parameters: domain_dimensions         = [ 512    1 4096]\n",
      "yt : [INFO     ] 2024-07-20 09:50:09,058 Parameters: domain_left_edge          = [ 0.0000e+00  0.0000e+00 -1.2072e+22]\n",
      "yt : [INFO     ] 2024-07-20 09:50:09,060 Parameters: domain_right_edge         = [3.0180e+21 3.0180e+21 1.2072e+22]\n",
      "yt : [INFO     ] 2024-07-20 09:50:10,190 Parameters: current_time              = 515771552428933.3\n",
      "yt : [INFO     ] 2024-07-20 09:50:10,191 Parameters: domain_dimensions         = [ 512    1 4096]\n",
      "yt : [INFO     ] 2024-07-20 09:50:10,192 Parameters: domain_left_edge          = [ 0.0000e+00  0.0000e+00 -1.2072e+22]\n",
      "yt : [INFO     ] 2024-07-20 09:50:10,194 Parameters: domain_right_edge         = [3.0180e+21 3.0180e+21 1.2072e+22]\n",
      "yt : [INFO     ] 2024-07-20 09:50:11,804 Parameters: current_time              = 288350520108314.8\n",
      "yt : [INFO     ] 2024-07-20 09:50:11,805 Parameters: domain_dimensions         = [ 512    1 4096]\n",
      "yt : [INFO     ] 2024-07-20 09:50:11,807 Parameters: domain_left_edge          = [ 0.0000e+00  0.0000e+00 -1.2072e+22]\n",
      "yt : [INFO     ] 2024-07-20 09:50:11,808 Parameters: domain_right_edge         = [3.0180e+21 3.0180e+21 1.2072e+22]\n",
      "yt : [INFO     ] 2024-07-20 09:50:13,296 Parameters: current_time              = 317569288204425.2\n",
      "yt : [INFO     ] 2024-07-20 09:50:13,297 Parameters: domain_dimensions         = [ 512    1 4096]\n",
      "yt : [INFO     ] 2024-07-20 09:50:13,299 Parameters: domain_left_edge          = [ 0.0000e+00  0.0000e+00 -1.2072e+22]\n",
      "yt : [INFO     ] 2024-07-20 09:50:13,300 Parameters: domain_right_edge         = [3.0180e+21 3.0180e+21 1.2072e+22]\n",
      "yt : [INFO     ] 2024-07-20 09:50:14,846 Parameters: current_time              = 186478821547114.03\n",
      "yt : [INFO     ] 2024-07-20 09:50:14,847 Parameters: domain_dimensions         = [ 512    1 4096]\n",
      "yt : [INFO     ] 2024-07-20 09:50:14,849 Parameters: domain_left_edge          = [ 0.0000e+00  0.0000e+00 -1.2072e+22]\n",
      "yt : [INFO     ] 2024-07-20 09:50:14,850 Parameters: domain_right_edge         = [3.0180e+21 3.0180e+21 1.2072e+22]\n",
      "yt : [INFO     ] 2024-07-20 09:50:16,423 Parameters: current_time              = 398587178989437.06\n",
      "yt : [INFO     ] 2024-07-20 09:50:16,424 Parameters: domain_dimensions         = [ 512    1 4096]\n",
      "yt : [INFO     ] 2024-07-20 09:50:16,425 Parameters: domain_left_edge          = [ 0.0000e+00  0.0000e+00 -1.2072e+22]\n",
      "yt : [INFO     ] 2024-07-20 09:50:16,427 Parameters: domain_right_edge         = [3.0180e+21 3.0180e+21 1.2072e+22]\n",
      "yt : [INFO     ] 2024-07-20 09:50:17,836 Parameters: current_time              = 260073323089585.78\n",
      "yt : [INFO     ] 2024-07-20 09:50:17,838 Parameters: domain_dimensions         = [ 512    1 4096]\n",
      "yt : [INFO     ] 2024-07-20 09:50:17,839 Parameters: domain_left_edge          = [ 0.0000e+00  0.0000e+00 -1.2072e+22]\n",
      "yt : [INFO     ] 2024-07-20 09:50:17,840 Parameters: domain_right_edge         = [3.0180e+21 3.0180e+21 1.2072e+22]\n",
      "yt : [INFO     ] 2024-07-20 09:50:19,211 Parameters: current_time              = 84555445106011.31\n",
      "yt : [INFO     ] 2024-07-20 09:50:19,212 Parameters: domain_dimensions         = [ 512    1 4096]\n",
      "yt : [INFO     ] 2024-07-20 09:50:19,213 Parameters: domain_left_edge          = [ 0.0000e+00  0.0000e+00 -1.2072e+22]\n",
      "yt : [INFO     ] 2024-07-20 09:50:19,215 Parameters: domain_right_edge         = [3.0180e+21 3.0180e+21 1.2072e+22]\n",
      "yt : [INFO     ] 2024-07-20 09:50:20,293 Parameters: current_time              = 168147941637699.75\n",
      "yt : [INFO     ] 2024-07-20 09:50:20,295 Parameters: domain_dimensions         = [ 512    1 4096]\n",
      "yt : [INFO     ] 2024-07-20 09:50:20,296 Parameters: domain_left_edge          = [ 0.0000e+00  0.0000e+00 -1.2072e+22]\n",
      "yt : [INFO     ] 2024-07-20 09:50:20,297 Parameters: domain_right_edge         = [3.0180e+21 3.0180e+21 1.2072e+22]\n",
      "yt : [INFO     ] 2024-07-20 09:50:21,530 Parameters: current_time              = 123828950491068.53\n",
      "yt : [INFO     ] 2024-07-20 09:50:21,532 Parameters: domain_dimensions         = [ 512    1 4096]\n",
      "yt : [INFO     ] 2024-07-20 09:50:21,533 Parameters: domain_left_edge          = [ 0.0000e+00  0.0000e+00 -1.2072e+22]\n",
      "yt : [INFO     ] 2024-07-20 09:50:21,534 Parameters: domain_right_edge         = [3.0180e+21 3.0180e+21 1.2072e+22]\n",
      "yt : [INFO     ] 2024-07-20 09:50:22,834 Parameters: current_time              = 269837066423418.8\n",
      "yt : [INFO     ] 2024-07-20 09:50:22,835 Parameters: domain_dimensions         = [ 512    1 4096]\n",
      "yt : [INFO     ] 2024-07-20 09:50:22,837 Parameters: domain_left_edge          = [ 0.0000e+00  0.0000e+00 -1.2072e+22]\n",
      "yt : [INFO     ] 2024-07-20 09:50:22,838 Parameters: domain_right_edge         = [3.0180e+21 3.0180e+21 1.2072e+22]\n",
      "yt : [INFO     ] 2024-07-20 09:50:24,128 Parameters: current_time              = 458118134078391.4\n",
      "yt : [INFO     ] 2024-07-20 09:50:24,129 Parameters: domain_dimensions         = [ 512    1 4096]\n",
      "yt : [INFO     ] 2024-07-20 09:50:24,130 Parameters: domain_left_edge          = [ 0.0000e+00  0.0000e+00 -1.2072e+22]\n",
      "yt : [INFO     ] 2024-07-20 09:50:24,132 Parameters: domain_right_edge         = [3.0180e+21 3.0180e+21 1.2072e+22]\n",
      "yt : [INFO     ] 2024-07-20 09:50:25,883 Parameters: current_time              = 196007001280558.16\n",
      "yt : [INFO     ] 2024-07-20 09:50:25,885 Parameters: domain_dimensions         = [ 512    1 4096]\n",
      "yt : [INFO     ] 2024-07-20 09:50:25,886 Parameters: domain_left_edge          = [ 0.0000e+00  0.0000e+00 -1.2072e+22]\n",
      "yt : [INFO     ] 2024-07-20 09:50:25,888 Parameters: domain_right_edge         = [3.0180e+21 3.0180e+21 1.2072e+22]\n",
      "yt : [INFO     ] 2024-07-20 09:50:26,958 Parameters: current_time              = 415471595256805.9\n",
      "yt : [INFO     ] 2024-07-20 09:50:26,960 Parameters: domain_dimensions         = [ 512    1 4096]\n",
      "yt : [INFO     ] 2024-07-20 09:50:26,961 Parameters: domain_left_edge          = [ 0.0000e+00  0.0000e+00 -1.2072e+22]\n",
      "yt : [INFO     ] 2024-07-20 09:50:26,962 Parameters: domain_right_edge         = [3.0180e+21 3.0180e+21 1.2072e+22]\n",
      "yt : [INFO     ] 2024-07-20 09:50:28,460 Parameters: current_time              = 484624155855680.6\n",
      "yt : [INFO     ] 2024-07-20 09:50:28,461 Parameters: domain_dimensions         = [ 512    1 4096]\n",
      "yt : [INFO     ] 2024-07-20 09:50:28,462 Parameters: domain_left_edge          = [ 0.0000e+00  0.0000e+00 -1.2072e+22]\n",
      "yt : [INFO     ] 2024-07-20 09:50:28,464 Parameters: domain_right_edge         = [3.0180e+21 3.0180e+21 1.2072e+22]\n",
      "yt : [INFO     ] 2024-07-20 09:50:30,492 Parameters: current_time              = 365032333282028.9\n",
      "yt : [INFO     ] 2024-07-20 09:50:30,494 Parameters: domain_dimensions         = [ 512    1 4096]\n",
      "yt : [INFO     ] 2024-07-20 09:50:30,495 Parameters: domain_left_edge          = [ 0.0000e+00  0.0000e+00 -1.2072e+22]\n",
      "yt : [INFO     ] 2024-07-20 09:50:30,497 Parameters: domain_right_edge         = [3.0180e+21 3.0180e+21 1.2072e+22]\n",
      "yt : [INFO     ] 2024-07-20 09:50:31,956 Parameters: current_time              = 141969170705380.75\n",
      "yt : [INFO     ] 2024-07-20 09:50:31,958 Parameters: domain_dimensions         = [ 512    1 4096]\n",
      "yt : [INFO     ] 2024-07-20 09:50:31,959 Parameters: domain_left_edge          = [ 0.0000e+00  0.0000e+00 -1.2072e+22]\n",
      "yt : [INFO     ] 2024-07-20 09:50:31,961 Parameters: domain_right_edge         = [3.0180e+21 3.0180e+21 1.2072e+22]\n"
     ]
    },
    {
     "name": "stderr",
     "output_type": "stream",
     "text": [
      "yt : [INFO     ] 2024-07-20 09:50:33,451 Parameters: current_time              = 336959365103705.2\n",
      "yt : [INFO     ] 2024-07-20 09:50:33,452 Parameters: domain_dimensions         = [ 512    1 4096]\n",
      "yt : [INFO     ] 2024-07-20 09:50:33,454 Parameters: domain_left_edge          = [ 0.0000e+00  0.0000e+00 -1.2072e+22]\n",
      "yt : [INFO     ] 2024-07-20 09:50:33,455 Parameters: domain_right_edge         = [3.0180e+21 3.0180e+21 1.2072e+22]\n",
      "yt : [INFO     ] 2024-07-20 09:50:34,919 Parameters: current_time              = 159221847249194.34\n",
      "yt : [INFO     ] 2024-07-20 09:50:34,920 Parameters: domain_dimensions         = [ 512    1 4096]\n",
      "yt : [INFO     ] 2024-07-20 09:50:34,922 Parameters: domain_left_edge          = [ 0.0000e+00  0.0000e+00 -1.2072e+22]\n",
      "yt : [INFO     ] 2024-07-20 09:50:34,923 Parameters: domain_right_edge         = [3.0180e+21 3.0180e+21 1.2072e+22]\n",
      "yt : [INFO     ] 2024-07-20 09:50:36,019 Parameters: current_time              = 204993316234752.94\n",
      "yt : [INFO     ] 2024-07-20 09:50:36,020 Parameters: domain_dimensions         = [ 512    1 4096]\n",
      "yt : [INFO     ] 2024-07-20 09:50:36,021 Parameters: domain_left_edge          = [ 0.0000e+00  0.0000e+00 -1.2072e+22]\n",
      "yt : [INFO     ] 2024-07-20 09:50:36,023 Parameters: domain_right_edge         = [3.0180e+21 3.0180e+21 1.2072e+22]\n",
      "yt : [INFO     ] 2024-07-20 09:50:37,385 Parameters: current_time              = 113746628969448.14\n",
      "yt : [INFO     ] 2024-07-20 09:50:37,386 Parameters: domain_dimensions         = [ 512    1 4096]\n",
      "yt : [INFO     ] 2024-07-20 09:50:37,388 Parameters: domain_left_edge          = [ 0.0000e+00  0.0000e+00 -1.2072e+22]\n",
      "yt : [INFO     ] 2024-07-20 09:50:37,389 Parameters: domain_right_edge         = [3.0180e+21 3.0180e+21 1.2072e+22]\n",
      "yt : [INFO     ] 2024-07-20 09:50:38,645 Parameters: current_time              = 355706669617386.06\n",
      "yt : [INFO     ] 2024-07-20 09:50:38,647 Parameters: domain_dimensions         = [ 512    1 4096]\n",
      "yt : [INFO     ] 2024-07-20 09:50:38,648 Parameters: domain_left_edge          = [ 0.0000e+00  0.0000e+00 -1.2072e+22]\n",
      "yt : [INFO     ] 2024-07-20 09:50:38,649 Parameters: domain_right_edge         = [3.0180e+21 3.0180e+21 1.2072e+22]\n",
      "yt : [INFO     ] 2024-07-20 09:50:40,225 Parameters: current_time              = 499694073822719.8\n",
      "yt : [INFO     ] 2024-07-20 09:50:40,227 Parameters: domain_dimensions         = [ 512    1 4096]\n",
      "yt : [INFO     ] 2024-07-20 09:50:40,228 Parameters: domain_left_edge          = [ 0.0000e+00  0.0000e+00 -1.2072e+22]\n",
      "yt : [INFO     ] 2024-07-20 09:50:40,230 Parameters: domain_right_edge         = [3.0180e+21 3.0180e+21 1.2072e+22]\n",
      "yt : [INFO     ] 2024-07-20 09:50:41,774 Parameters: current_time              = 450702985240732.44\n",
      "yt : [INFO     ] 2024-07-20 09:50:41,775 Parameters: domain_dimensions         = [ 512    1 4096]\n",
      "yt : [INFO     ] 2024-07-20 09:50:41,776 Parameters: domain_left_edge          = [ 0.0000e+00  0.0000e+00 -1.2072e+22]\n",
      "yt : [INFO     ] 2024-07-20 09:50:41,778 Parameters: domain_right_edge         = [3.0180e+21 3.0180e+21 1.2072e+22]\n",
      "yt : [INFO     ] 2024-07-20 09:50:43,203 Parameters: current_time              = 0.0\n",
      "yt : [INFO     ] 2024-07-20 09:50:43,204 Parameters: domain_dimensions         = [ 512    1 4096]\n",
      "yt : [INFO     ] 2024-07-20 09:50:43,205 Parameters: domain_left_edge          = [ 0.0000e+00  0.0000e+00 -1.2072e+22]\n",
      "yt : [INFO     ] 2024-07-20 09:50:43,207 Parameters: domain_right_edge         = [3.0180e+21 3.0180e+21 1.2072e+22]\n",
      "yt : [INFO     ] 2024-07-20 09:50:44,749 Parameters: current_time              = 26255608512468.707\n",
      "yt : [INFO     ] 2024-07-20 09:50:44,751 Parameters: domain_dimensions         = [ 512    1 4096]\n",
      "yt : [INFO     ] 2024-07-20 09:50:44,752 Parameters: domain_left_edge          = [ 0.0000e+00  0.0000e+00 -1.2072e+22]\n",
      "yt : [INFO     ] 2024-07-20 09:50:44,753 Parameters: domain_right_edge         = [3.0180e+21 3.0180e+21 1.2072e+22]\n",
      "yt : [INFO     ] 2024-07-20 09:50:46,372 Parameters: current_time              = 298169590472625.0\n",
      "yt : [INFO     ] 2024-07-20 09:50:46,374 Parameters: domain_dimensions         = [ 512    1 4096]\n",
      "yt : [INFO     ] 2024-07-20 09:50:46,375 Parameters: domain_left_edge          = [ 0.0000e+00  0.0000e+00 -1.2072e+22]\n",
      "yt : [INFO     ] 2024-07-20 09:50:46,376 Parameters: domain_right_edge         = [3.0180e+21 3.0180e+21 1.2072e+22]\n",
      "yt : [INFO     ] 2024-07-20 09:50:47,970 Parameters: current_time              = 241552842596406.66\n",
      "yt : [INFO     ] 2024-07-20 09:50:47,972 Parameters: domain_dimensions         = [ 512    1 4096]\n",
      "yt : [INFO     ] 2024-07-20 09:50:47,973 Parameters: domain_left_edge          = [ 0.0000e+00  0.0000e+00 -1.2072e+22]\n",
      "yt : [INFO     ] 2024-07-20 09:50:47,975 Parameters: domain_right_edge         = [3.0180e+21 3.0180e+21 1.2072e+22]\n",
      "yt : [INFO     ] 2024-07-20 09:50:49,557 Parameters: current_time              = 346845120167364.06\n",
      "yt : [INFO     ] 2024-07-20 09:50:49,559 Parameters: domain_dimensions         = [ 512    1 4096]\n",
      "yt : [INFO     ] 2024-07-20 09:50:49,560 Parameters: domain_left_edge          = [ 0.0000e+00  0.0000e+00 -1.2072e+22]\n",
      "yt : [INFO     ] 2024-07-20 09:50:49,562 Parameters: domain_right_edge         = [3.0180e+21 3.0180e+21 1.2072e+22]\n",
      "yt : [INFO     ] 2024-07-20 09:50:51,208 Parameters: current_time              = 308240794858016.5\n",
      "yt : [INFO     ] 2024-07-20 09:50:51,209 Parameters: domain_dimensions         = [ 512    1 4096]\n",
      "yt : [INFO     ] 2024-07-20 09:50:51,211 Parameters: domain_left_edge          = [ 0.0000e+00  0.0000e+00 -1.2072e+22]\n",
      "yt : [INFO     ] 2024-07-20 09:50:51,212 Parameters: domain_right_edge         = [3.0180e+21 3.0180e+21 1.2072e+22]\n",
      "yt : [INFO     ] 2024-07-20 09:50:53,074 Parameters: current_time              = 223355500230496.0\n",
      "yt : [INFO     ] 2024-07-20 09:50:53,076 Parameters: domain_dimensions         = [ 512    1 4096]\n",
      "yt : [INFO     ] 2024-07-20 09:50:53,077 Parameters: domain_left_edge          = [ 0.0000e+00  0.0000e+00 -1.2072e+22]\n",
      "yt : [INFO     ] 2024-07-20 09:50:53,079 Parameters: domain_right_edge         = [3.0180e+21 3.0180e+21 1.2072e+22]\n",
      "yt : [INFO     ] 2024-07-20 09:50:54,174 Parameters: current_time              = 423972239326787.3\n",
      "yt : [INFO     ] 2024-07-20 09:50:54,175 Parameters: domain_dimensions         = [ 512    1 4096]\n",
      "yt : [INFO     ] 2024-07-20 09:50:54,177 Parameters: domain_left_edge          = [ 0.0000e+00  0.0000e+00 -1.2072e+22]\n",
      "yt : [INFO     ] 2024-07-20 09:50:54,178 Parameters: domain_right_edge         = [3.0180e+21 3.0180e+21 1.2072e+22]\n",
      "yt : [INFO     ] 2024-07-20 09:50:55,714 Parameters: current_time              = 40173563357907.41\n",
      "yt : [INFO     ] 2024-07-20 09:50:55,715 Parameters: domain_dimensions         = [ 512    1 4096]\n",
      "yt : [INFO     ] 2024-07-20 09:50:55,717 Parameters: domain_left_edge          = [ 0.0000e+00  0.0000e+00 -1.2072e+22]\n",
      "yt : [INFO     ] 2024-07-20 09:50:55,718 Parameters: domain_right_edge         = [3.0180e+21 3.0180e+21 1.2072e+22]\n",
      "yt : [INFO     ] 2024-07-20 09:50:57,225 Parameters: current_time              = 492995123710076.5\n",
      "yt : [INFO     ] 2024-07-20 09:50:57,227 Parameters: domain_dimensions         = [ 512    1 4096]\n",
      "yt : [INFO     ] 2024-07-20 09:50:57,228 Parameters: domain_left_edge          = [ 0.0000e+00  0.0000e+00 -1.2072e+22]\n",
      "yt : [INFO     ] 2024-07-20 09:50:57,230 Parameters: domain_right_edge         = [3.0180e+21 3.0180e+21 1.2072e+22]\n",
      "yt : [INFO     ] 2024-07-20 09:50:58,721 Parameters: current_time              = 475284638818751.56\n",
      "yt : [INFO     ] 2024-07-20 09:50:58,722 Parameters: domain_dimensions         = [ 512    1 4096]\n",
      "yt : [INFO     ] 2024-07-20 09:50:58,724 Parameters: domain_left_edge          = [ 0.0000e+00  0.0000e+00 -1.2072e+22]\n",
      "yt : [INFO     ] 2024-07-20 09:50:58,725 Parameters: domain_right_edge         = [3.0180e+21 3.0180e+21 1.2072e+22]\n",
      "yt : [INFO     ] 2024-07-20 09:51:00,176 Parameters: current_time              = 251425255150033.62\n",
      "yt : [INFO     ] 2024-07-20 09:51:00,178 Parameters: domain_dimensions         = [ 512    1 4096]\n",
      "yt : [INFO     ] 2024-07-20 09:51:00,179 Parameters: domain_left_edge          = [ 0.0000e+00  0.0000e+00 -1.2072e+22]\n",
      "yt : [INFO     ] 2024-07-20 09:51:00,180 Parameters: domain_right_edge         = [3.0180e+21 3.0180e+21 1.2072e+22]\n"
     ]
    }
   ],
   "source": [
    "i = 0 \n",
    "for f in list_file:\n",
    "    inputfile = os.path.join(data_path, f)\n",
    "    ds   = yt.load(inputfile)\n",
    "    data = ds.covering_grid(level=0, left_edge=dom_min, dims=ds.domain_dimensions, num_ghost_zones=0)\n",
    "    timestep[i] = ds.current_time.to('Myr')\n",
    "    tot_mass_flux[i,:] = np.array(data['mass_outflow'])[:,0,:]\n",
    "    hot_mass_flux[i,:] = np.array(data['hot_mass_outflow'])[:,0,:]\n",
    "    warm_mass_flux[i,:] = np.array(data['warm_mass_outflow'])[:,0,:]\n",
    "    \n",
    "    \n",
    "    tot_scalar_flux[i] = np.array(data['scalar_outflow'])[:,0,:]\n",
    "    hot_scalar_flux[i] = np.array(data['hot_scalar_outflow'])[:,0,:]\n",
    "    warm_scalar_flux[i] = np.array(data['warm_scalar_outflow'])[:,0,:]\n",
    "    i+=1"
   ]
  },
  {
   "cell_type": "code",
   "execution_count": 41,
   "id": "b752766b",
   "metadata": {},
   "outputs": [
    {
     "data": {
      "text/plain": [
       "16.343814245346074"
      ]
     },
     "execution_count": 41,
     "metadata": {},
     "output_type": "execute_result"
    }
   ],
   "source": [
    "np.amax(timestep)"
   ]
  },
  {
   "cell_type": "code",
   "execution_count": 42,
   "id": "2c44b3cf",
   "metadata": {},
   "outputs": [],
   "source": [
    "total_flux    = dx *np.sum(tot_mass_flux, axis=1)\n",
    "hotmass_flux  = dx *np.sum(hot_mass_flux, axis=1)\n",
    "warmmass_flux = dx *np.sum(warm_mass_flux, axis=1)\n",
    "\n",
    "scaltot_flux    = dx *np.sum(tot_scalar_flux, axis=1)\n",
    "hotscal_flux  = dx *np.sum(hot_scalar_flux, axis=1)\n",
    "warmscal_flux = dx *np.sum(warm_scalar_flux, axis=1)"
   ]
  },
  {
   "cell_type": "code",
   "execution_count": 43,
   "id": "b770f79a",
   "metadata": {},
   "outputs": [
    {
     "data": {
      "text/plain": [
       "(0.0, 200.0)"
      ]
     },
     "execution_count": 43,
     "metadata": {},
     "output_type": "execute_result"
    },
    {
     "data": {
      "image/png": "[encoded data removed]",
      "text/plain": [
       "<Figure size 864x576 with 1 Axes>"
      ]
     },
     "metadata": {
      "needs_background": "light"
     },
     "output_type": "display_data"
    }
   ],
   "source": [
    "\n",
    "fig, ax = plt.subplots(1, 1, gridspec_kw = {'wspace':0.02, 'hspace':0.02},figsize=(12, 8))\n",
    "# ax.plot(timestep, tot_mass_flux[:,-1], 'o')\n",
    "munit =  yr_to_sec/Msun/1.e-2\n",
    "height = 1. * kpc\n",
    "index = min(range(zrange.shape[0]), key=lambda i: abs(zrange[i] - height))\n",
    "listarr = [total_flux[:,index], warmmass_flux[:,index], hotmass_flux[:,index], ]\n",
    "label = ['Total', 'Warm', 'Hot']\n",
    "i = 0\n",
    "for arr in listarr:\n",
    "    tt = timestep \n",
    "    indexes = list(range(len(tt)))\n",
    "    indexes.sort(key=tt.__getitem__)\n",
    "    sorted_time = list(map(tt.__getitem__, indexes))\n",
    "    sorted_mdot  = list(map(arr.__getitem__, indexes))\n",
    "    ax.plot(sorted_time, np.asarray(sorted_mdot)*munit, '-', label=label[i],markersize=12, lw=2.)\n",
    "    i+=1\n",
    "\n",
    "\n",
    "ax.legend()\n",
    "ax.set_title('z=%.1f'%(zrange[index]/kpc) + ' kpc')\n",
    "# ax.set_yscale('log')\n",
    "# ax.set_ylim(1.e-3,1.e1)\n",
    "ax.set_ylabel(\"Mass Outflow Rate\")\n",
    "ax.set_xlabel('Time [Myr]')\n",
    "ax.set_xlim(0.0,200.)"
   ]
  },
  {
   "cell_type": "code",
   "execution_count": 17,
   "id": "1c7e7de3",
   "metadata": {},
   "outputs": [
    {
     "data": {
      "text/plain": [
       "33.12465526158606"
      ]
     },
     "execution_count": 17,
     "metadata": {},
     "output_type": "execute_result"
    }
   ],
   "source": [
    "1043426640739960.8/Myr"
   ]
  },
  {
   "cell_type": "code",
   "execution_count": 44,
   "id": "ca62aa6c",
   "metadata": {},
   "outputs": [
    {
     "data": {
      "text/plain": [
       "(0.0, 200.0)"
      ]
     },
     "execution_count": 44,
     "metadata": {},
     "output_type": "execute_result"
    },
    {
     "data": {
      "image/png": "[encoded data removed]",
      "text/plain": [
       "<Figure size 864x576 with 1 Axes>"
      ]
     },
     "metadata": {
      "needs_background": "light"
     },
     "output_type": "display_data"
    }
   ],
   "source": [
    "\n",
    "fig, ax = plt.subplots(1, 1, gridspec_kw = {'wspace':0.02, 'hspace':0.02},figsize=(12, 8))\n",
    "# ax.plot(timestep, tot_mass_flux[:,-1], 'o')\n",
    "Zunit = yr_to_sec/1.e3/1.e-5\n",
    "height = 2. * kpc\n",
    "index = min(range(zrange.shape[0]), key=lambda i: abs(zrange[i] - height))\n",
    "listarr = [scaltot_flux[:,index],warmscal_flux[:,index], hotscal_flux[:,index]]\n",
    "label = ['Total', 'Warm', 'Hot']\n",
    "i = 0\n",
    "for arr in listarr:\n",
    "    tt = timestep \n",
    "    indexes = list(range(len(tt)))\n",
    "    indexes.sort(key=tt.__getitem__)\n",
    "    sorted_time = list(map(tt.__getitem__, indexes))\n",
    "    sorted_mdot  = list(map(arr.__getitem__, indexes))\n",
    "    ax.plot(sorted_time, np.abs(sorted_mdot)*Zunit, '-', label=label[i],markersize=12, lw=2.)\n",
    "    i+=1\n",
    "\n",
    "\n",
    "ax.legend()\n",
    "ax.set_title('z=%.1f'%(zrange[index]/kpc) + ' kpc')\n",
    "# ax.set_yscale('log')\n",
    "# ax.set_ylim(1.e-3,1.e1)\n",
    "ax.set_ylabel(\"Scalar Outflow Rate\")\n",
    "ax.set_xlabel('Time [Myr]')\n",
    "ax.set_xlim(0.0,200.)"
   ]
  },
  {
   "cell_type": "code",
   "execution_count": null,
   "id": "f0fd2dda",
   "metadata": {},
   "outputs": [],
   "source": []
  }
 ],
 "metadata": {
  "kernelspec": {
   "display_name": "Python 3 (ipykernel)",
   "language": "python",
   "name": "python3"
  },
  "language_info": {
   "codemirror_mode": {
    "name": "ipython",
    "version": 3
   },
   "file_extension": ".py",
   "mimetype": "text/x-python",
   "name": "python",
   "nbconvert_exporter": "python",
   "pygments_lexer": "ipython3",
   "version": "3.9.2"
  }
 },
 "nbformat": 4,
 "nbformat_minor": 5
}
