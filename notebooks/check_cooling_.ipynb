{
 "cells": [
  {
   "cell_type": "markdown",
   "id": "d89030bf",
   "metadata": {},
   "source": [
    "# Check if Cooling is correct for 0.2Zsol background"
   ]
  },
  {
   "cell_type": "code",
   "execution_count": 1,
   "id": "4e0c8552",
   "metadata": {},
   "outputs": [],
   "source": [
    "\n",
    "import _init_\n",
    "from constants import *\n",
    "from set_path import *\n",
    "from config import *\n",
    "from functions import *"
   ]
  },
  {
   "cell_type": "code",
   "execution_count": 2,
   "id": "21bd3e23",
   "metadata": {},
   "outputs": [],
   "source": [
    "\n",
    "file = '/g/data/jh2/av5889/quokka_myrepo/quokka/extern/grackle_data_files/input/CloudyData_UVB=HM2012.h5'\n",
    "# file = '/g/data/jh2/av5889/quokka_myrepo/quokka/extern/grackle_data_files/input/CloudyData_UVB=FG2011.h5'\n",
    "#Dim2 is redshift. Dim1 is density. Dim3 is temperature\n",
    "grackle = h5py.File(file)\n",
    "array = grackle['CoolingRates/Primordial/MMW'][()]\n",
    "#density(1.e-6, 1.e4), redshift(0,15), temperature(10., 1.e9)\n",
    "table = array[:,0,:]\n",
    "table_nH   = np.logspace(-10, 4, array.shape[0])\n",
    "table_temp = np.logspace(1,  9, array.shape[2])\n",
    "\n",
    "prim_heating = grackle['CoolingRates/Primordial/Heating'][()][:,0,:]\n",
    "prim_cooling = grackle['CoolingRates/Primordial/Cooling'][()][:,0,:]\n",
    "\n",
    "met_heating  = grackle['CoolingRates/Metals/Heating'][()][:,0,:]\n",
    "met_cooling  = grackle['CoolingRates/Metals/Cooling'][()][:,0,:]\n",
    "\n",
    "netLambda_prim = prim_heating - prim_cooling \n",
    "\n",
    "netLambda_met  = met_heating - met_cooling\n",
    "netLambda_Zsol = netLambda_prim + netLambda_met\n",
    "\n",
    "Zbg = 0.\n",
    "netLambda_met  = met_heating - Zbg*met_cooling\n",
    "netLambda_02Zsol = netLambda_prim + netLambda_met"
   ]
  },
  {
   "cell_type": "code",
   "execution_count": 3,
   "id": "014350ed",
   "metadata": {},
   "outputs": [],
   "source": [
    "LambdaZsol = interpolate.interp2d(table_temp, table_nH, netLambda_Zsol,\\\n",
    "                              kind='linear', copy=True, bounds_error=False, fill_value=None)\n",
    "Lambda02Zsol = interpolate.interp2d(table_temp, table_nH, netLambda_02Zsol,\\\n",
    "                              kind='linear', copy=True, bounds_error=False, fill_value=None)"
   ]
  },
  {
   "cell_type": "code",
   "execution_count": 5,
   "id": "b7bea260",
   "metadata": {},
   "outputs": [
    {
     "data": {
      "text/plain": [
       "array([-6.21872735e-23])"
      ]
     },
     "execution_count": 5,
     "metadata": {},
     "output_type": "execute_result"
    }
   ],
   "source": [
    "LambdaZsol(4.6e8, 5.9)"
   ]
  },
  {
   "cell_type": "code",
   "execution_count": 5,
   "id": "22b8f397",
   "metadata": {},
   "outputs": [
    {
     "name": "stderr",
     "output_type": "stream",
     "text": [
      "/apps/python3/3.9.2/lib/python3.9/site-packages/scipy/optimize/minpack.py:175: RuntimeWarning: The iteration is not making good progress, as measured by the \n",
      "  improvement from the last five Jacobian evaluations.\n",
      "  warnings.warn(msg, RuntimeWarning)\n",
      "/apps/python3/3.9.2/lib/python3.9/site-packages/scipy/optimize/minpack.py:175: RuntimeWarning: The iteration is not making good progress, as measured by the \n",
      "  improvement from the last ten iterations.\n",
      "  warnings.warn(msg, RuntimeWarning)\n"
     ]
    }
   ],
   "source": [
    "\n",
    "from scipy.interpolate import interp1d\n",
    "from scipy.optimize import fsolve\n",
    "\n",
    "# Example arrays of x values and corresponding f(x) values\n",
    "\n",
    "\n",
    "# Define a function that returns f(x) for a given x\n",
    "def fZsol(T,netLambda):\n",
    "    x_values = table_temp\n",
    "    interp_func = interp1d(x_values, netLambda, kind='linear')\n",
    "    return interp_func(T)\n",
    "\n",
    "def f02Zsol(T,netLambda):\n",
    "    x_values = table_temp\n",
    "    interp_func = interp1d(x_values, netLambda, kind='linear',fill_value=\"extrapolate\")\n",
    "    return interp_func(T)\n",
    "\n",
    "\n",
    "i=0\n",
    "teq = np.zeros(table_nH.shape[0])\n",
    "teq_02Zsol = np.zeros(table_nH.shape[0])\n",
    "teq_prev = 10.\n",
    "guess = np.logspace(1,  9, array.shape[0])\n",
    "\n",
    "for i in range(netLambda_02Zsol.shape[0]):\n",
    "#     teq_02Zsol[i] = fsolve(f02Zsol, table_temp[i], args=(np.abs(netLambda_02Zsol[i])))\n",
    "    teq[i] = fsolve(fZsol, table_temp[i], args=(np.abs(netLambda_Zsol[i])))"
   ]
  },
  {
   "cell_type": "code",
   "execution_count": 6,
   "id": "a268f7a8",
   "metadata": {
    "scrolled": false
   },
   "outputs": [],
   "source": [
    "for i in range(netLambda_02Zsol.shape[0]):\n",
    "#     print(table_temp[i])\n",
    "    teq_02Zsol[i] = fsolve(f02Zsol, table_temp[i], args=(np.abs(netLambda_02Zsol[i])))"
   ]
  },
  {
   "cell_type": "code",
   "execution_count": 10,
   "id": "35302c7b",
   "metadata": {},
   "outputs": [
    {
     "data": {
      "text/plain": [
       "<matplotlib.legend.Legend at 0x1498367a3970>"
      ]
     },
     "execution_count": 10,
     "metadata": {},
     "output_type": "execute_result"
    },
    {
     "data": {
      "image/png": "[encoded data removed]",
      "text/plain": [
       "<Figure size 576x432 with 1 Axes>"
      ]
     },
     "metadata": {
      "needs_background": "light"
     },
     "output_type": "display_data"
    }
   ],
   "source": [
    "fig, ax = plt.subplots(1, 1, gridspec_kw = {'wspace':0.02, 'hspace':0.02},figsize=(8, 6))\n",
    "ax.plot(np.log10(table_nH), np.log10(teq_02Zsol), label=r'%.1f $Z_{\\odot}$'%(Zbg))\n",
    "ax.plot(np.log10(table_nH), np.log10(teq), label=r'$Z_{\\odot}$')\n",
    "# ax.plot(np.log10(4.19e-24/mp), np.log10(6.71e3), 's')\n",
    "ax.set_xlim(-6, 1.)\n",
    "ax.set_ylim(2.5, 5.5)\n",
    "ax.grid()\n",
    "ax.set_ylabel('log(Temp)')\n",
    "ax.set_xlabel('log(nH)')\n",
    "# ax.set_title('Heating/0.2Cooling')\n",
    "ax.legend()"
   ]
  },
  {
   "cell_type": "markdown",
   "id": "5c503652",
   "metadata": {},
   "source": [
    "# Get Mu"
   ]
  },
  {
   "cell_type": "code",
   "execution_count": 22,
   "id": "290c122a",
   "metadata": {},
   "outputs": [],
   "source": [
    "\n",
    "i=0\n",
    "bins = 100\n",
    "egas_arr = np.logspace(-21., -5., bins)\n",
    "nH_arr   = np.logspace(-6.0, 4.0, int(bins))\n",
    "T = np.zeros((egas_arr.shape[0],nH_arr.shape[0]))\n",
    "\n",
    "for egas in egas_arr:\n",
    "    j=0\n",
    "    for nH in nH_arr:\n",
    "        C = (gamma - 1.) * egas / (boltzmann_constant_cgs*nH)\n",
    "        minT = C*np.amin(table)\n",
    "        maxT = C*np.amax(table)\n",
    "        def func(T):\n",
    "            mu = interpolate.interp2d(table_temp, table_nH, table,\\\n",
    "                              kind='linear', copy=True, bounds_error=False, fill_value=None)\n",
    "            return C*mu(T,nH)[0] - T\n",
    "\n",
    "        T[i,j] = scipy.optimize.toms748(func, minT, maxT)\n",
    "        j+=1\n",
    "    i+=1\n",
    "\n",
    "    \n",
    "# temperature_table = interpolate.RectBivariateSpline(egas_arr, nH_arr, T)\n"
   ]
  },
  {
   "cell_type": "code",
   "execution_count": 23,
   "id": "cb7596d0",
   "metadata": {},
   "outputs": [],
   "source": [
    "mu_interp = interpolate.interp2d(table_temp, table_nH, table,\\\n",
    "                              kind='linear', copy=True, bounds_error=False, fill_value=None)"
   ]
  },
  {
   "cell_type": "code",
   "execution_count": 24,
   "id": "1254defe",
   "metadata": {},
   "outputs": [],
   "source": [
    "cloudy_H_mass_fraction = 1. / (1. + 0.1 * 3.971)\n",
    "X = cloudy_H_mass_fraction\n",
    "Z  =  0.02*Zbg\n",
    "Y = 1. - X - Z\n",
    "mean_metals_A = 16.\n",
    "sigma_T = 6.6524e-25\n",
    "T_cmb = 2.725\n",
    "E_cmb = 7.5e-15 * (T_cmb * T_cmb * T_cmb * T_cmb)\n",
    "electron_mass_cgs = m_e = 9.1e-28\n",
    "rho = 4.19e-24\n",
    "rhoH = rho * cloudy_H_mass_fraction\n",
    "nH =  rhoH / (mp + m_e)\n",
    "T = 6.71e+03"
   ]
  },
  {
   "cell_type": "markdown",
   "id": "5e7b1000",
   "metadata": {},
   "source": [
    "# Photoelectric Heating"
   ]
  },
  {
   "cell_type": "code",
   "execution_count": 25,
   "id": "f500994f",
   "metadata": {},
   "outputs": [],
   "source": [
    "Tsqrt = np.sqrt(T);\n",
    "phi = 0.5\n",
    "G_0 = 1.7\n",
    "mu  = mu_interp(6.71e+03, nH)\n",
    "metarr = np.linspace(0.2, 2., 10)\n",
    "Gamma_pe = np.zeros(10)\n",
    "i=0\n",
    "for Zbg in metarr:\n",
    "    Z = 0.02*Zbg\n",
    "    n_e = (rho / (mp + m_e)) * (1.0 - mu * (X + Y / 4. + Z / mean_metals_A)) / (mu - (electron_mass_cgs / (mp + m_e)))\n",
    "    epsilon = 4.9e-2 / (1. + 4.0e-3 * np.power(G_0 * Tsqrt / (n_e * phi), 0.73)) +\\\n",
    "         3.7e-2 * np.power(T / 1.0e4, 0.7) / (1. + 2.0e-4 * (G_0 * Tsqrt / (n_e * phi)));\n",
    "    Gamma_pe[i] = 1.3e-24 * nH * epsilon * G_0\n",
    "    i+=1\n"
   ]
  },
  {
   "cell_type": "code",
   "execution_count": 31,
   "id": "dfdcd9b6",
   "metadata": {},
   "outputs": [],
   "source": [
    "c_light_cgs_ = 3.e10\n",
    "compton_CMB= np.zeros(10)\n",
    "i=0\n",
    "for Zbg in metarr:\n",
    "    Z = 0.02*Zbg\n",
    "    n_e = (rho / (mp + m_e)) * (1.0 - mu * (X + Y / 4. + Z / mean_metals_A))/(mu - (electron_mass_cgs / (mp + m_e)))\n",
    "    Gamma_C = (8. * sigma_T * E_cmb) / (3. * electron_mass_cgs * c_light_cgs_)\n",
    "    C_n = Gamma_C * boltzmann_constant_cgs / (5. / 3. - 1.0)\n",
    "    compton_CMB[i] = -C_n * (T - T_cmb) * n_e\n",
    "    i+=1"
   ]
  },
  {
   "cell_type": "code",
   "execution_count": null,
   "id": "65678970",
   "metadata": {},
   "outputs": [],
   "source": [
    "np.abs(Lambda02Zsol(T, nH)/Gamma_pe[0])"
   ]
  },
  {
   "cell_type": "code",
   "execution_count": 62,
   "id": "166b5d56",
   "metadata": {},
   "outputs": [
    {
     "data": {
      "text/plain": [
       "array([-1.61964945])"
      ]
     },
     "execution_count": 62,
     "metadata": {},
     "output_type": "execute_result"
    }
   ],
   "source": [
    "LambdaZsol(T, nH)/Gamma_pe[0]"
   ]
  },
  {
   "cell_type": "code",
   "execution_count": 35,
   "id": "840ae839",
   "metadata": {},
   "outputs": [
    {
     "data": {
      "image/png": "[encoded data removed]",
      "text/plain": [
       "<Figure size 432x288 with 1 Axes>"
      ]
     },
     "metadata": {
      "needs_background": "light"
     },
     "output_type": "display_data"
    }
   ],
   "source": [
    "plt.plot(metarr, Gamma_pe)\n",
    "plt.plot(metarr, np.abs(compton_CMB))\n",
    "plt.yscale('log')\n",
    "# plt.ylim(2., 2.5)"
   ]
  },
  {
   "cell_type": "code",
   "execution_count": null,
   "id": "62f196e4",
   "metadata": {},
   "outputs": [],
   "source": []
  }
 ],
 "metadata": {
  "kernelspec": {
   "display_name": "Python 3 (ipykernel)",
   "language": "python",
   "name": "python3"
  },
  "language_info": {
   "codemirror_mode": {
    "name": "ipython",
    "version": 3
   },
   "file_extension": ".py",
   "mimetype": "text/x-python",
   "name": "python",
   "nbconvert_exporter": "python",
   "pygments_lexer": "ipython3",
   "version": "3.9.2"
  }
 },
 "nbformat": 4,
 "nbformat_minor": 5
}
