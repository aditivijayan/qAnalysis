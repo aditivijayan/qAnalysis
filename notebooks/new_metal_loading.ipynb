{
 "cells": [
  {
   "cell_type": "code",
   "execution_count": 1,
   "id": "94ca6006",
   "metadata": {},
   "outputs": [],
   "source": [
    "import _init_\n",
    "from constants import *\n",
    "from set_path import *\n",
    "from config import *\n",
    "from functions import *\n",
    "import seaborn as sns"
   ]
  },
  {
   "cell_type": "code",
   "execution_count": 2,
   "id": "d4a33db4",
   "metadata": {},
   "outputs": [],
   "source": [
    "plt.rcParams['font.size']=28\n",
    "plt.rcParams['axes.linewidth']=3.\n",
    "plt.rcParams['xtick.major.size']=12\n",
    "plt.rcParams['xtick.minor.size']=1\n",
    "plt.rcParams['xtick.major.width']=2\n",
    "plt.rcParams['xtick.minor.width']=2.\n",
    "plt.rcParams['xtick.direction']='in'\n",
    "plt.rcParams['ytick.major.size']=12\n",
    "plt.rcParams['ytick.minor.size']=6\n",
    "plt.rcParams['ytick.major.width']=2\n",
    "plt.rcParams['ytick.minor.width']=2\n",
    "plt.rcParams['ytick.direction']='in'"
   ]
  },
  {
   "cell_type": "markdown",
   "id": "580d750b",
   "metadata": {},
   "source": [
    "# Metal Loading with Time for Zsol"
   ]
  },
  {
   "cell_type": "code",
   "execution_count": 6,
   "id": "e5efb153",
   "metadata": {
    "scrolled": false
   },
   "outputs": [
    {
     "name": "stderr",
     "output_type": "stream",
     "text": [
      "yt : [INFO     ] 2024-09-09 14:00:05,727 Parameters: current_time              = 4342948031841172.0\n",
      "yt : [INFO     ] 2024-09-09 14:00:05,729 Parameters: domain_dimensions         = [ 512    1 4096]\n",
      "yt : [INFO     ] 2024-09-09 14:00:05,730 Parameters: domain_left_edge          = [ 0.0000e+00  0.0000e+00 -1.2072e+22]\n",
      "yt : [INFO     ] 2024-09-09 14:00:05,732 Parameters: domain_right_edge         = [3.0180e+21 3.0180e+21 1.2072e+22]\n"
     ]
    },
    {
     "name": "stdout",
     "output_type": "stream",
     "text": [
      "SummitData/GasGravity/Production2pc/R4/\n",
      "3583 (4096,)\n",
      "0 /g/data/jh2/av5889/quokka_myrepo/quokka/sims/SummitData/GasGravity/Production2pc/R4/proj_y_plt5470000\n"
     ]
    },
    {
     "name": "stderr",
     "output_type": "stream",
     "text": [
      "yt : [INFO     ] 2024-09-09 14:00:06,468 Parameters: current_time              = 5429726706288224.0\n",
      "yt : [INFO     ] 2024-09-09 14:00:06,470 Parameters: domain_dimensions         = [ 512    1 4096]\n",
      "yt : [INFO     ] 2024-09-09 14:00:06,472 Parameters: domain_left_edge          = [ 0.0000e+00  0.0000e+00 -1.2072e+22]\n",
      "yt : [INFO     ] 2024-09-09 14:00:06,473 Parameters: domain_right_edge         = [3.0180e+21 3.0180e+21 1.2072e+22]\n"
     ]
    },
    {
     "name": "stdout",
     "output_type": "stream",
     "text": [
      "1 /g/data/jh2/av5889/quokka_myrepo/quokka/sims/SummitData/GasGravity/Production2pc/R4/proj_y_plt6830000\n"
     ]
    },
    {
     "name": "stderr",
     "output_type": "stream",
     "text": [
      "yt : [INFO     ] 2024-09-09 14:00:07,200 Parameters: current_time              = 2504910968134104.5\n",
      "yt : [INFO     ] 2024-09-09 14:00:07,201 Parameters: domain_dimensions         = [ 512    1 4096]\n",
      "yt : [INFO     ] 2024-09-09 14:00:07,202 Parameters: domain_left_edge          = [ 0.0000e+00  0.0000e+00 -1.2072e+22]\n",
      "yt : [INFO     ] 2024-09-09 14:00:07,204 Parameters: domain_right_edge         = [3.0180e+21 3.0180e+21 1.2072e+22]\n"
     ]
    },
    {
     "name": "stdout",
     "output_type": "stream",
     "text": [
      "2 /g/data/jh2/av5889/quokka_myrepo/quokka/sims/SummitData/GasGravity/Production2pc/R4/proj_y_plt3160000\n"
     ]
    },
    {
     "name": "stderr",
     "output_type": "stream",
     "text": [
      "yt : [INFO     ] 2024-09-09 14:00:07,934 Parameters: current_time              = 4246899310157782.5\n",
      "yt : [INFO     ] 2024-09-09 14:00:07,935 Parameters: domain_dimensions         = [ 512    1 4096]\n",
      "yt : [INFO     ] 2024-09-09 14:00:07,937 Parameters: domain_left_edge          = [ 0.0000e+00  0.0000e+00 -1.2072e+22]\n",
      "yt : [INFO     ] 2024-09-09 14:00:07,938 Parameters: domain_right_edge         = [3.0180e+21 3.0180e+21 1.2072e+22]\n"
     ]
    },
    {
     "name": "stdout",
     "output_type": "stream",
     "text": [
      "3 /g/data/jh2/av5889/quokka_myrepo/quokka/sims/SummitData/GasGravity/Production2pc/R4/proj_y_plt5350000\n"
     ]
    },
    {
     "name": "stderr",
     "output_type": "stream",
     "text": [
      "yt : [INFO     ] 2024-09-09 14:00:08,658 Parameters: current_time              = 5210146492149887.0\n",
      "yt : [INFO     ] 2024-09-09 14:00:08,659 Parameters: domain_dimensions         = [ 512    1 4096]\n",
      "yt : [INFO     ] 2024-09-09 14:00:08,660 Parameters: domain_left_edge          = [ 0.0000e+00  0.0000e+00 -1.2072e+22]\n",
      "yt : [INFO     ] 2024-09-09 14:00:08,662 Parameters: domain_right_edge         = [3.0180e+21 3.0180e+21 1.2072e+22]\n"
     ]
    },
    {
     "name": "stdout",
     "output_type": "stream",
     "text": [
      "4 /g/data/jh2/av5889/quokka_myrepo/quokka/sims/SummitData/GasGravity/Production2pc/R4/proj_y_plt6560000\n"
     ]
    },
    {
     "name": "stderr",
     "output_type": "stream",
     "text": [
      "yt : [INFO     ] 2024-09-09 14:00:09,381 Parameters: current_time              = 1050692855127933.4\n",
      "yt : [INFO     ] 2024-09-09 14:00:09,382 Parameters: domain_dimensions         = [ 512    1 4096]\n",
      "yt : [INFO     ] 2024-09-09 14:00:09,384 Parameters: domain_left_edge          = [ 0.0000e+00  0.0000e+00 -1.2072e+22]\n",
      "yt : [INFO     ] 2024-09-09 14:00:09,385 Parameters: domain_right_edge         = [3.0180e+21 3.0180e+21 1.2072e+22]\n"
     ]
    },
    {
     "name": "stdout",
     "output_type": "stream",
     "text": [
      "5 /g/data/jh2/av5889/quokka_myrepo/quokka/sims/SummitData/GasGravity/Production2pc/R4/proj_y_plt1240000\n"
     ]
    },
    {
     "name": "stderr",
     "output_type": "stream",
     "text": [
      "yt : [INFO     ] 2024-09-09 14:00:10,106 Parameters: current_time              = 2448797312460666.5\n",
      "yt : [INFO     ] 2024-09-09 14:00:10,107 Parameters: domain_dimensions         = [ 512    1 4096]\n",
      "yt : [INFO     ] 2024-09-09 14:00:10,108 Parameters: domain_left_edge          = [ 0.0000e+00  0.0000e+00 -1.2072e+22]\n",
      "yt : [INFO     ] 2024-09-09 14:00:10,110 Parameters: domain_right_edge         = [3.0180e+21 3.0180e+21 1.2072e+22]\n"
     ]
    },
    {
     "name": "stdout",
     "output_type": "stream",
     "text": [
      "6 /g/data/jh2/av5889/quokka_myrepo/quokka/sims/SummitData/GasGravity/Production2pc/R4/proj_y_plt3090000\n"
     ]
    },
    {
     "name": "stderr",
     "output_type": "stream",
     "text": [
      "yt : [INFO     ] 2024-09-09 14:00:10,839 Parameters: current_time              = 3591777269703311.0\n",
      "yt : [INFO     ] 2024-09-09 14:00:10,841 Parameters: domain_dimensions         = [ 512    1 4096]\n",
      "yt : [INFO     ] 2024-09-09 14:00:10,842 Parameters: domain_left_edge          = [ 0.0000e+00  0.0000e+00 -1.2072e+22]\n",
      "yt : [INFO     ] 2024-09-09 14:00:10,843 Parameters: domain_right_edge         = [3.0180e+21 3.0180e+21 1.2072e+22]\n"
     ]
    },
    {
     "name": "stdout",
     "output_type": "stream",
     "text": [
      "7 /g/data/jh2/av5889/quokka_myrepo/quokka/sims/SummitData/GasGravity/Production2pc/R4/proj_y_plt4530000\n"
     ]
    },
    {
     "name": "stderr",
     "output_type": "stream",
     "text": [
      "yt : [INFO     ] 2024-09-09 14:00:11,577 Parameters: current_time              = 5933943645261339.0\n",
      "yt : [INFO     ] 2024-09-09 14:00:11,579 Parameters: domain_dimensions         = [ 512    1 4096]\n",
      "yt : [INFO     ] 2024-09-09 14:00:11,580 Parameters: domain_left_edge          = [ 0.0000e+00  0.0000e+00 -1.2072e+22]\n",
      "yt : [INFO     ] 2024-09-09 14:00:11,581 Parameters: domain_right_edge         = [3.0180e+21 3.0180e+21 1.2072e+22]\n"
     ]
    },
    {
     "name": "stdout",
     "output_type": "stream",
     "text": [
      "8 /g/data/jh2/av5889/quokka_myrepo/quokka/sims/SummitData/GasGravity/Production2pc/R4/proj_y_plt7460000\n"
     ]
    },
    {
     "name": "stderr",
     "output_type": "stream",
     "text": [
      "yt : [INFO     ] 2024-09-09 14:00:12,300 Parameters: current_time              = 6344916107762790.0\n",
      "yt : [INFO     ] 2024-09-09 14:00:12,301 Parameters: domain_dimensions         = [ 512    1 4096]\n",
      "yt : [INFO     ] 2024-09-09 14:00:12,303 Parameters: domain_left_edge          = [ 0.0000e+00  0.0000e+00 -1.2072e+22]\n",
      "yt : [INFO     ] 2024-09-09 14:00:12,304 Parameters: domain_right_edge         = [3.0180e+21 3.0180e+21 1.2072e+22]\n"
     ]
    },
    {
     "name": "stdout",
     "output_type": "stream",
     "text": [
      "9 /g/data/jh2/av5889/quokka_myrepo/quokka/sims/SummitData/GasGravity/Production2pc/R4/proj_y_plt7970000\n"
     ]
    },
    {
     "name": "stderr",
     "output_type": "stream",
     "text": [
      "yt : [INFO     ] 2024-09-09 14:00:13,438 Parameters: current_time              = 6366005358908247.0\n",
      "yt : [INFO     ] 2024-09-09 14:00:13,439 Parameters: domain_dimensions         = [ 512    1 4096]\n",
      "yt : [INFO     ] 2024-09-09 14:00:13,440 Parameters: domain_left_edge          = [ 0.0000e+00  0.0000e+00 -1.2072e+22]\n",
      "yt : [INFO     ] 2024-09-09 14:00:13,442 Parameters: domain_right_edge         = [3.0180e+21 3.0180e+21 1.2072e+22]\n"
     ]
    },
    {
     "name": "stdout",
     "output_type": "stream",
     "text": [
      "SummitData/GasGravity/Production2pc/R8/\n",
      "3583 (4096,)\n",
      "0 /g/data/jh2/av5889/quokka_myrepo/quokka/sims/SummitData/GasGravity/Production2pc/R8/proj_y_plt5470000\n"
     ]
    },
    {
     "name": "stderr",
     "output_type": "stream",
     "text": [
      "yt : [INFO     ] 2024-09-09 14:00:14,172 Parameters: current_time              = 3759050146000240.0\n",
      "yt : [INFO     ] 2024-09-09 14:00:14,173 Parameters: domain_dimensions         = [ 512    1 4096]\n",
      "yt : [INFO     ] 2024-09-09 14:00:14,174 Parameters: domain_left_edge          = [ 0.0000e+00  0.0000e+00 -1.2072e+22]\n",
      "yt : [INFO     ] 2024-09-09 14:00:14,176 Parameters: domain_right_edge         = [3.0180e+21 3.0180e+21 1.2072e+22]\n"
     ]
    },
    {
     "name": "stdout",
     "output_type": "stream",
     "text": [
      "1 /g/data/jh2/av5889/quokka_myrepo/quokka/sims/SummitData/GasGravity/Production2pc/R8/proj_y_plt3160000\n"
     ]
    },
    {
     "name": "stderr",
     "output_type": "stream",
     "text": [
      "yt : [INFO     ] 2024-09-09 14:00:14,928 Parameters: current_time              = 6232110484988053.0\n",
      "yt : [INFO     ] 2024-09-09 14:00:14,930 Parameters: domain_dimensions         = [ 512    1 4096]\n",
      "yt : [INFO     ] 2024-09-09 14:00:14,931 Parameters: domain_left_edge          = [ 0.0000e+00  0.0000e+00 -1.2072e+22]\n",
      "yt : [INFO     ] 2024-09-09 14:00:14,932 Parameters: domain_right_edge         = [3.0180e+21 3.0180e+21 1.2072e+22]\n"
     ]
    },
    {
     "name": "stdout",
     "output_type": "stream",
     "text": [
      "2 /g/data/jh2/av5889/quokka_myrepo/quokka/sims/SummitData/GasGravity/Production2pc/R8/proj_y_plt5350000\n"
     ]
    },
    {
     "name": "stderr",
     "output_type": "stream",
     "text": [
      "yt : [INFO     ] 2024-09-09 14:00:15,814 Parameters: current_time              = 1613131438720997.5\n",
      "yt : [INFO     ] 2024-09-09 14:00:15,816 Parameters: domain_dimensions         = [ 512    1 4096]\n",
      "yt : [INFO     ] 2024-09-09 14:00:15,817 Parameters: domain_left_edge          = [ 0.0000e+00  0.0000e+00 -1.2072e+22]\n",
      "yt : [INFO     ] 2024-09-09 14:00:15,819 Parameters: domain_right_edge         = [3.0180e+21 3.0180e+21 1.2072e+22]\n"
     ]
    },
    {
     "name": "stdout",
     "output_type": "stream",
     "text": [
      "3 /g/data/jh2/av5889/quokka_myrepo/quokka/sims/SummitData/GasGravity/Production2pc/R8/proj_y_plt1240000\n"
     ]
    },
    {
     "name": "stderr",
     "output_type": "stream",
     "text": [
      "yt : [INFO     ] 2024-09-09 14:00:16,541 Parameters: current_time              = 3687213992955750.0\n",
      "yt : [INFO     ] 2024-09-09 14:00:16,543 Parameters: domain_dimensions         = [ 512    1 4096]\n",
      "yt : [INFO     ] 2024-09-09 14:00:16,544 Parameters: domain_left_edge          = [ 0.0000e+00  0.0000e+00 -1.2072e+22]\n",
      "yt : [INFO     ] 2024-09-09 14:00:16,545 Parameters: domain_right_edge         = [3.0180e+21 3.0180e+21 1.2072e+22]\n"
     ]
    },
    {
     "name": "stdout",
     "output_type": "stream",
     "text": [
      "4 /g/data/jh2/av5889/quokka_myrepo/quokka/sims/SummitData/GasGravity/Production2pc/R8/proj_y_plt3090000\n"
     ]
    },
    {
     "name": "stderr",
     "output_type": "stream",
     "text": [
      "yt : [INFO     ] 2024-09-09 14:00:17,272 Parameters: current_time              = 5307338214208827.0\n",
      "yt : [INFO     ] 2024-09-09 14:00:17,273 Parameters: domain_dimensions         = [ 512    1 4096]\n",
      "yt : [INFO     ] 2024-09-09 14:00:17,275 Parameters: domain_left_edge          = [ 0.0000e+00  0.0000e+00 -1.2072e+22]\n",
      "yt : [INFO     ] 2024-09-09 14:00:17,276 Parameters: domain_right_edge         = [3.0180e+21 3.0180e+21 1.2072e+22]\n"
     ]
    },
    {
     "name": "stdout",
     "output_type": "stream",
     "text": [
      "5 /g/data/jh2/av5889/quokka_myrepo/quokka/sims/SummitData/GasGravity/Production2pc/R8/proj_y_plt4530000\n"
     ]
    },
    {
     "name": "stderr",
     "output_type": "stream",
     "text": [
      "yt : [INFO     ] 2024-09-09 14:00:17,994 Parameters: current_time              = 3663740868342987.0\n",
      "yt : [INFO     ] 2024-09-09 14:00:17,996 Parameters: domain_dimensions         = [ 512    1 4096]\n",
      "yt : [INFO     ] 2024-09-09 14:00:17,997 Parameters: domain_left_edge          = [ 0.0000e+00  0.0000e+00 -1.2072e+22]\n",
      "yt : [INFO     ] 2024-09-09 14:00:17,998 Parameters: domain_right_edge         = [3.0180e+21 3.0180e+21 1.2072e+22]\n"
     ]
    },
    {
     "name": "stdout",
     "output_type": "stream",
     "text": [
      "6 /g/data/jh2/av5889/quokka_myrepo/quokka/sims/SummitData/GasGravity/Production2pc/R8/proj_y_plt3070000\n"
     ]
    },
    {
     "name": "stderr",
     "output_type": "stream",
     "text": [
      "yt : [INFO     ] 2024-09-09 14:00:18,764 Parameters: current_time              = 4581269253698019.0\n",
      "yt : [INFO     ] 2024-09-09 14:00:18,766 Parameters: domain_dimensions         = [ 512    1 4096]\n",
      "yt : [INFO     ] 2024-09-09 14:00:18,767 Parameters: domain_left_edge          = [ 0.0000e+00  0.0000e+00 -1.2072e+22]\n",
      "yt : [INFO     ] 2024-09-09 14:00:18,769 Parameters: domain_right_edge         = [3.0180e+21 3.0180e+21 1.2072e+22]\n"
     ]
    },
    {
     "name": "stdout",
     "output_type": "stream",
     "text": [
      "7 /g/data/jh2/av5889/quokka_myrepo/quokka/sims/SummitData/GasGravity/Production2pc/R8/proj_y_plt3890000\n"
     ]
    },
    {
     "name": "stderr",
     "output_type": "stream",
     "text": [
      "yt : [INFO     ] 2024-09-09 14:00:19,495 Parameters: current_time              = 343753368116572.56\n",
      "yt : [INFO     ] 2024-09-09 14:00:19,497 Parameters: domain_dimensions         = [ 512    1 4096]\n",
      "yt : [INFO     ] 2024-09-09 14:00:19,498 Parameters: domain_left_edge          = [ 0.0000e+00  0.0000e+00 -1.2072e+22]\n",
      "yt : [INFO     ] 2024-09-09 14:00:19,499 Parameters: domain_right_edge         = [3.0180e+21 3.0180e+21 1.2072e+22]\n"
     ]
    },
    {
     "name": "stdout",
     "output_type": "stream",
     "text": [
      "8 /g/data/jh2/av5889/quokka_myrepo/quokka/sims/SummitData/GasGravity/Production2pc/R8/proj_y_plt200000\n"
     ]
    },
    {
     "name": "stderr",
     "output_type": "stream",
     "text": [
      "yt : [INFO     ] 2024-09-09 14:00:20,219 Parameters: current_time              = 3676105895471602.5\n",
      "yt : [INFO     ] 2024-09-09 14:00:20,221 Parameters: domain_dimensions         = [ 512    1 4096]\n",
      "yt : [INFO     ] 2024-09-09 14:00:20,222 Parameters: domain_left_edge          = [ 0.0000e+00  0.0000e+00 -1.2072e+22]\n",
      "yt : [INFO     ] 2024-09-09 14:00:20,224 Parameters: domain_right_edge         = [3.0180e+21 3.0180e+21 1.2072e+22]\n"
     ]
    },
    {
     "name": "stdout",
     "output_type": "stream",
     "text": [
      "9 /g/data/jh2/av5889/quokka_myrepo/quokka/sims/SummitData/GasGravity/Production2pc/R8/proj_y_plt3080000\n"
     ]
    },
    {
     "name": "stderr",
     "output_type": "stream",
     "text": [
      "yt : [INFO     ] 2024-09-09 14:00:21,367 Parameters: current_time              = 4868745113443085.0\n",
      "yt : [INFO     ] 2024-09-09 14:00:21,368 Parameters: domain_dimensions         = [ 256    1 4096]\n",
      "yt : [INFO     ] 2024-09-09 14:00:21,369 Parameters: domain_left_edge          = [ 0.0000e+00  0.0000e+00 -2.4144e+22]\n",
      "yt : [INFO     ] 2024-09-09 14:00:21,371 Parameters: domain_right_edge         = [3.0180e+21 3.0180e+21 2.4144e+22]\n"
     ]
    },
    {
     "name": "stdout",
     "output_type": "stream",
     "text": [
      "SetonixRuns/R16/4pc/Redo/\n",
      "3583 (4096,)\n",
      "0 /scratch/jh2/av5889/sims/SetonixRuns/R16/4pc/Redo/proj_y_plt540000\n"
     ]
    },
    {
     "name": "stderr",
     "output_type": "stream",
     "text": [
      "yt : [INFO     ] 2024-09-09 14:00:21,845 Parameters: current_time              = 4649684422432244.0\n",
      "yt : [INFO     ] 2024-09-09 14:00:21,847 Parameters: domain_dimensions         = [ 256    1 4096]\n",
      "yt : [INFO     ] 2024-09-09 14:00:21,848 Parameters: domain_left_edge          = [ 0.0000e+00  0.0000e+00 -2.4144e+22]\n",
      "yt : [INFO     ] 2024-09-09 14:00:21,849 Parameters: domain_right_edge         = [3.0180e+21 3.0180e+21 2.4144e+22]\n"
     ]
    },
    {
     "name": "stdout",
     "output_type": "stream",
     "text": [
      "1 /scratch/jh2/av5889/sims/SetonixRuns/R16/4pc/Redo/proj_y_plt510000\n"
     ]
    },
    {
     "name": "stderr",
     "output_type": "stream",
     "text": [
      "yt : [INFO     ] 2024-09-09 14:00:22,330 Parameters: current_time              = 3991074539785577.0\n",
      "yt : [INFO     ] 2024-09-09 14:00:22,331 Parameters: domain_dimensions         = [ 256    1 4096]\n",
      "yt : [INFO     ] 2024-09-09 14:00:22,332 Parameters: domain_left_edge          = [ 0.0000e+00  0.0000e+00 -2.4144e+22]\n",
      "yt : [INFO     ] 2024-09-09 14:00:22,334 Parameters: domain_right_edge         = [3.0180e+21 3.0180e+21 2.4144e+22]\n"
     ]
    },
    {
     "name": "stdout",
     "output_type": "stream",
     "text": [
      "2 /scratch/jh2/av5889/sims/SetonixRuns/R16/4pc/Redo/proj_y_plt410000\n"
     ]
    },
    {
     "name": "stderr",
     "output_type": "stream",
     "text": [
      "yt : [INFO     ] 2024-09-09 14:00:22,813 Parameters: current_time              = 3789373138267422.5\n",
      "yt : [INFO     ] 2024-09-09 14:00:22,814 Parameters: domain_dimensions         = [ 256    1 4096]\n",
      "yt : [INFO     ] 2024-09-09 14:00:22,816 Parameters: domain_left_edge          = [ 0.0000e+00  0.0000e+00 -2.4144e+22]\n",
      "yt : [INFO     ] 2024-09-09 14:00:22,817 Parameters: domain_right_edge         = [3.0180e+21 3.0180e+21 2.4144e+22]\n"
     ]
    },
    {
     "name": "stdout",
     "output_type": "stream",
     "text": [
      "3 /scratch/jh2/av5889/sims/SetonixRuns/R16/4pc/Redo/proj_y_plt380000\n"
     ]
    },
    {
     "name": "stderr",
     "output_type": "stream",
     "text": [
      "yt : [INFO     ] 2024-09-09 14:00:23,303 Parameters: current_time              = 5545082282049703.0\n",
      "yt : [INFO     ] 2024-09-09 14:00:23,304 Parameters: domain_dimensions         = [ 256    1 4096]\n",
      "yt : [INFO     ] 2024-09-09 14:00:23,306 Parameters: domain_left_edge          = [ 0.0000e+00  0.0000e+00 -2.4144e+22]\n",
      "yt : [INFO     ] 2024-09-09 14:00:23,307 Parameters: domain_right_edge         = [3.0180e+21 3.0180e+21 2.4144e+22]\n"
     ]
    },
    {
     "name": "stdout",
     "output_type": "stream",
     "text": [
      "4 /scratch/jh2/av5889/sims/SetonixRuns/R16/4pc/Redo/proj_y_plt640000\n"
     ]
    },
    {
     "name": "stderr",
     "output_type": "stream",
     "text": [
      "yt : [INFO     ] 2024-09-09 14:00:23,784 Parameters: current_time              = 6940143030956059.0\n",
      "yt : [INFO     ] 2024-09-09 14:00:23,785 Parameters: domain_dimensions         = [ 256    1 4096]\n",
      "yt : [INFO     ] 2024-09-09 14:00:23,787 Parameters: domain_left_edge          = [ 0.0000e+00  0.0000e+00 -2.4144e+22]\n",
      "yt : [INFO     ] 2024-09-09 14:00:23,788 Parameters: domain_right_edge         = [3.0180e+21 3.0180e+21 2.4144e+22]\n"
     ]
    },
    {
     "name": "stdout",
     "output_type": "stream",
     "text": [
      "5 /scratch/jh2/av5889/sims/SetonixRuns/R16/4pc/Redo/proj_y_plt830000\n"
     ]
    },
    {
     "name": "stderr",
     "output_type": "stream",
     "text": [
      "yt : [INFO     ] 2024-09-09 14:00:24,271 Parameters: current_time              = 1905273149254438.2\n",
      "yt : [INFO     ] 2024-09-09 14:00:24,272 Parameters: domain_dimensions         = [ 256    1 4096]\n",
      "yt : [INFO     ] 2024-09-09 14:00:24,274 Parameters: domain_left_edge          = [ 0.0000e+00  0.0000e+00 -2.4144e+22]\n",
      "yt : [INFO     ] 2024-09-09 14:00:24,275 Parameters: domain_right_edge         = [3.0180e+21 3.0180e+21 2.4144e+22]\n"
     ]
    },
    {
     "name": "stdout",
     "output_type": "stream",
     "text": [
      "6 /scratch/jh2/av5889/sims/SetonixRuns/R16/4pc/Redo/proj_y_plt120000\n"
     ]
    },
    {
     "name": "stderr",
     "output_type": "stream",
     "text": [
      "yt : [INFO     ] 2024-09-09 14:00:24,755 Parameters: current_time              = 9462000000000000.0\n",
      "yt : [INFO     ] 2024-09-09 14:00:24,756 Parameters: domain_dimensions         = [ 256    1 4096]\n",
      "yt : [INFO     ] 2024-09-09 14:00:24,758 Parameters: domain_left_edge          = [ 0.0000e+00  0.0000e+00 -2.4144e+22]\n",
      "yt : [INFO     ] 2024-09-09 14:00:24,759 Parameters: domain_right_edge         = [3.0180e+21 3.0180e+21 2.4144e+22]\n"
     ]
    },
    {
     "name": "stdout",
     "output_type": "stream",
     "text": [
      "7 /scratch/jh2/av5889/sims/SetonixRuns/R16/4pc/Redo/proj_y_plt1056734\n"
     ]
    },
    {
     "name": "stderr",
     "output_type": "stream",
     "text": [
      "yt : [INFO     ] 2024-09-09 14:00:25,240 Parameters: current_time              = 6398755191429853.0\n",
      "yt : [INFO     ] 2024-09-09 14:00:25,242 Parameters: domain_dimensions         = [ 256    1 4096]\n",
      "yt : [INFO     ] 2024-09-09 14:00:25,243 Parameters: domain_left_edge          = [ 0.0000e+00  0.0000e+00 -2.4144e+22]\n",
      "yt : [INFO     ] 2024-09-09 14:00:25,245 Parameters: domain_right_edge         = [3.0180e+21 3.0180e+21 2.4144e+22]\n"
     ]
    },
    {
     "name": "stdout",
     "output_type": "stream",
     "text": [
      "8 /scratch/jh2/av5889/sims/SetonixRuns/R16/4pc/Redo/proj_y_plt760000\n"
     ]
    },
    {
     "name": "stderr",
     "output_type": "stream",
     "text": [
      "yt : [INFO     ] 2024-09-09 14:00:25,724 Parameters: current_time              = 7015322339302205.0\n",
      "yt : [INFO     ] 2024-09-09 14:00:25,725 Parameters: domain_dimensions         = [ 256    1 4096]\n",
      "yt : [INFO     ] 2024-09-09 14:00:25,727 Parameters: domain_left_edge          = [ 0.0000e+00  0.0000e+00 -2.4144e+22]\n",
      "yt : [INFO     ] 2024-09-09 14:00:25,728 Parameters: domain_right_edge         = [3.0180e+21 3.0180e+21 2.4144e+22]\n"
     ]
    },
    {
     "name": "stdout",
     "output_type": "stream",
     "text": [
      "9 /scratch/jh2/av5889/sims/SetonixRuns/R16/4pc/Redo/proj_y_plt840000\n"
     ]
    },
    {
     "data": {
      "text/plain": [
       "[-0.01, 2.1]"
      ]
     },
     "execution_count": 6,
     "metadata": {},
     "output_type": "execute_result"
    },
    {
     "data": {
      "image/png": "[encoded data removed]",
      "text/plain": [
       "<Figure size 1728x576 with 2 Axes>"
      ]
     },
     "metadata": {
      "needs_background": "light"
     },
     "output_type": "display_data"
    }
   ],
   "source": [
    "kk = 0\n",
    "\n",
    "folder_list = ['SummitData/GasGravity/Production2pc/R4/',  \\\n",
    "               'SummitData/GasGravity/Production2pc/R8/',\\\n",
    "              'SetonixRuns/R16/4pc/Redo/']\n",
    "\n",
    "\n",
    "fig, ax = plt.subplots(1, 2, gridspec_kw = {'wspace':0.02, 'hspace':0.02},figsize=(24, 8))\n",
    "colors =  sns.color_palette(\"rocket\", len(folder_list))\n",
    "\n",
    "\n",
    "sigma_sfr = [0.000398107/yr_to_sec, 6.e-5/yr_to_sec , \\\n",
    "             1.58e-6/yr_to_sec]   \n",
    "\n",
    "label = [r'4$\\Sigma_{\\rm Fid}$', r'$\\Sigma_{\\rm Fid}$', r'0.2$\\Sigma_{\\rm Fid}$']\n",
    "\n",
    "ls = ['-', '-.', '--']\n",
    "\n",
    "Zunit = Msun/1.e3\n",
    "\n",
    "for folder in folder_list:\n",
    "    data_path = os.path.join('/g/data/jh2/av5889/quokka_myrepo/quokka/sims/', folder)\n",
    "    if(kk==2):    data_path = os.path.join('/scratch/jh2/av5889/sims/', folder)\n",
    "    print(folder)\n",
    "    os.chdir(data_path)\n",
    "    list_file1 = glob.glob(\"proj_y_*\")\n",
    "    \n",
    "    \n",
    "    os.chdir(data_path)\n",
    "    infile   = os.path.join(data_path, 'metal_uniform.in')\n",
    "\n",
    "    dom_min, dom_max, ncells = getdomain(infile)\n",
    "    fac = 1\n",
    "    zrange = np.linspace(dom_min[2], dom_max[2], (fac*int(ncells[2])))\n",
    "    xrange = np.linspace(dom_min[0], dom_max[0], (fac*int(ncells[0])))\n",
    "    yrange = np.linspace(dom_min[1], dom_max[1], (fac*int(ncells[1])))\n",
    "    \n",
    "    \n",
    "    dx = (dom_max[0]- dom_min[0])/(fac*int(ncells[0]))\n",
    "    dz = (dom_max[2]- dom_min[2])/(fac*int(ncells[2]))\n",
    "    \n",
    "    height = np.amax(zrange)*0.75\n",
    "    \n",
    "    \n",
    "    list_file = list_file1[0:10]\n",
    "    \n",
    "    index = min(range(zrange.shape[0]), key=lambda i: abs(zrange[i] - height))\n",
    "    vol_index = (np.abs(zrange)<height) &  (np.abs(zrange)>0.15*kpc)\n",
    "    print(index, zrange.shape)\n",
    "    \n",
    "    timestep = np.zeros((len(list_file)))\n",
    "    \n",
    "    scalar_flux_xz = np.zeros((len(list_file), xrange.shape[0], zrange.shape[0]))\n",
    "    tot_scalar = np.zeros((len(list_file), xrange.shape[0], zrange.shape[0]))\n",
    "    tot_rho    = np.zeros((len(list_file), xrange.shape[0], zrange.shape[0]))\n",
    "    \n",
    "    i = 0 \n",
    "    for f in list_file:\n",
    "        \n",
    "        inputfile = os.path.join(data_path, f)\n",
    "        file_size = get_folder_size(inputfile) / (1024 * 1024)\n",
    "        \n",
    "        if(file_size<100. and folder!=folder_list[-1]):\n",
    "            print('Skipping ', inputfile, '\\n')\n",
    "            continue\n",
    "        \n",
    "        ds   = yt.load(inputfile)\n",
    "        data = ds.covering_grid(level=0, left_edge=dom_min, dims=ds.domain_dimensions, num_ghost_zones=0)\n",
    "        print(i, inputfile)\n",
    "        timestep[i] = ds.current_time.to('Myr')\n",
    "        \n",
    "        scalar_flux_xz[i,:] = np.abs(np.array(data['scalar_outflow'])[:,0,:])\n",
    "        tot_scalar[i,:]     = np.array(data['scalar'])[:,0,:]\n",
    "        tot_rho[i,:]        = np.array(data['rho'])[:,0,:]\n",
    "        i+=1\n",
    "        \n",
    "    \n",
    "    mask1 = (np.abs(zrange)) < (height + 2*dz)\n",
    "    mask2 = (np.abs(zrange)) > ( height - 2.*dz)\n",
    "    mask = mask1*mask2\n",
    "    \n",
    "    scalar_flux_z = np.sum(scalar_flux_xz , axis=1)*Zunit*dx\n",
    "    scalar_flux   = np.average(scalar_flux_z[:,mask], axis=1)  \n",
    "    \n",
    "    \n",
    "    scalar_mass     = np.sum(tot_scalar[:,:,vol_index], axis=(1,2)) *dx * dz * Zunit\n",
    "    total_mass  = np.sum(tot_rho[:,:,vol_index], axis=(1,2)) * dx * dz\n",
    "    \n",
    "    \n",
    "    indexes = list(range(len(timestep)))\n",
    "    indexes.sort(key=timestep.__getitem__)\n",
    "    sorted_time = list(map(timestep.__getitem__, indexes))\n",
    "    \n",
    "    \n",
    "    sorted_scalar  = list(map(scalar_mass.__getitem__, indexes))\n",
    "    inj_scalar = sigma_sfr[kk]  * Msun * np.asarray(sorted_time)\n",
    "    \n",
    "    phi =  1. - np.asarray(sorted_scalar)/(inj_scalar*Myr)\n",
    "    \n",
    "    ax[0].plot(sorted_time, phi, ls=ls[kk],\\\n",
    "            label=label[kk],markersize=12, lw=2.5, color=colors[kk])\n",
    "    \n",
    "    \n",
    "    sorted_scalar_flux  = list(map(scalar_flux.__getitem__, indexes))\n",
    "    inj_scalar = sigma_sfr[kk]  * Msun * np.asarray(sorted_time) * Myr\n",
    "    \n",
    "    tt=1\n",
    "    dtimestep = np.zeros(len(sorted_time))\n",
    "    dtimestep[0] = sorted_time[0]\n",
    "    while(tt<timestep.shape[0]):\n",
    "        dtimestep[tt] = sorted_time[tt] - dtimestep[tt-1]\n",
    "        tt+=1\n",
    "    \n",
    "    Mzdot_dt = np.asarray(sorted_scalar_flux) / ((sigma_sfr[kk]/2)  * Msun) #* dtimestep * Myr\n",
    "    \n",
    "    ax[1].plot(sorted_time,  Mzdot_dt, ls=ls[kk],\\\n",
    "            markersize=12, lw=2.5, color=colors[kk])\n",
    "    \n",
    "    kk+=1\n",
    "    \n",
    "ax[0].legend()\n",
    "ax[0].set_xlabel('Myr')\n",
    "ax[1].set_xlabel('Myr')\n",
    "ax[0].tick_params(axis='y', right=True, left=True)\n",
    "ax[1].tick_params(axis='y', labelleft=False, right=True, left=True, labelright=True)\n",
    "ax[0].set_title('$1-\\int M_Z dV/\\Gamma_{SN}M_{\\odot}t$')\n",
    "ax[1].set_title('$ \\dot{M}_Z /\\Gamma_{SN}M_{\\odot}$')\n",
    "plt.setp(ax[0], 'ylim', (-0.01, 1.1))\n",
    "plt.setp(ax[1], 'ylim', (-0.01, 2.1))\n",
    "# plt.setp(ax, 'xlim', (0.01, 200.1))"
   ]
  },
  {
   "cell_type": "code",
   "execution_count": 5,
   "id": "5c14fb39",
   "metadata": {
    "scrolled": false
   },
   "outputs": [
    {
     "name": "stderr",
     "output_type": "stream",
     "text": [
      "yt : [INFO     ] 2024-09-03 15:00:10,253 Parameters: current_time              = 3831759926055774.5\n",
      "yt : [INFO     ] 2024-09-03 15:00:10,254 Parameters: domain_dimensions         = [ 512    1 4096]\n",
      "yt : [INFO     ] 2024-09-03 15:00:10,256 Parameters: domain_left_edge          = [ 0.0000e+00  0.0000e+00 -1.2072e+22]\n",
      "yt : [INFO     ] 2024-09-03 15:00:10,257 Parameters: domain_right_edge         = [3.0180e+21 3.0180e+21 1.2072e+22]\n"
     ]
    },
    {
     "name": "stdout",
     "output_type": "stream",
     "text": [
      "SummitData/GasGravity/Production2pc/R4-0.2Zsol/\n",
      "0 /g/data/jh2/av5889/quokka_myrepo/quokka/sims/SummitData/GasGravity/Production2pc/R4-0.2Zsol/proj_y_plt5470000\n"
     ]
    },
    {
     "name": "stderr",
     "output_type": "stream",
     "text": [
      "yt : [INFO     ] 2024-09-03 15:00:10,712 Parameters: current_time              = 4802318615204617.0\n",
      "yt : [INFO     ] 2024-09-03 15:00:10,714 Parameters: domain_dimensions         = [ 512    1 4096]\n",
      "yt : [INFO     ] 2024-09-03 15:00:10,716 Parameters: domain_left_edge          = [ 0.0000e+00  0.0000e+00 -1.2072e+22]\n",
      "yt : [INFO     ] 2024-09-03 15:00:10,717 Parameters: domain_right_edge         = [3.0180e+21 3.0180e+21 1.2072e+22]\n"
     ]
    },
    {
     "name": "stdout",
     "output_type": "stream",
     "text": [
      "1 /g/data/jh2/av5889/quokka_myrepo/quokka/sims/SummitData/GasGravity/Production2pc/R4-0.2Zsol/proj_y_plt6830000\n"
     ]
    },
    {
     "name": "stderr",
     "output_type": "stream",
     "text": [
      "yt : [INFO     ] 2024-09-03 15:00:11,169 Parameters: current_time              = 2225200593092499.5\n",
      "yt : [INFO     ] 2024-09-03 15:00:11,171 Parameters: domain_dimensions         = [ 512    1 4096]\n",
      "yt : [INFO     ] 2024-09-03 15:00:11,172 Parameters: domain_left_edge          = [ 0.0000e+00  0.0000e+00 -1.2072e+22]\n",
      "yt : [INFO     ] 2024-09-03 15:00:11,173 Parameters: domain_right_edge         = [3.0180e+21 3.0180e+21 1.2072e+22]\n"
     ]
    },
    {
     "name": "stdout",
     "output_type": "stream",
     "text": [
      "2 /g/data/jh2/av5889/quokka_myrepo/quokka/sims/SummitData/GasGravity/Production2pc/R4-0.2Zsol/proj_y_plt3160000\n"
     ]
    },
    {
     "name": "stderr",
     "output_type": "stream",
     "text": [
      "yt : [INFO     ] 2024-09-03 15:00:11,627 Parameters: current_time              = 3746565408933140.5\n",
      "yt : [INFO     ] 2024-09-03 15:00:11,628 Parameters: domain_dimensions         = [ 512    1 4096]\n",
      "yt : [INFO     ] 2024-09-03 15:00:11,629 Parameters: domain_left_edge          = [ 0.0000e+00  0.0000e+00 -1.2072e+22]\n",
      "yt : [INFO     ] 2024-09-03 15:00:11,631 Parameters: domain_right_edge         = [3.0180e+21 3.0180e+21 1.2072e+22]\n"
     ]
    },
    {
     "name": "stdout",
     "output_type": "stream",
     "text": [
      "3 /g/data/jh2/av5889/quokka_myrepo/quokka/sims/SummitData/GasGravity/Production2pc/R4-0.2Zsol/proj_y_plt5350000\n"
     ]
    },
    {
     "name": "stderr",
     "output_type": "stream",
     "text": [
      "yt : [INFO     ] 2024-09-03 15:00:12,086 Parameters: current_time              = 4610293348142975.0\n",
      "yt : [INFO     ] 2024-09-03 15:00:12,087 Parameters: domain_dimensions         = [ 512    1 4096]\n",
      "yt : [INFO     ] 2024-09-03 15:00:12,089 Parameters: domain_left_edge          = [ 0.0000e+00  0.0000e+00 -1.2072e+22]\n",
      "yt : [INFO     ] 2024-09-03 15:00:12,090 Parameters: domain_right_edge         = [3.0180e+21 3.0180e+21 1.2072e+22]\n"
     ]
    },
    {
     "name": "stdout",
     "output_type": "stream",
     "text": [
      "4 /g/data/jh2/av5889/quokka_myrepo/quokka/sims/SummitData/GasGravity/Production2pc/R4-0.2Zsol/proj_y_plt6560000\n"
     ]
    },
    {
     "name": "stderr",
     "output_type": "stream",
     "text": [
      "yt : [INFO     ] 2024-09-03 15:00:12,541 Parameters: current_time              = 3431253229708773.0\n",
      "yt : [INFO     ] 2024-09-03 15:00:12,543 Parameters: domain_dimensions         = [ 512    1 4096]\n",
      "yt : [INFO     ] 2024-09-03 15:00:12,544 Parameters: domain_left_edge          = [ 0.0000e+00  0.0000e+00 -1.2072e+22]\n",
      "yt : [INFO     ] 2024-09-03 15:00:12,545 Parameters: domain_right_edge         = [3.0180e+21 3.0180e+21 1.2072e+22]\n"
     ]
    },
    {
     "name": "stdout",
     "output_type": "stream",
     "text": [
      "5 /g/data/jh2/av5889/quokka_myrepo/quokka/sims/SummitData/GasGravity/Production2pc/R4-0.2Zsol/proj_y_plt4900000.old.7011674\n"
     ]
    },
    {
     "name": "stderr",
     "output_type": "stream",
     "text": [
      "yt : [INFO     ] 2024-09-03 15:00:12,998 Parameters: current_time              = 945179872586257.2\n",
      "yt : [INFO     ] 2024-09-03 15:00:13,000 Parameters: domain_dimensions         = [ 512    1 4096]\n",
      "yt : [INFO     ] 2024-09-03 15:00:13,001 Parameters: domain_left_edge          = [ 0.0000e+00  0.0000e+00 -1.2072e+22]\n",
      "yt : [INFO     ] 2024-09-03 15:00:13,003 Parameters: domain_right_edge         = [3.0180e+21 3.0180e+21 1.2072e+22]\n"
     ]
    },
    {
     "name": "stdout",
     "output_type": "stream",
     "text": [
      "6 /g/data/jh2/av5889/quokka_myrepo/quokka/sims/SummitData/GasGravity/Production2pc/R4-0.2Zsol/proj_y_plt1240000\n"
     ]
    },
    {
     "name": "stderr",
     "output_type": "stream",
     "text": [
      "yt : [INFO     ] 2024-09-03 15:00:13,454 Parameters: current_time              = 2178513523125985.2\n",
      "yt : [INFO     ] 2024-09-03 15:00:13,456 Parameters: domain_dimensions         = [ 512    1 4096]\n",
      "yt : [INFO     ] 2024-09-03 15:00:13,457 Parameters: domain_left_edge          = [ 0.0000e+00  0.0000e+00 -1.2072e+22]\n",
      "yt : [INFO     ] 2024-09-03 15:00:13,458 Parameters: domain_right_edge         = [3.0180e+21 3.0180e+21 1.2072e+22]\n"
     ]
    },
    {
     "name": "stdout",
     "output_type": "stream",
     "text": [
      "7 /g/data/jh2/av5889/quokka_myrepo/quokka/sims/SummitData/GasGravity/Production2pc/R4-0.2Zsol/proj_y_plt3090000\n"
     ]
    },
    {
     "name": "stderr",
     "output_type": "stream",
     "text": [
      "yt : [INFO     ] 2024-09-03 15:00:14,038 Parameters: current_time              = 3172223102192184.0\n",
      "yt : [INFO     ] 2024-09-03 15:00:14,039 Parameters: domain_dimensions         = [ 512    1 4096]\n",
      "yt : [INFO     ] 2024-09-03 15:00:14,040 Parameters: domain_left_edge          = [ 0.0000e+00  0.0000e+00 -1.2072e+22]\n",
      "yt : [INFO     ] 2024-09-03 15:00:14,042 Parameters: domain_right_edge         = [3.0180e+21 3.0180e+21 1.2072e+22]\n"
     ]
    },
    {
     "name": "stdout",
     "output_type": "stream",
     "text": [
      "8 /g/data/jh2/av5889/quokka_myrepo/quokka/sims/SummitData/GasGravity/Production2pc/R4-0.2Zsol/proj_y_plt4530000\n"
     ]
    },
    {
     "name": "stderr",
     "output_type": "stream",
     "text": [
      "yt : [INFO     ] 2024-09-03 15:00:14,493 Parameters: current_time              = 5252815041103569.0\n",
      "yt : [INFO     ] 2024-09-03 15:00:14,494 Parameters: domain_dimensions         = [ 512    1 4096]\n",
      "yt : [INFO     ] 2024-09-03 15:00:14,496 Parameters: domain_left_edge          = [ 0.0000e+00  0.0000e+00 -1.2072e+22]\n",
      "yt : [INFO     ] 2024-09-03 15:00:14,497 Parameters: domain_right_edge         = [3.0180e+21 3.0180e+21 1.2072e+22]\n"
     ]
    },
    {
     "name": "stdout",
     "output_type": "stream",
     "text": [
      "9 /g/data/jh2/av5889/quokka_myrepo/quokka/sims/SummitData/GasGravity/Production2pc/R4-0.2Zsol/proj_y_plt7460000\n",
      "[0.9345538334577151]\n",
      "[0.9345538334577151, 0.9252457000229071]\n",
      "[0.9345538334577151, 0.9252457000229071, 0.932024838025121]\n",
      "[0.9345538334577151, 0.9252457000229071, 0.932024838025121, 0.9366137945036606]\n",
      "SummitData/GasGravity/Production2pc/R8-0.2Zsol/\n"
     ]
    },
    {
     "name": "stderr",
     "output_type": "stream",
     "text": [
      "yt : [INFO     ] 2024-09-03 15:00:15,238 Parameters: current_time              = 6203371598433323.0\n",
      "yt : [INFO     ] 2024-09-03 15:00:15,239 Parameters: domain_dimensions         = [ 512    1 4096]\n",
      "yt : [INFO     ] 2024-09-03 15:00:15,241 Parameters: domain_left_edge          = [ 0.0000e+00  0.0000e+00 -1.2072e+22]\n",
      "yt : [INFO     ] 2024-09-03 15:00:15,242 Parameters: domain_right_edge         = [3.0180e+21 3.0180e+21 1.2072e+22]\n"
     ]
    },
    {
     "name": "stdout",
     "output_type": "stream",
     "text": [
      "0 /g/data/jh2/av5889/quokka_myrepo/quokka/sims/SummitData/GasGravity/Production2pc/R8-0.2Zsol/proj_y_plt3160000\n"
     ]
    },
    {
     "name": "stderr",
     "output_type": "stream",
     "text": [
      "yt : [INFO     ] 2024-09-03 15:00:15,695 Parameters: current_time              = 2445347387600728.5\n",
      "yt : [INFO     ] 2024-09-03 15:00:15,697 Parameters: domain_dimensions         = [ 512    1 4096]\n",
      "yt : [INFO     ] 2024-09-03 15:00:15,698 Parameters: domain_left_edge          = [ 0.0000e+00  0.0000e+00 -1.2072e+22]\n",
      "yt : [INFO     ] 2024-09-03 15:00:15,699 Parameters: domain_right_edge         = [3.0180e+21 3.0180e+21 1.2072e+22]\n"
     ]
    },
    {
     "name": "stdout",
     "output_type": "stream",
     "text": [
      "1 /g/data/jh2/av5889/quokka_myrepo/quokka/sims/SummitData/GasGravity/Production2pc/R8-0.2Zsol/proj_y_plt1240000\n"
     ]
    },
    {
     "name": "stderr",
     "output_type": "stream",
     "text": [
      "yt : [INFO     ] 2024-09-03 15:00:16,156 Parameters: current_time              = 6062279817809211.0\n",
      "yt : [INFO     ] 2024-09-03 15:00:16,157 Parameters: domain_dimensions         = [ 512    1 4096]\n",
      "yt : [INFO     ] 2024-09-03 15:00:16,159 Parameters: domain_left_edge          = [ 0.0000e+00  0.0000e+00 -1.2072e+22]\n",
      "yt : [INFO     ] 2024-09-03 15:00:16,160 Parameters: domain_right_edge         = [3.0180e+21 3.0180e+21 1.2072e+22]\n"
     ]
    },
    {
     "name": "stdout",
     "output_type": "stream",
     "text": [
      "2 /g/data/jh2/av5889/quokka_myrepo/quokka/sims/SummitData/GasGravity/Production2pc/R8-0.2Zsol/proj_y_plt3090000\n"
     ]
    },
    {
     "name": "stderr",
     "output_type": "stream",
     "text": [
      "yt : [INFO     ] 2024-09-03 15:00:16,611 Parameters: current_time              = 6026606490672288.0\n",
      "yt : [INFO     ] 2024-09-03 15:00:16,613 Parameters: domain_dimensions         = [ 512    1 4096]\n",
      "yt : [INFO     ] 2024-09-03 15:00:16,614 Parameters: domain_left_edge          = [ 0.0000e+00  0.0000e+00 -1.2072e+22]\n",
      "yt : [INFO     ] 2024-09-03 15:00:16,615 Parameters: domain_right_edge         = [3.0180e+21 3.0180e+21 1.2072e+22]\n"
     ]
    },
    {
     "name": "stdout",
     "output_type": "stream",
     "text": [
      "3 /g/data/jh2/av5889/quokka_myrepo/quokka/sims/SummitData/GasGravity/Production2pc/R8-0.2Zsol/proj_y_plt3070000\n"
     ]
    },
    {
     "name": "stderr",
     "output_type": "stream",
     "text": [
      "yt : [INFO     ] 2024-09-03 15:00:17,072 Parameters: current_time              = 440983183118979.3\n",
      "yt : [INFO     ] 2024-09-03 15:00:17,073 Parameters: domain_dimensions         = [ 512    1 4096]\n",
      "yt : [INFO     ] 2024-09-03 15:00:17,075 Parameters: domain_left_edge          = [ 0.0000e+00  0.0000e+00 -1.2072e+22]\n",
      "yt : [INFO     ] 2024-09-03 15:00:17,076 Parameters: domain_right_edge         = [3.0180e+21 3.0180e+21 1.2072e+22]\n"
     ]
    },
    {
     "name": "stdout",
     "output_type": "stream",
     "text": [
      "4 /g/data/jh2/av5889/quokka_myrepo/quokka/sims/SummitData/GasGravity/Production2pc/R8-0.2Zsol/proj_y_plt200000\n"
     ]
    },
    {
     "name": "stderr",
     "output_type": "stream",
     "text": [
      "yt : [INFO     ] 2024-09-03 15:00:17,532 Parameters: current_time              = 6041761426906657.0\n",
      "yt : [INFO     ] 2024-09-03 15:00:17,533 Parameters: domain_dimensions         = [ 512    1 4096]\n",
      "yt : [INFO     ] 2024-09-03 15:00:17,534 Parameters: domain_left_edge          = [ 0.0000e+00  0.0000e+00 -1.2072e+22]\n",
      "yt : [INFO     ] 2024-09-03 15:00:17,536 Parameters: domain_right_edge         = [3.0180e+21 3.0180e+21 1.2072e+22]\n"
     ]
    },
    {
     "name": "stdout",
     "output_type": "stream",
     "text": [
      "5 /g/data/jh2/av5889/quokka_myrepo/quokka/sims/SummitData/GasGravity/Production2pc/R8-0.2Zsol/proj_y_plt3080000\n"
     ]
    },
    {
     "name": "stderr",
     "output_type": "stream",
     "text": [
      "yt : [INFO     ] 2024-09-03 15:00:17,995 Parameters: current_time              = 2137564754293051.2\n",
      "yt : [INFO     ] 2024-09-03 15:00:17,996 Parameters: domain_dimensions         = [ 512    1 4096]\n",
      "yt : [INFO     ] 2024-09-03 15:00:17,997 Parameters: domain_left_edge          = [ 0.0000e+00  0.0000e+00 -1.2072e+22]\n",
      "yt : [INFO     ] 2024-09-03 15:00:17,999 Parameters: domain_right_edge         = [3.0180e+21 3.0180e+21 1.2072e+22]\n"
     ]
    },
    {
     "name": "stdout",
     "output_type": "stream",
     "text": [
      "6 /g/data/jh2/av5889/quokka_myrepo/quokka/sims/SummitData/GasGravity/Production2pc/R8-0.2Zsol/proj_y_plt1080000\n"
     ]
    },
    {
     "name": "stderr",
     "output_type": "stream",
     "text": [
      "yt : [INFO     ] 2024-09-03 15:00:18,452 Parameters: current_time              = 1285773864116361.2\n",
      "yt : [INFO     ] 2024-09-03 15:00:18,454 Parameters: domain_dimensions         = [ 512    1 4096]\n",
      "yt : [INFO     ] 2024-09-03 15:00:18,455 Parameters: domain_left_edge          = [ 0.0000e+00  0.0000e+00 -1.2072e+22]\n",
      "yt : [INFO     ] 2024-09-03 15:00:18,457 Parameters: domain_right_edge         = [3.0180e+21 3.0180e+21 1.2072e+22]\n"
     ]
    },
    {
     "name": "stdout",
     "output_type": "stream",
     "text": [
      "7 /g/data/jh2/av5889/quokka_myrepo/quokka/sims/SummitData/GasGravity/Production2pc/R8-0.2Zsol/proj_y_plt630000\n"
     ]
    },
    {
     "name": "stderr",
     "output_type": "stream",
     "text": [
      "yt : [INFO     ] 2024-09-03 15:00:18,919 Parameters: current_time              = 2866089900448078.0\n",
      "yt : [INFO     ] 2024-09-03 15:00:18,920 Parameters: domain_dimensions         = [ 512    1 4096]\n",
      "yt : [INFO     ] 2024-09-03 15:00:18,921 Parameters: domain_left_edge          = [ 0.0000e+00  0.0000e+00 -1.2072e+22]\n",
      "yt : [INFO     ] 2024-09-03 15:00:18,923 Parameters: domain_right_edge         = [3.0180e+21 3.0180e+21 1.2072e+22]\n"
     ]
    },
    {
     "name": "stdout",
     "output_type": "stream",
     "text": [
      "8 /g/data/jh2/av5889/quokka_myrepo/quokka/sims/SummitData/GasGravity/Production2pc/R8-0.2Zsol/proj_y_plt1460000\n"
     ]
    },
    {
     "name": "stderr",
     "output_type": "stream",
     "text": [
      "yt : [INFO     ] 2024-09-03 15:00:19,385 Parameters: current_time              = 2095799853122764.0\n",
      "yt : [INFO     ] 2024-09-03 15:00:19,387 Parameters: domain_dimensions         = [ 512    1 4096]\n",
      "yt : [INFO     ] 2024-09-03 15:00:19,388 Parameters: domain_left_edge          = [ 0.0000e+00  0.0000e+00 -1.2072e+22]\n",
      "yt : [INFO     ] 2024-09-03 15:00:19,390 Parameters: domain_right_edge         = [3.0180e+21 3.0180e+21 1.2072e+22]\n"
     ]
    },
    {
     "name": "stdout",
     "output_type": "stream",
     "text": [
      "9 /g/data/jh2/av5889/quokka_myrepo/quokka/sims/SummitData/GasGravity/Production2pc/R8-0.2Zsol/proj_y_plt1060000\n",
      "[0.49124337110266403]\n",
      "[0.49124337110266403, 0.929293615726674]\n",
      "[0.49124337110266403, 0.929293615726674, 0.9855474460277822]\n"
     ]
    },
    {
     "name": "stderr",
     "output_type": "stream",
     "text": [
      "yt : [INFO     ] 2024-09-03 15:00:20,186 Parameters: current_time              = 2691988641713706.0\n",
      "yt : [INFO     ] 2024-09-03 15:00:20,188 Parameters: domain_dimensions         = [ 256    1 4096]\n",
      "yt : [INFO     ] 2024-09-03 15:00:20,189 Parameters: domain_left_edge          = [ 0.0000e+00  0.0000e+00 -2.4144e+22]\n",
      "yt : [INFO     ] 2024-09-03 15:00:20,191 Parameters: domain_right_edge         = [3.0180e+21 3.0180e+21 2.4144e+22]\n"
     ]
    },
    {
     "name": "stdout",
     "output_type": "stream",
     "text": [
      "[0.49124337110266403, 0.929293615726674, 0.9855474460277822, 0.9964013862213742]\n",
      "SetonixData/R16-0.2Zsol/4pc/\n",
      "0 /g/data/jh2/av5889/quokka_myrepo/quokka/sims/SetonixData/R16-0.2Zsol/4pc/proj_y_plt200000\n"
     ]
    },
    {
     "name": "stderr",
     "output_type": "stream",
     "text": [
      "yt : [INFO     ] 2024-09-03 15:00:20,559 Parameters: current_time              = 6083275366984045.0\n",
      "yt : [INFO     ] 2024-09-03 15:00:20,560 Parameters: domain_dimensions         = [ 256    1 4096]\n",
      "yt : [INFO     ] 2024-09-03 15:00:20,561 Parameters: domain_left_edge          = [ 0.0000e+00  0.0000e+00 -2.4144e+22]\n",
      "yt : [INFO     ] 2024-09-03 15:00:20,563 Parameters: domain_right_edge         = [3.0180e+21 3.0180e+21 2.4144e+22]\n"
     ]
    },
    {
     "name": "stdout",
     "output_type": "stream",
     "text": [
      "1 /g/data/jh2/av5889/quokka_myrepo/quokka/sims/SetonixData/R16-0.2Zsol/4pc/proj_y_plt630000\n"
     ]
    },
    {
     "name": "stderr",
     "output_type": "stream",
     "text": [
      "yt : [INFO     ] 2024-09-03 15:00:20,929 Parameters: current_time              = 6839634091359872.0\n",
      "yt : [INFO     ] 2024-09-03 15:00:20,931 Parameters: domain_dimensions         = [ 256    1 4096]\n",
      "yt : [INFO     ] 2024-09-03 15:00:20,932 Parameters: domain_left_edge          = [ 0.0000e+00  0.0000e+00 -2.4144e+22]\n",
      "yt : [INFO     ] 2024-09-03 15:00:20,933 Parameters: domain_right_edge         = [3.0180e+21 3.0180e+21 2.4144e+22]\n"
     ]
    },
    {
     "name": "stdout",
     "output_type": "stream",
     "text": [
      "2 /g/data/jh2/av5889/quokka_myrepo/quokka/sims/SetonixData/R16-0.2Zsol/4pc/proj_y_plt730000\n"
     ]
    },
    {
     "name": "stderr",
     "output_type": "stream",
     "text": [
      "yt : [INFO     ] 2024-09-03 15:00:21,308 Parameters: current_time              = 5326332170238982.0\n",
      "yt : [INFO     ] 2024-09-03 15:00:21,309 Parameters: domain_dimensions         = [ 256    1 4096]\n",
      "yt : [INFO     ] 2024-09-03 15:00:21,310 Parameters: domain_left_edge          = [ 0.0000e+00  0.0000e+00 -2.4144e+22]\n",
      "yt : [INFO     ] 2024-09-03 15:00:21,312 Parameters: domain_right_edge         = [3.0180e+21 3.0180e+21 2.4144e+22]\n"
     ]
    },
    {
     "name": "stdout",
     "output_type": "stream",
     "text": [
      "3 /g/data/jh2/av5889/quokka_myrepo/quokka/sims/SetonixData/R16-0.2Zsol/4pc/proj_y_plt530000\n"
     ]
    },
    {
     "name": "stderr",
     "output_type": "stream",
     "text": [
      "yt : [INFO     ] 2024-09-03 15:00:21,798 Parameters: current_time              = 6687634773438837.0\n",
      "yt : [INFO     ] 2024-09-03 15:00:21,800 Parameters: domain_dimensions         = [ 256    1 4096]\n",
      "yt : [INFO     ] 2024-09-03 15:00:21,801 Parameters: domain_left_edge          = [ 0.0000e+00  0.0000e+00 -2.4144e+22]\n",
      "yt : [INFO     ] 2024-09-03 15:00:21,803 Parameters: domain_right_edge         = [3.0180e+21 3.0180e+21 2.4144e+22]\n"
     ]
    },
    {
     "name": "stdout",
     "output_type": "stream",
     "text": [
      "4 /g/data/jh2/av5889/quokka_myrepo/quokka/sims/SetonixData/R16-0.2Zsol/4pc/proj_y_plt710000\n"
     ]
    },
    {
     "name": "stderr",
     "output_type": "stream",
     "text": [
      "yt : [INFO     ] 2024-09-03 15:00:22,164 Parameters: current_time              = 3669250492804187.5\n",
      "yt : [INFO     ] 2024-09-03 15:00:22,165 Parameters: domain_dimensions         = [ 256    1 4096]\n",
      "yt : [INFO     ] 2024-09-03 15:00:22,166 Parameters: domain_left_edge          = [ 0.0000e+00  0.0000e+00 -2.4144e+22]\n",
      "yt : [INFO     ] 2024-09-03 15:00:22,168 Parameters: domain_right_edge         = [3.0180e+21 3.0180e+21 2.4144e+22]\n"
     ]
    },
    {
     "name": "stdout",
     "output_type": "stream",
     "text": [
      "5 /g/data/jh2/av5889/quokka_myrepo/quokka/sims/SetonixData/R16-0.2Zsol/4pc/proj_y_plt320000\n"
     ]
    },
    {
     "name": "stderr",
     "output_type": "stream",
     "text": [
      "yt : [INFO     ] 2024-09-03 15:00:22,529 Parameters: current_time              = 4668470329042411.0\n",
      "yt : [INFO     ] 2024-09-03 15:00:22,530 Parameters: domain_dimensions         = [ 256    1 4096]\n",
      "yt : [INFO     ] 2024-09-03 15:00:22,531 Parameters: domain_left_edge          = [ 0.0000e+00  0.0000e+00 -2.4144e+22]\n",
      "yt : [INFO     ] 2024-09-03 15:00:22,533 Parameters: domain_right_edge         = [3.0180e+21 3.0180e+21 2.4144e+22]\n"
     ]
    },
    {
     "name": "stdout",
     "output_type": "stream",
     "text": [
      "6 /g/data/jh2/av5889/quokka_myrepo/quokka/sims/SetonixData/R16-0.2Zsol/4pc/proj_y_plt450000\n"
     ]
    },
    {
     "name": "stderr",
     "output_type": "stream",
     "text": [
      "yt : [INFO     ] 2024-09-03 15:00:22,891 Parameters: current_time              = 3234459844365598.0\n",
      "yt : [INFO     ] 2024-09-03 15:00:22,893 Parameters: domain_dimensions         = [ 256    1 4096]\n",
      "yt : [INFO     ] 2024-09-03 15:00:22,894 Parameters: domain_left_edge          = [ 0.0000e+00  0.0000e+00 -2.4144e+22]\n",
      "yt : [INFO     ] 2024-09-03 15:00:22,895 Parameters: domain_right_edge         = [3.0180e+21 3.0180e+21 2.4144e+22]\n"
     ]
    },
    {
     "name": "stdout",
     "output_type": "stream",
     "text": [
      "7 /g/data/jh2/av5889/quokka_myrepo/quokka/sims/SetonixData/R16-0.2Zsol/4pc/proj_y_plt260000\n"
     ]
    },
    {
     "name": "stderr",
     "output_type": "stream",
     "text": [
      "yt : [INFO     ] 2024-09-03 15:00:23,258 Parameters: current_time              = 5559374429084494.0\n",
      "yt : [INFO     ] 2024-09-03 15:00:23,259 Parameters: domain_dimensions         = [ 256    1 4096]\n",
      "yt : [INFO     ] 2024-09-03 15:00:23,261 Parameters: domain_left_edge          = [ 0.0000e+00  0.0000e+00 -2.4144e+22]\n",
      "yt : [INFO     ] 2024-09-03 15:00:23,262 Parameters: domain_right_edge         = [3.0180e+21 3.0180e+21 2.4144e+22]\n"
     ]
    },
    {
     "name": "stdout",
     "output_type": "stream",
     "text": [
      "8 /g/data/jh2/av5889/quokka_myrepo/quokka/sims/SetonixData/R16-0.2Zsol/4pc/proj_y_plt560000\n"
     ]
    },
    {
     "name": "stderr",
     "output_type": "stream",
     "text": [
      "yt : [INFO     ] 2024-09-03 15:00:23,621 Parameters: current_time              = 5645286620792346.0\n",
      "yt : [INFO     ] 2024-09-03 15:00:23,622 Parameters: domain_dimensions         = [ 256    1 4096]\n",
      "yt : [INFO     ] 2024-09-03 15:00:23,623 Parameters: domain_left_edge          = [ 0.0000e+00  0.0000e+00 -2.4144e+22]\n",
      "yt : [INFO     ] 2024-09-03 15:00:23,625 Parameters: domain_right_edge         = [3.0180e+21 3.0180e+21 2.4144e+22]\n"
     ]
    },
    {
     "name": "stdout",
     "output_type": "stream",
     "text": [
      "9 /g/data/jh2/av5889/quokka_myrepo/quokka/sims/SetonixData/R16-0.2Zsol/4pc/proj_y_plt570000\n",
      "[0.8928941000978706]\n",
      "[0.8928941000978706, 0.3045535441778975]\n",
      "[0.8928941000978706, 0.3045535441778975, 0.8562545815355967]\n",
      "[0.8928941000978706, 0.3045535441778975, 0.8562545815355967, 0.9721866249378976]\n"
     ]
    },
    {
     "data": {
      "text/plain": [
       "[-0.01, 1.4]"
      ]
     },
     "execution_count": 5,
     "metadata": {},
     "output_type": "execute_result"
    },
    {
     "data": {
      "image/png": "[encoded data removed]",
      "text/plain": [
       "<Figure size 864x432 with 1 Axes>"
      ]
     },
     "metadata": {
      "needs_background": "light"
     },
     "output_type": "display_data"
    }
   ],
   "source": [
    "kk = 0\n",
    "\n",
    "# folder_list = ['SummitData/GasGravity/Production2pc/R4/',  \\\n",
    "#                'SummitData/GasGravity/Production2pc/R8/',\\\n",
    "#               'SetonixData/R16/4pc/']\n",
    "# label = [r'4$\\Sigma_{\\rm Fid}$', r'$\\Sigma_{\\rm Fid}$', r'0.2$\\Sigma_{\\rm Fid}$']\n",
    "\n",
    "folder_list = ['SummitData/GasGravity/Production2pc/R4-0.2Zsol/',  \\\n",
    "               'SummitData/GasGravity/Production2pc/R8-0.2Zsol/',\\\n",
    "              'SetonixData/R16-0.2Zsol/4pc/']\n",
    "label = [r'4$\\Sigma_{\\rm Fid}^*$', r'$\\Sigma_{\\rm Fid}^*$', r'0.2$\\Sigma_{\\rm Fid}^*$']\n",
    "\n",
    "sigma_sfr = [0.000398107/yr_to_sec, 6.e-5/yr_to_sec , \\\n",
    "             1.58e-6/yr_to_sec]   \n",
    "\n",
    "\n",
    "fig, ax = plt.subplots(1, 1, gridspec_kw = {'wspace':0.02, 'hspace':0.02},figsize=(12, 6))\n",
    "colors =  sns.color_palette(\"rocket\", len(folder_list))\n",
    "\n",
    "\n",
    "\n",
    "ls = ['-', '-.', '--']\n",
    "marker = ['*', 'o', 'v']\n",
    "\n",
    "Zunit = Msun/1.e3\n",
    "\n",
    "\n",
    "\n",
    "for folder in folder_list:\n",
    "    data_path = os.path.join('/g/data/jh2/av5889/quokka_myrepo/quokka/sims/', folder)\n",
    "    print(folder)\n",
    "    os.chdir(data_path)\n",
    "    list_file1 = glob.glob(\"proj_y_*\")\n",
    "    \n",
    "    \n",
    "    os.chdir(data_path)\n",
    "    infile   = os.path.join(data_path, 'metal_uniform.in')\n",
    "\n",
    "    dom_min, dom_max, ncells = getdomain(infile)\n",
    "    fac = 1\n",
    "    zrange = np.linspace(dom_min[2], dom_max[2], (fac*int(ncells[2])))\n",
    "    xrange = np.linspace(dom_min[0], dom_max[0], (fac*int(ncells[0])))\n",
    "    yrange = np.linspace(dom_min[1], dom_max[1], (fac*int(ncells[1])))\n",
    "    \n",
    "\n",
    "    dx = (dom_max[0]- dom_min[0])/(fac*int(ncells[0]))\n",
    "    dz = (dom_max[2]- dom_min[2])/(fac*int(ncells[2]))\n",
    "    \n",
    "    \n",
    "    list_file = list_file1[0:10]\n",
    "    \n",
    "    timestep = np.zeros((len(list_file)))\n",
    "    \n",
    "    scalar_flux_xz = np.zeros((len(list_file), xrange.shape[0], zrange.shape[0]))\n",
    "    tot_scalar = np.zeros((len(list_file), xrange.shape[0], zrange.shape[0]))\n",
    "    \n",
    "    \n",
    "    i = 0 \n",
    "    for f in list_file:\n",
    "        \n",
    "        inputfile = os.path.join(data_path, f)\n",
    "        file_size = get_folder_size(inputfile) / (1024 * 1024)\n",
    "        \n",
    "        if(file_size<100. and folder!=folder_list[-1]):\n",
    "            print('Skipping ', inputfile, '\\n')\n",
    "            continue\n",
    "        \n",
    "        ds   = yt.load(inputfile)\n",
    "        data = ds.covering_grid(level=0, left_edge=dom_min, dims=ds.domain_dimensions, num_ghost_zones=0)\n",
    "        print(i, inputfile)\n",
    "        timestep[i] = ds.current_time.to('Myr')\n",
    "        \n",
    "        tot_scalar[i,:]     = np.array(data['scalar'])[:,0,:]\n",
    "        \n",
    "        i+=1\n",
    "        \n",
    "         \n",
    "    scalar_mass = np.average(tot_scalar, axis=0) *dx * dz * Zunit\n",
    "    \n",
    "    \n",
    "    harray = np.linspace(1.*kpc, np.amax(zrange), 4)    \n",
    "    \n",
    "    phi_avg = []\n",
    "    phi_16 = []\n",
    "    phi_84 = []\n",
    "    jj=0\n",
    "    for height in harray:\n",
    "        \n",
    "        index = min(range(zrange.shape[0]), key=lambda i: abs(zrange[i] - height))\n",
    "#         vol_index = (np.abs(zrange)<height) &  (np.abs(zrange)>0.15*kpc)\n",
    "            \n",
    "        if(jj==0):hbot = 0.15*kpc\n",
    "        else:hbot = harray[jj-1]\n",
    "        vol_index = (np.abs(zrange)<height) &  (np.abs(zrange)>hbot)\n",
    "        \n",
    "        mask1 = (np.abs(zrange)) < (height + 2*dz)\n",
    "        mask2 = (np.abs(zrange)) > ( height - 2.*dz)\n",
    "        mask = mask1*mask2\n",
    "        \n",
    "        indexes = list(range(len(timestep)))\n",
    "        indexes.sort(key=timestep.__getitem__)\n",
    "        sorted_time = np.asarray(list(map(timestep.__getitem__, indexes)))\n",
    "\n",
    "\n",
    "        scalar_mass     = np.sum(tot_scalar[:,:,vol_index], axis=(1,2)) *dx * dz * Zunit\n",
    "        \n",
    "        \n",
    "        \n",
    "        sorted_scalar  = list(map(scalar_mass.__getitem__, indexes))\n",
    "        sorted_time[sorted_time<1.] = 1.e-5\n",
    "        inj_scalar = sigma_sfr[kk]  * Msun * sorted_time\n",
    "\n",
    "        phi    =  1. - np.asarray(sorted_scalar)/(inj_scalar*Myr)\n",
    "        \n",
    "        phi = np.asarray(phi)\n",
    "        \n",
    "        phi_avg.append(np.average(phi[1:]))\n",
    "        phi_16.append(np.percentile(phi, 16, axis=0))\n",
    "        phi_84.append((np.percentile(phi, 84, axis=0)))\n",
    "        jj+=1\n",
    "        print(phi_avg)\n",
    "        \n",
    "    ax.plot(harray/np.amax(zrange), np.asarray(phi_avg), marker=marker[kk], ls='-', \\\n",
    "            label=label[kk], markersize=16, lw=2.5, color=colors[kk])\n",
    "    \n",
    "    ax.fill_between(harray/np.amax(zrange), phi_16, phi_84, \\\n",
    "                        color='cornflowerblue', alpha=0.2)\n",
    "\n",
    "    \n",
    "    kk+=1\n",
    "    \n",
    "ax.legend(frameon=False, ncol=3, loc='upper left')\n",
    "ax.set_xlabel('$z/L_z$')\n",
    "ax.tick_params(axis='y', right=True, left=True)\n",
    "ax.set_title('$1-\\int M_Z dV/\\Gamma_{SN}M_{\\odot}t$')\n",
    "plt.setp(ax, 'ylim', (-0.01, 1.4))\n",
    "# plt.setp(ax, 'xlim', (0.01, 200.1))"
   ]
  },
  {
   "cell_type": "markdown",
   "id": "b6334a0e",
   "metadata": {},
   "source": [
    "# Metal loading = Mz/Gamma Msun"
   ]
  },
  {
   "cell_type": "code",
   "execution_count": 21,
   "id": "acf0ac5c",
   "metadata": {
    "scrolled": true
   },
   "outputs": [
    {
     "name": "stdout",
     "output_type": "stream",
     "text": [
      "/g/data/jh2/av5889/quokka_myrepo/quokka/sims/SummitData/GasGravity/Production2pc/R4-0.2Zsol/\n"
     ]
    },
    {
     "name": "stderr",
     "output_type": "stream",
     "text": [
      "yt : [INFO     ] 2024-08-28 18:25:05,167 Parameters: current_time              = 3831759926055774.5\n",
      "yt : [INFO     ] 2024-08-28 18:25:05,168 Parameters: domain_dimensions         = [ 512    1 4096]\n",
      "yt : [INFO     ] 2024-08-28 18:25:05,169 Parameters: domain_left_edge          = [ 0.0000e+00  0.0000e+00 -1.2072e+22]\n",
      "yt : [INFO     ] 2024-08-28 18:25:05,171 Parameters: domain_right_edge         = [3.0180e+21 3.0180e+21 1.2072e+22]\n",
      "yt : [INFO     ] 2024-08-28 18:25:05,859 Parameters: current_time              = 4802318615204617.0\n",
      "yt : [INFO     ] 2024-08-28 18:25:05,861 Parameters: domain_dimensions         = [ 512    1 4096]\n",
      "yt : [INFO     ] 2024-08-28 18:25:05,862 Parameters: domain_left_edge          = [ 0.0000e+00  0.0000e+00 -1.2072e+22]\n",
      "yt : [INFO     ] 2024-08-28 18:25:05,864 Parameters: domain_right_edge         = [3.0180e+21 3.0180e+21 1.2072e+22]\n",
      "yt : [INFO     ] 2024-08-28 18:25:06,558 Parameters: current_time              = 2225200593092499.5\n",
      "yt : [INFO     ] 2024-08-28 18:25:06,560 Parameters: domain_dimensions         = [ 512    1 4096]\n",
      "yt : [INFO     ] 2024-08-28 18:25:06,561 Parameters: domain_left_edge          = [ 0.0000e+00  0.0000e+00 -1.2072e+22]\n",
      "yt : [INFO     ] 2024-08-28 18:25:06,562 Parameters: domain_right_edge         = [3.0180e+21 3.0180e+21 1.2072e+22]\n",
      "yt : [INFO     ] 2024-08-28 18:25:07,254 Parameters: current_time              = 3746565408933140.5\n",
      "yt : [INFO     ] 2024-08-28 18:25:07,255 Parameters: domain_dimensions         = [ 512    1 4096]\n",
      "yt : [INFO     ] 2024-08-28 18:25:07,256 Parameters: domain_left_edge          = [ 0.0000e+00  0.0000e+00 -1.2072e+22]\n",
      "yt : [INFO     ] 2024-08-28 18:25:07,258 Parameters: domain_right_edge         = [3.0180e+21 3.0180e+21 1.2072e+22]\n",
      "yt : [INFO     ] 2024-08-28 18:25:07,946 Parameters: current_time              = 4610293348142975.0\n",
      "yt : [INFO     ] 2024-08-28 18:25:07,947 Parameters: domain_dimensions         = [ 512    1 4096]\n",
      "yt : [INFO     ] 2024-08-28 18:25:07,949 Parameters: domain_left_edge          = [ 0.0000e+00  0.0000e+00 -1.2072e+22]\n",
      "yt : [INFO     ] 2024-08-28 18:25:07,950 Parameters: domain_right_edge         = [3.0180e+21 3.0180e+21 1.2072e+22]\n",
      "yt : [INFO     ] 2024-08-28 18:25:09,018 Parameters: current_time              = 3431253229708773.0\n",
      "yt : [INFO     ] 2024-08-28 18:25:09,019 Parameters: domain_dimensions         = [ 512    1 4096]\n",
      "yt : [INFO     ] 2024-08-28 18:25:09,020 Parameters: domain_left_edge          = [ 0.0000e+00  0.0000e+00 -1.2072e+22]\n",
      "yt : [INFO     ] 2024-08-28 18:25:09,022 Parameters: domain_right_edge         = [3.0180e+21 3.0180e+21 1.2072e+22]\n",
      "yt : [INFO     ] 2024-08-28 18:25:09,709 Parameters: current_time              = 945179872586257.2\n",
      "yt : [INFO     ] 2024-08-28 18:25:09,711 Parameters: domain_dimensions         = [ 512    1 4096]\n",
      "yt : [INFO     ] 2024-08-28 18:25:09,712 Parameters: domain_left_edge          = [ 0.0000e+00  0.0000e+00 -1.2072e+22]\n",
      "yt : [INFO     ] 2024-08-28 18:25:09,714 Parameters: domain_right_edge         = [3.0180e+21 3.0180e+21 1.2072e+22]\n",
      "yt : [INFO     ] 2024-08-28 18:25:10,441 Parameters: current_time              = 2178513523125985.2\n",
      "yt : [INFO     ] 2024-08-28 18:25:10,443 Parameters: domain_dimensions         = [ 512    1 4096]\n",
      "yt : [INFO     ] 2024-08-28 18:25:10,444 Parameters: domain_left_edge          = [ 0.0000e+00  0.0000e+00 -1.2072e+22]\n",
      "yt : [INFO     ] 2024-08-28 18:25:10,445 Parameters: domain_right_edge         = [3.0180e+21 3.0180e+21 1.2072e+22]\n",
      "yt : [INFO     ] 2024-08-28 18:25:11,195 Parameters: current_time              = 3172223102192184.0\n",
      "yt : [INFO     ] 2024-08-28 18:25:11,196 Parameters: domain_dimensions         = [ 512    1 4096]\n",
      "yt : [INFO     ] 2024-08-28 18:25:11,197 Parameters: domain_left_edge          = [ 0.0000e+00  0.0000e+00 -1.2072e+22]\n",
      "yt : [INFO     ] 2024-08-28 18:25:11,199 Parameters: domain_right_edge         = [3.0180e+21 3.0180e+21 1.2072e+22]\n",
      "yt : [INFO     ] 2024-08-28 18:25:11,975 Parameters: current_time              = 5252815041103569.0\n",
      "yt : [INFO     ] 2024-08-28 18:25:11,977 Parameters: domain_dimensions         = [ 512    1 4096]\n",
      "yt : [INFO     ] 2024-08-28 18:25:11,978 Parameters: domain_left_edge          = [ 0.0000e+00  0.0000e+00 -1.2072e+22]\n",
      "yt : [INFO     ] 2024-08-28 18:25:11,979 Parameters: domain_right_edge         = [3.0180e+21 3.0180e+21 1.2072e+22]\n",
      "yt : [INFO     ] 2024-08-28 18:25:12,759 Parameters: current_time              = 2164682660929922.5\n",
      "yt : [INFO     ] 2024-08-28 18:25:12,761 Parameters: domain_dimensions         = [ 512    1 4096]\n",
      "yt : [INFO     ] 2024-08-28 18:25:12,762 Parameters: domain_left_edge          = [ 0.0000e+00  0.0000e+00 -1.2072e+22]\n",
      "yt : [INFO     ] 2024-08-28 18:25:12,764 Parameters: domain_right_edge         = [3.0180e+21 3.0180e+21 1.2072e+22]\n",
      "yt : [INFO     ] 2024-08-28 18:25:13,540 Parameters: current_time              = 2729193449919340.5\n",
      "yt : [INFO     ] 2024-08-28 18:25:13,541 Parameters: domain_dimensions         = [ 512    1 4096]\n",
      "yt : [INFO     ] 2024-08-28 18:25:13,543 Parameters: domain_left_edge          = [ 0.0000e+00  0.0000e+00 -1.2072e+22]\n",
      "yt : [INFO     ] 2024-08-28 18:25:13,544 Parameters: domain_right_edge         = [3.0180e+21 3.0180e+21 1.2072e+22]\n",
      "yt : [INFO     ] 2024-08-28 18:25:14,319 Parameters: current_time              = 186925710552203.75\n",
      "yt : [INFO     ] 2024-08-28 18:25:14,321 Parameters: domain_dimensions         = [ 512    1 4096]\n",
      "yt : [INFO     ] 2024-08-28 18:25:14,322 Parameters: domain_left_edge          = [ 0.0000e+00  0.0000e+00 -1.2072e+22]\n",
      "yt : [INFO     ] 2024-08-28 18:25:14,323 Parameters: domain_right_edge         = [3.0180e+21 3.0180e+21 1.2072e+22]\n",
      "yt : [INFO     ] 2024-08-28 18:25:15,095 Parameters: current_time              = 4830476258676565.0\n",
      "yt : [INFO     ] 2024-08-28 18:25:15,096 Parameters: domain_dimensions         = [ 512    1 4096]\n",
      "yt : [INFO     ] 2024-08-28 18:25:15,098 Parameters: domain_left_edge          = [ 0.0000e+00  0.0000e+00 -1.2072e+22]\n",
      "yt : [INFO     ] 2024-08-28 18:25:15,099 Parameters: domain_right_edge         = [3.0180e+21 3.0180e+21 1.2072e+22]\n",
      "yt : [INFO     ] 2024-08-28 18:25:15,920 Parameters: current_time              = 4591090493860235.0\n",
      "yt : [INFO     ] 2024-08-28 18:25:15,922 Parameters: domain_dimensions         = [ 512    1 4096]\n",
      "yt : [INFO     ] 2024-08-28 18:25:15,923 Parameters: domain_left_edge          = [ 0.0000e+00  0.0000e+00 -1.2072e+22]\n",
      "yt : [INFO     ] 2024-08-28 18:25:15,924 Parameters: domain_right_edge         = [3.0180e+21 3.0180e+21 1.2072e+22]\n",
      "yt : [INFO     ] 2024-08-28 18:25:16,697 Parameters: current_time              = 2171434847579381.5\n",
      "yt : [INFO     ] 2024-08-28 18:25:16,698 Parameters: domain_dimensions         = [ 512    1 4096]\n",
      "yt : [INFO     ] 2024-08-28 18:25:16,700 Parameters: domain_left_edge          = [ 0.0000e+00  0.0000e+00 -1.2072e+22]\n",
      "yt : [INFO     ] 2024-08-28 18:25:16,701 Parameters: domain_right_edge         = [3.0180e+21 3.0180e+21 1.2072e+22]\n",
      "yt : [INFO     ] 2024-08-28 18:25:17,482 Parameters: current_time              = 835437753079387.9\n",
      "yt : [INFO     ] 2024-08-28 18:25:17,483 Parameters: domain_dimensions         = [ 512    1 4096]\n",
      "yt : [INFO     ] 2024-08-28 18:25:17,485 Parameters: domain_left_edge          = [ 0.0000e+00  0.0000e+00 -1.2072e+22]\n",
      "yt : [INFO     ] 2024-08-28 18:25:17,486 Parameters: domain_right_edge         = [3.0180e+21 3.0180e+21 1.2072e+22]\n",
      "yt : [INFO     ] 2024-08-28 18:25:18,262 Parameters: current_time              = 5238694594907248.0\n",
      "yt : [INFO     ] 2024-08-28 18:25:18,263 Parameters: domain_dimensions         = [ 512    1 4096]\n",
      "yt : [INFO     ] 2024-08-28 18:25:18,264 Parameters: domain_left_edge          = [ 0.0000e+00  0.0000e+00 -1.2072e+22]\n",
      "yt : [INFO     ] 2024-08-28 18:25:18,266 Parameters: domain_right_edge         = [3.0180e+21 3.0180e+21 1.2072e+22]\n",
      "yt : [INFO     ] 2024-08-28 18:25:19,041 Parameters: current_time              = 523122309334743.56\n",
      "yt : [INFO     ] 2024-08-28 18:25:19,043 Parameters: domain_dimensions         = [ 512    1 4096]\n",
      "yt : [INFO     ] 2024-08-28 18:25:19,044 Parameters: domain_left_edge          = [ 0.0000e+00  0.0000e+00 -1.2072e+22]\n",
      "yt : [INFO     ] 2024-08-28 18:25:19,045 Parameters: domain_right_edge         = [3.0180e+21 3.0180e+21 1.2072e+22]\n"
     ]
    },
    {
     "name": "stderr",
     "output_type": "stream",
     "text": [
      "yt : [INFO     ] 2024-08-28 18:25:19,824 Parameters: current_time              = 4759193842110459.0\n",
      "yt : [INFO     ] 2024-08-28 18:25:19,826 Parameters: domain_dimensions         = [ 512    1 4096]\n",
      "yt : [INFO     ] 2024-08-28 18:25:19,827 Parameters: domain_left_edge          = [ 0.0000e+00  0.0000e+00 -1.2072e+22]\n",
      "yt : [INFO     ] 2024-08-28 18:25:19,828 Parameters: domain_right_edge         = [3.0180e+21 3.0180e+21 1.2072e+22]\n",
      "yt : [INFO     ] 2024-08-28 18:25:20,990 Parameters: current_time              = 1092637224294284.6\n",
      "yt : [INFO     ] 2024-08-28 18:25:20,991 Parameters: domain_dimensions         = [ 512    1 4096]\n",
      "yt : [INFO     ] 2024-08-28 18:25:20,992 Parameters: domain_left_edge          = [ 0.0000e+00  0.0000e+00 -1.2072e+22]\n",
      "yt : [INFO     ] 2024-08-28 18:25:20,994 Parameters: domain_right_edge         = [3.0180e+21 3.0180e+21 1.2072e+22]\n",
      "yt : [INFO     ] 2024-08-28 18:25:21,684 Parameters: current_time              = 5181390078915578.0\n",
      "yt : [INFO     ] 2024-08-28 18:25:21,686 Parameters: domain_dimensions         = [ 512    1 4096]\n",
      "yt : [INFO     ] 2024-08-28 18:25:21,687 Parameters: domain_left_edge          = [ 0.0000e+00  0.0000e+00 -1.2072e+22]\n",
      "yt : [INFO     ] 2024-08-28 18:25:21,688 Parameters: domain_right_edge         = [3.0180e+21 3.0180e+21 1.2072e+22]\n",
      "yt : [INFO     ] 2024-08-28 18:25:22,380 Parameters: current_time              = 4674616932122231.0\n",
      "yt : [INFO     ] 2024-08-28 18:25:22,382 Parameters: domain_dimensions         = [ 512    1 4096]\n",
      "yt : [INFO     ] 2024-08-28 18:25:22,383 Parameters: domain_left_edge          = [ 0.0000e+00  0.0000e+00 -1.2072e+22]\n",
      "yt : [INFO     ] 2024-08-28 18:25:22,384 Parameters: domain_right_edge         = [3.0180e+21 3.0180e+21 1.2072e+22]\n",
      "yt : [INFO     ] 2024-08-28 18:25:23,080 Parameters: current_time              = 4773659729323323.0\n",
      "yt : [INFO     ] 2024-08-28 18:25:23,082 Parameters: domain_dimensions         = [ 512    1 4096]\n",
      "yt : [INFO     ] 2024-08-28 18:25:23,083 Parameters: domain_left_edge          = [ 0.0000e+00  0.0000e+00 -1.2072e+22]\n",
      "yt : [INFO     ] 2024-08-28 18:25:23,084 Parameters: domain_right_edge         = [3.0180e+21 3.0180e+21 1.2072e+22]\n",
      "yt : [INFO     ] 2024-08-28 18:25:23,775 Parameters: current_time              = 3144883340393984.0\n",
      "yt : [INFO     ] 2024-08-28 18:25:23,776 Parameters: domain_dimensions         = [ 512    1 4096]\n",
      "yt : [INFO     ] 2024-08-28 18:25:23,778 Parameters: domain_left_edge          = [ 0.0000e+00  0.0000e+00 -1.2072e+22]\n",
      "yt : [INFO     ] 2024-08-28 18:25:23,779 Parameters: domain_right_edge         = [3.0180e+21 3.0180e+21 1.2072e+22]\n",
      "yt : [INFO     ] 2024-08-28 18:25:24,467 Parameters: current_time              = 2278467605163272.5\n",
      "yt : [INFO     ] 2024-08-28 18:25:24,468 Parameters: domain_dimensions         = [ 512    1 4096]\n",
      "yt : [INFO     ] 2024-08-28 18:25:24,470 Parameters: domain_left_edge          = [ 0.0000e+00  0.0000e+00 -1.2072e+22]\n",
      "yt : [INFO     ] 2024-08-28 18:25:24,471 Parameters: domain_right_edge         = [3.0180e+21 3.0180e+21 1.2072e+22]\n",
      "yt : [INFO     ] 2024-08-28 18:25:25,161 Parameters: current_time              = 822000725952503.8\n",
      "yt : [INFO     ] 2024-08-28 18:25:25,162 Parameters: domain_dimensions         = [ 512    1 4096]\n",
      "yt : [INFO     ] 2024-08-28 18:25:25,164 Parameters: domain_left_edge          = [ 0.0000e+00  0.0000e+00 -1.2072e+22]\n",
      "yt : [INFO     ] 2024-08-28 18:25:25,165 Parameters: domain_right_edge         = [3.0180e+21 3.0180e+21 1.2072e+22]\n",
      "yt : [INFO     ] 2024-08-28 18:25:25,857 Parameters: current_time              = 4844952524951113.0\n",
      "yt : [INFO     ] 2024-08-28 18:25:25,859 Parameters: domain_dimensions         = [ 512    1 4096]\n",
      "yt : [INFO     ] 2024-08-28 18:25:25,860 Parameters: domain_left_edge          = [ 0.0000e+00  0.0000e+00 -1.2072e+22]\n",
      "yt : [INFO     ] 2024-08-28 18:25:25,862 Parameters: domain_right_edge         = [3.0180e+21 3.0180e+21 1.2072e+22]\n",
      "yt : [INFO     ] 2024-08-28 18:25:26,550 Parameters: current_time              = 1592296633482904.2\n",
      "yt : [INFO     ] 2024-08-28 18:25:26,552 Parameters: domain_dimensions         = [ 512    1 4096]\n",
      "yt : [INFO     ] 2024-08-28 18:25:26,553 Parameters: domain_left_edge          = [ 0.0000e+00  0.0000e+00 -1.2072e+22]\n",
      "yt : [INFO     ] 2024-08-28 18:25:26,555 Parameters: domain_right_edge         = [3.0180e+21 3.0180e+21 1.2072e+22]\n",
      "yt : [INFO     ] 2024-08-28 18:25:27,247 Parameters: current_time              = 2033235188156145.2\n",
      "yt : [INFO     ] 2024-08-28 18:25:27,249 Parameters: domain_dimensions         = [ 512    1 4096]\n",
      "yt : [INFO     ] 2024-08-28 18:25:27,250 Parameters: domain_left_edge          = [ 0.0000e+00  0.0000e+00 -1.2072e+22]\n",
      "yt : [INFO     ] 2024-08-28 18:25:27,252 Parameters: domain_right_edge         = [3.0180e+21 3.0180e+21 1.2072e+22]\n",
      "yt : [INFO     ] 2024-08-28 18:25:27,945 Parameters: current_time              = 2409892814503791.5\n",
      "yt : [INFO     ] 2024-08-28 18:25:27,946 Parameters: domain_dimensions         = [ 512    1 4096]\n",
      "yt : [INFO     ] 2024-08-28 18:25:27,948 Parameters: domain_left_edge          = [ 0.0000e+00  0.0000e+00 -1.2072e+22]\n",
      "yt : [INFO     ] 2024-08-28 18:25:27,949 Parameters: domain_right_edge         = [3.0180e+21 3.0180e+21 1.2072e+22]\n",
      "yt : [INFO     ] 2024-08-28 18:25:28,663 Parameters: current_time              = 1465729751966798.5\n",
      "yt : [INFO     ] 2024-08-28 18:25:28,664 Parameters: domain_dimensions         = [ 512    1 4096]\n",
      "yt : [INFO     ] 2024-08-28 18:25:28,665 Parameters: domain_left_edge          = [ 0.0000e+00  0.0000e+00 -1.2072e+22]\n",
      "yt : [INFO     ] 2024-08-28 18:25:28,667 Parameters: domain_right_edge         = [3.0180e+21 3.0180e+21 1.2072e+22]\n",
      "yt : [INFO     ] 2024-08-28 18:25:29,358 Parameters: current_time              = 1283227387678827.2\n",
      "yt : [INFO     ] 2024-08-28 18:25:29,360 Parameters: domain_dimensions         = [ 512    1 4096]\n",
      "yt : [INFO     ] 2024-08-28 18:25:29,361 Parameters: domain_left_edge          = [ 0.0000e+00  0.0000e+00 -1.2072e+22]\n",
      "yt : [INFO     ] 2024-08-28 18:25:29,362 Parameters: domain_right_edge         = [3.0180e+21 3.0180e+21 1.2072e+22]\n",
      "yt : [INFO     ] 2024-08-28 18:25:30,051 Parameters: current_time              = 594465936936769.0\n",
      "yt : [INFO     ] 2024-08-28 18:25:30,053 Parameters: domain_dimensions         = [ 512    1 4096]\n",
      "yt : [INFO     ] 2024-08-28 18:25:30,054 Parameters: domain_left_edge          = [ 0.0000e+00  0.0000e+00 -1.2072e+22]\n",
      "yt : [INFO     ] 2024-08-28 18:25:30,055 Parameters: domain_right_edge         = [3.0180e+21 3.0180e+21 1.2072e+22]\n",
      "yt : [INFO     ] 2024-08-28 18:25:30,746 Parameters: current_time              = 2693077169437319.0\n",
      "yt : [INFO     ] 2024-08-28 18:25:30,748 Parameters: domain_dimensions         = [ 512    1 4096]\n",
      "yt : [INFO     ] 2024-08-28 18:25:30,749 Parameters: domain_left_edge          = [ 0.0000e+00  0.0000e+00 -1.2072e+22]\n",
      "yt : [INFO     ] 2024-08-28 18:25:30,750 Parameters: domain_right_edge         = [3.0180e+21 3.0180e+21 1.2072e+22]\n",
      "yt : [INFO     ] 2024-08-28 18:25:31,439 Parameters: current_time              = 4936683028755078.0\n",
      "yt : [INFO     ] 2024-08-28 18:25:31,440 Parameters: domain_dimensions         = [ 512    1 4096]\n",
      "yt : [INFO     ] 2024-08-28 18:25:31,441 Parameters: domain_left_edge          = [ 0.0000e+00  0.0000e+00 -1.2072e+22]\n",
      "yt : [INFO     ] 2024-08-28 18:25:31,443 Parameters: domain_right_edge         = [3.0180e+21 3.0180e+21 1.2072e+22]\n",
      "yt : [INFO     ] 2024-08-28 18:25:32,132 Parameters: current_time              = 2603178608685423.0\n",
      "yt : [INFO     ] 2024-08-28 18:25:32,134 Parameters: domain_dimensions         = [ 512    1 4096]\n",
      "yt : [INFO     ] 2024-08-28 18:25:32,135 Parameters: domain_left_edge          = [ 0.0000e+00  0.0000e+00 -1.2072e+22]\n",
      "yt : [INFO     ] 2024-08-28 18:25:32,136 Parameters: domain_right_edge         = [3.0180e+21 3.0180e+21 1.2072e+22]\n",
      "yt : [INFO     ] 2024-08-28 18:25:33,140 Parameters: current_time              = 980771927347727.0\n",
      "yt : [INFO     ] 2024-08-28 18:25:33,142 Parameters: domain_dimensions         = [ 512    1 4096]\n",
      "yt : [INFO     ] 2024-08-28 18:25:33,143 Parameters: domain_left_edge          = [ 0.0000e+00  0.0000e+00 -1.2072e+22]\n",
      "yt : [INFO     ] 2024-08-28 18:25:33,144 Parameters: domain_right_edge         = [3.0180e+21 3.0180e+21 1.2072e+22]\n"
     ]
    },
    {
     "name": "stderr",
     "output_type": "stream",
     "text": [
      "yt : [INFO     ] 2024-08-28 18:25:33,834 Parameters: current_time              = 3846664161679596.0\n",
      "yt : [INFO     ] 2024-08-28 18:25:33,836 Parameters: domain_dimensions         = [ 512    1 4096]\n",
      "yt : [INFO     ] 2024-08-28 18:25:33,837 Parameters: domain_left_edge          = [ 0.0000e+00  0.0000e+00 -1.2072e+22]\n",
      "yt : [INFO     ] 2024-08-28 18:25:33,838 Parameters: domain_right_edge         = [3.0180e+21 3.0180e+21 1.2072e+22]\n",
      "yt : [INFO     ] 2024-08-28 18:25:34,532 Parameters: current_time              = 1147885410484034.5\n",
      "yt : [INFO     ] 2024-08-28 18:25:34,534 Parameters: domain_dimensions         = [ 512    1 4096]\n",
      "yt : [INFO     ] 2024-08-28 18:25:34,535 Parameters: domain_left_edge          = [ 0.0000e+00  0.0000e+00 -1.2072e+22]\n",
      "yt : [INFO     ] 2024-08-28 18:25:34,537 Parameters: domain_right_edge         = [3.0180e+21 3.0180e+21 1.2072e+22]\n",
      "yt : [INFO     ] 2024-08-28 18:25:35,227 Parameters: current_time              = 448918158196031.94\n",
      "yt : [INFO     ] 2024-08-28 18:25:35,228 Parameters: domain_dimensions         = [ 512    1 4096]\n",
      "yt : [INFO     ] 2024-08-28 18:25:35,229 Parameters: domain_left_edge          = [ 0.0000e+00  0.0000e+00 -1.2072e+22]\n",
      "yt : [INFO     ] 2024-08-28 18:25:35,231 Parameters: domain_right_edge         = [3.0180e+21 3.0180e+21 1.2072e+22]\n",
      "yt : [INFO     ] 2024-08-28 18:25:35,947 Parameters: current_time              = 4081244390206827.0\n",
      "yt : [INFO     ] 2024-08-28 18:25:35,949 Parameters: domain_dimensions         = [ 512    1 4096]\n",
      "yt : [INFO     ] 2024-08-28 18:25:35,950 Parameters: domain_left_edge          = [ 0.0000e+00  0.0000e+00 -1.2072e+22]\n",
      "yt : [INFO     ] 2024-08-28 18:25:35,951 Parameters: domain_right_edge         = [3.0180e+21 3.0180e+21 1.2072e+22]\n",
      "yt : [INFO     ] 2024-08-28 18:25:36,692 Parameters: current_time              = 2326518153667729.5\n",
      "yt : [INFO     ] 2024-08-28 18:25:36,693 Parameters: domain_dimensions         = [ 512    1 4096]\n",
      "yt : [INFO     ] 2024-08-28 18:25:36,694 Parameters: domain_left_edge          = [ 0.0000e+00  0.0000e+00 -1.2072e+22]\n",
      "yt : [INFO     ] 2024-08-28 18:25:36,696 Parameters: domain_right_edge         = [3.0180e+21 3.0180e+21 1.2072e+22]\n",
      "yt : [INFO     ] 2024-08-28 18:25:37,464 Parameters: current_time              = 2045796828489021.5\n",
      "yt : [INFO     ] 2024-08-28 18:25:37,466 Parameters: domain_dimensions         = [ 512    1 4096]\n",
      "yt : [INFO     ] 2024-08-28 18:25:37,467 Parameters: domain_left_edge          = [ 0.0000e+00  0.0000e+00 -1.2072e+22]\n",
      "yt : [INFO     ] 2024-08-28 18:25:37,468 Parameters: domain_right_edge         = [3.0180e+21 3.0180e+21 1.2072e+22]\n",
      "yt : [INFO     ] 2024-08-28 18:25:38,245 Parameters: current_time              = 3178707961069311.0\n",
      "yt : [INFO     ] 2024-08-28 18:25:38,247 Parameters: domain_dimensions         = [ 512    1 4096]\n",
      "yt : [INFO     ] 2024-08-28 18:25:38,248 Parameters: domain_left_edge          = [ 0.0000e+00  0.0000e+00 -1.2072e+22]\n",
      "yt : [INFO     ] 2024-08-28 18:25:38,250 Parameters: domain_right_edge         = [3.0180e+21 3.0180e+21 1.2072e+22]\n",
      "yt : [INFO     ] 2024-08-28 18:25:39,062 Parameters: current_time              = 3767542606579939.5\n",
      "yt : [INFO     ] 2024-08-28 18:25:39,063 Parameters: domain_dimensions         = [ 512    1 4096]\n",
      "yt : [INFO     ] 2024-08-28 18:25:39,065 Parameters: domain_left_edge          = [ 0.0000e+00  0.0000e+00 -1.2072e+22]\n",
      "yt : [INFO     ] 2024-08-28 18:25:39,066 Parameters: domain_right_edge         = [3.0180e+21 3.0180e+21 1.2072e+22]\n",
      "yt : [INFO     ] 2024-08-28 18:25:39,840 Parameters: current_time              = 1105886790235514.9\n",
      "yt : [INFO     ] 2024-08-28 18:25:39,842 Parameters: domain_dimensions         = [ 512    1 4096]\n",
      "yt : [INFO     ] 2024-08-28 18:25:39,843 Parameters: domain_left_edge          = [ 0.0000e+00  0.0000e+00 -1.2072e+22]\n",
      "yt : [INFO     ] 2024-08-28 18:25:39,845 Parameters: domain_right_edge         = [3.0180e+21 3.0180e+21 1.2072e+22]\n",
      "yt : [INFO     ] 2024-08-28 18:25:40,631 Parameters: current_time              = 3431253229708773.0\n",
      "yt : [INFO     ] 2024-08-28 18:25:40,633 Parameters: domain_dimensions         = [ 512    1 4096]\n",
      "yt : [INFO     ] 2024-08-28 18:25:40,634 Parameters: domain_left_edge          = [ 0.0000e+00  0.0000e+00 -1.2072e+22]\n",
      "yt : [INFO     ] 2024-08-28 18:25:40,635 Parameters: domain_right_edge         = [3.0180e+21 3.0180e+21 1.2072e+22]\n",
      "yt : [INFO     ] 2024-08-28 18:25:41,417 Parameters: current_time              = 4711623925544256.0\n",
      "yt : [INFO     ] 2024-08-28 18:25:41,419 Parameters: domain_dimensions         = [ 512    1 4096]\n",
      "yt : [INFO     ] 2024-08-28 18:25:41,420 Parameters: domain_left_edge          = [ 0.0000e+00  0.0000e+00 -1.2072e+22]\n",
      "yt : [INFO     ] 2024-08-28 18:25:41,421 Parameters: domain_right_edge         = [3.0180e+21 3.0180e+21 1.2072e+22]\n",
      "yt : [INFO     ] 2024-08-28 18:25:42,275 Parameters: current_time              = 2970627684839318.5\n",
      "yt : [INFO     ] 2024-08-28 18:25:42,277 Parameters: domain_dimensions         = [ 512    1 4096]\n",
      "yt : [INFO     ] 2024-08-28 18:25:42,278 Parameters: domain_left_edge          = [ 0.0000e+00  0.0000e+00 -1.2072e+22]\n",
      "yt : [INFO     ] 2024-08-28 18:25:42,280 Parameters: domain_right_edge         = [3.0180e+21 3.0180e+21 1.2072e+22]\n"
     ]
    },
    {
     "name": "stdout",
     "output_type": "stream",
     "text": [
      "/g/data/jh2/av5889/quokka_myrepo/quokka/sims/SummitData/GasGravity/Production2pc/R8-0.2Zsol/\n"
     ]
    },
    {
     "name": "stderr",
     "output_type": "stream",
     "text": [
      "yt : [INFO     ] 2024-08-28 18:25:43,499 Parameters: current_time              = 6203371598433323.0\n",
      "yt : [INFO     ] 2024-08-28 18:25:43,500 Parameters: domain_dimensions         = [ 512    1 4096]\n",
      "yt : [INFO     ] 2024-08-28 18:25:43,501 Parameters: domain_left_edge          = [ 0.0000e+00  0.0000e+00 -1.2072e+22]\n",
      "yt : [INFO     ] 2024-08-28 18:25:43,503 Parameters: domain_right_edge         = [3.0180e+21 3.0180e+21 1.2072e+22]\n",
      "yt : [INFO     ] 2024-08-28 18:25:44,284 Parameters: current_time              = 2445347387600728.5\n",
      "yt : [INFO     ] 2024-08-28 18:25:44,286 Parameters: domain_dimensions         = [ 512    1 4096]\n",
      "yt : [INFO     ] 2024-08-28 18:25:44,287 Parameters: domain_left_edge          = [ 0.0000e+00  0.0000e+00 -1.2072e+22]\n",
      "yt : [INFO     ] 2024-08-28 18:25:44,288 Parameters: domain_right_edge         = [3.0180e+21 3.0180e+21 1.2072e+22]\n",
      "yt : [INFO     ] 2024-08-28 18:25:45,067 Parameters: current_time              = 6062279817809211.0\n",
      "yt : [INFO     ] 2024-08-28 18:25:45,069 Parameters: domain_dimensions         = [ 512    1 4096]\n",
      "yt : [INFO     ] 2024-08-28 18:25:45,070 Parameters: domain_left_edge          = [ 0.0000e+00  0.0000e+00 -1.2072e+22]\n",
      "yt : [INFO     ] 2024-08-28 18:25:45,071 Parameters: domain_right_edge         = [3.0180e+21 3.0180e+21 1.2072e+22]\n",
      "yt : [INFO     ] 2024-08-28 18:25:45,849 Parameters: current_time              = 6026606490672288.0\n",
      "yt : [INFO     ] 2024-08-28 18:25:45,851 Parameters: domain_dimensions         = [ 512    1 4096]\n",
      "yt : [INFO     ] 2024-08-28 18:25:45,852 Parameters: domain_left_edge          = [ 0.0000e+00  0.0000e+00 -1.2072e+22]\n",
      "yt : [INFO     ] 2024-08-28 18:25:45,853 Parameters: domain_right_edge         = [3.0180e+21 3.0180e+21 1.2072e+22]\n",
      "yt : [INFO     ] 2024-08-28 18:25:46,634 Parameters: current_time              = 440983183118979.3\n",
      "yt : [INFO     ] 2024-08-28 18:25:46,636 Parameters: domain_dimensions         = [ 512    1 4096]\n",
      "yt : [INFO     ] 2024-08-28 18:25:46,637 Parameters: domain_left_edge          = [ 0.0000e+00  0.0000e+00 -1.2072e+22]\n",
      "yt : [INFO     ] 2024-08-28 18:25:46,638 Parameters: domain_right_edge         = [3.0180e+21 3.0180e+21 1.2072e+22]\n",
      "yt : [INFO     ] 2024-08-28 18:25:47,417 Parameters: current_time              = 6041761426906657.0\n",
      "yt : [INFO     ] 2024-08-28 18:25:47,419 Parameters: domain_dimensions         = [ 512    1 4096]\n",
      "yt : [INFO     ] 2024-08-28 18:25:47,420 Parameters: domain_left_edge          = [ 0.0000e+00  0.0000e+00 -1.2072e+22]\n",
      "yt : [INFO     ] 2024-08-28 18:25:47,421 Parameters: domain_right_edge         = [3.0180e+21 3.0180e+21 1.2072e+22]\n",
      "yt : [INFO     ] 2024-08-28 18:25:48,198 Parameters: current_time              = 2137564754293051.2\n",
      "yt : [INFO     ] 2024-08-28 18:25:48,199 Parameters: domain_dimensions         = [ 512    1 4096]\n",
      "yt : [INFO     ] 2024-08-28 18:25:48,201 Parameters: domain_left_edge          = [ 0.0000e+00  0.0000e+00 -1.2072e+22]\n",
      "yt : [INFO     ] 2024-08-28 18:25:48,202 Parameters: domain_right_edge         = [3.0180e+21 3.0180e+21 1.2072e+22]\n",
      "yt : [INFO     ] 2024-08-28 18:25:48,978 Parameters: current_time              = 1285773864116361.2\n",
      "yt : [INFO     ] 2024-08-28 18:25:48,980 Parameters: domain_dimensions         = [ 512    1 4096]\n",
      "yt : [INFO     ] 2024-08-28 18:25:48,981 Parameters: domain_left_edge          = [ 0.0000e+00  0.0000e+00 -1.2072e+22]\n",
      "yt : [INFO     ] 2024-08-28 18:25:48,982 Parameters: domain_right_edge         = [3.0180e+21 3.0180e+21 1.2072e+22]\n",
      "yt : [INFO     ] 2024-08-28 18:25:49,758 Parameters: current_time              = 2866089900448078.0\n",
      "yt : [INFO     ] 2024-08-28 18:25:49,760 Parameters: domain_dimensions         = [ 512    1 4096]\n",
      "yt : [INFO     ] 2024-08-28 18:25:49,761 Parameters: domain_left_edge          = [ 0.0000e+00  0.0000e+00 -1.2072e+22]\n",
      "yt : [INFO     ] 2024-08-28 18:25:49,763 Parameters: domain_right_edge         = [3.0180e+21 3.0180e+21 1.2072e+22]\n",
      "yt : [INFO     ] 2024-08-28 18:25:50,546 Parameters: current_time              = 2095799853122764.0\n",
      "yt : [INFO     ] 2024-08-28 18:25:50,547 Parameters: domain_dimensions         = [ 512    1 4096]\n",
      "yt : [INFO     ] 2024-08-28 18:25:50,548 Parameters: domain_left_edge          = [ 0.0000e+00  0.0000e+00 -1.2072e+22]\n",
      "yt : [INFO     ] 2024-08-28 18:25:50,550 Parameters: domain_right_edge         = [3.0180e+21 3.0180e+21 1.2072e+22]\n",
      "yt : [INFO     ] 2024-08-28 18:25:51,320 Parameters: current_time              = 4287598271814110.0\n",
      "yt : [INFO     ] 2024-08-28 18:25:51,322 Parameters: domain_dimensions         = [ 512    1 4096]\n",
      "yt : [INFO     ] 2024-08-28 18:25:51,323 Parameters: domain_left_edge          = [ 0.0000e+00  0.0000e+00 -1.2072e+22]\n",
      "yt : [INFO     ] 2024-08-28 18:25:51,324 Parameters: domain_right_edge         = [3.0180e+21 3.0180e+21 1.2072e+22]\n",
      "yt : [INFO     ] 2024-08-28 18:25:52,098 Parameters: current_time              = 5651511986405138.0\n",
      "yt : [INFO     ] 2024-08-28 18:25:52,100 Parameters: domain_dimensions         = [ 512    1 4096]\n",
      "yt : [INFO     ] 2024-08-28 18:25:52,101 Parameters: domain_left_edge          = [ 0.0000e+00  0.0000e+00 -1.2072e+22]\n",
      "yt : [INFO     ] 2024-08-28 18:25:52,103 Parameters: domain_right_edge         = [3.0180e+21 3.0180e+21 1.2072e+22]\n",
      "yt : [INFO     ] 2024-08-28 18:25:52,873 Parameters: current_time              = 1488492693531072.0\n",
      "yt : [INFO     ] 2024-08-28 18:25:52,874 Parameters: domain_dimensions         = [ 512    1 4096]\n",
      "yt : [INFO     ] 2024-08-28 18:25:52,876 Parameters: domain_left_edge          = [ 0.0000e+00  0.0000e+00 -1.2072e+22]\n",
      "yt : [INFO     ] 2024-08-28 18:25:52,877 Parameters: domain_right_edge         = [3.0180e+21 3.0180e+21 1.2072e+22]\n",
      "yt : [INFO     ] 2024-08-28 18:25:53,647 Parameters: current_time              = 2546864738634560.0\n",
      "yt : [INFO     ] 2024-08-28 18:25:53,648 Parameters: domain_dimensions         = [ 512    1 4096]\n",
      "yt : [INFO     ] 2024-08-28 18:25:53,649 Parameters: domain_left_edge          = [ 0.0000e+00  0.0000e+00 -1.2072e+22]\n",
      "yt : [INFO     ] 2024-08-28 18:25:53,651 Parameters: domain_right_edge         = [3.0180e+21 3.0180e+21 1.2072e+22]\n",
      "yt : [INFO     ] 2024-08-28 18:25:54,426 Parameters: current_time              = 573600506627931.8\n",
      "yt : [INFO     ] 2024-08-28 18:25:54,427 Parameters: domain_dimensions         = [ 512    1 4096]\n",
      "yt : [INFO     ] 2024-08-28 18:25:54,429 Parameters: domain_left_edge          = [ 0.0000e+00  0.0000e+00 -1.2072e+22]\n",
      "yt : [INFO     ] 2024-08-28 18:25:54,430 Parameters: domain_right_edge         = [3.0180e+21 3.0180e+21 1.2072e+22]\n",
      "yt : [INFO     ] 2024-08-28 18:25:55,204 Parameters: current_time              = 3008764407370814.0\n",
      "yt : [INFO     ] 2024-08-28 18:25:55,205 Parameters: domain_dimensions         = [ 512    1 4096]\n",
      "yt : [INFO     ] 2024-08-28 18:25:55,206 Parameters: domain_left_edge          = [ 0.0000e+00  0.0000e+00 -1.2072e+22]\n",
      "yt : [INFO     ] 2024-08-28 18:25:55,208 Parameters: domain_right_edge         = [3.0180e+21 3.0180e+21 1.2072e+22]\n",
      "yt : [INFO     ] 2024-08-28 18:25:56,003 Parameters: current_time              = 1083271596814163.8\n",
      "yt : [INFO     ] 2024-08-28 18:25:56,004 Parameters: domain_dimensions         = [ 512    1 4096]\n",
      "yt : [INFO     ] 2024-08-28 18:25:56,006 Parameters: domain_left_edge          = [ 0.0000e+00  0.0000e+00 -1.2072e+22]\n",
      "yt : [INFO     ] 2024-08-28 18:25:56,007 Parameters: domain_right_edge         = [3.0180e+21 3.0180e+21 1.2072e+22]\n",
      "yt : [INFO     ] 2024-08-28 18:25:56,785 Parameters: current_time              = 5689310544416520.0\n",
      "yt : [INFO     ] 2024-08-28 18:25:56,786 Parameters: domain_dimensions         = [ 512    1 4096]\n",
      "yt : [INFO     ] 2024-08-28 18:25:56,787 Parameters: domain_left_edge          = [ 0.0000e+00  0.0000e+00 -1.2072e+22]\n",
      "yt : [INFO     ] 2024-08-28 18:25:56,789 Parameters: domain_right_edge         = [3.0180e+21 3.0180e+21 1.2072e+22]\n",
      "yt : [INFO     ] 2024-08-28 18:25:57,567 Parameters: current_time              = 2906015038182184.0\n",
      "yt : [INFO     ] 2024-08-28 18:25:57,569 Parameters: domain_dimensions         = [ 512    1 4096]\n",
      "yt : [INFO     ] 2024-08-28 18:25:57,570 Parameters: domain_left_edge          = [ 0.0000e+00  0.0000e+00 -1.2072e+22]\n",
      "yt : [INFO     ] 2024-08-28 18:25:57,571 Parameters: domain_right_edge         = [3.0180e+21 3.0180e+21 1.2072e+22]\n"
     ]
    },
    {
     "name": "stderr",
     "output_type": "stream",
     "text": [
      "yt : [INFO     ] 2024-08-28 18:25:58,346 Parameters: current_time              = 2846109354743891.0\n",
      "yt : [INFO     ] 2024-08-28 18:25:58,348 Parameters: domain_dimensions         = [ 512    1 4096]\n",
      "yt : [INFO     ] 2024-08-28 18:25:58,349 Parameters: domain_left_edge          = [ 0.0000e+00  0.0000e+00 -1.2072e+22]\n",
      "yt : [INFO     ] 2024-08-28 18:25:58,350 Parameters: domain_right_edge         = [3.0180e+21 3.0180e+21 1.2072e+22]\n",
      "yt : [INFO     ] 2024-08-28 18:25:59,127 Parameters: current_time              = 1438645164078513.8\n",
      "yt : [INFO     ] 2024-08-28 18:25:59,129 Parameters: domain_dimensions         = [ 512    1 4096]\n",
      "yt : [INFO     ] 2024-08-28 18:25:59,130 Parameters: domain_left_edge          = [ 0.0000e+00  0.0000e+00 -1.2072e+22]\n",
      "yt : [INFO     ] 2024-08-28 18:25:59,132 Parameters: domain_right_edge         = [3.0180e+21 3.0180e+21 1.2072e+22]\n",
      "yt : [INFO     ] 2024-08-28 18:26:00,251 Parameters: current_time              = 2331023082801178.0\n",
      "yt : [INFO     ] 2024-08-28 18:26:00,252 Parameters: domain_dimensions         = [ 512    1 4096]\n",
      "yt : [INFO     ] 2024-08-28 18:26:00,253 Parameters: domain_left_edge          = [ 0.0000e+00  0.0000e+00 -1.2072e+22]\n",
      "yt : [INFO     ] 2024-08-28 18:26:00,255 Parameters: domain_right_edge         = [3.0180e+21 3.0180e+21 1.2072e+22]\n",
      "yt : [INFO     ] 2024-08-28 18:26:00,945 Parameters: current_time              = 2806202766840993.0\n",
      "yt : [INFO     ] 2024-08-28 18:26:00,946 Parameters: domain_dimensions         = [ 512    1 4096]\n",
      "yt : [INFO     ] 2024-08-28 18:26:00,948 Parameters: domain_left_edge          = [ 0.0000e+00  0.0000e+00 -1.2072e+22]\n",
      "yt : [INFO     ] 2024-08-28 18:26:00,949 Parameters: domain_right_edge         = [3.0180e+21 3.0180e+21 1.2072e+22]\n",
      "yt : [INFO     ] 2024-08-28 18:26:01,641 Parameters: current_time              = 6102926436704850.0\n",
      "yt : [INFO     ] 2024-08-28 18:26:01,642 Parameters: domain_dimensions         = [ 512    1 4096]\n",
      "yt : [INFO     ] 2024-08-28 18:26:01,643 Parameters: domain_left_edge          = [ 0.0000e+00  0.0000e+00 -1.2072e+22]\n",
      "yt : [INFO     ] 2024-08-28 18:26:01,645 Parameters: domain_right_edge         = [3.0180e+21 3.0180e+21 1.2072e+22]\n",
      "yt : [INFO     ] 2024-08-28 18:26:02,332 Parameters: current_time              = 1858945156449096.2\n",
      "yt : [INFO     ] 2024-08-28 18:26:02,333 Parameters: domain_dimensions         = [ 512    1 4096]\n",
      "yt : [INFO     ] 2024-08-28 18:26:02,335 Parameters: domain_left_edge          = [ 0.0000e+00  0.0000e+00 -1.2072e+22]\n",
      "yt : [INFO     ] 2024-08-28 18:26:02,336 Parameters: domain_right_edge         = [3.0180e+21 3.0180e+21 1.2072e+22]\n",
      "yt : [INFO     ] 2024-08-28 18:26:03,028 Parameters: current_time              = 3425938617658595.0\n",
      "yt : [INFO     ] 2024-08-28 18:26:03,029 Parameters: domain_dimensions         = [ 512    1 4096]\n",
      "yt : [INFO     ] 2024-08-28 18:26:03,030 Parameters: domain_left_edge          = [ 0.0000e+00  0.0000e+00 -1.2072e+22]\n",
      "yt : [INFO     ] 2024-08-28 18:26:03,032 Parameters: domain_right_edge         = [3.0180e+21 3.0180e+21 1.2072e+22]\n",
      "yt : [INFO     ] 2024-08-28 18:26:03,723 Parameters: current_time              = 2157014673731671.2\n",
      "yt : [INFO     ] 2024-08-28 18:26:03,725 Parameters: domain_dimensions         = [ 512    1 4096]\n",
      "yt : [INFO     ] 2024-08-28 18:26:03,726 Parameters: domain_left_edge          = [ 0.0000e+00  0.0000e+00 -1.2072e+22]\n",
      "yt : [INFO     ] 2024-08-28 18:26:03,728 Parameters: domain_right_edge         = [3.0180e+21 3.0180e+21 1.2072e+22]\n",
      "yt : [INFO     ] 2024-08-28 18:26:04,419 Parameters: current_time              = 685073898963919.0\n",
      "yt : [INFO     ] 2024-08-28 18:26:04,421 Parameters: domain_dimensions         = [ 512    1 4096]\n",
      "yt : [INFO     ] 2024-08-28 18:26:04,422 Parameters: domain_left_edge          = [ 0.0000e+00  0.0000e+00 -1.2072e+22]\n",
      "yt : [INFO     ] 2024-08-28 18:26:04,424 Parameters: domain_right_edge         = [3.0180e+21 3.0180e+21 1.2072e+22]\n",
      "yt : [INFO     ] 2024-08-28 18:26:05,532 Parameters: current_time              = 4848710371178773.0\n",
      "yt : [INFO     ] 2024-08-28 18:26:05,534 Parameters: domain_dimensions         = [ 512    1 4096]\n",
      "yt : [INFO     ] 2024-08-28 18:26:05,535 Parameters: domain_left_edge          = [ 0.0000e+00  0.0000e+00 -1.2072e+22]\n",
      "yt : [INFO     ] 2024-08-28 18:26:05,537 Parameters: domain_right_edge         = [3.0180e+21 3.0180e+21 1.2072e+22]\n",
      "yt : [INFO     ] 2024-08-28 18:26:06,228 Parameters: current_time              = 4190750867942050.0\n",
      "yt : [INFO     ] 2024-08-28 18:26:06,229 Parameters: domain_dimensions         = [ 512    1 4096]\n",
      "yt : [INFO     ] 2024-08-28 18:26:06,230 Parameters: domain_left_edge          = [ 0.0000e+00  0.0000e+00 -1.2072e+22]\n",
      "yt : [INFO     ] 2024-08-28 18:26:06,231 Parameters: domain_right_edge         = [3.0180e+21 3.0180e+21 1.2072e+22]\n",
      "yt : [INFO     ] 2024-08-28 18:26:06,920 Parameters: current_time              = 2422497972294151.0\n",
      "yt : [INFO     ] 2024-08-28 18:26:06,921 Parameters: domain_dimensions         = [ 512    1 4096]\n",
      "yt : [INFO     ] 2024-08-28 18:26:06,923 Parameters: domain_left_edge          = [ 0.0000e+00  0.0000e+00 -1.2072e+22]\n",
      "yt : [INFO     ] 2024-08-28 18:26:06,924 Parameters: domain_right_edge         = [3.0180e+21 3.0180e+21 1.2072e+22]\n",
      "yt : [INFO     ] 2024-08-28 18:26:07,615 Parameters: current_time              = 926560795757970.2\n",
      "yt : [INFO     ] 2024-08-28 18:26:07,617 Parameters: domain_dimensions         = [ 512    1 4096]\n",
      "yt : [INFO     ] 2024-08-28 18:26:07,618 Parameters: domain_left_edge          = [ 0.0000e+00  0.0000e+00 -1.2072e+22]\n",
      "yt : [INFO     ] 2024-08-28 18:26:07,619 Parameters: domain_right_edge         = [3.0180e+21 3.0180e+21 1.2072e+22]\n",
      "yt : [INFO     ] 2024-08-28 18:26:08,308 Parameters: current_time              = 2487658531337340.0\n",
      "yt : [INFO     ] 2024-08-28 18:26:08,309 Parameters: domain_dimensions         = [ 512    1 4096]\n",
      "yt : [INFO     ] 2024-08-28 18:26:08,311 Parameters: domain_left_edge          = [ 0.0000e+00  0.0000e+00 -1.2072e+22]\n",
      "yt : [INFO     ] 2024-08-28 18:26:08,312 Parameters: domain_right_edge         = [3.0180e+21 3.0180e+21 1.2072e+22]\n",
      "yt : [INFO     ] 2024-08-28 18:26:09,000 Parameters: current_time              = 2207700311186428.2\n",
      "yt : [INFO     ] 2024-08-28 18:26:09,001 Parameters: domain_dimensions         = [ 512    1 4096]\n",
      "yt : [INFO     ] 2024-08-28 18:26:09,002 Parameters: domain_left_edge          = [ 0.0000e+00  0.0000e+00 -1.2072e+22]\n",
      "yt : [INFO     ] 2024-08-28 18:26:09,004 Parameters: domain_right_edge         = [3.0180e+21 3.0180e+21 1.2072e+22]\n",
      "yt : [INFO     ] 2024-08-28 18:26:09,691 Parameters: current_time              = 573600506627931.8\n",
      "yt : [INFO     ] 2024-08-28 18:26:09,692 Parameters: domain_dimensions         = [ 512    1 4096]\n",
      "yt : [INFO     ] 2024-08-28 18:26:09,694 Parameters: domain_left_edge          = [ 0.0000e+00  0.0000e+00 -1.2072e+22]\n",
      "yt : [INFO     ] 2024-08-28 18:26:09,695 Parameters: domain_right_edge         = [3.0180e+21 3.0180e+21 1.2072e+22]\n",
      "yt : [INFO     ] 2024-08-28 18:26:10,388 Parameters: current_time              = 4700609062762225.0\n",
      "yt : [INFO     ] 2024-08-28 18:26:10,390 Parameters: domain_dimensions         = [ 512    1 4096]\n",
      "yt : [INFO     ] 2024-08-28 18:26:10,391 Parameters: domain_left_edge          = [ 0.0000e+00  0.0000e+00 -1.2072e+22]\n",
      "yt : [INFO     ] 2024-08-28 18:26:10,393 Parameters: domain_right_edge         = [3.0180e+21 3.0180e+21 1.2072e+22]\n",
      "yt : [INFO     ] 2024-08-28 18:26:11,640 Parameters: current_time              = 3083703885515345.5\n",
      "yt : [INFO     ] 2024-08-28 18:26:11,642 Parameters: domain_dimensions         = [ 512    1 4096]\n",
      "yt : [INFO     ] 2024-08-28 18:26:11,643 Parameters: domain_left_edge          = [ 0.0000e+00  0.0000e+00 -1.2072e+22]\n",
      "yt : [INFO     ] 2024-08-28 18:26:11,644 Parameters: domain_right_edge         = [3.0180e+21 3.0180e+21 1.2072e+22]\n",
      "yt : [INFO     ] 2024-08-28 18:26:12,361 Parameters: current_time              = 5060593142486559.0\n",
      "yt : [INFO     ] 2024-08-28 18:26:12,363 Parameters: domain_dimensions         = [ 512    1 4096]\n",
      "yt : [INFO     ] 2024-08-28 18:26:12,364 Parameters: domain_left_edge          = [ 0.0000e+00  0.0000e+00 -1.2072e+22]\n",
      "yt : [INFO     ] 2024-08-28 18:26:12,366 Parameters: domain_right_edge         = [3.0180e+21 3.0180e+21 1.2072e+22]\n"
     ]
    },
    {
     "name": "stderr",
     "output_type": "stream",
     "text": [
      "yt : [INFO     ] 2024-08-28 18:26:13,106 Parameters: current_time              = 3529127306801957.0\n",
      "yt : [INFO     ] 2024-08-28 18:26:13,108 Parameters: domain_dimensions         = [ 512    1 4096]\n",
      "yt : [INFO     ] 2024-08-28 18:26:13,109 Parameters: domain_left_edge          = [ 0.0000e+00  0.0000e+00 -1.2072e+22]\n",
      "yt : [INFO     ] 2024-08-28 18:26:13,111 Parameters: domain_right_edge         = [3.0180e+21 3.0180e+21 1.2072e+22]\n",
      "yt : [INFO     ] 2024-08-28 18:26:13,800 Parameters: current_time              = 6009978725734348.0\n",
      "yt : [INFO     ] 2024-08-28 18:26:13,802 Parameters: domain_dimensions         = [ 512    1 4096]\n",
      "yt : [INFO     ] 2024-08-28 18:26:13,803 Parameters: domain_left_edge          = [ 0.0000e+00  0.0000e+00 -1.2072e+22]\n",
      "yt : [INFO     ] 2024-08-28 18:26:13,804 Parameters: domain_right_edge         = [3.0180e+21 3.0180e+21 1.2072e+22]\n",
      "yt : [INFO     ] 2024-08-28 18:26:15,105 Parameters: current_time              = 2766197641549027.5\n",
      "yt : [INFO     ] 2024-08-28 18:26:15,107 Parameters: domain_dimensions         = [ 512    1 4096]\n",
      "yt : [INFO     ] 2024-08-28 18:26:15,108 Parameters: domain_left_edge          = [ 0.0000e+00  0.0000e+00 -1.2072e+22]\n",
      "yt : [INFO     ] 2024-08-28 18:26:15,110 Parameters: domain_right_edge         = [3.0180e+21 3.0180e+21 1.2072e+22]\n",
      "yt : [INFO     ] 2024-08-28 18:26:15,806 Parameters: current_time              = 3365914093130080.5\n",
      "yt : [INFO     ] 2024-08-28 18:26:15,808 Parameters: domain_dimensions         = [ 512    1 4096]\n",
      "yt : [INFO     ] 2024-08-28 18:26:15,809 Parameters: domain_left_edge          = [ 0.0000e+00  0.0000e+00 -1.2072e+22]\n",
      "yt : [INFO     ] 2024-08-28 18:26:15,810 Parameters: domain_right_edge         = [3.0180e+21 3.0180e+21 1.2072e+22]\n",
      "yt : [INFO     ] 2024-08-28 18:26:16,525 Parameters: current_time              = 2038927963555949.0\n",
      "yt : [INFO     ] 2024-08-28 18:26:16,527 Parameters: domain_dimensions         = [ 512    1 4096]\n",
      "yt : [INFO     ] 2024-08-28 18:26:16,528 Parameters: domain_left_edge          = [ 0.0000e+00  0.0000e+00 -1.2072e+22]\n",
      "yt : [INFO     ] 2024-08-28 18:26:16,529 Parameters: domain_right_edge         = [3.0180e+21 3.0180e+21 1.2072e+22]\n",
      "yt : [INFO     ] 2024-08-28 18:26:17,266 Parameters: current_time              = 4550644665517481.0\n",
      "yt : [INFO     ] 2024-08-28 18:26:17,268 Parameters: domain_dimensions         = [ 512    1 4096]\n",
      "yt : [INFO     ] 2024-08-28 18:26:17,269 Parameters: domain_left_edge          = [ 0.0000e+00  0.0000e+00 -1.2072e+22]\n",
      "yt : [INFO     ] 2024-08-28 18:26:17,271 Parameters: domain_right_edge         = [3.0180e+21 3.0180e+21 1.2072e+22]\n",
      "yt : [INFO     ] 2024-08-28 18:26:18,034 Parameters: current_time              = 5590383243308000.0\n",
      "yt : [INFO     ] 2024-08-28 18:26:18,035 Parameters: domain_dimensions         = [ 512    1 4096]\n",
      "yt : [INFO     ] 2024-08-28 18:26:18,036 Parameters: domain_left_edge          = [ 0.0000e+00  0.0000e+00 -1.2072e+22]\n",
      "yt : [INFO     ] 2024-08-28 18:26:18,038 Parameters: domain_right_edge         = [3.0180e+21 3.0180e+21 1.2072e+22]\n",
      "yt : [INFO     ] 2024-08-28 18:26:18,812 Parameters: current_time              = 4498114330232297.0\n",
      "yt : [INFO     ] 2024-08-28 18:26:18,814 Parameters: domain_dimensions         = [ 512    1 4096]\n",
      "yt : [INFO     ] 2024-08-28 18:26:18,815 Parameters: domain_left_edge          = [ 0.0000e+00  0.0000e+00 -1.2072e+22]\n",
      "yt : [INFO     ] 2024-08-28 18:26:18,817 Parameters: domain_right_edge         = [3.0180e+21 3.0180e+21 1.2072e+22]\n",
      "yt : [INFO     ] 2024-08-28 18:26:19,590 Parameters: current_time              = 1152867470751366.8\n",
      "yt : [INFO     ] 2024-08-28 18:26:19,592 Parameters: domain_dimensions         = [ 512    1 4096]\n",
      "yt : [INFO     ] 2024-08-28 18:26:19,593 Parameters: domain_left_edge          = [ 0.0000e+00  0.0000e+00 -1.2072e+22]\n",
      "yt : [INFO     ] 2024-08-28 18:26:19,595 Parameters: domain_right_edge         = [3.0180e+21 3.0180e+21 1.2072e+22]\n",
      "yt : [INFO     ] 2024-08-28 18:26:20,371 Parameters: current_time              = 4516193964434500.0\n",
      "yt : [INFO     ] 2024-08-28 18:26:20,373 Parameters: domain_dimensions         = [ 512    1 4096]\n",
      "yt : [INFO     ] 2024-08-28 18:26:20,374 Parameters: domain_left_edge          = [ 0.0000e+00  0.0000e+00 -1.2072e+22]\n",
      "yt : [INFO     ] 2024-08-28 18:26:20,376 Parameters: domain_right_edge         = [3.0180e+21 3.0180e+21 1.2072e+22]\n",
      "yt : [INFO     ] 2024-08-28 18:26:21,598 Parameters: current_time              = 5394329930423707.0\n",
      "yt : [INFO     ] 2024-08-28 18:26:21,599 Parameters: domain_dimensions         = [ 512    1 4096]\n",
      "yt : [INFO     ] 2024-08-28 18:26:21,601 Parameters: domain_left_edge          = [ 0.0000e+00  0.0000e+00 -1.2072e+22]\n",
      "yt : [INFO     ] 2024-08-28 18:26:21,602 Parameters: domain_right_edge         = [3.0180e+21 3.0180e+21 1.2072e+22]\n",
      "yt : [INFO     ] 2024-08-28 18:26:22,382 Parameters: current_time              = 3870397180205941.0\n",
      "yt : [INFO     ] 2024-08-28 18:26:22,384 Parameters: domain_dimensions         = [ 512    1 4096]\n",
      "yt : [INFO     ] 2024-08-28 18:26:22,385 Parameters: domain_left_edge          = [ 0.0000e+00  0.0000e+00 -1.2072e+22]\n",
      "yt : [INFO     ] 2024-08-28 18:26:22,386 Parameters: domain_right_edge         = [3.0180e+21 3.0180e+21 1.2072e+22]\n",
      "yt : [INFO     ] 2024-08-28 18:26:23,699 Parameters: current_time              = 2691988641713706.0\n",
      "yt : [INFO     ] 2024-08-28 18:26:23,700 Parameters: domain_dimensions         = [ 256    1 4096]\n",
      "yt : [INFO     ] 2024-08-28 18:26:23,702 Parameters: domain_left_edge          = [ 0.0000e+00  0.0000e+00 -2.4144e+22]\n",
      "yt : [INFO     ] 2024-08-28 18:26:23,703 Parameters: domain_right_edge         = [3.0180e+21 3.0180e+21 2.4144e+22]\n"
     ]
    },
    {
     "name": "stdout",
     "output_type": "stream",
     "text": [
      "/g/data/jh2/av5889/quokka_myrepo/quokka/sims/SetonixData/R16-0.2Zsol/4pc/\n"
     ]
    },
    {
     "name": "stderr",
     "output_type": "stream",
     "text": [
      "yt : [INFO     ] 2024-08-28 18:26:24,272 Parameters: current_time              = 6083275366984045.0\n",
      "yt : [INFO     ] 2024-08-28 18:26:24,274 Parameters: domain_dimensions         = [ 256    1 4096]\n",
      "yt : [INFO     ] 2024-08-28 18:26:24,275 Parameters: domain_left_edge          = [ 0.0000e+00  0.0000e+00 -2.4144e+22]\n",
      "yt : [INFO     ] 2024-08-28 18:26:24,276 Parameters: domain_right_edge         = [3.0180e+21 3.0180e+21 2.4144e+22]\n",
      "yt : [INFO     ] 2024-08-28 18:26:24,851 Parameters: current_time              = 6839634091359872.0\n",
      "yt : [INFO     ] 2024-08-28 18:26:24,852 Parameters: domain_dimensions         = [ 256    1 4096]\n",
      "yt : [INFO     ] 2024-08-28 18:26:24,853 Parameters: domain_left_edge          = [ 0.0000e+00  0.0000e+00 -2.4144e+22]\n",
      "yt : [INFO     ] 2024-08-28 18:26:24,855 Parameters: domain_right_edge         = [3.0180e+21 3.0180e+21 2.4144e+22]\n",
      "yt : [INFO     ] 2024-08-28 18:26:25,634 Parameters: current_time              = 5326332170238982.0\n",
      "yt : [INFO     ] 2024-08-28 18:26:25,635 Parameters: domain_dimensions         = [ 256    1 4096]\n",
      "yt : [INFO     ] 2024-08-28 18:26:25,637 Parameters: domain_left_edge          = [ 0.0000e+00  0.0000e+00 -2.4144e+22]\n",
      "yt : [INFO     ] 2024-08-28 18:26:25,638 Parameters: domain_right_edge         = [3.0180e+21 3.0180e+21 2.4144e+22]\n",
      "yt : [INFO     ] 2024-08-28 18:26:26,311 Parameters: current_time              = 6687634773438837.0\n",
      "yt : [INFO     ] 2024-08-28 18:26:26,312 Parameters: domain_dimensions         = [ 256    1 4096]\n",
      "yt : [INFO     ] 2024-08-28 18:26:26,313 Parameters: domain_left_edge          = [ 0.0000e+00  0.0000e+00 -2.4144e+22]\n",
      "yt : [INFO     ] 2024-08-28 18:26:26,314 Parameters: domain_right_edge         = [3.0180e+21 3.0180e+21 2.4144e+22]\n",
      "yt : [INFO     ] 2024-08-28 18:26:26,886 Parameters: current_time              = 3669250492804187.5\n",
      "yt : [INFO     ] 2024-08-28 18:26:26,888 Parameters: domain_dimensions         = [ 256    1 4096]\n",
      "yt : [INFO     ] 2024-08-28 18:26:26,889 Parameters: domain_left_edge          = [ 0.0000e+00  0.0000e+00 -2.4144e+22]\n",
      "yt : [INFO     ] 2024-08-28 18:26:26,890 Parameters: domain_right_edge         = [3.0180e+21 3.0180e+21 2.4144e+22]\n",
      "yt : [INFO     ] 2024-08-28 18:26:27,543 Parameters: current_time              = 4668470329042411.0\n",
      "yt : [INFO     ] 2024-08-28 18:26:27,545 Parameters: domain_dimensions         = [ 256    1 4096]\n",
      "yt : [INFO     ] 2024-08-28 18:26:27,546 Parameters: domain_left_edge          = [ 0.0000e+00  0.0000e+00 -2.4144e+22]\n",
      "yt : [INFO     ] 2024-08-28 18:26:27,547 Parameters: domain_right_edge         = [3.0180e+21 3.0180e+21 2.4144e+22]\n",
      "yt : [INFO     ] 2024-08-28 18:26:28,128 Parameters: current_time              = 3234459844365598.0\n",
      "yt : [INFO     ] 2024-08-28 18:26:28,130 Parameters: domain_dimensions         = [ 256    1 4096]\n",
      "yt : [INFO     ] 2024-08-28 18:26:28,131 Parameters: domain_left_edge          = [ 0.0000e+00  0.0000e+00 -2.4144e+22]\n",
      "yt : [INFO     ] 2024-08-28 18:26:28,133 Parameters: domain_right_edge         = [3.0180e+21 3.0180e+21 2.4144e+22]\n",
      "yt : [INFO     ] 2024-08-28 18:26:28,695 Parameters: current_time              = 5559374429084494.0\n",
      "yt : [INFO     ] 2024-08-28 18:26:28,696 Parameters: domain_dimensions         = [ 256    1 4096]\n",
      "yt : [INFO     ] 2024-08-28 18:26:28,697 Parameters: domain_left_edge          = [ 0.0000e+00  0.0000e+00 -2.4144e+22]\n",
      "yt : [INFO     ] 2024-08-28 18:26:28,698 Parameters: domain_right_edge         = [3.0180e+21 3.0180e+21 2.4144e+22]\n",
      "yt : [INFO     ] 2024-08-28 18:26:29,283 Parameters: current_time              = 5645286620792346.0\n",
      "yt : [INFO     ] 2024-08-28 18:26:29,284 Parameters: domain_dimensions         = [ 256    1 4096]\n",
      "yt : [INFO     ] 2024-08-28 18:26:29,286 Parameters: domain_left_edge          = [ 0.0000e+00  0.0000e+00 -2.4144e+22]\n",
      "yt : [INFO     ] 2024-08-28 18:26:29,287 Parameters: domain_right_edge         = [3.0180e+21 3.0180e+21 2.4144e+22]\n",
      "yt : [INFO     ] 2024-08-28 18:26:29,865 Parameters: current_time              = 4229740711825171.0\n",
      "yt : [INFO     ] 2024-08-28 18:26:29,866 Parameters: domain_dimensions         = [ 256    1 4096]\n",
      "yt : [INFO     ] 2024-08-28 18:26:29,868 Parameters: domain_left_edge          = [ 0.0000e+00  0.0000e+00 -2.4144e+22]\n",
      "yt : [INFO     ] 2024-08-28 18:26:29,869 Parameters: domain_right_edge         = [3.0180e+21 3.0180e+21 2.4144e+22]\n",
      "yt : [INFO     ] 2024-08-28 18:26:30,452 Parameters: current_time              = 4588760692664463.0\n",
      "yt : [INFO     ] 2024-08-28 18:26:30,454 Parameters: domain_dimensions         = [ 256    1 4096]\n",
      "yt : [INFO     ] 2024-08-28 18:26:30,455 Parameters: domain_left_edge          = [ 0.0000e+00  0.0000e+00 -2.4144e+22]\n",
      "yt : [INFO     ] 2024-08-28 18:26:30,456 Parameters: domain_right_edge         = [3.0180e+21 3.0180e+21 2.4144e+22]\n",
      "yt : [INFO     ] 2024-08-28 18:26:31,054 Parameters: current_time              = 4145506043038299.5\n",
      "yt : [INFO     ] 2024-08-28 18:26:31,055 Parameters: domain_dimensions         = [ 256    1 4096]\n",
      "yt : [INFO     ] 2024-08-28 18:26:31,057 Parameters: domain_left_edge          = [ 0.0000e+00  0.0000e+00 -2.4144e+22]\n",
      "yt : [INFO     ] 2024-08-28 18:26:31,058 Parameters: domain_right_edge         = [3.0180e+21 3.0180e+21 2.4144e+22]\n",
      "yt : [INFO     ] 2024-08-28 18:26:31,628 Parameters: current_time              = 7382634257766409.0\n",
      "yt : [INFO     ] 2024-08-28 18:26:31,629 Parameters: domain_dimensions         = [ 256    1 4096]\n",
      "yt : [INFO     ] 2024-08-28 18:26:31,631 Parameters: domain_left_edge          = [ 0.0000e+00  0.0000e+00 -2.4144e+22]\n",
      "yt : [INFO     ] 2024-08-28 18:26:31,632 Parameters: domain_right_edge         = [3.0180e+21 3.0180e+21 2.4144e+22]\n",
      "yt : [INFO     ] 2024-08-28 18:26:32,476 Parameters: current_time              = 6146976046203922.0\n",
      "yt : [INFO     ] 2024-08-28 18:26:32,478 Parameters: domain_dimensions         = [ 256    1 4096]\n",
      "yt : [INFO     ] 2024-08-28 18:26:32,479 Parameters: domain_left_edge          = [ 0.0000e+00  0.0000e+00 -2.4144e+22]\n",
      "yt : [INFO     ] 2024-08-28 18:26:32,480 Parameters: domain_right_edge         = [3.0180e+21 3.0180e+21 2.4144e+22]\n",
      "yt : [INFO     ] 2024-08-28 18:26:33,080 Parameters: current_time              = 7549419954511947.0\n",
      "yt : [INFO     ] 2024-08-28 18:26:33,081 Parameters: domain_dimensions         = [ 256    1 4096]\n",
      "yt : [INFO     ] 2024-08-28 18:26:33,082 Parameters: domain_left_edge          = [ 0.0000e+00  0.0000e+00 -2.4144e+22]\n",
      "yt : [INFO     ] 2024-08-28 18:26:33,084 Parameters: domain_right_edge         = [3.0180e+21 3.0180e+21 2.4144e+22]\n",
      "yt : [INFO     ] 2024-08-28 18:26:33,752 Parameters: current_time              = 659201543874160.1\n",
      "yt : [INFO     ] 2024-08-28 18:26:33,754 Parameters: domain_dimensions         = [ 256    1 4096]\n",
      "yt : [INFO     ] 2024-08-28 18:26:33,755 Parameters: domain_left_edge          = [ 0.0000e+00  0.0000e+00 -2.4144e+22]\n",
      "yt : [INFO     ] 2024-08-28 18:26:33,757 Parameters: domain_right_edge         = [3.0180e+21 3.0180e+21 2.4144e+22]\n",
      "yt : [INFO     ] 2024-08-28 18:26:34,363 Parameters: current_time              = 2898584846968993.0\n",
      "yt : [INFO     ] 2024-08-28 18:26:34,365 Parameters: domain_dimensions         = [ 256    1 4096]\n",
      "yt : [INFO     ] 2024-08-28 18:26:34,366 Parameters: domain_left_edge          = [ 0.0000e+00  0.0000e+00 -2.4144e+22]\n",
      "yt : [INFO     ] 2024-08-28 18:26:34,368 Parameters: domain_right_edge         = [3.0180e+21 3.0180e+21 2.4144e+22]\n",
      "yt : [INFO     ] 2024-08-28 18:26:35,125 Parameters: current_time              = 6222090327196229.0\n",
      "yt : [INFO     ] 2024-08-28 18:26:35,126 Parameters: domain_dimensions         = [ 256    1 4096]\n",
      "yt : [INFO     ] 2024-08-28 18:26:35,128 Parameters: domain_left_edge          = [ 0.0000e+00  0.0000e+00 -2.4144e+22]\n",
      "yt : [INFO     ] 2024-08-28 18:26:35,129 Parameters: domain_right_edge         = [3.0180e+21 3.0180e+21 2.4144e+22]\n",
      "yt : [INFO     ] 2024-08-28 18:26:35,764 Parameters: current_time              = 4391815150897238.5\n",
      "yt : [INFO     ] 2024-08-28 18:26:35,765 Parameters: domain_dimensions         = [ 256    1 4096]\n",
      "yt : [INFO     ] 2024-08-28 18:26:35,767 Parameters: domain_left_edge          = [ 0.0000e+00  0.0000e+00 -2.4144e+22]\n",
      "yt : [INFO     ] 2024-08-28 18:26:35,768 Parameters: domain_right_edge         = [3.0180e+21 3.0180e+21 2.4144e+22]\n"
     ]
    },
    {
     "name": "stderr",
     "output_type": "stream",
     "text": [
      "yt : [INFO     ] 2024-08-28 18:26:36,386 Parameters: current_time              = 1934636603562496.5\n",
      "yt : [INFO     ] 2024-08-28 18:26:36,388 Parameters: domain_dimensions         = [ 256    1 4096]\n",
      "yt : [INFO     ] 2024-08-28 18:26:36,389 Parameters: domain_left_edge          = [ 0.0000e+00  0.0000e+00 -2.4144e+22]\n",
      "yt : [INFO     ] 2024-08-28 18:26:36,391 Parameters: domain_right_edge         = [3.0180e+21 3.0180e+21 2.4144e+22]\n",
      "yt : [INFO     ] 2024-08-28 18:26:37,009 Parameters: current_time              = 519967853992013.44\n",
      "yt : [INFO     ] 2024-08-28 18:26:37,011 Parameters: domain_dimensions         = [ 256    1 4096]\n",
      "yt : [INFO     ] 2024-08-28 18:26:37,012 Parameters: domain_left_edge          = [ 0.0000e+00  0.0000e+00 -2.4144e+22]\n",
      "yt : [INFO     ] 2024-08-28 18:26:37,014 Parameters: domain_right_edge         = [3.0180e+21 3.0180e+21 2.4144e+22]\n",
      "yt : [INFO     ] 2024-08-28 18:26:37,692 Parameters: current_time              = 1683831428430089.0\n",
      "yt : [INFO     ] 2024-08-28 18:26:37,694 Parameters: domain_dimensions         = [ 256    1 4096]\n",
      "yt : [INFO     ] 2024-08-28 18:26:37,695 Parameters: domain_left_edge          = [ 0.0000e+00  0.0000e+00 -2.4144e+22]\n",
      "yt : [INFO     ] 2024-08-28 18:26:37,697 Parameters: domain_right_edge         = [3.0180e+21 3.0180e+21 2.4144e+22]\n",
      "yt : [INFO     ] 2024-08-28 18:26:38,779 Parameters: current_time              = 6624777367252568.0\n",
      "yt : [INFO     ] 2024-08-28 18:26:38,781 Parameters: domain_dimensions         = [ 256    1 4096]\n",
      "yt : [INFO     ] 2024-08-28 18:26:38,782 Parameters: domain_left_edge          = [ 0.0000e+00  0.0000e+00 -2.4144e+22]\n",
      "yt : [INFO     ] 2024-08-28 18:26:38,784 Parameters: domain_right_edge         = [3.0180e+21 3.0180e+21 2.4144e+22]\n",
      "yt : [INFO     ] 2024-08-28 18:26:39,377 Parameters: current_time              = 6758206125476727.0\n",
      "yt : [INFO     ] 2024-08-28 18:26:39,378 Parameters: domain_dimensions         = [ 256    1 4096]\n",
      "yt : [INFO     ] 2024-08-28 18:26:39,380 Parameters: domain_left_edge          = [ 0.0000e+00  0.0000e+00 -2.4144e+22]\n",
      "yt : [INFO     ] 2024-08-28 18:26:39,381 Parameters: domain_right_edge         = [3.0180e+21 3.0180e+21 2.4144e+22]\n",
      "yt : [INFO     ] 2024-08-28 18:26:39,966 Parameters: current_time              = 4066168529003810.5\n",
      "yt : [INFO     ] 2024-08-28 18:26:39,967 Parameters: domain_dimensions         = [ 256    1 4096]\n",
      "yt : [INFO     ] 2024-08-28 18:26:39,969 Parameters: domain_left_edge          = [ 0.0000e+00  0.0000e+00 -2.4144e+22]\n",
      "yt : [INFO     ] 2024-08-28 18:26:39,970 Parameters: domain_right_edge         = [3.0180e+21 3.0180e+21 2.4144e+22]\n",
      "yt : [INFO     ] 2024-08-28 18:26:40,560 Parameters: current_time              = 5860590778397089.0\n",
      "yt : [INFO     ] 2024-08-28 18:26:40,561 Parameters: domain_dimensions         = [ 256    1 4096]\n",
      "yt : [INFO     ] 2024-08-28 18:26:40,563 Parameters: domain_left_edge          = [ 0.0000e+00  0.0000e+00 -2.4144e+22]\n",
      "yt : [INFO     ] 2024-08-28 18:26:40,564 Parameters: domain_right_edge         = [3.0180e+21 3.0180e+21 2.4144e+22]\n",
      "yt : [INFO     ] 2024-08-28 18:26:41,209 Parameters: current_time              = 6537867760192760.0\n",
      "yt : [INFO     ] 2024-08-28 18:26:41,210 Parameters: domain_dimensions         = [ 256    1 4096]\n",
      "yt : [INFO     ] 2024-08-28 18:26:41,211 Parameters: domain_left_edge          = [ 0.0000e+00  0.0000e+00 -2.4144e+22]\n",
      "yt : [INFO     ] 2024-08-28 18:26:41,213 Parameters: domain_right_edge         = [3.0180e+21 3.0180e+21 2.4144e+22]\n",
      "yt : [INFO     ] 2024-08-28 18:26:41,833 Parameters: current_time              = 1102303077371314.2\n",
      "yt : [INFO     ] 2024-08-28 18:26:41,835 Parameters: domain_dimensions         = [ 256    1 4096]\n",
      "yt : [INFO     ] 2024-08-28 18:26:41,836 Parameters: domain_left_edge          = [ 0.0000e+00  0.0000e+00 -2.4144e+22]\n",
      "yt : [INFO     ] 2024-08-28 18:26:41,838 Parameters: domain_right_edge         = [3.0180e+21 3.0180e+21 2.4144e+22]\n",
      "yt : [INFO     ] 2024-08-28 18:26:42,411 Parameters: current_time              = 4901920089514011.0\n",
      "yt : [INFO     ] 2024-08-28 18:26:42,413 Parameters: domain_dimensions         = [ 256    1 4096]\n",
      "yt : [INFO     ] 2024-08-28 18:26:42,415 Parameters: domain_left_edge          = [ 0.0000e+00  0.0000e+00 -2.4144e+22]\n",
      "yt : [INFO     ] 2024-08-28 18:26:42,416 Parameters: domain_right_edge         = [3.0180e+21 3.0180e+21 2.4144e+22]\n",
      "yt : [INFO     ] 2024-08-28 18:26:43,165 Parameters: current_time              = 3313150701486907.5\n",
      "yt : [INFO     ] 2024-08-28 18:26:43,166 Parameters: domain_dimensions         = [ 256    1 4096]\n",
      "yt : [INFO     ] 2024-08-28 18:26:43,167 Parameters: domain_left_edge          = [ 0.0000e+00  0.0000e+00 -2.4144e+22]\n",
      "yt : [INFO     ] 2024-08-28 18:26:43,169 Parameters: domain_right_edge         = [3.0180e+21 3.0180e+21 2.4144e+22]\n",
      "yt : [INFO     ] 2024-08-28 18:26:43,761 Parameters: current_time              = 7292141764711308.0\n",
      "yt : [INFO     ] 2024-08-28 18:26:43,762 Parameters: domain_dimensions         = [ 256    1 4096]\n",
      "yt : [INFO     ] 2024-08-28 18:26:43,764 Parameters: domain_left_edge          = [ 0.0000e+00  0.0000e+00 -2.4144e+22]\n",
      "yt : [INFO     ] 2024-08-28 18:26:43,765 Parameters: domain_right_edge         = [3.0180e+21 3.0180e+21 2.4144e+22]\n",
      "yt : [INFO     ] 2024-08-28 18:26:44,446 Parameters: current_time              = 1280064377050431.8\n",
      "yt : [INFO     ] 2024-08-28 18:26:44,448 Parameters: domain_dimensions         = [ 256    1 4096]\n",
      "yt : [INFO     ] 2024-08-28 18:26:44,449 Parameters: domain_left_edge          = [ 0.0000e+00  0.0000e+00 -2.4144e+22]\n",
      "yt : [INFO     ] 2024-08-28 18:26:44,451 Parameters: domain_right_edge         = [3.0180e+21 3.0180e+21 2.4144e+22]\n",
      "yt : [INFO     ] 2024-08-28 18:26:45,074 Parameters: current_time              = 801668921023726.9\n",
      "yt : [INFO     ] 2024-08-28 18:26:45,075 Parameters: domain_dimensions         = [ 256    1 4096]\n",
      "yt : [INFO     ] 2024-08-28 18:26:45,077 Parameters: domain_left_edge          = [ 0.0000e+00  0.0000e+00 -2.4144e+22]\n",
      "yt : [INFO     ] 2024-08-28 18:26:45,078 Parameters: domain_right_edge         = [3.0180e+21 3.0180e+21 2.4144e+22]\n",
      "yt : [INFO     ] 2024-08-28 18:26:45,686 Parameters: current_time              = 2259627653763613.0\n",
      "yt : [INFO     ] 2024-08-28 18:26:45,688 Parameters: domain_dimensions         = [ 256    1 4096]\n",
      "yt : [INFO     ] 2024-08-28 18:26:45,689 Parameters: domain_left_edge          = [ 0.0000e+00  0.0000e+00 -2.4144e+22]\n",
      "yt : [INFO     ] 2024-08-28 18:26:45,690 Parameters: domain_right_edge         = [3.0180e+21 3.0180e+21 2.4144e+22]\n",
      "yt : [INFO     ] 2024-08-28 18:26:46,235 Parameters: current_time              = 5926877050085466.0\n",
      "yt : [INFO     ] 2024-08-28 18:26:46,237 Parameters: domain_dimensions         = [ 256    1 4096]\n",
      "yt : [INFO     ] 2024-08-28 18:26:46,238 Parameters: domain_left_edge          = [ 0.0000e+00  0.0000e+00 -2.4144e+22]\n",
      "yt : [INFO     ] 2024-08-28 18:26:46,240 Parameters: domain_right_edge         = [3.0180e+21 3.0180e+21 2.4144e+22]\n",
      "yt : [INFO     ] 2024-08-28 18:26:46,877 Parameters: current_time              = 5407294233746027.0\n",
      "yt : [INFO     ] 2024-08-28 18:26:46,879 Parameters: domain_dimensions         = [ 256    1 4096]\n",
      "yt : [INFO     ] 2024-08-28 18:26:46,880 Parameters: domain_left_edge          = [ 0.0000e+00  0.0000e+00 -2.4144e+22]\n",
      "yt : [INFO     ] 2024-08-28 18:26:46,882 Parameters: domain_right_edge         = [3.0180e+21 3.0180e+21 2.4144e+22]\n",
      "yt : [INFO     ] 2024-08-28 18:26:47,474 Parameters: current_time              = 6373275062283421.0\n",
      "yt : [INFO     ] 2024-08-28 18:26:47,492 Parameters: domain_dimensions         = [ 256    1 4096]\n",
      "yt : [INFO     ] 2024-08-28 18:26:47,495 Parameters: domain_left_edge          = [ 0.0000e+00  0.0000e+00 -2.4144e+22]\n",
      "yt : [INFO     ] 2024-08-28 18:26:47,498 Parameters: domain_right_edge         = [3.0180e+21 3.0180e+21 2.4144e+22]\n",
      "yt : [INFO     ] 2024-08-28 18:26:48,108 Parameters: current_time              = 6985235964264353.0\n",
      "yt : [INFO     ] 2024-08-28 18:26:48,110 Parameters: domain_dimensions         = [ 256    1 4096]\n",
      "yt : [INFO     ] 2024-08-28 18:26:48,111 Parameters: domain_left_edge          = [ 0.0000e+00  0.0000e+00 -2.4144e+22]\n",
      "yt : [INFO     ] 2024-08-28 18:26:48,113 Parameters: domain_right_edge         = [3.0180e+21 3.0180e+21 2.4144e+22]\n"
     ]
    },
    {
     "name": "stderr",
     "output_type": "stream",
     "text": [
      "yt : [INFO     ] 2024-08-28 18:26:48,755 Parameters: current_time              = 3375809353276887.5\n",
      "yt : [INFO     ] 2024-08-28 18:26:48,756 Parameters: domain_dimensions         = [ 256    1 4096]\n",
      "yt : [INFO     ] 2024-08-28 18:26:48,758 Parameters: domain_left_edge          = [ 0.0000e+00  0.0000e+00 -2.4144e+22]\n",
      "yt : [INFO     ] 2024-08-28 18:26:48,759 Parameters: domain_right_edge         = [3.0180e+21 3.0180e+21 2.4144e+22]\n",
      "yt : [INFO     ] 2024-08-28 18:26:49,379 Parameters: current_time              = 3588838039988837.5\n",
      "yt : [INFO     ] 2024-08-28 18:26:49,381 Parameters: domain_dimensions         = [ 256    1 4096]\n",
      "yt : [INFO     ] 2024-08-28 18:26:49,382 Parameters: domain_left_edge          = [ 0.0000e+00  0.0000e+00 -2.4144e+22]\n",
      "yt : [INFO     ] 2024-08-28 18:26:49,383 Parameters: domain_right_edge         = [3.0180e+21 3.0180e+21 2.4144e+22]\n",
      "yt : [INFO     ] 2024-08-28 18:26:49,983 Parameters: current_time              = 2364146703598512.5\n",
      "yt : [INFO     ] 2024-08-28 18:26:49,985 Parameters: domain_dimensions         = [ 256    1 4096]\n",
      "yt : [INFO     ] 2024-08-28 18:26:49,986 Parameters: domain_left_edge          = [ 0.0000e+00  0.0000e+00 -2.4144e+22]\n",
      "yt : [INFO     ] 2024-08-28 18:26:49,988 Parameters: domain_right_edge         = [3.0180e+21 3.0180e+21 2.4144e+22]\n",
      "yt : [INFO     ] 2024-08-28 18:26:50,764 Parameters: current_time              = 4323953062677030.0\n",
      "yt : [INFO     ] 2024-08-28 18:26:50,766 Parameters: domain_dimensions         = [ 256    1 4096]\n",
      "yt : [INFO     ] 2024-08-28 18:26:50,767 Parameters: domain_left_edge          = [ 0.0000e+00  0.0000e+00 -2.4144e+22]\n",
      "yt : [INFO     ] 2024-08-28 18:26:50,768 Parameters: domain_right_edge         = [3.0180e+21 3.0180e+21 2.4144e+22]\n",
      "yt : [INFO     ] 2024-08-28 18:26:51,388 Parameters: current_time              = 3166317009885712.0\n",
      "yt : [INFO     ] 2024-08-28 18:26:51,390 Parameters: domain_dimensions         = [ 256    1 4096]\n",
      "yt : [INFO     ] 2024-08-28 18:26:51,391 Parameters: domain_left_edge          = [ 0.0000e+00  0.0000e+00 -2.4144e+22]\n",
      "yt : [INFO     ] 2024-08-28 18:26:51,393 Parameters: domain_right_edge         = [3.0180e+21 3.0180e+21 2.4144e+22]\n",
      "yt : [INFO     ] 2024-08-28 18:26:51,973 Parameters: current_time              = 955101989178269.5\n",
      "yt : [INFO     ] 2024-08-28 18:26:51,975 Parameters: domain_dimensions         = [ 256    1 4096]\n",
      "yt : [INFO     ] 2024-08-28 18:26:51,976 Parameters: domain_left_edge          = [ 0.0000e+00  0.0000e+00 -2.4144e+22]\n",
      "yt : [INFO     ] 2024-08-28 18:26:51,977 Parameters: domain_right_edge         = [3.0180e+21 3.0180e+21 2.4144e+22]\n",
      "yt : [INFO     ] 2024-08-28 18:26:52,675 Parameters: current_time              = 2159122683269535.5\n",
      "yt : [INFO     ] 2024-08-28 18:26:52,677 Parameters: domain_dimensions         = [ 256    1 4096]\n",
      "yt : [INFO     ] 2024-08-28 18:26:52,678 Parameters: domain_left_edge          = [ 0.0000e+00  0.0000e+00 -2.4144e+22]\n",
      "yt : [INFO     ] 2024-08-28 18:26:52,680 Parameters: domain_right_edge         = [3.0180e+21 3.0180e+21 2.4144e+22]\n",
      "yt : [INFO     ] 2024-08-28 18:26:53,351 Parameters: current_time              = 5792867481834898.0\n",
      "yt : [INFO     ] 2024-08-28 18:26:53,353 Parameters: domain_dimensions         = [ 256    1 4096]\n",
      "yt : [INFO     ] 2024-08-28 18:26:53,354 Parameters: domain_left_edge          = [ 0.0000e+00  0.0000e+00 -2.4144e+22]\n",
      "yt : [INFO     ] 2024-08-28 18:26:53,355 Parameters: domain_right_edge         = [3.0180e+21 3.0180e+21 2.4144e+22]\n",
      "yt : [INFO     ] 2024-08-28 18:26:53,939 Parameters: current_time              = 7465366924025482.0\n",
      "yt : [INFO     ] 2024-08-28 18:26:53,941 Parameters: domain_dimensions         = [ 256    1 4096]\n",
      "yt : [INFO     ] 2024-08-28 18:26:53,942 Parameters: domain_left_edge          = [ 0.0000e+00  0.0000e+00 -2.4144e+22]\n",
      "yt : [INFO     ] 2024-08-28 18:26:53,944 Parameters: domain_right_edge         = [3.0180e+21 3.0180e+21 2.4144e+22]\n",
      "yt : [INFO     ] 2024-08-28 18:26:54,521 Parameters: current_time              = 1577383066521352.2\n",
      "yt : [INFO     ] 2024-08-28 18:26:54,523 Parameters: domain_dimensions         = [ 256    1 4096]\n",
      "yt : [INFO     ] 2024-08-28 18:26:54,524 Parameters: domain_left_edge          = [ 0.0000e+00  0.0000e+00 -2.4144e+22]\n",
      "yt : [INFO     ] 2024-08-28 18:26:54,526 Parameters: domain_right_edge         = [3.0180e+21 3.0180e+21 2.4144e+22]\n",
      "yt : [INFO     ] 2024-08-28 18:26:55,113 Parameters: current_time              = 4822985657691797.0\n",
      "yt : [INFO     ] 2024-08-28 18:26:55,115 Parameters: domain_dimensions         = [ 256    1 4096]\n",
      "yt : [INFO     ] 2024-08-28 18:26:55,116 Parameters: domain_left_edge          = [ 0.0000e+00  0.0000e+00 -2.4144e+22]\n",
      "yt : [INFO     ] 2024-08-28 18:26:55,117 Parameters: domain_right_edge         = [3.0180e+21 3.0180e+21 2.4144e+22]\n"
     ]
    },
    {
     "data": {
      "text/plain": [
       "[Text(0.5, 0, 'z [kpc]'), Text(0.5, 0, 'z [kpc]'), Text(0.5, 0, 'z [kpc]')]"
      ]
     },
     "execution_count": 21,
     "metadata": {},
     "output_type": "execute_result"
    },
    {
     "data": {
      "image/png": "[encoded data removed]",
      "text/plain": [
       "<Figure size 720x1296 with 3 Axes>"
      ]
     },
     "metadata": {
      "needs_background": "light"
     },
     "output_type": "display_data"
    }
   ],
   "source": [
    "# folder_list = ['SummitData/GasGravity/Production2pc/R4/', 'SummitData/GasGravity/Production2pc/R4-0.2Zsol/', \\\n",
    "#                'SummitData/GasGravity/Production2pc/R8/', 'SummitData/GasGravity/Production2pc/R8-0.2Zsol/',\\\n",
    "#               'SetonixData/R16/4pc/','SetonixData/R16-0.2Zsol/4pc/']\n",
    "\n",
    "folder_list = ['SummitData/GasGravity/Production2pc/R4-0.2Zsol/',  \\\n",
    "               'SummitData/GasGravity/Production2pc/R8-0.2Zsol/',\\\n",
    "              'SetonixData/R16-0.2Zsol/4pc/']\n",
    "label = [r'$4\\Sigma_{\\rm Fid}^*$', r'$\\Sigma_{\\rm Fid}^*$', r'0.2$\\Sigma_{\\rm Fid}^*$']\n",
    "\n",
    "# folder_list = ['SummitData/GasGravity/Production2pc/R4/',  \\\n",
    "#                'SummitData/GasGravity/Production2pc/R8/',\\\n",
    "#               'SetonixData/R16/4pc/']\n",
    "# label = [r'$4\\Sigma_{\\rm Fid}$', r'$\\Sigma_{\\rm Fid}$', r'0.2$\\Sigma_{\\rm Fid}$']\n",
    "\n",
    "sigma_sfr = [ 0.000398107/yr_to_sec,\\\n",
    "               6.e-5/yr_to_sec ,\\\n",
    "               1.58e-6/yr_to_sec]\n",
    "kk= 0\n",
    "color =sns.color_palette(\"rocket\",n_colors=3) \n",
    "\n",
    "\n",
    "fig, ax = plt.subplots(3, 1, gridspec_kw = {'wspace':0.01, 'hspace':0.01},figsize=(10, 18))\n",
    "\n",
    "\n",
    "\n",
    "for folder in folder_list:\n",
    "    data_path = os.path.join('/g/data/jh2/av5889/quokka_myrepo/quokka/sims/', folder)\n",
    "    print(data_path)\n",
    "    \n",
    "    os.chdir(data_path)\n",
    "    list_file1 = glob.glob(\"proj_y_plt*\")\n",
    "    list_file = list_file1[0:50]\n",
    "    infile   = os.path.join(data_path, 'metal_uniform.in')\n",
    "\n",
    "    dom_min, dom_max, ncells = getdomain(infile)\n",
    "    fac = 1\n",
    "    zrange = np.linspace(dom_min[2], dom_max[2], (fac*int(ncells[2])))\n",
    "    xrange = np.linspace(dom_min[0], dom_max[0], (fac*int(ncells[0])))\n",
    "    yrange = np.linspace(dom_min[1], dom_max[1], (fac*int(ncells[1])))\n",
    "\n",
    "\n",
    "    dx = (dom_max[0]- dom_min[0])/(fac*int(ncells[0]))\n",
    "    dy = (dom_max[1]- dom_min[1])/(fac*int(ncells[1]))\n",
    "\n",
    "    scalar_flux_xz = np.zeros((len(list_file), xrange.shape[0], zrange.shape[0]))\n",
    "    wscalar_flux_xz = np.zeros((len(list_file), xrange.shape[0], zrange.shape[0]))\n",
    "    hscalar_flux_xz = np.zeros((len(list_file), xrange.shape[0], zrange.shape[0]))\n",
    "\n",
    "    i=0\n",
    "    for f in list_file:\n",
    "        inputfile = os.path.join(data_path, f)\n",
    "    \n",
    "        file_size = get_folder_size(inputfile) / (1024 * 1024)\n",
    "        \n",
    "        if(file_size<1.):\n",
    "            print('Skipping ', inputfile, '\\n')\n",
    "            continue\n",
    "            \n",
    "        ds   = yt.load(inputfile)\n",
    "        data = ds.covering_grid(level=0, left_edge=dom_min, dims=ds.domain_dimensions)\n",
    "        \n",
    "        curr_timestep = ds.current_time.to('Myr')\n",
    "        \n",
    "        wscalar_flux_xz[i,:] = np.abs(np.array(data['warm_scalar_outflow'])[:,0,:])*Zunit*dx\n",
    "        hscalar_flux_xz[i,:] = np.abs(np.array(data['hot_scalar_outflow'])[:,0,:])*Zunit*dx\n",
    "        scalar_flux_xz[i,:] = np.abs(np.array(data['scalar_outflow'])[:,0,:])*Zunit*dx\n",
    "        \n",
    "        i+=1  \n",
    "        \n",
    "    sign = zrange/np.abs(zrange)\n",
    "    \n",
    "    \n",
    "    scalar_flux_z = np.sum(scalar_flux_xz , axis=1)*sign #/((sigma_sfr[kk]/2)  * Msun)\n",
    "    wscalar_flux_z = np.sum(wscalar_flux_xz , axis=1)*sign #/((sigma_sfr[kk]/2)  * Msun)\n",
    "    hscalar_flux_z = np.sum(hscalar_flux_xz , axis=1)*sign #/((sigma_sfr[kk]/2)  * Msun)\n",
    "    \n",
    "    etaZ = (scalar_flux_z + scalar_flux_z[::-1])/(sigma_sfr[kk]  * Msun)\n",
    "    etaZw = (wscalar_flux_z + wscalar_flux_z[::-1])/(sigma_sfr[kk]  * Msun)\n",
    "    etaZh = (hscalar_flux_z + hscalar_flux_z[::-1])/(sigma_sfr[kk]  * Msun)\n",
    "\n",
    "    eta_tavg = np.average(etaZ,axis=0)\n",
    "    etaW_tavg = np.average(etaZw,axis=0)\n",
    "    etaH_tavg = np.average(etaZh,axis=0)\n",
    "    \n",
    "    eta_16 = np.percentile(etaZ, 16, axis=0)\n",
    "    eta_84 = np.percentile(etaZ, 84, axis=0)\n",
    "    \n",
    "    \n",
    "    ax[kk].plot(zrange/kpc, eta_tavg, color='darkmagenta', lw=2.0, ls ='-', label=label[kk])\n",
    "    ax[kk].plot(zrange/kpc, etaW_tavg, color='forestgreen', lw=2.0, ls ='--')\n",
    "    ax[kk].plot(zrange/kpc, etaH_tavg, color='darkorange', lw=2.0, ls ='--')\n",
    "    \n",
    "    ax[kk].fill_between(zrange/kpc, eta_16, eta_84,\\\n",
    "                        color='cornflowerblue', alpha=0.2)\n",
    "    ax[kk].set_xlim(0.1, np.amax(zrange)/kpc)\n",
    "    ax[kk].legend()\n",
    "    \n",
    "    kk+=1\n",
    "    \n",
    "ax[0].set_ylabel(r'$\\eta_Z$', fontsize =30)\n",
    "ax[0].tick_params(axis='y',  right=True, left=True)\n",
    "\n",
    "\n",
    "ax[0].set_ylim(0.1, 2.2)\n",
    "ax[1].set_ylim(0.1, 2.2)\n",
    "ax[2].set_ylim(0.0, 2.0)\n",
    "plt.setp(ax, 'xlabel', 'z [kpc]')"
   ]
  },
  {
   "cell_type": "code",
   "execution_count": 13,
   "id": "a0d3f5d4",
   "metadata": {
    "scrolled": true
   },
   "outputs": [
    {
     "name": "stderr",
     "output_type": "stream",
     "text": [
      "yt : [INFO     ] 2024-08-28 10:51:23,371 Parameters: current_time              = 2824722832607120.5\n",
      "yt : [INFO     ] 2024-08-28 10:51:23,372 Parameters: domain_dimensions         = [ 256    1 4096]\n",
      "yt : [INFO     ] 2024-08-28 10:51:23,373 Parameters: domain_left_edge          = [ 0.0000e+00  0.0000e+00 -2.4144e+22]\n",
      "yt : [INFO     ] 2024-08-28 10:51:23,375 Parameters: domain_right_edge         = [3.0180e+21 3.0180e+21 2.4144e+22]\n"
     ]
    },
    {
     "name": "stdout",
     "output_type": "stream",
     "text": [
      "SetonixData/R16/4pc/\n",
      "3071 (4096,)\n",
      "0 /g/data/jh2/av5889/quokka_myrepo/quokka/sims/SetonixData/R16/4pc/proj_y_plt200000\n"
     ]
    },
    {
     "name": "stderr",
     "output_type": "stream",
     "text": [
      "yt : [INFO     ] 2024-08-28 10:51:23,857 Parameters: current_time              = 5797556976246815.0\n",
      "yt : [INFO     ] 2024-08-28 10:51:23,858 Parameters: domain_dimensions         = [ 256    1 4096]\n",
      "yt : [INFO     ] 2024-08-28 10:51:23,859 Parameters: domain_left_edge          = [ 0.0000e+00  0.0000e+00 -2.4144e+22]\n",
      "yt : [INFO     ] 2024-08-28 10:51:23,861 Parameters: domain_right_edge         = [3.0180e+21 3.0180e+21 2.4144e+22]\n"
     ]
    },
    {
     "name": "stdout",
     "output_type": "stream",
     "text": [
      "1 /g/data/jh2/av5889/quokka_myrepo/quokka/sims/SetonixData/R16/4pc/proj_y_plt530000\n"
     ]
    },
    {
     "name": "stderr",
     "output_type": "stream",
     "text": [
      "yt : [INFO     ] 2024-08-28 10:51:24,342 Parameters: current_time              = 4138073528560012.0\n",
      "yt : [INFO     ] 2024-08-28 10:51:24,343 Parameters: domain_dimensions         = [ 256    1 4096]\n",
      "yt : [INFO     ] 2024-08-28 10:51:24,345 Parameters: domain_left_edge          = [ 0.0000e+00  0.0000e+00 -2.4144e+22]\n",
      "yt : [INFO     ] 2024-08-28 10:51:24,346 Parameters: domain_right_edge         = [3.0180e+21 3.0180e+21 2.4144e+22]\n"
     ]
    },
    {
     "name": "stdout",
     "output_type": "stream",
     "text": [
      "2 /g/data/jh2/av5889/quokka_myrepo/quokka/sims/SetonixData/R16/4pc/proj_y_plt320000\n"
     ]
    },
    {
     "name": "stderr",
     "output_type": "stream",
     "text": [
      "yt : [INFO     ] 2024-08-28 10:51:24,828 Parameters: current_time              = 5201917933901904.0\n",
      "yt : [INFO     ] 2024-08-28 10:51:24,829 Parameters: domain_dimensions         = [ 256    1 4096]\n",
      "yt : [INFO     ] 2024-08-28 10:51:24,831 Parameters: domain_left_edge          = [ 0.0000e+00  0.0000e+00 -2.4144e+22]\n",
      "yt : [INFO     ] 2024-08-28 10:51:24,832 Parameters: domain_right_edge         = [3.0180e+21 3.0180e+21 2.4144e+22]\n"
     ]
    },
    {
     "name": "stdout",
     "output_type": "stream",
     "text": [
      "3 /g/data/jh2/av5889/quokka_myrepo/quokka/sims/SetonixData/R16/4pc/proj_y_plt450000\n"
     ]
    },
    {
     "name": "stderr",
     "output_type": "stream",
     "text": [
      "yt : [INFO     ] 2024-08-28 10:51:25,315 Parameters: current_time              = 3486346979218841.0\n",
      "yt : [INFO     ] 2024-08-28 10:51:25,316 Parameters: domain_dimensions         = [ 256    1 4096]\n",
      "yt : [INFO     ] 2024-08-28 10:51:25,317 Parameters: domain_left_edge          = [ 0.0000e+00  0.0000e+00 -2.4144e+22]\n",
      "yt : [INFO     ] 2024-08-28 10:51:25,319 Parameters: domain_right_edge         = [3.0180e+21 3.0180e+21 2.4144e+22]\n"
     ]
    },
    {
     "name": "stdout",
     "output_type": "stream",
     "text": [
      "4 /g/data/jh2/av5889/quokka_myrepo/quokka/sims/SetonixData/R16/4pc/proj_y_plt260000\n"
     ]
    },
    {
     "name": "stderr",
     "output_type": "stream",
     "text": [
      "yt : [INFO     ] 2024-08-28 10:51:25,797 Parameters: current_time              = 6040951068727404.0\n",
      "yt : [INFO     ] 2024-08-28 10:51:25,799 Parameters: domain_dimensions         = [ 256    1 4096]\n",
      "yt : [INFO     ] 2024-08-28 10:51:25,800 Parameters: domain_left_edge          = [ 0.0000e+00  0.0000e+00 -2.4144e+22]\n",
      "yt : [INFO     ] 2024-08-28 10:51:25,802 Parameters: domain_right_edge         = [3.0180e+21 3.0180e+21 2.4144e+22]\n"
     ]
    },
    {
     "name": "stdout",
     "output_type": "stream",
     "text": [
      "5 /g/data/jh2/av5889/quokka_myrepo/quokka/sims/SetonixData/R16/4pc/proj_y_plt560000\n"
     ]
    },
    {
     "name": "stderr",
     "output_type": "stream",
     "text": [
      "yt : [INFO     ] 2024-08-28 10:51:26,280 Parameters: current_time              = 6118958206450768.0\n",
      "yt : [INFO     ] 2024-08-28 10:51:26,281 Parameters: domain_dimensions         = [ 256    1 4096]\n",
      "yt : [INFO     ] 2024-08-28 10:51:26,282 Parameters: domain_left_edge          = [ 0.0000e+00  0.0000e+00 -2.4144e+22]\n",
      "yt : [INFO     ] 2024-08-28 10:51:26,284 Parameters: domain_right_edge         = [3.0180e+21 3.0180e+21 2.4144e+22]\n"
     ]
    },
    {
     "name": "stdout",
     "output_type": "stream",
     "text": [
      "6 /g/data/jh2/av5889/quokka_myrepo/quokka/sims/SetonixData/R16/4pc/proj_y_plt570000\n"
     ]
    },
    {
     "name": "stderr",
     "output_type": "stream",
     "text": [
      "yt : [INFO     ] 2024-08-28 10:51:26,767 Parameters: current_time              = 4752597666994292.0\n",
      "yt : [INFO     ] 2024-08-28 10:51:26,769 Parameters: domain_dimensions         = [ 256    1 4096]\n",
      "yt : [INFO     ] 2024-08-28 10:51:26,770 Parameters: domain_left_edge          = [ 0.0000e+00  0.0000e+00 -2.4144e+22]\n",
      "yt : [INFO     ] 2024-08-28 10:51:26,772 Parameters: domain_right_edge         = [3.0180e+21 3.0180e+21 2.4144e+22]\n"
     ]
    },
    {
     "name": "stdout",
     "output_type": "stream",
     "text": [
      "7 /g/data/jh2/av5889/quokka_myrepo/quokka/sims/SetonixData/R16/4pc/proj_y_plt390000\n"
     ]
    },
    {
     "name": "stderr",
     "output_type": "stream",
     "text": [
      "yt : [INFO     ] 2024-08-28 10:51:27,249 Parameters: current_time              = 5115722944014017.0\n",
      "yt : [INFO     ] 2024-08-28 10:51:27,250 Parameters: domain_dimensions         = [ 256    1 4096]\n",
      "yt : [INFO     ] 2024-08-28 10:51:27,251 Parameters: domain_left_edge          = [ 0.0000e+00  0.0000e+00 -2.4144e+22]\n",
      "yt : [INFO     ] 2024-08-28 10:51:27,253 Parameters: domain_right_edge         = [3.0180e+21 3.0180e+21 2.4144e+22]\n"
     ]
    },
    {
     "name": "stdout",
     "output_type": "stream",
     "text": [
      "8 /g/data/jh2/av5889/quokka_myrepo/quokka/sims/SetonixData/R16/4pc/proj_y_plt440000\n"
     ]
    },
    {
     "name": "stderr",
     "output_type": "stream",
     "text": [
      "yt : [INFO     ] 2024-08-28 10:51:27,734 Parameters: current_time              = 4687594345049817.0\n",
      "yt : [INFO     ] 2024-08-28 10:51:27,736 Parameters: domain_dimensions         = [ 256    1 4096]\n",
      "yt : [INFO     ] 2024-08-28 10:51:27,737 Parameters: domain_left_edge          = [ 0.0000e+00  0.0000e+00 -2.4144e+22]\n",
      "yt : [INFO     ] 2024-08-28 10:51:27,738 Parameters: domain_right_edge         = [3.0180e+21 3.0180e+21 2.4144e+22]\n"
     ]
    },
    {
     "name": "stdout",
     "output_type": "stream",
     "text": [
      "9 /g/data/jh2/av5889/quokka_myrepo/quokka/sims/SetonixData/R16/4pc/proj_y_plt380000\n"
     ]
    },
    {
     "name": "stderr",
     "output_type": "stream",
     "text": [
      "yt : [INFO     ] 2024-08-28 10:51:28,366 Parameters: current_time              = 702930524952019.2\n",
      "yt : [INFO     ] 2024-08-28 10:51:28,368 Parameters: domain_dimensions         = [ 256    1 4096]\n",
      "yt : [INFO     ] 2024-08-28 10:51:28,369 Parameters: domain_left_edge          = [ 0.0000e+00  0.0000e+00 -2.4144e+22]\n",
      "yt : [INFO     ] 2024-08-28 10:51:28,370 Parameters: domain_right_edge         = [3.0180e+21 3.0180e+21 2.4144e+22]\n"
     ]
    },
    {
     "name": "stdout",
     "output_type": "stream",
     "text": [
      "10 /g/data/jh2/av5889/quokka_myrepo/quokka/sims/SetonixData/R16/4pc/proj_y_plt40000\n"
     ]
    },
    {
     "name": "stderr",
     "output_type": "stream",
     "text": [
      "yt : [INFO     ] 2024-08-28 10:51:28,851 Parameters: current_time              = 3070290031758190.0\n",
      "yt : [INFO     ] 2024-08-28 10:51:28,853 Parameters: domain_dimensions         = [ 256    1 4096]\n",
      "yt : [INFO     ] 2024-08-28 10:51:28,854 Parameters: domain_left_edge          = [ 0.0000e+00  0.0000e+00 -2.4144e+22]\n",
      "yt : [INFO     ] 2024-08-28 10:51:28,855 Parameters: domain_right_edge         = [3.0180e+21 3.0180e+21 2.4144e+22]\n"
     ]
    },
    {
     "name": "stdout",
     "output_type": "stream",
     "text": [
      "11 /g/data/jh2/av5889/quokka_myrepo/quokka/sims/SetonixData/R16/4pc/proj_y_plt220000\n"
     ]
    },
    {
     "name": "stderr",
     "output_type": "stream",
     "text": [
      "yt : [INFO     ] 2024-08-28 10:51:29,336 Parameters: current_time              = 4912347811113584.0\n",
      "yt : [INFO     ] 2024-08-28 10:51:29,337 Parameters: domain_dimensions         = [ 256    1 4096]\n",
      "yt : [INFO     ] 2024-08-28 10:51:29,338 Parameters: domain_left_edge          = [ 0.0000e+00  0.0000e+00 -2.4144e+22]\n",
      "yt : [INFO     ] 2024-08-28 10:51:29,340 Parameters: domain_right_edge         = [3.0180e+21 3.0180e+21 2.4144e+22]\n"
     ]
    },
    {
     "name": "stdout",
     "output_type": "stream",
     "text": [
      "12 /g/data/jh2/av5889/quokka_myrepo/quokka/sims/SetonixData/R16/4pc/proj_y_plt410000\n"
     ]
    },
    {
     "name": "stderr",
     "output_type": "stream",
     "text": [
      "yt : [INFO     ] 2024-08-28 10:51:29,820 Parameters: current_time              = 1934243948075786.8\n",
      "yt : [INFO     ] 2024-08-28 10:51:29,821 Parameters: domain_dimensions         = [ 256    1 4096]\n",
      "yt : [INFO     ] 2024-08-28 10:51:29,822 Parameters: domain_left_edge          = [ 0.0000e+00  0.0000e+00 -2.4144e+22]\n",
      "yt : [INFO     ] 2024-08-28 10:51:29,824 Parameters: domain_right_edge         = [3.0180e+21 3.0180e+21 2.4144e+22]\n"
     ]
    },
    {
     "name": "stdout",
     "output_type": "stream",
     "text": [
      "13 /g/data/jh2/av5889/quokka_myrepo/quokka/sims/SetonixData/R16/4pc/proj_y_plt130000\n"
     ]
    },
    {
     "name": "stderr",
     "output_type": "stream",
     "text": [
      "yt : [INFO     ] 2024-08-28 10:51:30,306 Parameters: current_time              = 519299970917671.9\n",
      "yt : [INFO     ] 2024-08-28 10:51:30,308 Parameters: domain_dimensions         = [ 256    1 4096]\n",
      "yt : [INFO     ] 2024-08-28 10:51:30,309 Parameters: domain_left_edge          = [ 0.0000e+00  0.0000e+00 -2.4144e+22]\n",
      "yt : [INFO     ] 2024-08-28 10:51:30,310 Parameters: domain_right_edge         = [3.0180e+21 3.0180e+21 2.4144e+22]\n"
     ]
    },
    {
     "name": "stdout",
     "output_type": "stream",
     "text": [
      "14 /g/data/jh2/av5889/quokka_myrepo/quokka/sims/SetonixData/R16/4pc/proj_y_plt30000\n"
     ]
    },
    {
     "name": "stderr",
     "output_type": "stream",
     "text": [
      "yt : [INFO     ] 2024-08-28 10:51:30,789 Parameters: current_time              = 1692277202484318.2\n",
      "yt : [INFO     ] 2024-08-28 10:51:30,790 Parameters: domain_dimensions         = [ 256    1 4096]\n",
      "yt : [INFO     ] 2024-08-28 10:51:30,792 Parameters: domain_left_edge          = [ 0.0000e+00  0.0000e+00 -2.4144e+22]\n",
      "yt : [INFO     ] 2024-08-28 10:51:30,793 Parameters: domain_right_edge         = [3.0180e+21 3.0180e+21 2.4144e+22]\n"
     ]
    },
    {
     "name": "stdout",
     "output_type": "stream",
     "text": [
      "15 /g/data/jh2/av5889/quokka_myrepo/quokka/sims/SetonixData/R16/4pc/proj_y_plt110000\n"
     ]
    },
    {
     "name": "stderr",
     "output_type": "stream",
     "text": [
      "yt : [INFO     ] 2024-08-28 10:51:31,273 Parameters: current_time              = 4620384718447062.0\n",
      "yt : [INFO     ] 2024-08-28 10:51:31,275 Parameters: domain_dimensions         = [ 256    1 4096]\n",
      "yt : [INFO     ] 2024-08-28 10:51:31,276 Parameters: domain_left_edge          = [ 0.0000e+00  0.0000e+00 -2.4144e+22]\n",
      "yt : [INFO     ] 2024-08-28 10:51:31,278 Parameters: domain_right_edge         = [3.0180e+21 3.0180e+21 2.4144e+22]\n"
     ]
    },
    {
     "name": "stdout",
     "output_type": "stream",
     "text": [
      "16 /g/data/jh2/av5889/quokka_myrepo/quokka/sims/SetonixData/R16/4pc/proj_y_plt370000\n"
     ]
    },
    {
     "name": "stderr",
     "output_type": "stream",
     "text": [
      "yt : [INFO     ] 2024-08-28 10:51:31,757 Parameters: current_time              = 1176871975974538.5\n",
      "yt : [INFO     ] 2024-08-28 10:51:31,759 Parameters: domain_dimensions         = [ 256    1 4096]\n",
      "yt : [INFO     ] 2024-08-28 10:51:31,760 Parameters: domain_left_edge          = [ 0.0000e+00  0.0000e+00 -2.4144e+22]\n",
      "yt : [INFO     ] 2024-08-28 10:51:31,761 Parameters: domain_right_edge         = [3.0180e+21 3.0180e+21 2.4144e+22]\n"
     ]
    },
    {
     "name": "stdout",
     "output_type": "stream",
     "text": [
      "17 /g/data/jh2/av5889/quokka_myrepo/quokka/sims/SetonixData/R16/4pc/proj_y_plt70000\n"
     ]
    },
    {
     "name": "stderr",
     "output_type": "stream",
     "text": [
      "yt : [INFO     ] 2024-08-28 10:51:32,242 Parameters: current_time              = 5424804713336776.0\n",
      "yt : [INFO     ] 2024-08-28 10:51:32,243 Parameters: domain_dimensions         = [ 256    1 4096]\n",
      "yt : [INFO     ] 2024-08-28 10:51:32,245 Parameters: domain_left_edge          = [ 0.0000e+00  0.0000e+00 -2.4144e+22]\n",
      "yt : [INFO     ] 2024-08-28 10:51:32,246 Parameters: domain_right_edge         = [3.0180e+21 3.0180e+21 2.4144e+22]\n"
     ]
    },
    {
     "name": "stdout",
     "output_type": "stream",
     "text": [
      "18 /g/data/jh2/av5889/quokka_myrepo/quokka/sims/SetonixData/R16/4pc/proj_y_plt480000\n"
     ]
    },
    {
     "name": "stderr",
     "output_type": "stream",
     "text": [
      "yt : [INFO     ] 2024-08-28 10:51:32,726 Parameters: current_time              = 3594779302526339.0\n",
      "yt : [INFO     ] 2024-08-28 10:51:32,728 Parameters: domain_dimensions         = [ 256    1 4096]\n",
      "yt : [INFO     ] 2024-08-28 10:51:32,729 Parameters: domain_left_edge          = [ 0.0000e+00  0.0000e+00 -2.4144e+22]\n",
      "yt : [INFO     ] 2024-08-28 10:51:32,730 Parameters: domain_right_edge         = [3.0180e+21 3.0180e+21 2.4144e+22]\n"
     ]
    },
    {
     "name": "stdout",
     "output_type": "stream",
     "text": [
      "19 /g/data/jh2/av5889/quokka_myrepo/quokka/sims/SetonixData/R16/4pc/proj_y_plt270000\n"
     ]
    },
    {
     "name": "stderr",
     "output_type": "stream",
     "text": [
      "yt : [INFO     ] 2024-08-28 10:51:33,207 Parameters: current_time              = 1277670567207254.5\n",
      "yt : [INFO     ] 2024-08-28 10:51:33,208 Parameters: domain_dimensions         = [ 256    1 4096]\n",
      "yt : [INFO     ] 2024-08-28 10:51:33,209 Parameters: domain_left_edge          = [ 0.0000e+00  0.0000e+00 -2.4144e+22]\n",
      "yt : [INFO     ] 2024-08-28 10:51:33,211 Parameters: domain_right_edge         = [3.0180e+21 3.0180e+21 2.4144e+22]\n"
     ]
    },
    {
     "name": "stdout",
     "output_type": "stream",
     "text": [
      "20 /g/data/jh2/av5889/quokka_myrepo/quokka/sims/SetonixData/R16/4pc/proj_y_plt80000\n"
     ]
    },
    {
     "name": "stderr",
     "output_type": "stream",
     "text": [
      "yt : [INFO     ] 2024-08-28 10:51:33,690 Parameters: current_time              = 860963099270590.2\n",
      "yt : [INFO     ] 2024-08-28 10:51:33,691 Parameters: domain_dimensions         = [ 256    1 4096]\n",
      "yt : [INFO     ] 2024-08-28 10:51:33,692 Parameters: domain_left_edge          = [ 0.0000e+00  0.0000e+00 -2.4144e+22]\n",
      "yt : [INFO     ] 2024-08-28 10:51:33,693 Parameters: domain_right_edge         = [3.0180e+21 3.0180e+21 2.4144e+22]\n"
     ]
    },
    {
     "name": "stdout",
     "output_type": "stream",
     "text": [
      "21 /g/data/jh2/av5889/quokka_myrepo/quokka/sims/SetonixData/R16/4pc/proj_y_plt50000\n"
     ]
    },
    {
     "name": "stderr",
     "output_type": "stream",
     "text": [
      "yt : [INFO     ] 2024-08-28 10:51:34,169 Parameters: current_time              = 2299669665181043.0\n",
      "yt : [INFO     ] 2024-08-28 10:51:34,170 Parameters: domain_dimensions         = [ 256    1 4096]\n",
      "yt : [INFO     ] 2024-08-28 10:51:34,171 Parameters: domain_left_edge          = [ 0.0000e+00  0.0000e+00 -2.4144e+22]\n",
      "yt : [INFO     ] 2024-08-28 10:51:34,173 Parameters: domain_right_edge         = [3.0180e+21 3.0180e+21 2.4144e+22]\n"
     ]
    },
    {
     "name": "stdout",
     "output_type": "stream",
     "text": [
      "22 /g/data/jh2/av5889/quokka_myrepo/quokka/sims/SetonixData/R16/4pc/proj_y_plt160000\n"
     ]
    },
    {
     "name": "stderr",
     "output_type": "stream",
     "text": [
      "yt : [INFO     ] 2024-08-28 10:51:34,650 Parameters: current_time              = 5877712051824645.0\n",
      "yt : [INFO     ] 2024-08-28 10:51:34,651 Parameters: domain_dimensions         = [ 256    1 4096]\n",
      "yt : [INFO     ] 2024-08-28 10:51:34,653 Parameters: domain_left_edge          = [ 0.0000e+00  0.0000e+00 -2.4144e+22]\n",
      "yt : [INFO     ] 2024-08-28 10:51:34,654 Parameters: domain_right_edge         = [3.0180e+21 3.0180e+21 2.4144e+22]\n"
     ]
    },
    {
     "name": "stdout",
     "output_type": "stream",
     "text": [
      "23 /g/data/jh2/av5889/quokka_myrepo/quokka/sims/SetonixData/R16/4pc/proj_y_plt540000\n"
     ]
    },
    {
     "name": "stderr",
     "output_type": "stream",
     "text": [
      "yt : [INFO     ] 2024-08-28 10:51:35,131 Parameters: current_time              = 3690056010815159.5\n",
      "yt : [INFO     ] 2024-08-28 10:51:35,132 Parameters: domain_dimensions         = [ 256    1 4096]\n",
      "yt : [INFO     ] 2024-08-28 10:51:35,134 Parameters: domain_left_edge          = [ 0.0000e+00  0.0000e+00 -2.4144e+22]\n",
      "yt : [INFO     ] 2024-08-28 10:51:35,135 Parameters: domain_right_edge         = [3.0180e+21 3.0180e+21 2.4144e+22]\n"
     ]
    },
    {
     "name": "stdout",
     "output_type": "stream",
     "text": [
      "24 /g/data/jh2/av5889/quokka_myrepo/quokka/sims/SetonixData/R16/4pc/proj_y_plt280000\n"
     ]
    },
    {
     "name": "stderr",
     "output_type": "stream",
     "text": [
      "yt : [INFO     ] 2024-08-28 10:51:35,615 Parameters: current_time              = 4067085637308106.5\n",
      "yt : [INFO     ] 2024-08-28 10:51:35,616 Parameters: domain_dimensions         = [ 256    1 4096]\n",
      "yt : [INFO     ] 2024-08-28 10:51:35,618 Parameters: domain_left_edge          = [ 0.0000e+00  0.0000e+00 -2.4144e+22]\n",
      "yt : [INFO     ] 2024-08-28 10:51:35,619 Parameters: domain_right_edge         = [3.0180e+21 3.0180e+21 2.4144e+22]\n"
     ]
    },
    {
     "name": "stdout",
     "output_type": "stream",
     "text": [
      "25 /g/data/jh2/av5889/quokka_myrepo/quokka/sims/SetonixData/R16/4pc/proj_y_plt310000\n"
     ]
    },
    {
     "name": "stderr",
     "output_type": "stream",
     "text": [
      "yt : [INFO     ] 2024-08-28 10:51:36,099 Parameters: current_time              = 2401700141390919.0\n",
      "yt : [INFO     ] 2024-08-28 10:51:36,100 Parameters: domain_dimensions         = [ 256    1 4096]\n",
      "yt : [INFO     ] 2024-08-28 10:51:36,102 Parameters: domain_left_edge          = [ 0.0000e+00  0.0000e+00 -2.4144e+22]\n",
      "yt : [INFO     ] 2024-08-28 10:51:36,103 Parameters: domain_right_edge         = [3.0180e+21 3.0180e+21 2.4144e+22]\n"
     ]
    },
    {
     "name": "stdout",
     "output_type": "stream",
     "text": [
      "26 /g/data/jh2/av5889/quokka_myrepo/quokka/sims/SetonixData/R16/4pc/proj_y_plt170000\n"
     ]
    },
    {
     "name": "stderr",
     "output_type": "stream",
     "text": [
      "yt : [INFO     ] 2024-08-28 10:51:36,715 Parameters: current_time              = 4828682196817395.0\n",
      "yt : [INFO     ] 2024-08-28 10:51:36,716 Parameters: domain_dimensions         = [ 256    1 4096]\n",
      "yt : [INFO     ] 2024-08-28 10:51:36,718 Parameters: domain_left_edge          = [ 0.0000e+00  0.0000e+00 -2.4144e+22]\n",
      "yt : [INFO     ] 2024-08-28 10:51:36,719 Parameters: domain_right_edge         = [3.0180e+21 3.0180e+21 2.4144e+22]\n"
     ]
    },
    {
     "name": "stdout",
     "output_type": "stream",
     "text": [
      "27 /g/data/jh2/av5889/quokka_myrepo/quokka/sims/SetonixData/R16/4pc/proj_y_plt400000\n"
     ]
    },
    {
     "name": "stderr",
     "output_type": "stream",
     "text": [
      "yt : [INFO     ] 2024-08-28 10:51:37,198 Parameters: current_time              = 3361010890485230.5\n",
      "yt : [INFO     ] 2024-08-28 10:51:37,200 Parameters: domain_dimensions         = [ 256    1 4096]\n",
      "yt : [INFO     ] 2024-08-28 10:51:37,201 Parameters: domain_left_edge          = [ 0.0000e+00  0.0000e+00 -2.4144e+22]\n",
      "yt : [INFO     ] 2024-08-28 10:51:37,202 Parameters: domain_right_edge         = [3.0180e+21 3.0180e+21 2.4144e+22]\n"
     ]
    },
    {
     "name": "stdout",
     "output_type": "stream",
     "text": [
      "28 /g/data/jh2/av5889/quokka_myrepo/quokka/sims/SetonixData/R16/4pc/proj_y_plt250000\n"
     ]
    },
    {
     "name": "stderr",
     "output_type": "stream",
     "text": [
      "yt : [INFO     ] 2024-08-28 10:51:37,684 Parameters: current_time              = 977188336752355.0\n",
      "yt : [INFO     ] 2024-08-28 10:51:37,686 Parameters: domain_dimensions         = [ 256    1 4096]\n",
      "yt : [INFO     ] 2024-08-28 10:51:37,687 Parameters: domain_left_edge          = [ 0.0000e+00  0.0000e+00 -2.4144e+22]\n",
      "yt : [INFO     ] 2024-08-28 10:51:37,688 Parameters: domain_right_edge         = [3.0180e+21 3.0180e+21 2.4144e+22]\n"
     ]
    },
    {
     "name": "stdout",
     "output_type": "stream",
     "text": [
      "29 /g/data/jh2/av5889/quokka_myrepo/quokka/sims/SetonixData/R16/4pc/proj_y_plt60000\n"
     ]
    },
    {
     "name": "stderr",
     "output_type": "stream",
     "text": [
      "yt : [INFO     ] 2024-08-28 10:51:38,173 Parameters: current_time              = 2187189025546364.0\n",
      "yt : [INFO     ] 2024-08-28 10:51:38,174 Parameters: domain_dimensions         = [ 256    1 4096]\n",
      "yt : [INFO     ] 2024-08-28 10:51:38,175 Parameters: domain_left_edge          = [ 0.0000e+00  0.0000e+00 -2.4144e+22]\n",
      "yt : [INFO     ] 2024-08-28 10:51:38,177 Parameters: domain_right_edge         = [3.0180e+21 3.0180e+21 2.4144e+22]\n"
     ]
    },
    {
     "name": "stdout",
     "output_type": "stream",
     "text": [
      "30 /g/data/jh2/av5889/quokka_myrepo/quokka/sims/SetonixData/R16/4pc/proj_y_plt150000\n"
     ]
    },
    {
     "name": "stderr",
     "output_type": "stream",
     "text": [
      "yt : [INFO     ] 2024-08-28 10:51:38,660 Parameters: current_time              = 1542629783782636.8\n",
      "yt : [INFO     ] 2024-08-28 10:51:38,662 Parameters: domain_dimensions         = [ 256    1 4096]\n",
      "yt : [INFO     ] 2024-08-28 10:51:38,663 Parameters: domain_left_edge          = [ 0.0000e+00  0.0000e+00 -2.4144e+22]\n",
      "yt : [INFO     ] 2024-08-28 10:51:38,664 Parameters: domain_right_edge         = [3.0180e+21 3.0180e+21 2.4144e+22]\n"
     ]
    },
    {
     "name": "stdout",
     "output_type": "stream",
     "text": [
      "31 /g/data/jh2/av5889/quokka_myrepo/quokka/sims/SetonixData/R16/4pc/proj_y_plt100000\n"
     ]
    },
    {
     "name": "stderr",
     "output_type": "stream",
     "text": [
      "yt : [INFO     ] 2024-08-28 10:51:39,145 Parameters: current_time              = 5357774308395428.0\n",
      "yt : [INFO     ] 2024-08-28 10:51:39,147 Parameters: domain_dimensions         = [ 256    1 4096]\n",
      "yt : [INFO     ] 2024-08-28 10:51:39,148 Parameters: domain_left_edge          = [ 0.0000e+00  0.0000e+00 -2.4144e+22]\n",
      "yt : [INFO     ] 2024-08-28 10:51:39,149 Parameters: domain_right_edge         = [3.0180e+21 3.0180e+21 2.4144e+22]\n"
     ]
    },
    {
     "name": "stdout",
     "output_type": "stream",
     "text": [
      "32 /g/data/jh2/av5889/quokka_myrepo/quokka/sims/SetonixData/R16/4pc/proj_y_plt470000\n"
     ]
    },
    {
     "name": "stderr",
     "output_type": "stream",
     "text": [
      "yt : [INFO     ] 2024-08-28 10:51:39,628 Parameters: current_time              = 2515951756207396.5\n",
      "yt : [INFO     ] 2024-08-28 10:51:39,629 Parameters: domain_dimensions         = [ 256    1 4096]\n",
      "yt : [INFO     ] 2024-08-28 10:51:39,631 Parameters: domain_left_edge          = [ 0.0000e+00  0.0000e+00 -2.4144e+22]\n",
      "yt : [INFO     ] 2024-08-28 10:51:39,632 Parameters: domain_right_edge         = [3.0180e+21 3.0180e+21 2.4144e+22]\n"
     ]
    },
    {
     "name": "stdout",
     "output_type": "stream",
     "text": [
      "33 /g/data/jh2/av5889/quokka_myrepo/quokka/sims/SetonixData/R16/4pc/proj_y_plt180000\n"
     ]
    },
    {
     "name": "stderr",
     "output_type": "stream",
     "text": [
      "yt : [INFO     ] 2024-08-28 10:51:40,114 Parameters: current_time              = 4970248998308439.0\n",
      "yt : [INFO     ] 2024-08-28 10:51:40,116 Parameters: domain_dimensions         = [ 256    1 4096]\n",
      "yt : [INFO     ] 2024-08-28 10:51:40,117 Parameters: domain_left_edge          = [ 0.0000e+00  0.0000e+00 -2.4144e+22]\n",
      "yt : [INFO     ] 2024-08-28 10:51:40,118 Parameters: domain_right_edge         = [3.0180e+21 3.0180e+21 2.4144e+22]\n"
     ]
    },
    {
     "name": "stdout",
     "output_type": "stream",
     "text": [
      "34 /g/data/jh2/av5889/quokka_myrepo/quokka/sims/SetonixData/R16/4pc/proj_y_plt420000\n"
     ]
    },
    {
     "name": "stderr",
     "output_type": "stream",
     "text": [
      "yt : [INFO     ] 2024-08-28 10:51:40,598 Parameters: current_time              = 5588332028016765.0\n",
      "yt : [INFO     ] 2024-08-28 10:51:40,600 Parameters: domain_dimensions         = [ 256    1 4096]\n",
      "yt : [INFO     ] 2024-08-28 10:51:40,601 Parameters: domain_left_edge          = [ 0.0000e+00  0.0000e+00 -2.4144e+22]\n",
      "yt : [INFO     ] 2024-08-28 10:51:40,602 Parameters: domain_right_edge         = [3.0180e+21 3.0180e+21 2.4144e+22]\n"
     ]
    },
    {
     "name": "stdout",
     "output_type": "stream",
     "text": [
      "35 /g/data/jh2/av5889/quokka_myrepo/quokka/sims/SetonixData/R16/4pc/proj_y_plt500000\n"
     ]
    },
    {
     "name": "stderr",
     "output_type": "stream",
     "text": [
      "yt : [INFO     ] 2024-08-28 10:51:41,085 Parameters: current_time              = 5956927781972012.0\n",
      "yt : [INFO     ] 2024-08-28 10:51:41,087 Parameters: domain_dimensions         = [ 256    1 4096]\n",
      "yt : [INFO     ] 2024-08-28 10:51:41,088 Parameters: domain_left_edge          = [ 0.0000e+00  0.0000e+00 -2.4144e+22]\n",
      "yt : [INFO     ] 2024-08-28 10:51:41,089 Parameters: domain_right_edge         = [3.0180e+21 3.0180e+21 2.4144e+22]\n"
     ]
    },
    {
     "name": "stdout",
     "output_type": "stream",
     "text": [
      "36 /g/data/jh2/av5889/quokka_myrepo/quokka/sims/SetonixData/R16/4pc/proj_y_plt550000\n"
     ]
    },
    {
     "name": "stderr",
     "output_type": "stream",
     "text": [
      "yt : [INFO     ] 2024-08-28 10:51:41,570 Parameters: current_time              = 4521821685262883.0\n",
      "yt : [INFO     ] 2024-08-28 10:51:41,572 Parameters: domain_dimensions         = [ 256    1 4096]\n",
      "yt : [INFO     ] 2024-08-28 10:51:41,573 Parameters: domain_left_edge          = [ 0.0000e+00  0.0000e+00 -2.4144e+22]\n",
      "yt : [INFO     ] 2024-08-28 10:51:41,575 Parameters: domain_right_edge         = [3.0180e+21 3.0180e+21 2.4144e+22]\n"
     ]
    },
    {
     "name": "stdout",
     "output_type": "stream",
     "text": [
      "37 /g/data/jh2/av5889/quokka_myrepo/quokka/sims/SetonixData/R16/4pc/proj_y_plt360000\n"
     ]
    },
    {
     "name": "stderr",
     "output_type": "stream",
     "text": [
      "yt : [INFO     ] 2024-08-28 10:51:42,055 Parameters: current_time              = 1828544581923616.8\n",
      "yt : [INFO     ] 2024-08-28 10:51:42,057 Parameters: domain_dimensions         = [ 256    1 4096]\n",
      "yt : [INFO     ] 2024-08-28 10:51:42,058 Parameters: domain_left_edge          = [ 0.0000e+00  0.0000e+00 -2.4144e+22]\n",
      "yt : [INFO     ] 2024-08-28 10:51:42,059 Parameters: domain_right_edge         = [3.0180e+21 3.0180e+21 2.4144e+22]\n"
     ]
    },
    {
     "name": "stdout",
     "output_type": "stream",
     "text": [
      "38 /g/data/jh2/av5889/quokka_myrepo/quokka/sims/SetonixData/R16/4pc/proj_y_plt120000\n"
     ]
    },
    {
     "name": "stderr",
     "output_type": "stream",
     "text": [
      "yt : [INFO     ] 2024-08-28 10:51:42,537 Parameters: current_time              = 4251031460972464.5\n",
      "yt : [INFO     ] 2024-08-28 10:51:42,538 Parameters: domain_dimensions         = [ 256    1 4096]\n",
      "yt : [INFO     ] 2024-08-28 10:51:42,539 Parameters: domain_left_edge          = [ 0.0000e+00  0.0000e+00 -2.4144e+22]\n",
      "yt : [INFO     ] 2024-08-28 10:51:42,540 Parameters: domain_right_edge         = [3.0180e+21 3.0180e+21 2.4144e+22]\n"
     ]
    },
    {
     "name": "stdout",
     "output_type": "stream",
     "text": [
      "39 /g/data/jh2/av5889/quokka_myrepo/quokka/sims/SetonixData/R16/4pc/proj_y_plt330000\n"
     ]
    },
    {
     "name": "stderr",
     "output_type": "stream",
     "text": [
      "yt : [INFO     ] 2024-08-28 10:51:43,021 Parameters: current_time              = 2074983273465909.0\n",
      "yt : [INFO     ] 2024-08-28 10:51:43,022 Parameters: domain_dimensions         = [ 256    1 4096]\n",
      "yt : [INFO     ] 2024-08-28 10:51:43,023 Parameters: domain_left_edge          = [ 0.0000e+00  0.0000e+00 -2.4144e+22]\n",
      "yt : [INFO     ] 2024-08-28 10:51:43,025 Parameters: domain_right_edge         = [3.0180e+21 3.0180e+21 2.4144e+22]\n"
     ]
    },
    {
     "name": "stdout",
     "output_type": "stream",
     "text": [
      "40 /g/data/jh2/av5889/quokka_myrepo/quokka/sims/SetonixData/R16/4pc/proj_y_plt140000\n"
     ]
    },
    {
     "name": "stderr",
     "output_type": "stream",
     "text": [
      "yt : [INFO     ] 2024-08-28 10:51:43,503 Parameters: current_time              = 2660724941443080.0\n",
      "yt : [INFO     ] 2024-08-28 10:51:43,504 Parameters: domain_dimensions         = [ 256    1 4096]\n",
      "yt : [INFO     ] 2024-08-28 10:51:43,505 Parameters: domain_left_edge          = [ 0.0000e+00  0.0000e+00 -2.4144e+22]\n",
      "yt : [INFO     ] 2024-08-28 10:51:43,507 Parameters: domain_right_edge         = [3.0180e+21 3.0180e+21 2.4144e+22]\n"
     ]
    },
    {
     "name": "stdout",
     "output_type": "stream",
     "text": [
      "41 /g/data/jh2/av5889/quokka_myrepo/quokka/sims/SetonixData/R16/4pc/proj_y_plt190000\n"
     ]
    },
    {
     "name": "stderr",
     "output_type": "stream",
     "text": [
      "yt : [INFO     ] 2024-08-28 10:51:43,985 Parameters: current_time              = 1400762728535907.8\n",
      "yt : [INFO     ] 2024-08-28 10:51:43,986 Parameters: domain_dimensions         = [ 256    1 4096]\n",
      "yt : [INFO     ] 2024-08-28 10:51:43,987 Parameters: domain_left_edge          = [ 0.0000e+00  0.0000e+00 -2.4144e+22]\n",
      "yt : [INFO     ] 2024-08-28 10:51:43,989 Parameters: domain_right_edge         = [3.0180e+21 3.0180e+21 2.4144e+22]\n"
     ]
    },
    {
     "name": "stdout",
     "output_type": "stream",
     "text": [
      "42 /g/data/jh2/av5889/quokka_myrepo/quokka/sims/SetonixData/R16/4pc/proj_y_plt90000\n"
     ]
    },
    {
     "name": "stderr",
     "output_type": "stream",
     "text": [
      "yt : [INFO     ] 2024-08-28 10:51:44,468 Parameters: current_time              = 6211566710843678.0\n",
      "yt : [INFO     ] 2024-08-28 10:51:44,469 Parameters: domain_dimensions         = [ 256    1 4096]\n",
      "yt : [INFO     ] 2024-08-28 10:51:44,470 Parameters: domain_left_edge          = [ 0.0000e+00  0.0000e+00 -2.4144e+22]\n",
      "yt : [INFO     ] 2024-08-28 10:51:44,472 Parameters: domain_right_edge         = [3.0180e+21 3.0180e+21 2.4144e+22]\n"
     ]
    },
    {
     "name": "stdout",
     "output_type": "stream",
     "text": [
      "43 /g/data/jh2/av5889/quokka_myrepo/quokka/sims/SetonixData/R16/4pc/proj_y_plt580000\n"
     ]
    },
    {
     "name": "stderr",
     "output_type": "stream",
     "text": [
      "yt : [INFO     ] 2024-08-28 10:51:45,087 Parameters: current_time              = 4427883927897960.5\n",
      "yt : [INFO     ] 2024-08-28 10:51:45,088 Parameters: domain_dimensions         = [ 256    1 4096]\n",
      "yt : [INFO     ] 2024-08-28 10:51:45,089 Parameters: domain_left_edge          = [ 0.0000e+00  0.0000e+00 -2.4144e+22]\n",
      "yt : [INFO     ] 2024-08-28 10:51:45,091 Parameters: domain_right_edge         = [3.0180e+21 3.0180e+21 2.4144e+22]\n"
     ]
    },
    {
     "name": "stdout",
     "output_type": "stream",
     "text": [
      "44 /g/data/jh2/av5889/quokka_myrepo/quokka/sims/SetonixData/R16/4pc/proj_y_plt350000\n"
     ]
    },
    {
     "name": "stderr",
     "output_type": "stream",
     "text": [
      "yt : [INFO     ] 2024-08-28 10:51:45,573 Parameters: current_time              = 6290000000000000.0\n",
      "yt : [INFO     ] 2024-08-28 10:51:45,574 Parameters: domain_dimensions         = [ 256    1 4096]\n",
      "yt : [INFO     ] 2024-08-28 10:51:45,575 Parameters: domain_left_edge          = [ 0.0000e+00  0.0000e+00 -2.4144e+22]\n",
      "yt : [INFO     ] 2024-08-28 10:51:45,577 Parameters: domain_right_edge         = [3.0180e+21 3.0180e+21 2.4144e+22]\n"
     ]
    },
    {
     "name": "stdout",
     "output_type": "stream",
     "text": [
      "45 /g/data/jh2/av5889/quokka_myrepo/quokka/sims/SetonixData/R16/4pc/proj_y_plt588398\n"
     ]
    },
    {
     "name": "stderr",
     "output_type": "stream",
     "text": [
      "yt : [INFO     ] 2024-08-28 10:51:46,058 Parameters: current_time              = 5728369138249916.0\n",
      "yt : [INFO     ] 2024-08-28 10:51:46,059 Parameters: domain_dimensions         = [ 256    1 4096]\n",
      "yt : [INFO     ] 2024-08-28 10:51:46,060 Parameters: domain_left_edge          = [ 0.0000e+00  0.0000e+00 -2.4144e+22]\n",
      "yt : [INFO     ] 2024-08-28 10:51:46,062 Parameters: domain_right_edge         = [3.0180e+21 3.0180e+21 2.4144e+22]\n"
     ]
    },
    {
     "name": "stdout",
     "output_type": "stream",
     "text": [
      "46 /g/data/jh2/av5889/quokka_myrepo/quokka/sims/SetonixData/R16/4pc/proj_y_plt520000\n"
     ]
    },
    {
     "name": "stderr",
     "output_type": "stream",
     "text": [
      "yt : [INFO     ] 2024-08-28 10:51:46,545 Parameters: current_time              = 5277183662452920.0\n",
      "yt : [INFO     ] 2024-08-28 10:51:46,547 Parameters: domain_dimensions         = [ 256    1 4096]\n",
      "yt : [INFO     ] 2024-08-28 10:51:46,548 Parameters: domain_left_edge          = [ 0.0000e+00  0.0000e+00 -2.4144e+22]\n",
      "yt : [INFO     ] 2024-08-28 10:51:46,549 Parameters: domain_right_edge         = [3.0180e+21 3.0180e+21 2.4144e+22]\n"
     ]
    },
    {
     "name": "stdout",
     "output_type": "stream",
     "text": [
      "47 /g/data/jh2/av5889/quokka_myrepo/quokka/sims/SetonixData/R16/4pc/proj_y_plt460000\n"
     ]
    },
    {
     "name": "stderr",
     "output_type": "stream",
     "text": [
      "yt : [INFO     ] 2024-08-28 10:51:47,030 Parameters: current_time              = 0.0\n",
      "yt : [INFO     ] 2024-08-28 10:51:47,031 Parameters: domain_dimensions         = [ 256    1 4096]\n",
      "yt : [INFO     ] 2024-08-28 10:51:47,032 Parameters: domain_left_edge          = [ 0.0000e+00  0.0000e+00 -2.4144e+22]\n",
      "yt : [INFO     ] 2024-08-28 10:51:47,034 Parameters: domain_right_edge         = [3.0180e+21 3.0180e+21 2.4144e+22]\n"
     ]
    },
    {
     "name": "stdout",
     "output_type": "stream",
     "text": [
      "48 /g/data/jh2/av5889/quokka_myrepo/quokka/sims/SetonixData/R16/4pc/proj_y_plt00000\n"
     ]
    },
    {
     "name": "stderr",
     "output_type": "stream",
     "text": [
      "yt : [INFO     ] 2024-08-28 10:51:47,519 Parameters: current_time              = 224231778241211.75\n",
      "yt : [INFO     ] 2024-08-28 10:51:47,521 Parameters: domain_dimensions         = [ 256    1 4096]\n",
      "yt : [INFO     ] 2024-08-28 10:51:47,522 Parameters: domain_left_edge          = [ 0.0000e+00  0.0000e+00 -2.4144e+22]\n",
      "yt : [INFO     ] 2024-08-28 10:51:47,523 Parameters: domain_right_edge         = [3.0180e+21 3.0180e+21 2.4144e+22]\n"
     ]
    },
    {
     "name": "stdout",
     "output_type": "stream",
     "text": [
      "49 /g/data/jh2/av5889/quokka_myrepo/quokka/sims/SetonixData/R16/4pc/proj_y_plt10000\n"
     ]
    },
    {
     "name": "stderr",
     "output_type": "stream",
     "text": [
      "/jobfs/123830855.gadi-pbs/ipykernel_3521958/1863435126.py:90: RuntimeWarning: divide by zero encountered in true_divide\n",
      "  phi =  1. - np.asarray(sorted_scalar)/(inj_scalar*Myr)\n"
     ]
    },
    {
     "data": {
      "text/plain": [
       "[0.01, 200.1, 0.01, 200.1]"
      ]
     },
     "execution_count": 13,
     "metadata": {},
     "output_type": "execute_result"
    },
    {
     "data": {
      "image/png": "[encoded data removed]",
      "text/plain": [
       "<Figure size 1728x576 with 2 Axes>"
      ]
     },
     "metadata": {
      "needs_background": "light"
     },
     "output_type": "display_data"
    }
   ],
   "source": [
    "kk = 0\n",
    "\n",
    "fig, ax = plt.subplots(1, 2, gridspec_kw = {'wspace':0.02, 'hspace':0.02},figsize=(24, 8))\n",
    "colors =  sns.color_palette(\"rocket\", len(folder_list))\n",
    "\n",
    "sigma_sfr = [1.58e-6/yr_to_sec]   \n",
    "folder_list = ['SetonixData/R16/4pc/']\n",
    "\n",
    "label = [r'0.2$\\Sigma_{\\rm Fid}^*$']\n",
    "\n",
    "ls = ['-', '-.', '--']\n",
    "\n",
    "Zbg = [1.0, 1.0, 1.0]\n",
    "Zunit = Msun/1.e3\n",
    "\n",
    "for folder in folder_list:\n",
    "    data_path = os.path.join('/g/data/jh2/av5889/quokka_myrepo/quokka/sims/', folder)\n",
    "    print(folder)\n",
    "    os.chdir(data_path)\n",
    "    list_file1 = glob.glob(\"proj_y_*\")\n",
    "    \n",
    "    \n",
    "    os.chdir(data_path)\n",
    "    infile   = os.path.join(data_path, 'metal_uniform.in')\n",
    "\n",
    "    dom_min, dom_max, ncells = getdomain(infile)\n",
    "    fac = 1\n",
    "    zrange = np.linspace(dom_min[2], dom_max[2], (fac*int(ncells[2])))\n",
    "    xrange = np.linspace(dom_min[0], dom_max[0], (fac*int(ncells[0])))\n",
    "    yrange = np.linspace(dom_min[1], dom_max[1], (fac*int(ncells[1])))\n",
    "    \n",
    "    \n",
    "    dx = (dom_max[0]- dom_min[0])/(fac*int(ncells[0]))\n",
    "    dz = (dom_max[2]- dom_min[2])/(fac*int(ncells[2]))\n",
    "    \n",
    "    height = np.amax(zrange)/2\n",
    "    list_file = list_file1[0:50]\n",
    "    \n",
    "    index = min(range(zrange.shape[0]), key=lambda i: abs(zrange[i] - height))\n",
    "    vol_index = (np.abs(zrange)<height) &  (np.abs(zrange)>0.15*kpc)\n",
    "    print(index, zrange.shape)\n",
    "    \n",
    "    timestep = np.zeros((len(list_file)))\n",
    "    \n",
    "    scalar_flux_xz = np.zeros((len(list_file), xrange.shape[0], zrange.shape[0]))\n",
    "    tot_scalar = np.zeros((len(list_file), xrange.shape[0], zrange.shape[0]))\n",
    "    tot_rho    = np.zeros((len(list_file), xrange.shape[0], zrange.shape[0]))\n",
    "    \n",
    "    i = 0 \n",
    "    for f in list_file:\n",
    "        \n",
    "        inputfile = os.path.join(data_path, f)\n",
    "        file_size = get_folder_size(inputfile) / (1024 * 1024)\n",
    "        \n",
    "        if(file_size<100. and folder!=folder_list[-1]):\n",
    "            print('Skipping ', inputfile, '\\n')\n",
    "            continue\n",
    "        \n",
    "        ds   = yt.load(inputfile)\n",
    "        data = ds.covering_grid(level=0, left_edge=dom_min, dims=ds.domain_dimensions, num_ghost_zones=0)\n",
    "        print(i, inputfile)\n",
    "        timestep[i] = ds.current_time.to('Myr')\n",
    "        \n",
    "        scalar_flux_xz[i,:] = np.abs(np.array(data['scalar_outflow'])[:,0,:])\n",
    "        tot_scalar[i,:]     = np.array(data['scalar'])[:,0,:]\n",
    "        tot_rho[i,:]        = np.array(data['rho'])[:,0,:]\n",
    "        i+=1\n",
    "        \n",
    "    \n",
    "    mask1 = (np.abs(zrange)) < (height + 2*dz)\n",
    "    mask2 = (np.abs(zrange)) > ( height - 2.*dz)\n",
    "    mask = mask1*mask2\n",
    "    \n",
    "    scalar_flux_z = np.sum(scalar_flux_xz , axis=1)*Zunit*dx\n",
    "    scalar_flux   = np.average(scalar_flux_z[:,mask], axis=1)  \n",
    "    \n",
    "    \n",
    "    met_mass    = np.sum(tot_scalar[:,:,vol_index], axis=(1,2)) *dx * dz * Zunit\n",
    "    total_mass  = np.sum(tot_rho[:,:,vol_index], axis=(1,2)) * dx * dz\n",
    "    scalar_mass =  Zbg[kk]*8.6e-3*total_mass + met_mass\n",
    "    \n",
    "    indexes = list(range(len(timestep)))\n",
    "    indexes.sort(key=timestep.__getitem__)\n",
    "    sorted_time = list(map(timestep.__getitem__, indexes))\n",
    "    \n",
    "    \n",
    "    sorted_scalar  = list(map(scalar_mass.__getitem__, indexes))\n",
    "    inj_scalar = sigma_sfr[kk]  * Msun * np.asarray(sorted_time)\n",
    "    \n",
    "    phi =  1. - np.asarray(sorted_scalar)/(inj_scalar*Myr)\n",
    "    \n",
    "    ax[0].plot(sorted_time, phi, ls=ls[kk],\\\n",
    "            label=label[kk],markersize=12, lw=2.5, color=colors[kk])\n",
    "    \n",
    "    \n",
    "    sorted_scalar_flux  = list(map(scalar_flux.__getitem__, indexes))\n",
    "    inj_scalar = sigma_sfr[kk]  * Msun * np.asarray(sorted_time) * Myr\n",
    "    \n",
    "    tt=1\n",
    "    dtimestep = np.zeros(len(sorted_time))\n",
    "    dtimestep[0] = sorted_time[0]\n",
    "    while(tt<timestep.shape[0]):\n",
    "        dtimestep[tt] = sorted_time[tt] - dtimestep[tt-1]\n",
    "        tt+=1\n",
    "    \n",
    "    Mzdot_dt = np.asarray(sorted_scalar_flux) / (sigma_sfr[kk]  * Msun) #* dtimestep * Myr\n",
    "    \n",
    "    ax[1].plot(sorted_time,  Mzdot_dt, ls=ls[kk],\\\n",
    "            markersize=12, lw=2.5, color=colors[kk])\n",
    "    \n",
    "    kk+=1\n",
    "    \n",
    "ax[0].legend()\n",
    "ax[0].set_xlabel('Myr')\n",
    "ax[1].set_xlabel('Myr')\n",
    "ax[0].tick_params(axis='y', right=True, left=True)\n",
    "ax[1].tick_params(axis='y', labelleft=False, right=True, left=True, labelright=True)\n",
    "ax[0].set_title('$1-\\int M_Z dV/\\Gamma_{SN}M_{\\odot}t$')\n",
    "ax[1].set_title('$ \\dot{M}_Z /\\Gamma_{SN}M_{\\odot}$')\n",
    "# plt.setp(ax, 'ylim', (-0.01, 1.1))\n",
    "plt.setp(ax, 'xlim', (0.01, 200.1))"
   ]
  },
  {
   "cell_type": "code",
   "execution_count": 5,
   "id": "c7a13155",
   "metadata": {},
   "outputs": [],
   "source": [
    "def get_folder_size(directory):\n",
    "    total_size = 0\n",
    "    for dirpath, dirnames, filenames in os.walk(directory):\n",
    "        for filename in filenames:\n",
    "            file_path = os.path.join(dirpath, filename)\n",
    "            # Skip if it is symbolic link\n",
    "            if not os.path.islink(file_path):\n",
    "                total_size += os.path.getsize(file_path)\n",
    "    return total_size"
   ]
  },
  {
   "cell_type": "markdown",
   "id": "9530fb02",
   "metadata": {},
   "source": [
    "# Metal Loading for 0.2Zsol"
   ]
  },
  {
   "cell_type": "code",
   "execution_count": 18,
   "id": "d9df3682",
   "metadata": {
    "scrolled": false
   },
   "outputs": [
    {
     "name": "stderr",
     "output_type": "stream",
     "text": [
      "yt : [INFO     ] 2024-08-28 11:06:29,257 Parameters: current_time              = 3831759926055774.5\n",
      "yt : [INFO     ] 2024-08-28 11:06:29,258 Parameters: domain_dimensions         = [ 512    1 4096]\n",
      "yt : [INFO     ] 2024-08-28 11:06:29,260 Parameters: domain_left_edge          = [ 0.0000e+00  0.0000e+00 -1.2072e+22]\n",
      "yt : [INFO     ] 2024-08-28 11:06:29,261 Parameters: domain_right_edge         = [3.0180e+21 3.0180e+21 1.2072e+22]\n"
     ]
    },
    {
     "name": "stdout",
     "output_type": "stream",
     "text": [
      "SummitData/GasGravity/Production2pc/R4-0.2Zsol/\n",
      "3071 (4096,)\n",
      "0 /g/data/jh2/av5889/quokka_myrepo/quokka/sims/SummitData/GasGravity/Production2pc/R4-0.2Zsol/proj_y_plt5470000\n"
     ]
    },
    {
     "name": "stderr",
     "output_type": "stream",
     "text": [
      "yt : [INFO     ] 2024-08-28 11:06:29,949 Parameters: current_time              = 4802318615204617.0\n",
      "yt : [INFO     ] 2024-08-28 11:06:29,951 Parameters: domain_dimensions         = [ 512    1 4096]\n",
      "yt : [INFO     ] 2024-08-28 11:06:29,952 Parameters: domain_left_edge          = [ 0.0000e+00  0.0000e+00 -1.2072e+22]\n",
      "yt : [INFO     ] 2024-08-28 11:06:29,953 Parameters: domain_right_edge         = [3.0180e+21 3.0180e+21 1.2072e+22]\n"
     ]
    },
    {
     "name": "stdout",
     "output_type": "stream",
     "text": [
      "1 /g/data/jh2/av5889/quokka_myrepo/quokka/sims/SummitData/GasGravity/Production2pc/R4-0.2Zsol/proj_y_plt6830000\n"
     ]
    },
    {
     "name": "stderr",
     "output_type": "stream",
     "text": [
      "yt : [INFO     ] 2024-08-28 11:06:30,666 Parameters: current_time              = 2225200593092499.5\n",
      "yt : [INFO     ] 2024-08-28 11:06:30,668 Parameters: domain_dimensions         = [ 512    1 4096]\n",
      "yt : [INFO     ] 2024-08-28 11:06:30,670 Parameters: domain_left_edge          = [ 0.0000e+00  0.0000e+00 -1.2072e+22]\n",
      "yt : [INFO     ] 2024-08-28 11:06:30,671 Parameters: domain_right_edge         = [3.0180e+21 3.0180e+21 1.2072e+22]\n"
     ]
    },
    {
     "name": "stdout",
     "output_type": "stream",
     "text": [
      "2 /g/data/jh2/av5889/quokka_myrepo/quokka/sims/SummitData/GasGravity/Production2pc/R4-0.2Zsol/proj_y_plt3160000\n"
     ]
    },
    {
     "name": "stderr",
     "output_type": "stream",
     "text": [
      "yt : [INFO     ] 2024-08-28 11:06:31,365 Parameters: current_time              = 3746565408933140.5\n",
      "yt : [INFO     ] 2024-08-28 11:06:31,366 Parameters: domain_dimensions         = [ 512    1 4096]\n",
      "yt : [INFO     ] 2024-08-28 11:06:31,367 Parameters: domain_left_edge          = [ 0.0000e+00  0.0000e+00 -1.2072e+22]\n",
      "yt : [INFO     ] 2024-08-28 11:06:31,369 Parameters: domain_right_edge         = [3.0180e+21 3.0180e+21 1.2072e+22]\n"
     ]
    },
    {
     "name": "stdout",
     "output_type": "stream",
     "text": [
      "3 /g/data/jh2/av5889/quokka_myrepo/quokka/sims/SummitData/GasGravity/Production2pc/R4-0.2Zsol/proj_y_plt5350000\n"
     ]
    },
    {
     "name": "stderr",
     "output_type": "stream",
     "text": [
      "yt : [INFO     ] 2024-08-28 11:06:32,058 Parameters: current_time              = 4610293348142975.0\n",
      "yt : [INFO     ] 2024-08-28 11:06:32,059 Parameters: domain_dimensions         = [ 512    1 4096]\n",
      "yt : [INFO     ] 2024-08-28 11:06:32,061 Parameters: domain_left_edge          = [ 0.0000e+00  0.0000e+00 -1.2072e+22]\n",
      "yt : [INFO     ] 2024-08-28 11:06:32,062 Parameters: domain_right_edge         = [3.0180e+21 3.0180e+21 1.2072e+22]\n"
     ]
    },
    {
     "name": "stdout",
     "output_type": "stream",
     "text": [
      "4 /g/data/jh2/av5889/quokka_myrepo/quokka/sims/SummitData/GasGravity/Production2pc/R4-0.2Zsol/proj_y_plt6560000\n"
     ]
    },
    {
     "name": "stderr",
     "output_type": "stream",
     "text": [
      "yt : [INFO     ] 2024-08-28 11:06:32,773 Parameters: current_time              = 3431253229708773.0\n",
      "yt : [INFO     ] 2024-08-28 11:06:32,775 Parameters: domain_dimensions         = [ 512    1 4096]\n",
      "yt : [INFO     ] 2024-08-28 11:06:32,776 Parameters: domain_left_edge          = [ 0.0000e+00  0.0000e+00 -1.2072e+22]\n",
      "yt : [INFO     ] 2024-08-28 11:06:32,777 Parameters: domain_right_edge         = [3.0180e+21 3.0180e+21 1.2072e+22]\n"
     ]
    },
    {
     "name": "stdout",
     "output_type": "stream",
     "text": [
      "5 /g/data/jh2/av5889/quokka_myrepo/quokka/sims/SummitData/GasGravity/Production2pc/R4-0.2Zsol/proj_y_plt4900000.old.7011674\n"
     ]
    },
    {
     "name": "stderr",
     "output_type": "stream",
     "text": [
      "yt : [INFO     ] 2024-08-28 11:06:33,464 Parameters: current_time              = 945179872586257.2\n",
      "yt : [INFO     ] 2024-08-28 11:06:33,466 Parameters: domain_dimensions         = [ 512    1 4096]\n",
      "yt : [INFO     ] 2024-08-28 11:06:33,467 Parameters: domain_left_edge          = [ 0.0000e+00  0.0000e+00 -1.2072e+22]\n",
      "yt : [INFO     ] 2024-08-28 11:06:33,468 Parameters: domain_right_edge         = [3.0180e+21 3.0180e+21 1.2072e+22]\n"
     ]
    },
    {
     "name": "stdout",
     "output_type": "stream",
     "text": [
      "6 /g/data/jh2/av5889/quokka_myrepo/quokka/sims/SummitData/GasGravity/Production2pc/R4-0.2Zsol/proj_y_plt1240000\n"
     ]
    },
    {
     "name": "stderr",
     "output_type": "stream",
     "text": [
      "yt : [INFO     ] 2024-08-28 11:06:34,156 Parameters: current_time              = 2178513523125985.2\n",
      "yt : [INFO     ] 2024-08-28 11:06:34,157 Parameters: domain_dimensions         = [ 512    1 4096]\n",
      "yt : [INFO     ] 2024-08-28 11:06:34,158 Parameters: domain_left_edge          = [ 0.0000e+00  0.0000e+00 -1.2072e+22]\n",
      "yt : [INFO     ] 2024-08-28 11:06:34,160 Parameters: domain_right_edge         = [3.0180e+21 3.0180e+21 1.2072e+22]\n"
     ]
    },
    {
     "name": "stdout",
     "output_type": "stream",
     "text": [
      "7 /g/data/jh2/av5889/quokka_myrepo/quokka/sims/SummitData/GasGravity/Production2pc/R4-0.2Zsol/proj_y_plt3090000\n"
     ]
    },
    {
     "name": "stderr",
     "output_type": "stream",
     "text": [
      "yt : [INFO     ] 2024-08-28 11:06:34,859 Parameters: current_time              = 3172223102192184.0\n",
      "yt : [INFO     ] 2024-08-28 11:06:34,861 Parameters: domain_dimensions         = [ 512    1 4096]\n",
      "yt : [INFO     ] 2024-08-28 11:06:34,862 Parameters: domain_left_edge          = [ 0.0000e+00  0.0000e+00 -1.2072e+22]\n",
      "yt : [INFO     ] 2024-08-28 11:06:34,863 Parameters: domain_right_edge         = [3.0180e+21 3.0180e+21 1.2072e+22]\n"
     ]
    },
    {
     "name": "stdout",
     "output_type": "stream",
     "text": [
      "8 /g/data/jh2/av5889/quokka_myrepo/quokka/sims/SummitData/GasGravity/Production2pc/R4-0.2Zsol/proj_y_plt4530000\n"
     ]
    },
    {
     "name": "stderr",
     "output_type": "stream",
     "text": [
      "yt : [INFO     ] 2024-08-28 11:06:35,550 Parameters: current_time              = 5252815041103569.0\n",
      "yt : [INFO     ] 2024-08-28 11:06:35,552 Parameters: domain_dimensions         = [ 512    1 4096]\n",
      "yt : [INFO     ] 2024-08-28 11:06:35,553 Parameters: domain_left_edge          = [ 0.0000e+00  0.0000e+00 -1.2072e+22]\n",
      "yt : [INFO     ] 2024-08-28 11:06:35,554 Parameters: domain_right_edge         = [3.0180e+21 3.0180e+21 1.2072e+22]\n"
     ]
    },
    {
     "name": "stdout",
     "output_type": "stream",
     "text": [
      "9 /g/data/jh2/av5889/quokka_myrepo/quokka/sims/SummitData/GasGravity/Production2pc/R4-0.2Zsol/proj_y_plt7460000\n"
     ]
    },
    {
     "name": "stderr",
     "output_type": "stream",
     "text": [
      "yt : [INFO     ] 2024-08-28 11:06:36,309 Parameters: current_time              = 2164682660929922.5\n",
      "yt : [INFO     ] 2024-08-28 11:06:36,310 Parameters: domain_dimensions         = [ 512    1 4096]\n",
      "yt : [INFO     ] 2024-08-28 11:06:36,311 Parameters: domain_left_edge          = [ 0.0000e+00  0.0000e+00 -1.2072e+22]\n",
      "yt : [INFO     ] 2024-08-28 11:06:36,313 Parameters: domain_right_edge         = [3.0180e+21 3.0180e+21 1.2072e+22]\n"
     ]
    },
    {
     "name": "stdout",
     "output_type": "stream",
     "text": [
      "10 /g/data/jh2/av5889/quokka_myrepo/quokka/sims/SummitData/GasGravity/Production2pc/R4-0.2Zsol/proj_y_plt3070000\n"
     ]
    },
    {
     "name": "stderr",
     "output_type": "stream",
     "text": [
      "yt : [INFO     ] 2024-08-28 11:06:37,075 Parameters: current_time              = 2729193449919340.5\n",
      "yt : [INFO     ] 2024-08-28 11:06:37,078 Parameters: domain_dimensions         = [ 512    1 4096]\n",
      "yt : [INFO     ] 2024-08-28 11:06:37,079 Parameters: domain_left_edge          = [ 0.0000e+00  0.0000e+00 -1.2072e+22]\n",
      "yt : [INFO     ] 2024-08-28 11:06:37,081 Parameters: domain_right_edge         = [3.0180e+21 3.0180e+21 1.2072e+22]\n"
     ]
    },
    {
     "name": "stdout",
     "output_type": "stream",
     "text": [
      "11 /g/data/jh2/av5889/quokka_myrepo/quokka/sims/SummitData/GasGravity/Production2pc/R4-0.2Zsol/proj_y_plt3890000\n"
     ]
    },
    {
     "name": "stderr",
     "output_type": "stream",
     "text": [
      "yt : [INFO     ] 2024-08-28 11:06:37,836 Parameters: current_time              = 186925710552203.75\n",
      "yt : [INFO     ] 2024-08-28 11:06:37,837 Parameters: domain_dimensions         = [ 512    1 4096]\n",
      "yt : [INFO     ] 2024-08-28 11:06:37,839 Parameters: domain_left_edge          = [ 0.0000e+00  0.0000e+00 -1.2072e+22]\n",
      "yt : [INFO     ] 2024-08-28 11:06:37,840 Parameters: domain_right_edge         = [3.0180e+21 3.0180e+21 1.2072e+22]\n"
     ]
    },
    {
     "name": "stdout",
     "output_type": "stream",
     "text": [
      "12 /g/data/jh2/av5889/quokka_myrepo/quokka/sims/SummitData/GasGravity/Production2pc/R4-0.2Zsol/proj_y_plt200000\n"
     ]
    },
    {
     "name": "stderr",
     "output_type": "stream",
     "text": [
      "yt : [INFO     ] 2024-08-28 11:06:38,711 Parameters: current_time              = 4830476258676565.0\n",
      "yt : [INFO     ] 2024-08-28 11:06:38,713 Parameters: domain_dimensions         = [ 512    1 4096]\n",
      "yt : [INFO     ] 2024-08-28 11:06:38,714 Parameters: domain_left_edge          = [ 0.0000e+00  0.0000e+00 -1.2072e+22]\n",
      "yt : [INFO     ] 2024-08-28 11:06:38,716 Parameters: domain_right_edge         = [3.0180e+21 3.0180e+21 1.2072e+22]\n"
     ]
    },
    {
     "name": "stdout",
     "output_type": "stream",
     "text": [
      "13 /g/data/jh2/av5889/quokka_myrepo/quokka/sims/SummitData/GasGravity/Production2pc/R4-0.2Zsol/proj_y_plt6870000\n"
     ]
    },
    {
     "name": "stderr",
     "output_type": "stream",
     "text": [
      "yt : [INFO     ] 2024-08-28 11:06:39,409 Parameters: current_time              = 4591090493860235.0\n",
      "yt : [INFO     ] 2024-08-28 11:06:39,411 Parameters: domain_dimensions         = [ 512    1 4096]\n",
      "yt : [INFO     ] 2024-08-28 11:06:39,412 Parameters: domain_left_edge          = [ 0.0000e+00  0.0000e+00 -1.2072e+22]\n",
      "yt : [INFO     ] 2024-08-28 11:06:39,413 Parameters: domain_right_edge         = [3.0180e+21 3.0180e+21 1.2072e+22]\n"
     ]
    },
    {
     "name": "stdout",
     "output_type": "stream",
     "text": [
      "14 /g/data/jh2/av5889/quokka_myrepo/quokka/sims/SummitData/GasGravity/Production2pc/R4-0.2Zsol/proj_y_plt6530000\n"
     ]
    },
    {
     "name": "stderr",
     "output_type": "stream",
     "text": [
      "yt : [INFO     ] 2024-08-28 11:06:40,128 Parameters: current_time              = 2171434847579381.5\n",
      "yt : [INFO     ] 2024-08-28 11:06:40,130 Parameters: domain_dimensions         = [ 512    1 4096]\n",
      "yt : [INFO     ] 2024-08-28 11:06:40,131 Parameters: domain_left_edge          = [ 0.0000e+00  0.0000e+00 -1.2072e+22]\n",
      "yt : [INFO     ] 2024-08-28 11:06:40,132 Parameters: domain_right_edge         = [3.0180e+21 3.0180e+21 1.2072e+22]\n"
     ]
    },
    {
     "name": "stdout",
     "output_type": "stream",
     "text": [
      "15 /g/data/jh2/av5889/quokka_myrepo/quokka/sims/SummitData/GasGravity/Production2pc/R4-0.2Zsol/proj_y_plt3080000\n"
     ]
    },
    {
     "name": "stderr",
     "output_type": "stream",
     "text": [
      "yt : [INFO     ] 2024-08-28 11:06:40,841 Parameters: current_time              = 835437753079387.9\n",
      "yt : [INFO     ] 2024-08-28 11:06:40,843 Parameters: domain_dimensions         = [ 512    1 4096]\n",
      "yt : [INFO     ] 2024-08-28 11:06:40,844 Parameters: domain_left_edge          = [ 0.0000e+00  0.0000e+00 -1.2072e+22]\n",
      "yt : [INFO     ] 2024-08-28 11:06:40,846 Parameters: domain_right_edge         = [3.0180e+21 3.0180e+21 1.2072e+22]\n"
     ]
    },
    {
     "name": "stdout",
     "output_type": "stream",
     "text": [
      "16 /g/data/jh2/av5889/quokka_myrepo/quokka/sims/SummitData/GasGravity/Production2pc/R4-0.2Zsol/proj_y_plt1080000\n"
     ]
    },
    {
     "name": "stderr",
     "output_type": "stream",
     "text": [
      "yt : [INFO     ] 2024-08-28 11:06:41,535 Parameters: current_time              = 5238694594907248.0\n",
      "yt : [INFO     ] 2024-08-28 11:06:41,537 Parameters: domain_dimensions         = [ 512    1 4096]\n",
      "yt : [INFO     ] 2024-08-28 11:06:41,538 Parameters: domain_left_edge          = [ 0.0000e+00  0.0000e+00 -1.2072e+22]\n",
      "yt : [INFO     ] 2024-08-28 11:06:41,539 Parameters: domain_right_edge         = [3.0180e+21 3.0180e+21 1.2072e+22]\n"
     ]
    },
    {
     "name": "stdout",
     "output_type": "stream",
     "text": [
      "17 /g/data/jh2/av5889/quokka_myrepo/quokka/sims/SummitData/GasGravity/Production2pc/R4-0.2Zsol/proj_y_plt7440000\n"
     ]
    },
    {
     "name": "stderr",
     "output_type": "stream",
     "text": [
      "yt : [INFO     ] 2024-08-28 11:06:42,232 Parameters: current_time              = 523122309334743.56\n",
      "yt : [INFO     ] 2024-08-28 11:06:42,233 Parameters: domain_dimensions         = [ 512    1 4096]\n",
      "yt : [INFO     ] 2024-08-28 11:06:42,235 Parameters: domain_left_edge          = [ 0.0000e+00  0.0000e+00 -1.2072e+22]\n",
      "yt : [INFO     ] 2024-08-28 11:06:42,237 Parameters: domain_right_edge         = [3.0180e+21 3.0180e+21 1.2072e+22]\n"
     ]
    },
    {
     "name": "stdout",
     "output_type": "stream",
     "text": [
      "18 /g/data/jh2/av5889/quokka_myrepo/quokka/sims/SummitData/GasGravity/Production2pc/R4-0.2Zsol/proj_y_plt630000\n"
     ]
    },
    {
     "name": "stderr",
     "output_type": "stream",
     "text": [
      "yt : [INFO     ] 2024-08-28 11:06:42,943 Parameters: current_time              = 4759193842110459.0\n",
      "yt : [INFO     ] 2024-08-28 11:06:42,945 Parameters: domain_dimensions         = [ 512    1 4096]\n",
      "yt : [INFO     ] 2024-08-28 11:06:42,946 Parameters: domain_left_edge          = [ 0.0000e+00  0.0000e+00 -1.2072e+22]\n",
      "yt : [INFO     ] 2024-08-28 11:06:42,948 Parameters: domain_right_edge         = [3.0180e+21 3.0180e+21 1.2072e+22]\n"
     ]
    },
    {
     "name": "stdout",
     "output_type": "stream",
     "text": [
      "19 /g/data/jh2/av5889/quokka_myrepo/quokka/sims/SummitData/GasGravity/Production2pc/R4-0.2Zsol/proj_y_plt6770000\n"
     ]
    },
    {
     "name": "stderr",
     "output_type": "stream",
     "text": [
      "yt : [INFO     ] 2024-08-28 11:06:43,671 Parameters: current_time              = 1092637224294284.6\n",
      "yt : [INFO     ] 2024-08-28 11:06:43,674 Parameters: domain_dimensions         = [ 512    1 4096]\n",
      "yt : [INFO     ] 2024-08-28 11:06:43,675 Parameters: domain_left_edge          = [ 0.0000e+00  0.0000e+00 -1.2072e+22]\n",
      "yt : [INFO     ] 2024-08-28 11:06:43,677 Parameters: domain_right_edge         = [3.0180e+21 3.0180e+21 1.2072e+22]\n"
     ]
    },
    {
     "name": "stdout",
     "output_type": "stream",
     "text": [
      "20 /g/data/jh2/av5889/quokka_myrepo/quokka/sims/SummitData/GasGravity/Production2pc/R4-0.2Zsol/proj_y_plt1460000\n"
     ]
    },
    {
     "name": "stderr",
     "output_type": "stream",
     "text": [
      "yt : [INFO     ] 2024-08-28 11:06:44,390 Parameters: current_time              = 5181390078915578.0\n",
      "yt : [INFO     ] 2024-08-28 11:06:44,391 Parameters: domain_dimensions         = [ 512    1 4096]\n",
      "yt : [INFO     ] 2024-08-28 11:06:44,392 Parameters: domain_left_edge          = [ 0.0000e+00  0.0000e+00 -1.2072e+22]\n",
      "yt : [INFO     ] 2024-08-28 11:06:44,394 Parameters: domain_right_edge         = [3.0180e+21 3.0180e+21 1.2072e+22]\n"
     ]
    },
    {
     "name": "stdout",
     "output_type": "stream",
     "text": [
      "21 /g/data/jh2/av5889/quokka_myrepo/quokka/sims/SummitData/GasGravity/Production2pc/R4-0.2Zsol/proj_y_plt7360000\n"
     ]
    },
    {
     "name": "stderr",
     "output_type": "stream",
     "text": [
      "yt : [INFO     ] 2024-08-28 11:06:45,116 Parameters: current_time              = 4674616932122231.0\n",
      "yt : [INFO     ] 2024-08-28 11:06:45,118 Parameters: domain_dimensions         = [ 512    1 4096]\n",
      "yt : [INFO     ] 2024-08-28 11:06:45,120 Parameters: domain_left_edge          = [ 0.0000e+00  0.0000e+00 -1.2072e+22]\n",
      "yt : [INFO     ] 2024-08-28 11:06:45,121 Parameters: domain_right_edge         = [3.0180e+21 3.0180e+21 1.2072e+22]\n"
     ]
    },
    {
     "name": "stdout",
     "output_type": "stream",
     "text": [
      "22 /g/data/jh2/av5889/quokka_myrepo/quokka/sims/SummitData/GasGravity/Production2pc/R4-0.2Zsol/proj_y_plt6650000\n"
     ]
    },
    {
     "name": "stderr",
     "output_type": "stream",
     "text": [
      "yt : [INFO     ] 2024-08-28 11:06:45,829 Parameters: current_time              = 4773659729323323.0\n",
      "yt : [INFO     ] 2024-08-28 11:06:45,831 Parameters: domain_dimensions         = [ 512    1 4096]\n",
      "yt : [INFO     ] 2024-08-28 11:06:45,832 Parameters: domain_left_edge          = [ 0.0000e+00  0.0000e+00 -1.2072e+22]\n",
      "yt : [INFO     ] 2024-08-28 11:06:45,833 Parameters: domain_right_edge         = [3.0180e+21 3.0180e+21 1.2072e+22]\n"
     ]
    },
    {
     "name": "stdout",
     "output_type": "stream",
     "text": [
      "23 /g/data/jh2/av5889/quokka_myrepo/quokka/sims/SummitData/GasGravity/Production2pc/R4-0.2Zsol/proj_y_plt6790000\n"
     ]
    },
    {
     "name": "stderr",
     "output_type": "stream",
     "text": [
      "yt : [INFO     ] 2024-08-28 11:06:46,554 Parameters: current_time              = 3144883340393984.0\n",
      "yt : [INFO     ] 2024-08-28 11:06:46,557 Parameters: domain_dimensions         = [ 512    1 4096]\n",
      "yt : [INFO     ] 2024-08-28 11:06:46,559 Parameters: domain_left_edge          = [ 0.0000e+00  0.0000e+00 -1.2072e+22]\n",
      "yt : [INFO     ] 2024-08-28 11:06:46,560 Parameters: domain_right_edge         = [3.0180e+21 3.0180e+21 1.2072e+22]\n"
     ]
    },
    {
     "name": "stdout",
     "output_type": "stream",
     "text": [
      "24 /g/data/jh2/av5889/quokka_myrepo/quokka/sims/SummitData/GasGravity/Production2pc/R4-0.2Zsol/proj_y_plt4490000\n"
     ]
    },
    {
     "name": "stderr",
     "output_type": "stream",
     "text": [
      "yt : [INFO     ] 2024-08-28 11:06:47,259 Parameters: current_time              = 2278467605163272.5\n",
      "yt : [INFO     ] 2024-08-28 11:06:47,260 Parameters: domain_dimensions         = [ 512    1 4096]\n",
      "yt : [INFO     ] 2024-08-28 11:06:47,261 Parameters: domain_left_edge          = [ 0.0000e+00  0.0000e+00 -1.2072e+22]\n",
      "yt : [INFO     ] 2024-08-28 11:06:47,263 Parameters: domain_right_edge         = [3.0180e+21 3.0180e+21 1.2072e+22]\n"
     ]
    },
    {
     "name": "stdout",
     "output_type": "stream",
     "text": [
      "25 /g/data/jh2/av5889/quokka_myrepo/quokka/sims/SummitData/GasGravity/Production2pc/R4-0.2Zsol/proj_y_plt3240000\n"
     ]
    },
    {
     "name": "stderr",
     "output_type": "stream",
     "text": [
      "yt : [INFO     ] 2024-08-28 11:06:47,983 Parameters: current_time              = 822000725952503.8\n",
      "yt : [INFO     ] 2024-08-28 11:06:47,992 Parameters: domain_dimensions         = [ 512    1 4096]\n",
      "yt : [INFO     ] 2024-08-28 11:06:47,995 Parameters: domain_left_edge          = [ 0.0000e+00  0.0000e+00 -1.2072e+22]\n",
      "yt : [INFO     ] 2024-08-28 11:06:47,996 Parameters: domain_right_edge         = [3.0180e+21 3.0180e+21 1.2072e+22]\n"
     ]
    },
    {
     "name": "stdout",
     "output_type": "stream",
     "text": [
      "26 /g/data/jh2/av5889/quokka_myrepo/quokka/sims/SummitData/GasGravity/Production2pc/R4-0.2Zsol/proj_y_plt1060000\n"
     ]
    },
    {
     "name": "stderr",
     "output_type": "stream",
     "text": [
      "yt : [INFO     ] 2024-08-28 11:06:48,759 Parameters: current_time              = 4844952524951113.0\n",
      "yt : [INFO     ] 2024-08-28 11:06:48,761 Parameters: domain_dimensions         = [ 512    1 4096]\n",
      "yt : [INFO     ] 2024-08-28 11:06:48,762 Parameters: domain_left_edge          = [ 0.0000e+00  0.0000e+00 -1.2072e+22]\n",
      "yt : [INFO     ] 2024-08-28 11:06:48,764 Parameters: domain_right_edge         = [3.0180e+21 3.0180e+21 1.2072e+22]\n"
     ]
    },
    {
     "name": "stdout",
     "output_type": "stream",
     "text": [
      "27 /g/data/jh2/av5889/quokka_myrepo/quokka/sims/SummitData/GasGravity/Production2pc/R4-0.2Zsol/proj_y_plt6890000\n"
     ]
    },
    {
     "name": "stderr",
     "output_type": "stream",
     "text": [
      "yt : [INFO     ] 2024-08-28 11:06:49,516 Parameters: current_time              = 1592296633482904.2\n",
      "yt : [INFO     ] 2024-08-28 11:06:49,517 Parameters: domain_dimensions         = [ 512    1 4096]\n",
      "yt : [INFO     ] 2024-08-28 11:06:49,518 Parameters: domain_left_edge          = [ 0.0000e+00  0.0000e+00 -1.2072e+22]\n",
      "yt : [INFO     ] 2024-08-28 11:06:49,520 Parameters: domain_right_edge         = [3.0180e+21 3.0180e+21 1.2072e+22]\n"
     ]
    },
    {
     "name": "stdout",
     "output_type": "stream",
     "text": [
      "28 /g/data/jh2/av5889/quokka_myrepo/quokka/sims/SummitData/GasGravity/Production2pc/R4-0.2Zsol/proj_y_plt2210000\n"
     ]
    },
    {
     "name": "stderr",
     "output_type": "stream",
     "text": [
      "yt : [INFO     ] 2024-08-28 11:06:50,272 Parameters: current_time              = 2033235188156145.2\n",
      "yt : [INFO     ] 2024-08-28 11:06:50,274 Parameters: domain_dimensions         = [ 512    1 4096]\n",
      "yt : [INFO     ] 2024-08-28 11:06:50,275 Parameters: domain_left_edge          = [ 0.0000e+00  0.0000e+00 -1.2072e+22]\n",
      "yt : [INFO     ] 2024-08-28 11:06:50,276 Parameters: domain_right_edge         = [3.0180e+21 3.0180e+21 1.2072e+22]\n"
     ]
    },
    {
     "name": "stdout",
     "output_type": "stream",
     "text": [
      "29 /g/data/jh2/av5889/quokka_myrepo/quokka/sims/SummitData/GasGravity/Production2pc/R4-0.2Zsol/proj_y_plt2870000\n"
     ]
    },
    {
     "name": "stderr",
     "output_type": "stream",
     "text": [
      "yt : [INFO     ] 2024-08-28 11:06:51,027 Parameters: current_time              = 2409892814503791.5\n",
      "yt : [INFO     ] 2024-08-28 11:06:51,028 Parameters: domain_dimensions         = [ 512    1 4096]\n",
      "yt : [INFO     ] 2024-08-28 11:06:51,029 Parameters: domain_left_edge          = [ 0.0000e+00  0.0000e+00 -1.2072e+22]\n",
      "yt : [INFO     ] 2024-08-28 11:06:51,031 Parameters: domain_right_edge         = [3.0180e+21 3.0180e+21 1.2072e+22]\n"
     ]
    },
    {
     "name": "stdout",
     "output_type": "stream",
     "text": [
      "30 /g/data/jh2/av5889/quokka_myrepo/quokka/sims/SummitData/GasGravity/Production2pc/R4-0.2Zsol/proj_y_plt3430000\n"
     ]
    },
    {
     "name": "stderr",
     "output_type": "stream",
     "text": [
      "yt : [INFO     ] 2024-08-28 11:06:51,820 Parameters: current_time              = 1465729751966798.5\n",
      "yt : [INFO     ] 2024-08-28 11:06:51,823 Parameters: domain_dimensions         = [ 512    1 4096]\n",
      "yt : [INFO     ] 2024-08-28 11:06:51,826 Parameters: domain_left_edge          = [ 0.0000e+00  0.0000e+00 -1.2072e+22]\n",
      "yt : [INFO     ] 2024-08-28 11:06:51,828 Parameters: domain_right_edge         = [3.0180e+21 3.0180e+21 1.2072e+22]\n"
     ]
    },
    {
     "name": "stdout",
     "output_type": "stream",
     "text": [
      "31 /g/data/jh2/av5889/quokka_myrepo/quokka/sims/SummitData/GasGravity/Production2pc/R4-0.2Zsol/proj_y_plt2020000.old.7575976\n"
     ]
    },
    {
     "name": "stderr",
     "output_type": "stream",
     "text": [
      "yt : [INFO     ] 2024-08-28 11:06:52,687 Parameters: current_time              = 1283227387678827.2\n",
      "yt : [INFO     ] 2024-08-28 11:06:52,689 Parameters: domain_dimensions         = [ 512    1 4096]\n",
      "yt : [INFO     ] 2024-08-28 11:06:52,690 Parameters: domain_left_edge          = [ 0.0000e+00  0.0000e+00 -1.2072e+22]\n",
      "yt : [INFO     ] 2024-08-28 11:06:52,691 Parameters: domain_right_edge         = [3.0180e+21 3.0180e+21 1.2072e+22]\n"
     ]
    },
    {
     "name": "stdout",
     "output_type": "stream",
     "text": [
      "32 /g/data/jh2/av5889/quokka_myrepo/quokka/sims/SummitData/GasGravity/Production2pc/R4-0.2Zsol/proj_y_plt1750000.old.3388877\n"
     ]
    },
    {
     "name": "stderr",
     "output_type": "stream",
     "text": [
      "yt : [INFO     ] 2024-08-28 11:06:53,396 Parameters: current_time              = 594465936936769.0\n",
      "yt : [INFO     ] 2024-08-28 11:06:53,398 Parameters: domain_dimensions         = [ 512    1 4096]\n",
      "yt : [INFO     ] 2024-08-28 11:06:53,399 Parameters: domain_left_edge          = [ 0.0000e+00  0.0000e+00 -1.2072e+22]\n",
      "yt : [INFO     ] 2024-08-28 11:06:53,400 Parameters: domain_right_edge         = [3.0180e+21 3.0180e+21 1.2072e+22]\n"
     ]
    },
    {
     "name": "stdout",
     "output_type": "stream",
     "text": [
      "33 /g/data/jh2/av5889/quokka_myrepo/quokka/sims/SummitData/GasGravity/Production2pc/R4-0.2Zsol/proj_y_plt730000\n"
     ]
    },
    {
     "name": "stderr",
     "output_type": "stream",
     "text": [
      "yt : [INFO     ] 2024-08-28 11:06:54,094 Parameters: current_time              = 2693077169437319.0\n",
      "yt : [INFO     ] 2024-08-28 11:06:54,096 Parameters: domain_dimensions         = [ 512    1 4096]\n",
      "yt : [INFO     ] 2024-08-28 11:06:54,097 Parameters: domain_left_edge          = [ 0.0000e+00  0.0000e+00 -1.2072e+22]\n",
      "yt : [INFO     ] 2024-08-28 11:06:54,098 Parameters: domain_right_edge         = [3.0180e+21 3.0180e+21 1.2072e+22]\n"
     ]
    },
    {
     "name": "stdout",
     "output_type": "stream",
     "text": [
      "34 /g/data/jh2/av5889/quokka_myrepo/quokka/sims/SummitData/GasGravity/Production2pc/R4-0.2Zsol/proj_y_plt3840000\n"
     ]
    },
    {
     "name": "stderr",
     "output_type": "stream",
     "text": [
      "yt : [INFO     ] 2024-08-28 11:06:54,808 Parameters: current_time              = 4936683028755078.0\n",
      "yt : [INFO     ] 2024-08-28 11:06:54,809 Parameters: domain_dimensions         = [ 512    1 4096]\n",
      "yt : [INFO     ] 2024-08-28 11:06:54,810 Parameters: domain_left_edge          = [ 0.0000e+00  0.0000e+00 -1.2072e+22]\n",
      "yt : [INFO     ] 2024-08-28 11:06:54,812 Parameters: domain_right_edge         = [3.0180e+21 3.0180e+21 1.2072e+22]\n"
     ]
    },
    {
     "name": "stdout",
     "output_type": "stream",
     "text": [
      "35 /g/data/jh2/av5889/quokka_myrepo/quokka/sims/SummitData/GasGravity/Production2pc/R4-0.2Zsol/proj_y_plt7020000\n"
     ]
    },
    {
     "name": "stderr",
     "output_type": "stream",
     "text": [
      "yt : [INFO     ] 2024-08-28 11:06:55,529 Parameters: current_time              = 2603178608685423.0\n",
      "yt : [INFO     ] 2024-08-28 11:06:55,530 Parameters: domain_dimensions         = [ 512    1 4096]\n",
      "yt : [INFO     ] 2024-08-28 11:06:55,532 Parameters: domain_left_edge          = [ 0.0000e+00  0.0000e+00 -1.2072e+22]\n",
      "yt : [INFO     ] 2024-08-28 11:06:55,533 Parameters: domain_right_edge         = [3.0180e+21 3.0180e+21 1.2072e+22]\n"
     ]
    },
    {
     "name": "stdout",
     "output_type": "stream",
     "text": [
      "36 /g/data/jh2/av5889/quokka_myrepo/quokka/sims/SummitData/GasGravity/Production2pc/R4-0.2Zsol/proj_y_plt3710000\n"
     ]
    },
    {
     "name": "stderr",
     "output_type": "stream",
     "text": [
      "yt : [INFO     ] 2024-08-28 11:06:56,223 Parameters: current_time              = 980771927347727.0\n",
      "yt : [INFO     ] 2024-08-28 11:06:56,225 Parameters: domain_dimensions         = [ 512    1 4096]\n",
      "yt : [INFO     ] 2024-08-28 11:06:56,226 Parameters: domain_left_edge          = [ 0.0000e+00  0.0000e+00 -1.2072e+22]\n",
      "yt : [INFO     ] 2024-08-28 11:06:56,227 Parameters: domain_right_edge         = [3.0180e+21 3.0180e+21 1.2072e+22]\n"
     ]
    },
    {
     "name": "stdout",
     "output_type": "stream",
     "text": [
      "37 /g/data/jh2/av5889/quokka_myrepo/quokka/sims/SummitData/GasGravity/Production2pc/R4-0.2Zsol/proj_y_plt1290000\n"
     ]
    },
    {
     "name": "stderr",
     "output_type": "stream",
     "text": [
      "yt : [INFO     ] 2024-08-28 11:06:56,936 Parameters: current_time              = 3846664161679596.0\n",
      "yt : [INFO     ] 2024-08-28 11:06:56,937 Parameters: domain_dimensions         = [ 512    1 4096]\n",
      "yt : [INFO     ] 2024-08-28 11:06:56,939 Parameters: domain_left_edge          = [ 0.0000e+00  0.0000e+00 -1.2072e+22]\n",
      "yt : [INFO     ] 2024-08-28 11:06:56,940 Parameters: domain_right_edge         = [3.0180e+21 3.0180e+21 1.2072e+22]\n"
     ]
    },
    {
     "name": "stdout",
     "output_type": "stream",
     "text": [
      "38 /g/data/jh2/av5889/quokka_myrepo/quokka/sims/SummitData/GasGravity/Production2pc/R4-0.2Zsol/proj_y_plt5490000\n"
     ]
    },
    {
     "name": "stderr",
     "output_type": "stream",
     "text": [
      "yt : [INFO     ] 2024-08-28 11:06:57,626 Parameters: current_time              = 1147885410484034.5\n",
      "yt : [INFO     ] 2024-08-28 11:06:57,627 Parameters: domain_dimensions         = [ 512    1 4096]\n",
      "yt : [INFO     ] 2024-08-28 11:06:57,629 Parameters: domain_left_edge          = [ 0.0000e+00  0.0000e+00 -1.2072e+22]\n",
      "yt : [INFO     ] 2024-08-28 11:06:57,630 Parameters: domain_right_edge         = [3.0180e+21 3.0180e+21 1.2072e+22]\n"
     ]
    },
    {
     "name": "stdout",
     "output_type": "stream",
     "text": [
      "39 /g/data/jh2/av5889/quokka_myrepo/quokka/sims/SummitData/GasGravity/Production2pc/R4-0.2Zsol/proj_y_plt1540000\n"
     ]
    },
    {
     "name": "stderr",
     "output_type": "stream",
     "text": [
      "yt : [INFO     ] 2024-08-28 11:06:58,340 Parameters: current_time              = 448918158196031.94\n",
      "yt : [INFO     ] 2024-08-28 11:06:58,342 Parameters: domain_dimensions         = [ 512    1 4096]\n",
      "yt : [INFO     ] 2024-08-28 11:06:58,343 Parameters: domain_left_edge          = [ 0.0000e+00  0.0000e+00 -1.2072e+22]\n",
      "yt : [INFO     ] 2024-08-28 11:06:58,344 Parameters: domain_right_edge         = [3.0180e+21 3.0180e+21 1.2072e+22]\n"
     ]
    },
    {
     "name": "stdout",
     "output_type": "stream",
     "text": [
      "40 /g/data/jh2/av5889/quokka_myrepo/quokka/sims/SummitData/GasGravity/Production2pc/R4-0.2Zsol/proj_y_plt530000\n"
     ]
    },
    {
     "name": "stderr",
     "output_type": "stream",
     "text": [
      "yt : [INFO     ] 2024-08-28 11:06:59,051 Parameters: current_time              = 4081244390206827.0\n",
      "yt : [INFO     ] 2024-08-28 11:06:59,052 Parameters: domain_dimensions         = [ 512    1 4096]\n",
      "yt : [INFO     ] 2024-08-28 11:06:59,053 Parameters: domain_left_edge          = [ 0.0000e+00  0.0000e+00 -1.2072e+22]\n",
      "yt : [INFO     ] 2024-08-28 11:06:59,055 Parameters: domain_right_edge         = [3.0180e+21 3.0180e+21 1.2072e+22]\n"
     ]
    },
    {
     "name": "stdout",
     "output_type": "stream",
     "text": [
      "41 /g/data/jh2/av5889/quokka_myrepo/quokka/sims/SummitData/GasGravity/Production2pc/R4-0.2Zsol/proj_y_plt5820000\n"
     ]
    },
    {
     "name": "stderr",
     "output_type": "stream",
     "text": [
      "yt : [INFO     ] 2024-08-28 11:06:59,777 Parameters: current_time              = 2326518153667729.5\n",
      "yt : [INFO     ] 2024-08-28 11:06:59,778 Parameters: domain_dimensions         = [ 512    1 4096]\n",
      "yt : [INFO     ] 2024-08-28 11:06:59,780 Parameters: domain_left_edge          = [ 0.0000e+00  0.0000e+00 -1.2072e+22]\n",
      "yt : [INFO     ] 2024-08-28 11:06:59,781 Parameters: domain_right_edge         = [3.0180e+21 3.0180e+21 1.2072e+22]\n"
     ]
    },
    {
     "name": "stdout",
     "output_type": "stream",
     "text": [
      "42 /g/data/jh2/av5889/quokka_myrepo/quokka/sims/SummitData/GasGravity/Production2pc/R4-0.2Zsol/proj_y_plt3310000\n"
     ]
    },
    {
     "name": "stderr",
     "output_type": "stream",
     "text": [
      "yt : [INFO     ] 2024-08-28 11:07:00,485 Parameters: current_time              = 2045796828489021.5\n",
      "yt : [INFO     ] 2024-08-28 11:07:00,486 Parameters: domain_dimensions         = [ 512    1 4096]\n",
      "yt : [INFO     ] 2024-08-28 11:07:00,487 Parameters: domain_left_edge          = [ 0.0000e+00  0.0000e+00 -1.2072e+22]\n",
      "yt : [INFO     ] 2024-08-28 11:07:00,489 Parameters: domain_right_edge         = [3.0180e+21 3.0180e+21 1.2072e+22]\n"
     ]
    },
    {
     "name": "stdout",
     "output_type": "stream",
     "text": [
      "43 /g/data/jh2/av5889/quokka_myrepo/quokka/sims/SummitData/GasGravity/Production2pc/R4-0.2Zsol/proj_y_plt2890000\n"
     ]
    },
    {
     "name": "stderr",
     "output_type": "stream",
     "text": [
      "yt : [INFO     ] 2024-08-28 11:07:01,185 Parameters: current_time              = 3178707961069311.0\n",
      "yt : [INFO     ] 2024-08-28 11:07:01,188 Parameters: domain_dimensions         = [ 512    1 4096]\n",
      "yt : [INFO     ] 2024-08-28 11:07:01,191 Parameters: domain_left_edge          = [ 0.0000e+00  0.0000e+00 -1.2072e+22]\n",
      "yt : [INFO     ] 2024-08-28 11:07:01,192 Parameters: domain_right_edge         = [3.0180e+21 3.0180e+21 1.2072e+22]\n"
     ]
    },
    {
     "name": "stdout",
     "output_type": "stream",
     "text": [
      "44 /g/data/jh2/av5889/quokka_myrepo/quokka/sims/SummitData/GasGravity/Production2pc/R4-0.2Zsol/proj_y_plt4540000\n"
     ]
    },
    {
     "name": "stderr",
     "output_type": "stream",
     "text": [
      "yt : [INFO     ] 2024-08-28 11:07:01,883 Parameters: current_time              = 3767542606579939.5\n",
      "yt : [INFO     ] 2024-08-28 11:07:01,885 Parameters: domain_dimensions         = [ 512    1 4096]\n",
      "yt : [INFO     ] 2024-08-28 11:07:01,886 Parameters: domain_left_edge          = [ 0.0000e+00  0.0000e+00 -1.2072e+22]\n",
      "yt : [INFO     ] 2024-08-28 11:07:01,887 Parameters: domain_right_edge         = [3.0180e+21 3.0180e+21 1.2072e+22]\n"
     ]
    },
    {
     "name": "stdout",
     "output_type": "stream",
     "text": [
      "45 /g/data/jh2/av5889/quokka_myrepo/quokka/sims/SummitData/GasGravity/Production2pc/R4-0.2Zsol/proj_y_plt5380000\n"
     ]
    },
    {
     "name": "stderr",
     "output_type": "stream",
     "text": [
      "yt : [INFO     ] 2024-08-28 11:07:02,646 Parameters: current_time              = 1105886790235514.9\n",
      "yt : [INFO     ] 2024-08-28 11:07:02,647 Parameters: domain_dimensions         = [ 512    1 4096]\n",
      "yt : [INFO     ] 2024-08-28 11:07:02,648 Parameters: domain_left_edge          = [ 0.0000e+00  0.0000e+00 -1.2072e+22]\n",
      "yt : [INFO     ] 2024-08-28 11:07:02,650 Parameters: domain_right_edge         = [3.0180e+21 3.0180e+21 1.2072e+22]\n"
     ]
    },
    {
     "name": "stdout",
     "output_type": "stream",
     "text": [
      "46 /g/data/jh2/av5889/quokka_myrepo/quokka/sims/SummitData/GasGravity/Production2pc/R4-0.2Zsol/proj_y_plt1480000\n"
     ]
    },
    {
     "name": "stderr",
     "output_type": "stream",
     "text": [
      "yt : [INFO     ] 2024-08-28 11:07:03,432 Parameters: current_time              = 3431253229708773.0\n",
      "yt : [INFO     ] 2024-08-28 11:07:03,433 Parameters: domain_dimensions         = [ 512    1 4096]\n",
      "yt : [INFO     ] 2024-08-28 11:07:03,435 Parameters: domain_left_edge          = [ 0.0000e+00  0.0000e+00 -1.2072e+22]\n",
      "yt : [INFO     ] 2024-08-28 11:07:03,436 Parameters: domain_right_edge         = [3.0180e+21 3.0180e+21 1.2072e+22]\n"
     ]
    },
    {
     "name": "stdout",
     "output_type": "stream",
     "text": [
      "47 /g/data/jh2/av5889/quokka_myrepo/quokka/sims/SummitData/GasGravity/Production2pc/R4-0.2Zsol/proj_y_plt4900000\n"
     ]
    },
    {
     "name": "stderr",
     "output_type": "stream",
     "text": [
      "yt : [INFO     ] 2024-08-28 11:07:04,207 Parameters: current_time              = 4711623925544256.0\n",
      "yt : [INFO     ] 2024-08-28 11:07:04,210 Parameters: domain_dimensions         = [ 512    1 4096]\n",
      "yt : [INFO     ] 2024-08-28 11:07:04,212 Parameters: domain_left_edge          = [ 0.0000e+00  0.0000e+00 -1.2072e+22]\n",
      "yt : [INFO     ] 2024-08-28 11:07:04,213 Parameters: domain_right_edge         = [3.0180e+21 3.0180e+21 1.2072e+22]\n"
     ]
    },
    {
     "name": "stdout",
     "output_type": "stream",
     "text": [
      "48 /g/data/jh2/av5889/quokka_myrepo/quokka/sims/SummitData/GasGravity/Production2pc/R4-0.2Zsol/proj_y_plt6700000\n"
     ]
    },
    {
     "name": "stderr",
     "output_type": "stream",
     "text": [
      "yt : [INFO     ] 2024-08-28 11:07:04,998 Parameters: current_time              = 2970627684839318.5\n",
      "yt : [INFO     ] 2024-08-28 11:07:05,000 Parameters: domain_dimensions         = [ 512    1 4096]\n",
      "yt : [INFO     ] 2024-08-28 11:07:05,001 Parameters: domain_left_edge          = [ 0.0000e+00  0.0000e+00 -1.2072e+22]\n",
      "yt : [INFO     ] 2024-08-28 11:07:05,003 Parameters: domain_right_edge         = [3.0180e+21 3.0180e+21 1.2072e+22]\n"
     ]
    },
    {
     "name": "stdout",
     "output_type": "stream",
     "text": [
      "49 /g/data/jh2/av5889/quokka_myrepo/quokka/sims/SummitData/GasGravity/Production2pc/R4-0.2Zsol/proj_y_plt4240000\n"
     ]
    },
    {
     "name": "stderr",
     "output_type": "stream",
     "text": [
      "yt : [INFO     ] 2024-08-28 11:07:07,411 Parameters: current_time              = 6203371598433323.0\n",
      "yt : [INFO     ] 2024-08-28 11:07:07,412 Parameters: domain_dimensions         = [ 512    1 4096]\n",
      "yt : [INFO     ] 2024-08-28 11:07:07,413 Parameters: domain_left_edge          = [ 0.0000e+00  0.0000e+00 -1.2072e+22]\n",
      "yt : [INFO     ] 2024-08-28 11:07:07,414 Parameters: domain_right_edge         = [3.0180e+21 3.0180e+21 1.2072e+22]\n"
     ]
    },
    {
     "name": "stdout",
     "output_type": "stream",
     "text": [
      "SummitData/GasGravity/Production2pc/R8-0.2Zsol/\n",
      "3071 (4096,)\n",
      "0 /g/data/jh2/av5889/quokka_myrepo/quokka/sims/SummitData/GasGravity/Production2pc/R8-0.2Zsol/proj_y_plt3160000\n"
     ]
    },
    {
     "name": "stderr",
     "output_type": "stream",
     "text": [
      "yt : [INFO     ] 2024-08-28 11:07:08,234 Parameters: current_time              = 2445347387600728.5\n",
      "yt : [INFO     ] 2024-08-28 11:07:08,235 Parameters: domain_dimensions         = [ 512    1 4096]\n",
      "yt : [INFO     ] 2024-08-28 11:07:08,236 Parameters: domain_left_edge          = [ 0.0000e+00  0.0000e+00 -1.2072e+22]\n",
      "yt : [INFO     ] 2024-08-28 11:07:08,238 Parameters: domain_right_edge         = [3.0180e+21 3.0180e+21 1.2072e+22]\n"
     ]
    },
    {
     "name": "stdout",
     "output_type": "stream",
     "text": [
      "1 /g/data/jh2/av5889/quokka_myrepo/quokka/sims/SummitData/GasGravity/Production2pc/R8-0.2Zsol/proj_y_plt1240000\n"
     ]
    },
    {
     "name": "stderr",
     "output_type": "stream",
     "text": [
      "yt : [INFO     ] 2024-08-28 11:07:09,124 Parameters: current_time              = 6062279817809211.0\n",
      "yt : [INFO     ] 2024-08-28 11:07:09,125 Parameters: domain_dimensions         = [ 512    1 4096]\n",
      "yt : [INFO     ] 2024-08-28 11:07:09,126 Parameters: domain_left_edge          = [ 0.0000e+00  0.0000e+00 -1.2072e+22]\n",
      "yt : [INFO     ] 2024-08-28 11:07:09,128 Parameters: domain_right_edge         = [3.0180e+21 3.0180e+21 1.2072e+22]\n"
     ]
    },
    {
     "name": "stdout",
     "output_type": "stream",
     "text": [
      "2 /g/data/jh2/av5889/quokka_myrepo/quokka/sims/SummitData/GasGravity/Production2pc/R8-0.2Zsol/proj_y_plt3090000\n"
     ]
    },
    {
     "name": "stderr",
     "output_type": "stream",
     "text": [
      "yt : [INFO     ] 2024-08-28 11:07:09,884 Parameters: current_time              = 6026606490672288.0\n",
      "yt : [INFO     ] 2024-08-28 11:07:09,885 Parameters: domain_dimensions         = [ 512    1 4096]\n",
      "yt : [INFO     ] 2024-08-28 11:07:09,886 Parameters: domain_left_edge          = [ 0.0000e+00  0.0000e+00 -1.2072e+22]\n",
      "yt : [INFO     ] 2024-08-28 11:07:09,888 Parameters: domain_right_edge         = [3.0180e+21 3.0180e+21 1.2072e+22]\n"
     ]
    },
    {
     "name": "stdout",
     "output_type": "stream",
     "text": [
      "3 /g/data/jh2/av5889/quokka_myrepo/quokka/sims/SummitData/GasGravity/Production2pc/R8-0.2Zsol/proj_y_plt3070000\n"
     ]
    },
    {
     "name": "stderr",
     "output_type": "stream",
     "text": [
      "yt : [INFO     ] 2024-08-28 11:07:10,623 Parameters: current_time              = 440983183118979.3\n",
      "yt : [INFO     ] 2024-08-28 11:07:10,628 Parameters: domain_dimensions         = [ 512    1 4096]\n",
      "yt : [INFO     ] 2024-08-28 11:07:10,629 Parameters: domain_left_edge          = [ 0.0000e+00  0.0000e+00 -1.2072e+22]\n",
      "yt : [INFO     ] 2024-08-28 11:07:10,631 Parameters: domain_right_edge         = [3.0180e+21 3.0180e+21 1.2072e+22]\n"
     ]
    },
    {
     "name": "stdout",
     "output_type": "stream",
     "text": [
      "4 /g/data/jh2/av5889/quokka_myrepo/quokka/sims/SummitData/GasGravity/Production2pc/R8-0.2Zsol/proj_y_plt200000\n"
     ]
    },
    {
     "name": "stderr",
     "output_type": "stream",
     "text": [
      "yt : [INFO     ] 2024-08-28 11:07:11,347 Parameters: current_time              = 6041761426906657.0\n",
      "yt : [INFO     ] 2024-08-28 11:07:11,348 Parameters: domain_dimensions         = [ 512    1 4096]\n",
      "yt : [INFO     ] 2024-08-28 11:07:11,350 Parameters: domain_left_edge          = [ 0.0000e+00  0.0000e+00 -1.2072e+22]\n",
      "yt : [INFO     ] 2024-08-28 11:07:11,351 Parameters: domain_right_edge         = [3.0180e+21 3.0180e+21 1.2072e+22]\n"
     ]
    },
    {
     "name": "stdout",
     "output_type": "stream",
     "text": [
      "5 /g/data/jh2/av5889/quokka_myrepo/quokka/sims/SummitData/GasGravity/Production2pc/R8-0.2Zsol/proj_y_plt3080000\n"
     ]
    },
    {
     "name": "stderr",
     "output_type": "stream",
     "text": [
      "yt : [INFO     ] 2024-08-28 11:07:12,042 Parameters: current_time              = 2137564754293051.2\n",
      "yt : [INFO     ] 2024-08-28 11:07:12,044 Parameters: domain_dimensions         = [ 512    1 4096]\n",
      "yt : [INFO     ] 2024-08-28 11:07:12,045 Parameters: domain_left_edge          = [ 0.0000e+00  0.0000e+00 -1.2072e+22]\n",
      "yt : [INFO     ] 2024-08-28 11:07:12,046 Parameters: domain_right_edge         = [3.0180e+21 3.0180e+21 1.2072e+22]\n"
     ]
    },
    {
     "name": "stdout",
     "output_type": "stream",
     "text": [
      "6 /g/data/jh2/av5889/quokka_myrepo/quokka/sims/SummitData/GasGravity/Production2pc/R8-0.2Zsol/proj_y_plt1080000\n"
     ]
    },
    {
     "name": "stderr",
     "output_type": "stream",
     "text": [
      "yt : [INFO     ] 2024-08-28 11:07:12,771 Parameters: current_time              = 1285773864116361.2\n",
      "yt : [INFO     ] 2024-08-28 11:07:12,782 Parameters: domain_dimensions         = [ 512    1 4096]\n",
      "yt : [INFO     ] 2024-08-28 11:07:12,785 Parameters: domain_left_edge          = [ 0.0000e+00  0.0000e+00 -1.2072e+22]\n",
      "yt : [INFO     ] 2024-08-28 11:07:12,788 Parameters: domain_right_edge         = [3.0180e+21 3.0180e+21 1.2072e+22]\n"
     ]
    },
    {
     "name": "stdout",
     "output_type": "stream",
     "text": [
      "7 /g/data/jh2/av5889/quokka_myrepo/quokka/sims/SummitData/GasGravity/Production2pc/R8-0.2Zsol/proj_y_plt630000\n"
     ]
    },
    {
     "name": "stderr",
     "output_type": "stream",
     "text": [
      "yt : [INFO     ] 2024-08-28 11:07:13,501 Parameters: current_time              = 2866089900448078.0\n",
      "yt : [INFO     ] 2024-08-28 11:07:13,502 Parameters: domain_dimensions         = [ 512    1 4096]\n",
      "yt : [INFO     ] 2024-08-28 11:07:13,504 Parameters: domain_left_edge          = [ 0.0000e+00  0.0000e+00 -1.2072e+22]\n",
      "yt : [INFO     ] 2024-08-28 11:07:13,505 Parameters: domain_right_edge         = [3.0180e+21 3.0180e+21 1.2072e+22]\n"
     ]
    },
    {
     "name": "stdout",
     "output_type": "stream",
     "text": [
      "8 /g/data/jh2/av5889/quokka_myrepo/quokka/sims/SummitData/GasGravity/Production2pc/R8-0.2Zsol/proj_y_plt1460000\n"
     ]
    },
    {
     "name": "stderr",
     "output_type": "stream",
     "text": [
      "yt : [INFO     ] 2024-08-28 11:07:14,227 Parameters: current_time              = 2095799853122764.0\n",
      "yt : [INFO     ] 2024-08-28 11:07:14,230 Parameters: domain_dimensions         = [ 512    1 4096]\n",
      "yt : [INFO     ] 2024-08-28 11:07:14,232 Parameters: domain_left_edge          = [ 0.0000e+00  0.0000e+00 -1.2072e+22]\n",
      "yt : [INFO     ] 2024-08-28 11:07:14,233 Parameters: domain_right_edge         = [3.0180e+21 3.0180e+21 1.2072e+22]\n"
     ]
    },
    {
     "name": "stdout",
     "output_type": "stream",
     "text": [
      "9 /g/data/jh2/av5889/quokka_myrepo/quokka/sims/SummitData/GasGravity/Production2pc/R8-0.2Zsol/proj_y_plt1060000\n"
     ]
    },
    {
     "name": "stderr",
     "output_type": "stream",
     "text": [
      "yt : [INFO     ] 2024-08-28 11:07:14,926 Parameters: current_time              = 4287598271814110.0\n",
      "yt : [INFO     ] 2024-08-28 11:07:14,927 Parameters: domain_dimensions         = [ 512    1 4096]\n",
      "yt : [INFO     ] 2024-08-28 11:07:14,928 Parameters: domain_left_edge          = [ 0.0000e+00  0.0000e+00 -1.2072e+22]\n",
      "yt : [INFO     ] 2024-08-28 11:07:14,930 Parameters: domain_right_edge         = [3.0180e+21 3.0180e+21 1.2072e+22]\n"
     ]
    },
    {
     "name": "stdout",
     "output_type": "stream",
     "text": [
      "10 /g/data/jh2/av5889/quokka_myrepo/quokka/sims/SummitData/GasGravity/Production2pc/R8-0.2Zsol/proj_y_plt2210000\n"
     ]
    },
    {
     "name": "stderr",
     "output_type": "stream",
     "text": [
      "yt : [INFO     ] 2024-08-28 11:07:15,674 Parameters: current_time              = 5651511986405138.0\n",
      "yt : [INFO     ] 2024-08-28 11:07:15,675 Parameters: domain_dimensions         = [ 512    1 4096]\n",
      "yt : [INFO     ] 2024-08-28 11:07:15,677 Parameters: domain_left_edge          = [ 0.0000e+00  0.0000e+00 -1.2072e+22]\n",
      "yt : [INFO     ] 2024-08-28 11:07:15,678 Parameters: domain_right_edge         = [3.0180e+21 3.0180e+21 1.2072e+22]\n"
     ]
    },
    {
     "name": "stdout",
     "output_type": "stream",
     "text": [
      "11 /g/data/jh2/av5889/quokka_myrepo/quokka/sims/SummitData/GasGravity/Production2pc/R8-0.2Zsol/proj_y_plt2870000\n"
     ]
    },
    {
     "name": "stderr",
     "output_type": "stream",
     "text": [
      "yt : [INFO     ] 2024-08-28 11:07:16,377 Parameters: current_time              = 1488492693531072.0\n",
      "yt : [INFO     ] 2024-08-28 11:07:16,378 Parameters: domain_dimensions         = [ 512    1 4096]\n",
      "yt : [INFO     ] 2024-08-28 11:07:16,379 Parameters: domain_left_edge          = [ 0.0000e+00  0.0000e+00 -1.2072e+22]\n",
      "yt : [INFO     ] 2024-08-28 11:07:16,381 Parameters: domain_right_edge         = [3.0180e+21 3.0180e+21 1.2072e+22]\n"
     ]
    },
    {
     "name": "stdout",
     "output_type": "stream",
     "text": [
      "12 /g/data/jh2/av5889/quokka_myrepo/quokka/sims/SummitData/GasGravity/Production2pc/R8-0.2Zsol/proj_y_plt730000\n"
     ]
    },
    {
     "name": "stderr",
     "output_type": "stream",
     "text": [
      "yt : [INFO     ] 2024-08-28 11:07:17,098 Parameters: current_time              = 2546864738634560.0\n",
      "yt : [INFO     ] 2024-08-28 11:07:17,099 Parameters: domain_dimensions         = [ 512    1 4096]\n",
      "yt : [INFO     ] 2024-08-28 11:07:17,100 Parameters: domain_left_edge          = [ 0.0000e+00  0.0000e+00 -1.2072e+22]\n",
      "yt : [INFO     ] 2024-08-28 11:07:17,102 Parameters: domain_right_edge         = [3.0180e+21 3.0180e+21 1.2072e+22]\n"
     ]
    },
    {
     "name": "stdout",
     "output_type": "stream",
     "text": [
      "13 /g/data/jh2/av5889/quokka_myrepo/quokka/sims/SummitData/GasGravity/Production2pc/R8-0.2Zsol/proj_y_plt1290000\n"
     ]
    },
    {
     "name": "stderr",
     "output_type": "stream",
     "text": [
      "yt : [INFO     ] 2024-08-28 11:07:17,818 Parameters: current_time              = 573600506627931.8\n",
      "yt : [INFO     ] 2024-08-28 11:07:17,819 Parameters: domain_dimensions         = [ 512    1 4096]\n",
      "yt : [INFO     ] 2024-08-28 11:07:17,820 Parameters: domain_left_edge          = [ 0.0000e+00  0.0000e+00 -1.2072e+22]\n",
      "yt : [INFO     ] 2024-08-28 11:07:17,822 Parameters: domain_right_edge         = [3.0180e+21 3.0180e+21 1.2072e+22]\n"
     ]
    },
    {
     "name": "stdout",
     "output_type": "stream",
     "text": [
      "14 /g/data/jh2/av5889/quokka_myrepo/quokka/sims/SummitData/GasGravity/Production2pc/R8-0.2Zsol/proj_y_plt260000.old.9339836\n"
     ]
    },
    {
     "name": "stderr",
     "output_type": "stream",
     "text": [
      "yt : [INFO     ] 2024-08-28 11:07:18,527 Parameters: current_time              = 3008764407370814.0\n",
      "yt : [INFO     ] 2024-08-28 11:07:18,529 Parameters: domain_dimensions         = [ 512    1 4096]\n",
      "yt : [INFO     ] 2024-08-28 11:07:18,530 Parameters: domain_left_edge          = [ 0.0000e+00  0.0000e+00 -1.2072e+22]\n",
      "yt : [INFO     ] 2024-08-28 11:07:18,531 Parameters: domain_right_edge         = [3.0180e+21 3.0180e+21 1.2072e+22]\n"
     ]
    },
    {
     "name": "stdout",
     "output_type": "stream",
     "text": [
      "15 /g/data/jh2/av5889/quokka_myrepo/quokka/sims/SummitData/GasGravity/Production2pc/R8-0.2Zsol/proj_y_plt1540000\n"
     ]
    },
    {
     "name": "stderr",
     "output_type": "stream",
     "text": [
      "yt : [INFO     ] 2024-08-28 11:07:19,295 Parameters: current_time              = 1083271596814163.8\n",
      "yt : [INFO     ] 2024-08-28 11:07:19,297 Parameters: domain_dimensions         = [ 512    1 4096]\n",
      "yt : [INFO     ] 2024-08-28 11:07:19,298 Parameters: domain_left_edge          = [ 0.0000e+00  0.0000e+00 -1.2072e+22]\n",
      "yt : [INFO     ] 2024-08-28 11:07:19,299 Parameters: domain_right_edge         = [3.0180e+21 3.0180e+21 1.2072e+22]\n"
     ]
    },
    {
     "name": "stdout",
     "output_type": "stream",
     "text": [
      "16 /g/data/jh2/av5889/quokka_myrepo/quokka/sims/SummitData/GasGravity/Production2pc/R8-0.2Zsol/proj_y_plt530000\n"
     ]
    },
    {
     "name": "stderr",
     "output_type": "stream",
     "text": [
      "yt : [INFO     ] 2024-08-28 11:07:20,056 Parameters: current_time              = 5689310544416520.0\n",
      "yt : [INFO     ] 2024-08-28 11:07:20,057 Parameters: domain_dimensions         = [ 512    1 4096]\n",
      "yt : [INFO     ] 2024-08-28 11:07:20,059 Parameters: domain_left_edge          = [ 0.0000e+00  0.0000e+00 -1.2072e+22]\n",
      "yt : [INFO     ] 2024-08-28 11:07:20,060 Parameters: domain_right_edge         = [3.0180e+21 3.0180e+21 1.2072e+22]\n"
     ]
    },
    {
     "name": "stdout",
     "output_type": "stream",
     "text": [
      "17 /g/data/jh2/av5889/quokka_myrepo/quokka/sims/SummitData/GasGravity/Production2pc/R8-0.2Zsol/proj_y_plt2890000\n"
     ]
    },
    {
     "name": "stderr",
     "output_type": "stream",
     "text": [
      "yt : [INFO     ] 2024-08-28 11:07:20,811 Parameters: current_time              = 2906015038182184.0\n",
      "yt : [INFO     ] 2024-08-28 11:07:20,812 Parameters: domain_dimensions         = [ 512    1 4096]\n",
      "yt : [INFO     ] 2024-08-28 11:07:20,813 Parameters: domain_left_edge          = [ 0.0000e+00  0.0000e+00 -1.2072e+22]\n",
      "yt : [INFO     ] 2024-08-28 11:07:20,815 Parameters: domain_right_edge         = [3.0180e+21 3.0180e+21 1.2072e+22]\n"
     ]
    },
    {
     "name": "stdout",
     "output_type": "stream",
     "text": [
      "18 /g/data/jh2/av5889/quokka_myrepo/quokka/sims/SummitData/GasGravity/Production2pc/R8-0.2Zsol/proj_y_plt1480000\n"
     ]
    },
    {
     "name": "stderr",
     "output_type": "stream",
     "text": [
      "yt : [INFO     ] 2024-08-28 11:07:21,607 Parameters: current_time              = 2846109354743891.0\n",
      "yt : [INFO     ] 2024-08-28 11:07:21,609 Parameters: domain_dimensions         = [ 512    1 4096]\n",
      "yt : [INFO     ] 2024-08-28 11:07:21,610 Parameters: domain_left_edge          = [ 0.0000e+00  0.0000e+00 -1.2072e+22]\n",
      "yt : [INFO     ] 2024-08-28 11:07:21,612 Parameters: domain_right_edge         = [3.0180e+21 3.0180e+21 1.2072e+22]\n"
     ]
    },
    {
     "name": "stdout",
     "output_type": "stream",
     "text": [
      "19 /g/data/jh2/av5889/quokka_myrepo/quokka/sims/SummitData/GasGravity/Production2pc/R8-0.2Zsol/proj_y_plt1450000\n"
     ]
    },
    {
     "name": "stderr",
     "output_type": "stream",
     "text": [
      "yt : [INFO     ] 2024-08-28 11:07:22,429 Parameters: current_time              = 1438645164078513.8\n",
      "yt : [INFO     ] 2024-08-28 11:07:22,431 Parameters: domain_dimensions         = [ 512    1 4096]\n",
      "yt : [INFO     ] 2024-08-28 11:07:22,433 Parameters: domain_left_edge          = [ 0.0000e+00  0.0000e+00 -1.2072e+22]\n",
      "yt : [INFO     ] 2024-08-28 11:07:22,434 Parameters: domain_right_edge         = [3.0180e+21 3.0180e+21 1.2072e+22]\n"
     ]
    },
    {
     "name": "stdout",
     "output_type": "stream",
     "text": [
      "20 /g/data/jh2/av5889/quokka_myrepo/quokka/sims/SummitData/GasGravity/Production2pc/R8-0.2Zsol/proj_y_plt710000\n"
     ]
    },
    {
     "name": "stderr",
     "output_type": "stream",
     "text": [
      "yt : [INFO     ] 2024-08-28 11:07:23,284 Parameters: current_time              = 2331023082801178.0\n",
      "yt : [INFO     ] 2024-08-28 11:07:23,286 Parameters: domain_dimensions         = [ 512    1 4096]\n",
      "yt : [INFO     ] 2024-08-28 11:07:23,287 Parameters: domain_left_edge          = [ 0.0000e+00  0.0000e+00 -1.2072e+22]\n",
      "yt : [INFO     ] 2024-08-28 11:07:23,289 Parameters: domain_right_edge         = [3.0180e+21 3.0180e+21 1.2072e+22]\n"
     ]
    },
    {
     "name": "stdout",
     "output_type": "stream",
     "text": [
      "21 /g/data/jh2/av5889/quokka_myrepo/quokka/sims/SummitData/GasGravity/Production2pc/R8-0.2Zsol/proj_y_plt1180000\n"
     ]
    },
    {
     "name": "stderr",
     "output_type": "stream",
     "text": [
      "yt : [INFO     ] 2024-08-28 11:07:24,018 Parameters: current_time              = 2806202766840993.0\n",
      "yt : [INFO     ] 2024-08-28 11:07:24,021 Parameters: domain_dimensions         = [ 512    1 4096]\n",
      "yt : [INFO     ] 2024-08-28 11:07:24,023 Parameters: domain_left_edge          = [ 0.0000e+00  0.0000e+00 -1.2072e+22]\n",
      "yt : [INFO     ] 2024-08-28 11:07:24,025 Parameters: domain_right_edge         = [3.0180e+21 3.0180e+21 1.2072e+22]\n"
     ]
    },
    {
     "name": "stdout",
     "output_type": "stream",
     "text": [
      "22 /g/data/jh2/av5889/quokka_myrepo/quokka/sims/SummitData/GasGravity/Production2pc/R8-0.2Zsol/proj_y_plt1430000\n"
     ]
    },
    {
     "name": "stderr",
     "output_type": "stream",
     "text": [
      "yt : [INFO     ] 2024-08-28 11:07:24,724 Parameters: current_time              = 6102926436704850.0\n",
      "yt : [INFO     ] 2024-08-28 11:07:24,726 Parameters: domain_dimensions         = [ 512    1 4096]\n",
      "yt : [INFO     ] 2024-08-28 11:07:24,727 Parameters: domain_left_edge          = [ 0.0000e+00  0.0000e+00 -1.2072e+22]\n",
      "yt : [INFO     ] 2024-08-28 11:07:24,728 Parameters: domain_right_edge         = [3.0180e+21 3.0180e+21 1.2072e+22]\n"
     ]
    },
    {
     "name": "stdout",
     "output_type": "stream",
     "text": [
      "23 /g/data/jh2/av5889/quokka_myrepo/quokka/sims/SummitData/GasGravity/Production2pc/R8-0.2Zsol/proj_y_plt3110000\n"
     ]
    },
    {
     "name": "stderr",
     "output_type": "stream",
     "text": [
      "yt : [INFO     ] 2024-08-28 11:07:25,438 Parameters: current_time              = 1858945156449096.2\n",
      "yt : [INFO     ] 2024-08-28 11:07:25,439 Parameters: domain_dimensions         = [ 512    1 4096]\n",
      "yt : [INFO     ] 2024-08-28 11:07:25,442 Parameters: domain_left_edge          = [ 0.0000e+00  0.0000e+00 -1.2072e+22]\n",
      "yt : [INFO     ] 2024-08-28 11:07:25,443 Parameters: domain_right_edge         = [3.0180e+21 3.0180e+21 1.2072e+22]\n"
     ]
    },
    {
     "name": "stdout",
     "output_type": "stream",
     "text": [
      "24 /g/data/jh2/av5889/quokka_myrepo/quokka/sims/SummitData/GasGravity/Production2pc/R8-0.2Zsol/proj_y_plt930000\n"
     ]
    },
    {
     "name": "stderr",
     "output_type": "stream",
     "text": [
      "yt : [INFO     ] 2024-08-28 11:07:26,169 Parameters: current_time              = 3425938617658595.0\n",
      "yt : [INFO     ] 2024-08-28 11:07:26,171 Parameters: domain_dimensions         = [ 512    1 4096]\n",
      "yt : [INFO     ] 2024-08-28 11:07:26,172 Parameters: domain_left_edge          = [ 0.0000e+00  0.0000e+00 -1.2072e+22]\n",
      "yt : [INFO     ] 2024-08-28 11:07:26,173 Parameters: domain_right_edge         = [3.0180e+21 3.0180e+21 1.2072e+22]\n"
     ]
    },
    {
     "name": "stdout",
     "output_type": "stream",
     "text": [
      "25 /g/data/jh2/av5889/quokka_myrepo/quokka/sims/SummitData/GasGravity/Production2pc/R8-0.2Zsol/proj_y_plt1750000\n"
     ]
    },
    {
     "name": "stderr",
     "output_type": "stream",
     "text": [
      "yt : [INFO     ] 2024-08-28 11:07:26,888 Parameters: current_time              = 2157014673731671.2\n",
      "yt : [INFO     ] 2024-08-28 11:07:26,889 Parameters: domain_dimensions         = [ 512    1 4096]\n",
      "yt : [INFO     ] 2024-08-28 11:07:26,890 Parameters: domain_left_edge          = [ 0.0000e+00  0.0000e+00 -1.2072e+22]\n",
      "yt : [INFO     ] 2024-08-28 11:07:26,892 Parameters: domain_right_edge         = [3.0180e+21 3.0180e+21 1.2072e+22]\n"
     ]
    },
    {
     "name": "stdout",
     "output_type": "stream",
     "text": [
      "26 /g/data/jh2/av5889/quokka_myrepo/quokka/sims/SummitData/GasGravity/Production2pc/R8-0.2Zsol/proj_y_plt1090000\n"
     ]
    },
    {
     "name": "stderr",
     "output_type": "stream",
     "text": [
      "yt : [INFO     ] 2024-08-28 11:07:27,630 Parameters: current_time              = 685073898963919.0\n",
      "yt : [INFO     ] 2024-08-28 11:07:27,631 Parameters: domain_dimensions         = [ 512    1 4096]\n",
      "yt : [INFO     ] 2024-08-28 11:07:27,633 Parameters: domain_left_edge          = [ 0.0000e+00  0.0000e+00 -1.2072e+22]\n",
      "yt : [INFO     ] 2024-08-28 11:07:27,634 Parameters: domain_right_edge         = [3.0180e+21 3.0180e+21 1.2072e+22]\n"
     ]
    },
    {
     "name": "stdout",
     "output_type": "stream",
     "text": [
      "27 /g/data/jh2/av5889/quokka_myrepo/quokka/sims/SummitData/GasGravity/Production2pc/R8-0.2Zsol/proj_y_plt320000\n"
     ]
    },
    {
     "name": "stderr",
     "output_type": "stream",
     "text": [
      "yt : [INFO     ] 2024-08-28 11:07:28,373 Parameters: current_time              = 4848710371178773.0\n",
      "yt : [INFO     ] 2024-08-28 11:07:28,375 Parameters: domain_dimensions         = [ 512    1 4096]\n",
      "yt : [INFO     ] 2024-08-28 11:07:28,376 Parameters: domain_left_edge          = [ 0.0000e+00  0.0000e+00 -1.2072e+22]\n",
      "yt : [INFO     ] 2024-08-28 11:07:28,377 Parameters: domain_right_edge         = [3.0180e+21 3.0180e+21 1.2072e+22]\n"
     ]
    },
    {
     "name": "stdout",
     "output_type": "stream",
     "text": [
      "28 /g/data/jh2/av5889/quokka_myrepo/quokka/sims/SummitData/GasGravity/Production2pc/R8-0.2Zsol/proj_y_plt2500000\n"
     ]
    },
    {
     "name": "stderr",
     "output_type": "stream",
     "text": [
      "yt : [INFO     ] 2024-08-28 11:07:29,090 Parameters: current_time              = 4190750867942050.0\n",
      "yt : [INFO     ] 2024-08-28 11:07:29,092 Parameters: domain_dimensions         = [ 512    1 4096]\n",
      "yt : [INFO     ] 2024-08-28 11:07:29,093 Parameters: domain_left_edge          = [ 0.0000e+00  0.0000e+00 -1.2072e+22]\n",
      "yt : [INFO     ] 2024-08-28 11:07:29,095 Parameters: domain_right_edge         = [3.0180e+21 3.0180e+21 1.2072e+22]\n"
     ]
    },
    {
     "name": "stdout",
     "output_type": "stream",
     "text": [
      "29 /g/data/jh2/av5889/quokka_myrepo/quokka/sims/SummitData/GasGravity/Production2pc/R8-0.2Zsol/proj_y_plt2160000\n"
     ]
    },
    {
     "name": "stderr",
     "output_type": "stream",
     "text": [
      "yt : [INFO     ] 2024-08-28 11:07:29,820 Parameters: current_time              = 2422497972294151.0\n",
      "yt : [INFO     ] 2024-08-28 11:07:29,822 Parameters: domain_dimensions         = [ 512    1 4096]\n",
      "yt : [INFO     ] 2024-08-28 11:07:29,824 Parameters: domain_left_edge          = [ 0.0000e+00  0.0000e+00 -1.2072e+22]\n",
      "yt : [INFO     ] 2024-08-28 11:07:29,826 Parameters: domain_right_edge         = [3.0180e+21 3.0180e+21 1.2072e+22]\n"
     ]
    },
    {
     "name": "stdout",
     "output_type": "stream",
     "text": [
      "30 /g/data/jh2/av5889/quokka_myrepo/quokka/sims/SummitData/GasGravity/Production2pc/R8-0.2Zsol/proj_y_plt1230000\n"
     ]
    },
    {
     "name": "stderr",
     "output_type": "stream",
     "text": [
      "yt : [INFO     ] 2024-08-28 11:07:30,515 Parameters: current_time              = 926560795757970.2\n",
      "yt : [INFO     ] 2024-08-28 11:07:30,516 Parameters: domain_dimensions         = [ 512    1 4096]\n",
      "yt : [INFO     ] 2024-08-28 11:07:30,517 Parameters: domain_left_edge          = [ 0.0000e+00  0.0000e+00 -1.2072e+22]\n",
      "yt : [INFO     ] 2024-08-28 11:07:30,518 Parameters: domain_right_edge         = [3.0180e+21 3.0180e+21 1.2072e+22]\n"
     ]
    },
    {
     "name": "stdout",
     "output_type": "stream",
     "text": [
      "31 /g/data/jh2/av5889/quokka_myrepo/quokka/sims/SummitData/GasGravity/Production2pc/R8-0.2Zsol/proj_y_plt450000\n"
     ]
    },
    {
     "name": "stderr",
     "output_type": "stream",
     "text": [
      "yt : [INFO     ] 2024-08-28 11:07:31,241 Parameters: current_time              = 2487658531337340.0\n",
      "yt : [INFO     ] 2024-08-28 11:07:31,245 Parameters: domain_dimensions         = [ 512    1 4096]\n",
      "yt : [INFO     ] 2024-08-28 11:07:31,246 Parameters: domain_left_edge          = [ 0.0000e+00  0.0000e+00 -1.2072e+22]\n",
      "yt : [INFO     ] 2024-08-28 11:07:31,248 Parameters: domain_right_edge         = [3.0180e+21 3.0180e+21 1.2072e+22]\n"
     ]
    },
    {
     "name": "stdout",
     "output_type": "stream",
     "text": [
      "32 /g/data/jh2/av5889/quokka_myrepo/quokka/sims/SummitData/GasGravity/Production2pc/R8-0.2Zsol/proj_y_plt1260000\n"
     ]
    },
    {
     "name": "stderr",
     "output_type": "stream",
     "text": [
      "yt : [INFO     ] 2024-08-28 11:07:31,966 Parameters: current_time              = 2207700311186428.2\n",
      "yt : [INFO     ] 2024-08-28 11:07:31,968 Parameters: domain_dimensions         = [ 512    1 4096]\n",
      "yt : [INFO     ] 2024-08-28 11:07:31,969 Parameters: domain_left_edge          = [ 0.0000e+00  0.0000e+00 -1.2072e+22]\n",
      "yt : [INFO     ] 2024-08-28 11:07:31,970 Parameters: domain_right_edge         = [3.0180e+21 3.0180e+21 1.2072e+22]\n"
     ]
    },
    {
     "name": "stdout",
     "output_type": "stream",
     "text": [
      "33 /g/data/jh2/av5889/quokka_myrepo/quokka/sims/SummitData/GasGravity/Production2pc/R8-0.2Zsol/proj_y_plt1120000\n"
     ]
    },
    {
     "name": "stderr",
     "output_type": "stream",
     "text": [
      "yt : [INFO     ] 2024-08-28 11:07:32,705 Parameters: current_time              = 573600506627931.8\n",
      "yt : [INFO     ] 2024-08-28 11:07:32,706 Parameters: domain_dimensions         = [ 512    1 4096]\n",
      "yt : [INFO     ] 2024-08-28 11:07:32,708 Parameters: domain_left_edge          = [ 0.0000e+00  0.0000e+00 -1.2072e+22]\n",
      "yt : [INFO     ] 2024-08-28 11:07:32,709 Parameters: domain_right_edge         = [3.0180e+21 3.0180e+21 1.2072e+22]\n"
     ]
    },
    {
     "name": "stdout",
     "output_type": "stream",
     "text": [
      "34 /g/data/jh2/av5889/quokka_myrepo/quokka/sims/SummitData/GasGravity/Production2pc/R8-0.2Zsol/proj_y_plt260000\n"
     ]
    },
    {
     "name": "stderr",
     "output_type": "stream",
     "text": [
      "yt : [INFO     ] 2024-08-28 11:07:33,474 Parameters: current_time              = 4700609062762225.0\n",
      "yt : [INFO     ] 2024-08-28 11:07:33,475 Parameters: domain_dimensions         = [ 512    1 4096]\n",
      "yt : [INFO     ] 2024-08-28 11:07:33,476 Parameters: domain_left_edge          = [ 0.0000e+00  0.0000e+00 -1.2072e+22]\n",
      "yt : [INFO     ] 2024-08-28 11:07:33,478 Parameters: domain_right_edge         = [3.0180e+21 3.0180e+21 1.2072e+22]\n"
     ]
    },
    {
     "name": "stdout",
     "output_type": "stream",
     "text": [
      "35 /g/data/jh2/av5889/quokka_myrepo/quokka/sims/SummitData/GasGravity/Production2pc/R8-0.2Zsol/proj_y_plt2430000\n"
     ]
    },
    {
     "name": "stderr",
     "output_type": "stream",
     "text": [
      "yt : [INFO     ] 2024-08-28 11:07:34,256 Parameters: current_time              = 3083703885515345.5\n",
      "yt : [INFO     ] 2024-08-28 11:07:34,258 Parameters: domain_dimensions         = [ 512    1 4096]\n",
      "yt : [INFO     ] 2024-08-28 11:07:34,259 Parameters: domain_left_edge          = [ 0.0000e+00  0.0000e+00 -1.2072e+22]\n",
      "yt : [INFO     ] 2024-08-28 11:07:34,260 Parameters: domain_right_edge         = [3.0180e+21 3.0180e+21 1.2072e+22]\n"
     ]
    },
    {
     "name": "stdout",
     "output_type": "stream",
     "text": [
      "36 /g/data/jh2/av5889/quokka_myrepo/quokka/sims/SummitData/GasGravity/Production2pc/R8-0.2Zsol/proj_y_plt1580000\n"
     ]
    },
    {
     "name": "stderr",
     "output_type": "stream",
     "text": [
      "yt : [INFO     ] 2024-08-28 11:07:35,024 Parameters: current_time              = 5060593142486559.0\n",
      "yt : [INFO     ] 2024-08-28 11:07:35,026 Parameters: domain_dimensions         = [ 512    1 4096]\n",
      "yt : [INFO     ] 2024-08-28 11:07:35,027 Parameters: domain_left_edge          = [ 0.0000e+00  0.0000e+00 -1.2072e+22]\n",
      "yt : [INFO     ] 2024-08-28 11:07:35,028 Parameters: domain_right_edge         = [3.0180e+21 3.0180e+21 1.2072e+22]\n"
     ]
    },
    {
     "name": "stdout",
     "output_type": "stream",
     "text": [
      "37 /g/data/jh2/av5889/quokka_myrepo/quokka/sims/SummitData/GasGravity/Production2pc/R8-0.2Zsol/proj_y_plt2600000\n"
     ]
    },
    {
     "name": "stderr",
     "output_type": "stream",
     "text": [
      "yt : [INFO     ] 2024-08-28 11:07:35,778 Parameters: current_time              = 3529127306801957.0\n",
      "yt : [INFO     ] 2024-08-28 11:07:35,780 Parameters: domain_dimensions         = [ 512    1 4096]\n",
      "yt : [INFO     ] 2024-08-28 11:07:35,781 Parameters: domain_left_edge          = [ 0.0000e+00  0.0000e+00 -1.2072e+22]\n",
      "yt : [INFO     ] 2024-08-28 11:07:35,782 Parameters: domain_right_edge         = [3.0180e+21 3.0180e+21 1.2072e+22]\n"
     ]
    },
    {
     "name": "stdout",
     "output_type": "stream",
     "text": [
      "38 /g/data/jh2/av5889/quokka_myrepo/quokka/sims/SummitData/GasGravity/Production2pc/R8-0.2Zsol/proj_y_plt1800000\n"
     ]
    },
    {
     "name": "stderr",
     "output_type": "stream",
     "text": [
      "yt : [INFO     ] 2024-08-28 11:07:36,567 Parameters: current_time              = 6009978725734348.0\n",
      "yt : [INFO     ] 2024-08-28 11:07:36,568 Parameters: domain_dimensions         = [ 512    1 4096]\n",
      "yt : [INFO     ] 2024-08-28 11:07:36,570 Parameters: domain_left_edge          = [ 0.0000e+00  0.0000e+00 -1.2072e+22]\n",
      "yt : [INFO     ] 2024-08-28 11:07:36,571 Parameters: domain_right_edge         = [3.0180e+21 3.0180e+21 1.2072e+22]\n"
     ]
    },
    {
     "name": "stdout",
     "output_type": "stream",
     "text": [
      "39 /g/data/jh2/av5889/quokka_myrepo/quokka/sims/SummitData/GasGravity/Production2pc/R8-0.2Zsol/proj_y_plt3060000\n"
     ]
    },
    {
     "name": "stderr",
     "output_type": "stream",
     "text": [
      "yt : [INFO     ] 2024-08-28 11:07:37,404 Parameters: current_time              = 2766197641549027.5\n",
      "yt : [INFO     ] 2024-08-28 11:07:37,406 Parameters: domain_dimensions         = [ 512    1 4096]\n",
      "yt : [INFO     ] 2024-08-28 11:07:37,407 Parameters: domain_left_edge          = [ 0.0000e+00  0.0000e+00 -1.2072e+22]\n",
      "yt : [INFO     ] 2024-08-28 11:07:37,408 Parameters: domain_right_edge         = [3.0180e+21 3.0180e+21 1.2072e+22]\n"
     ]
    },
    {
     "name": "stdout",
     "output_type": "stream",
     "text": [
      "40 /g/data/jh2/av5889/quokka_myrepo/quokka/sims/SummitData/GasGravity/Production2pc/R8-0.2Zsol/proj_y_plt1410000\n"
     ]
    },
    {
     "name": "stderr",
     "output_type": "stream",
     "text": [
      "yt : [INFO     ] 2024-08-28 11:07:38,325 Parameters: current_time              = 3365914093130080.5\n",
      "yt : [INFO     ] 2024-08-28 11:07:38,328 Parameters: domain_dimensions         = [ 512    1 4096]\n",
      "yt : [INFO     ] 2024-08-28 11:07:38,331 Parameters: domain_left_edge          = [ 0.0000e+00  0.0000e+00 -1.2072e+22]\n",
      "yt : [INFO     ] 2024-08-28 11:07:38,332 Parameters: domain_right_edge         = [3.0180e+21 3.0180e+21 1.2072e+22]\n"
     ]
    },
    {
     "name": "stdout",
     "output_type": "stream",
     "text": [
      "41 /g/data/jh2/av5889/quokka_myrepo/quokka/sims/SummitData/GasGravity/Production2pc/R8-0.2Zsol/proj_y_plt1720000\n"
     ]
    },
    {
     "name": "stderr",
     "output_type": "stream",
     "text": [
      "yt : [INFO     ] 2024-08-28 11:07:39,050 Parameters: current_time              = 2038927963555949.0\n",
      "yt : [INFO     ] 2024-08-28 11:07:39,052 Parameters: domain_dimensions         = [ 512    1 4096]\n",
      "yt : [INFO     ] 2024-08-28 11:07:39,053 Parameters: domain_left_edge          = [ 0.0000e+00  0.0000e+00 -1.2072e+22]\n",
      "yt : [INFO     ] 2024-08-28 11:07:39,055 Parameters: domain_right_edge         = [3.0180e+21 3.0180e+21 1.2072e+22]\n"
     ]
    },
    {
     "name": "stdout",
     "output_type": "stream",
     "text": [
      "42 /g/data/jh2/av5889/quokka_myrepo/quokka/sims/SummitData/GasGravity/Production2pc/R8-0.2Zsol/proj_y_plt1030000\n"
     ]
    },
    {
     "name": "stderr",
     "output_type": "stream",
     "text": [
      "yt : [INFO     ] 2024-08-28 11:07:39,811 Parameters: current_time              = 4550644665517481.0\n",
      "yt : [INFO     ] 2024-08-28 11:07:39,813 Parameters: domain_dimensions         = [ 512    1 4096]\n",
      "yt : [INFO     ] 2024-08-28 11:07:39,815 Parameters: domain_left_edge          = [ 0.0000e+00  0.0000e+00 -1.2072e+22]\n",
      "yt : [INFO     ] 2024-08-28 11:07:39,816 Parameters: domain_right_edge         = [3.0180e+21 3.0180e+21 1.2072e+22]\n"
     ]
    },
    {
     "name": "stdout",
     "output_type": "stream",
     "text": [
      "43 /g/data/jh2/av5889/quokka_myrepo/quokka/sims/SummitData/GasGravity/Production2pc/R8-0.2Zsol/proj_y_plt2350000\n"
     ]
    },
    {
     "name": "stderr",
     "output_type": "stream",
     "text": [
      "yt : [INFO     ] 2024-08-28 11:07:40,528 Parameters: current_time              = 5590383243308000.0\n",
      "yt : [INFO     ] 2024-08-28 11:07:40,530 Parameters: domain_dimensions         = [ 512    1 4096]\n",
      "yt : [INFO     ] 2024-08-28 11:07:40,531 Parameters: domain_left_edge          = [ 0.0000e+00  0.0000e+00 -1.2072e+22]\n",
      "yt : [INFO     ] 2024-08-28 11:07:40,532 Parameters: domain_right_edge         = [3.0180e+21 3.0180e+21 1.2072e+22]\n"
     ]
    },
    {
     "name": "stdout",
     "output_type": "stream",
     "text": [
      "44 /g/data/jh2/av5889/quokka_myrepo/quokka/sims/SummitData/GasGravity/Production2pc/R8-0.2Zsol/proj_y_plt2840000\n"
     ]
    },
    {
     "name": "stderr",
     "output_type": "stream",
     "text": [
      "yt : [INFO     ] 2024-08-28 11:07:41,244 Parameters: current_time              = 4498114330232297.0\n",
      "yt : [INFO     ] 2024-08-28 11:07:41,251 Parameters: domain_dimensions         = [ 512    1 4096]\n",
      "yt : [INFO     ] 2024-08-28 11:07:41,254 Parameters: domain_left_edge          = [ 0.0000e+00  0.0000e+00 -1.2072e+22]\n",
      "yt : [INFO     ] 2024-08-28 11:07:41,256 Parameters: domain_right_edge         = [3.0180e+21 3.0180e+21 1.2072e+22]\n"
     ]
    },
    {
     "name": "stdout",
     "output_type": "stream",
     "text": [
      "45 /g/data/jh2/av5889/quokka_myrepo/quokka/sims/SummitData/GasGravity/Production2pc/R8-0.2Zsol/proj_y_plt2320000\n"
     ]
    },
    {
     "name": "stderr",
     "output_type": "stream",
     "text": [
      "yt : [INFO     ] 2024-08-28 11:07:41,958 Parameters: current_time              = 1152867470751366.8\n",
      "yt : [INFO     ] 2024-08-28 11:07:41,960 Parameters: domain_dimensions         = [ 512    1 4096]\n",
      "yt : [INFO     ] 2024-08-28 11:07:41,961 Parameters: domain_left_edge          = [ 0.0000e+00  0.0000e+00 -1.2072e+22]\n",
      "yt : [INFO     ] 2024-08-28 11:07:41,963 Parameters: domain_right_edge         = [3.0180e+21 3.0180e+21 1.2072e+22]\n"
     ]
    },
    {
     "name": "stdout",
     "output_type": "stream",
     "text": [
      "46 /g/data/jh2/av5889/quokka_myrepo/quokka/sims/SummitData/GasGravity/Production2pc/R8-0.2Zsol/proj_y_plt560000\n"
     ]
    },
    {
     "name": "stderr",
     "output_type": "stream",
     "text": [
      "yt : [INFO     ] 2024-08-28 11:07:42,717 Parameters: current_time              = 4516193964434500.0\n",
      "yt : [INFO     ] 2024-08-28 11:07:42,719 Parameters: domain_dimensions         = [ 512    1 4096]\n",
      "yt : [INFO     ] 2024-08-28 11:07:42,721 Parameters: domain_left_edge          = [ 0.0000e+00  0.0000e+00 -1.2072e+22]\n",
      "yt : [INFO     ] 2024-08-28 11:07:42,722 Parameters: domain_right_edge         = [3.0180e+21 3.0180e+21 1.2072e+22]\n"
     ]
    },
    {
     "name": "stdout",
     "output_type": "stream",
     "text": [
      "47 /g/data/jh2/av5889/quokka_myrepo/quokka/sims/SummitData/GasGravity/Production2pc/R8-0.2Zsol/proj_y_plt2330000\n"
     ]
    },
    {
     "name": "stderr",
     "output_type": "stream",
     "text": [
      "yt : [INFO     ] 2024-08-28 11:07:43,442 Parameters: current_time              = 5394329930423707.0\n",
      "yt : [INFO     ] 2024-08-28 11:07:43,444 Parameters: domain_dimensions         = [ 512    1 4096]\n",
      "yt : [INFO     ] 2024-08-28 11:07:43,445 Parameters: domain_left_edge          = [ 0.0000e+00  0.0000e+00 -1.2072e+22]\n",
      "yt : [INFO     ] 2024-08-28 11:07:43,446 Parameters: domain_right_edge         = [3.0180e+21 3.0180e+21 1.2072e+22]\n"
     ]
    },
    {
     "name": "stdout",
     "output_type": "stream",
     "text": [
      "48 /g/data/jh2/av5889/quokka_myrepo/quokka/sims/SummitData/GasGravity/Production2pc/R8-0.2Zsol/proj_y_plt2740000\n"
     ]
    },
    {
     "name": "stderr",
     "output_type": "stream",
     "text": [
      "yt : [INFO     ] 2024-08-28 11:07:44,178 Parameters: current_time              = 3870397180205941.0\n",
      "yt : [INFO     ] 2024-08-28 11:07:44,180 Parameters: domain_dimensions         = [ 512    1 4096]\n",
      "yt : [INFO     ] 2024-08-28 11:07:44,181 Parameters: domain_left_edge          = [ 0.0000e+00  0.0000e+00 -1.2072e+22]\n",
      "yt : [INFO     ] 2024-08-28 11:07:44,183 Parameters: domain_right_edge         = [3.0180e+21 3.0180e+21 1.2072e+22]\n"
     ]
    },
    {
     "name": "stdout",
     "output_type": "stream",
     "text": [
      "49 /g/data/jh2/av5889/quokka_myrepo/quokka/sims/SummitData/GasGravity/Production2pc/R8-0.2Zsol/proj_y_plt1980000\n"
     ]
    },
    {
     "data": {
      "text/plain": [
       "[0.01, 200.1, 0.01, 200.1]"
      ]
     },
     "execution_count": 18,
     "metadata": {},
     "output_type": "execute_result"
    },
    {
     "data": {
      "image/png": "[encoded data removed]",
      "text/plain": [
       "<Figure size 1728x576 with 2 Axes>"
      ]
     },
     "metadata": {
      "needs_background": "light"
     },
     "output_type": "display_data"
    }
   ],
   "source": [
    "kk = 0\n",
    "\n",
    "fig, ax = plt.subplots(1, 2, gridspec_kw = {'wspace':0.02, 'hspace':0.02},figsize=(24, 8))\n",
    "\n",
    "folder_list = ['SummitData/GasGravity/Production2pc/R4-0.2Zsol/', 'SummitData/GasGravity/Production2pc/R8-0.2Zsol/']\n",
    "colors =  sns.color_palette(\"rocket\", len(folder_list))\n",
    "sigma_sfr = [0.000398107/yr_to_sec, 6.e-5/yr_to_sec]   \n",
    "\n",
    "label = [r'4$\\Sigma_{\\rm Fid}^*$', r'$\\Sigma_{\\rm Fid}^*$', r'0.2$\\Sigma_{\\rm Fid}^*$']\n",
    "\n",
    "ls = ['-', '-.', '--']\n",
    "\n",
    "Zbg = [0.2, 0.2, 1.0]\n",
    "Zunit = Msun/1.e3\n",
    "\n",
    "for folder in folder_list:\n",
    "    data_path = os.path.join('/g/data/jh2/av5889/quokka_myrepo/quokka/sims/', folder)\n",
    "    print(folder)\n",
    "    os.chdir(data_path)\n",
    "    list_file1 = glob.glob(\"proj_y_*\")\n",
    "    \n",
    "    \n",
    "    os.chdir(data_path)\n",
    "    infile   = os.path.join(data_path, 'metal_uniform.in')\n",
    "\n",
    "    dom_min, dom_max, ncells = getdomain(infile)\n",
    "    fac = 1\n",
    "    zrange = np.linspace(dom_min[2], dom_max[2], (fac*int(ncells[2])))\n",
    "    xrange = np.linspace(dom_min[0], dom_max[0], (fac*int(ncells[0])))\n",
    "    yrange = np.linspace(dom_min[1], dom_max[1], (fac*int(ncells[1])))\n",
    "    \n",
    "    \n",
    "    dx = (dom_max[0]- dom_min[0])/(fac*int(ncells[0]))\n",
    "    dz = (dom_max[2]- dom_min[2])/(fac*int(ncells[2]))\n",
    "    \n",
    "    height = np.amax(zrange)/2\n",
    "    list_file = list_file1[0:50]\n",
    "    \n",
    "    index = min(range(zrange.shape[0]), key=lambda i: abs(zrange[i] - height))\n",
    "    vol_index = (np.abs(zrange)<height) &  (np.abs(zrange)>0.15*kpc)\n",
    "    print(index, zrange.shape)\n",
    "    \n",
    "    timestep = np.zeros((len(list_file)))\n",
    "    \n",
    "    scalar_flux_xz = np.zeros((len(list_file), xrange.shape[0], zrange.shape[0]))\n",
    "    tot_scalar = np.zeros((len(list_file), xrange.shape[0], zrange.shape[0]))\n",
    "    tot_rho    = np.zeros((len(list_file), xrange.shape[0], zrange.shape[0]))\n",
    "    \n",
    "    i = 0 \n",
    "    for f in list_file:\n",
    "        \n",
    "        inputfile = os.path.join(data_path, f)\n",
    "        file_size = get_folder_size(inputfile) / (1024 * 1024)\n",
    "        \n",
    "        if(file_size<100. and folder!=folder_list[-1]):\n",
    "            print('Skipping ', inputfile, '\\n')\n",
    "            continue\n",
    "        \n",
    "        ds   = yt.load(inputfile)\n",
    "        data = ds.covering_grid(level=0, left_edge=dom_min, dims=ds.domain_dimensions, num_ghost_zones=0)\n",
    "        print(i, inputfile)\n",
    "        timestep[i] = ds.current_time.to('Myr')\n",
    "        \n",
    "        scalar_flux_xz[i,:] = np.abs(np.array(data['scalar_outflow'])[:,0,:])\n",
    "        tot_scalar[i,:]     = np.array(data['scalar'])[:,0,:]\n",
    "        tot_rho[i,:]        = np.array(data['rho'])[:,0,:]\n",
    "        i+=1\n",
    "        \n",
    "    \n",
    "    mask1 = (np.abs(zrange)) < (height + 2*dz)\n",
    "    mask2 = (np.abs(zrange)) > ( height - 2.*dz)\n",
    "    mask = mask1*mask2\n",
    "    \n",
    "    scalar_flux_z = np.sum(scalar_flux_xz , axis=1)*Zunit*dx\n",
    "    scalar_flux   = np.average(scalar_flux_z[:,mask], axis=1)  \n",
    "    \n",
    "    \n",
    "    met_mass    = np.sum(tot_scalar[:,:,vol_index], axis=(1,2)) *dx * dz * Zunit\n",
    "    total_mass  = np.sum(tot_rho[:,:,vol_index], axis=(1,2)) * dx * dz\n",
    "    scalar_mass =  Zbg[kk]*8.6e-3*total_mass + met_mass\n",
    "    \n",
    "    indexes = list(range(len(timestep)))\n",
    "    indexes.sort(key=timestep.__getitem__)\n",
    "    sorted_time = list(map(timestep.__getitem__, indexes))\n",
    "    \n",
    "    \n",
    "    sorted_scalar  = list(map(scalar_mass.__getitem__, indexes))\n",
    "    inj_scalar = sigma_sfr[kk]  * Msun * np.asarray(sorted_time)\n",
    "    \n",
    "    phi =  1. - np.asarray(sorted_scalar)/(inj_scalar*Myr)\n",
    "    \n",
    "    ax[0].plot(sorted_time, phi, ls=ls[kk],\\\n",
    "            label=label[kk],markersize=12, lw=2.5, color=colors[kk])\n",
    "    \n",
    "    \n",
    "    sorted_scalar_flux  = list(map(scalar_flux.__getitem__, indexes))\n",
    "    inj_scalar = sigma_sfr[kk]  * Msun * np.asarray(sorted_time) * Myr\n",
    "    \n",
    "    tt=1\n",
    "    dtimestep = np.zeros(len(sorted_time))\n",
    "    dtimestep[0] = sorted_time[0]\n",
    "    while(tt<timestep.shape[0]):\n",
    "        dtimestep[tt] = sorted_time[tt] - dtimestep[tt-1]\n",
    "        tt+=1\n",
    "    \n",
    "    Mzdot_dt = np.asarray(sorted_scalar_flux) / (sigma_sfr[kk]  * Msun) #* dtimestep * Myr\n",
    "    \n",
    "    ax[1].plot(sorted_time,  Mzdot_dt, ls=ls[kk],\\\n",
    "            markersize=12, lw=2.5, color=colors[kk])\n",
    "    \n",
    "    kk+=1\n",
    "    \n",
    "ax[0].legend()\n",
    "ax[0].set_xlabel('Myr')\n",
    "ax[1].set_xlabel('Myr')\n",
    "ax[0].tick_params(axis='y', right=True, left=True)\n",
    "ax[1].tick_params(axis='y', labelleft=False, right=True, left=True, labelright=True)\n",
    "ax[0].set_title('$1-\\int M_Z dV/\\Gamma_{SN}M_{\\odot}t$')\n",
    "ax[1].set_title('$ \\dot{M}_Z /\\Gamma_{SN}M_{\\odot}$')\n",
    "# plt.setp(ax, 'ylim', (-0.01, 1.1))\n",
    "plt.setp(ax, 'xlim', (0.01, 200.1))"
   ]
  },
  {
   "cell_type": "code",
   "execution_count": 42,
   "id": "8b61b785",
   "metadata": {},
   "outputs": [],
   "source": [
    "tot_scalar_x = np.sum(tot_scalar, axis=1)\n",
    "tot_scalar_xavg = (tot_scalar_x + tot_scalar_x[::-1])/2.\n",
    "tot_scalar_half = tot_scalar_xavg[:,int(tot_scalar_xavg.shape[1]/2):]\n",
    "total_scalar = np.cumsum(tot_scalar_half, axis=1)\n",
    "\n"
   ]
  },
  {
   "cell_type": "code",
   "execution_count": 43,
   "id": "9c3a7067",
   "metadata": {},
   "outputs": [
    {
     "data": {
      "text/plain": [
       "[<matplotlib.lines.Line2D at 0x150410c14af0>]"
      ]
     },
     "execution_count": 43,
     "metadata": {},
     "output_type": "execute_result"
    },
    {
     "data": {
      "image/png": "[encoded data removed]",
      "text/plain": [
       "<Figure size 432x288 with 1 Axes>"
      ]
     },
     "metadata": {
      "needs_background": "light"
     },
     "output_type": "display_data"
    }
   ],
   "source": [
    "plt.plot(zrange[int(tot_scalar_xavg.shape[1]/2):]/kpc, total_scalar[10])"
   ]
  },
  {
   "cell_type": "code",
   "execution_count": 17,
   "id": "9306ba63",
   "metadata": {},
   "outputs": [
    {
     "name": "stderr",
     "output_type": "stream",
     "text": [
      "yt : [INFO     ] 2024-08-16 09:50:06,384 Parameters: current_time              = 2174133202248837.8\n",
      "yt : [INFO     ] 2024-08-16 09:50:06,386 Parameters: domain_dimensions         = [ 512    1 4096]\n",
      "yt : [INFO     ] 2024-08-16 09:50:06,387 Parameters: domain_left_edge          = [ 0.0000e+00  0.0000e+00 -1.2072e+22]\n",
      "yt : [INFO     ] 2024-08-16 09:50:06,388 Parameters: domain_right_edge         = [3.0180e+21 3.0180e+21 1.2072e+22]\n"
     ]
    }
   ],
   "source": [
    "kk = 0\n",
    "\n",
    "fig, ax = plt.subplots(1, 1, gridspec_kw = {'wspace':0.02, 'hspace':0.02},figsize=(12, 8))\n",
    "colors =  sns.color_palette(\"rocket\", len(folder_list))\n",
    "\n",
    "sigma_sfr = [6.e-5/yr_to_sec ,  0.000398107/yr_to_sec,\\\n",
    "             1.58e-6/yr_to_sec, 1.58e-6/yr_to_sec]   \n",
    "\n",
    "label = ['R4', 'R8', 'R16']\n",
    "\n",
    "ls= ['-', '--']\n",
    "Zunit = Msun/1.e3\n",
    "\n",
    "for folder in folder_list[0:1]:\n",
    "    data_path = os.path.join('/g/data/jh2/av5889/quokka_myrepo/quokka/sims/', folder)\n",
    "\n",
    "    os.chdir(data_path)\n",
    "    list_file1 = glob.glob(\"proj_y_*\")\n",
    "    \n",
    "    \n",
    "    os.chdir(data_path)\n",
    "    infile   = os.path.join(data_path, 'metal_uniform.in')\n",
    "\n",
    "    dom_min, dom_max, ncells = getdomain(infile)\n",
    "    fac = 1\n",
    "    zrange = np.linspace(dom_min[2], dom_max[2], (fac*int(ncells[2])))\n",
    "    xrange = np.linspace(dom_min[0], dom_max[0], (fac*int(ncells[0])))\n",
    "    yrange = np.linspace(dom_min[1], dom_max[1], (fac*int(ncells[1])))\n",
    "    \n",
    "    \n",
    "    dx = (dom_max[0]- dom_min[0])/(fac*int(ncells[0]))\n",
    "    dz = (dom_max[2]- dom_min[2])/(fac*int(ncells[2]))\n",
    "    \n",
    "    height = np.amax(zrange)/2.\n",
    "    \n",
    "    list_file = list_file1\n",
    "    \n",
    "    index = min(range(zrange.shape[0]), key=lambda i: abs(zrange[i] - height))\n",
    "    vol_index = (np.abs(zrange)<height) #&  (zrange>0.15*kpc)\n",
    "    print(index, zrange.shape)\n",
    "    \n",
    "    timestep = np.zeros((len(list_file)))\n",
    "    \n",
    "    \n",
    "    scalar_flux_xz = np.zeros((len(list_file), xrange.shape[0], zrange.shape[0]))\n",
    "    tot_scalar = np.zeros((len(list_file), xrange.shape[0], zrange.shape[0]))\n",
    "    \n",
    "    \n",
    "    i = 0 \n",
    "    for f in list_file:\n",
    "        inputfile = os.path.join(data_path, f)\n",
    "        file_size = get_folder_size(inputfile) / (1024 * 1024)\n",
    "        \n",
    "        if(file_size<1.):\n",
    "            print('Skipping ', inputfile, '\\n')\n",
    "            continue\n",
    "            \n",
    "        ds   = yt.load(inputfile)\n",
    "        data = ds.covering_grid(level=0, left_edge=dom_min, dims=ds.domain_dimensions, num_ghost_zones=0)\n",
    "        print(i, inputfile)\n",
    "        timestep[i] = ds.current_time.to('Myr')\n",
    "        scalar_flux_xz[i,:] = np.abs(np.array(data['scalar_outflow'])[:,0,:])\n",
    "        tot_scalar[i,:]     = np.array(data['scalar'])[:,0,:]\n",
    "        i+=1\n",
    "        \n",
    "    \n",
    "    mask1 = (np.abs(zrange)) < (height + 2*dz)\n",
    "    mask2 = (np.abs(zrange)) > ( height - 2.*dz)\n",
    "    mask = mask1*mask2\n",
    "    \n",
    "    scalar_flux_z = np.sum(scalar_flux_xz , axis=1)*Zunit*dx\n",
    "    scalar_flux   = np.average(scalar_flux_z[:,mask], axis=1)   \n",
    "    \n",
    "    tot_scalar_x = np.sum(tot_scalar, axis=1)\n",
    "    tot_scalar_xavg = (tot_scalar_x + tot_scalar_x[::-1])/2.\n",
    "    tot_scalar_half = tot_scalar_xavg[:,int(tot_scalar_xavg.shape[1]/2):]\n",
    "    total_scalar = np.cumsum(tot_scalar_half, axis=1)\n",
    "\n",
    "\n",
    "    \n",
    "    indexes = list(range(len(timestep)))\n",
    "    indexes.sort(key=timestep.__getitem__)\n",
    "    sorted_time = list(map(timestep.__getitem__, indexes))\n",
    "    \n",
    "    \n",
    "    sorted_scalar  = list(map(scalar_mass.__getitem__, indexes))\n",
    "    inj_scalar = sigma_sfr[kk]  * Msun * np.asarray(sorted_time)\n",
    "    \n",
    "#     Mzdot_dt = np.asarray(sorted_scalar_flux) * dtimestep * Myr\n",
    "    \n",
    "    quant = np.asarray(sorted_scalar)*Zunit/(inj_scalar*Myr)\n",
    "    phi = 1. - quant\n",
    "    ax.plot(sorted_time, phi, ls='-',\\\n",
    "            label=label[kk],markersize=12, lw=2.5, color=colors[kk])\n",
    "    \n",
    "    kk+=1\n",
    "    \n",
    "ax.legend()\n",
    "ax.set_ylabel(r'1-$\\int M_{Z}/\\Gamma_{SN} M_{\\odot}$')\n",
    "ax.set_xlabel('Myr')"
   ]
  },
  {
   "cell_type": "code",
   "execution_count": null,
   "id": "6061ff8d",
   "metadata": {},
   "outputs": [],
   "source": []
  }
 ],
 "metadata": {
  "kernelspec": {
   "display_name": "Python 3 (ipykernel)",
   "language": "python",
   "name": "python3"
  },
  "language_info": {
   "codemirror_mode": {
    "name": "ipython",
    "version": 3
   },
   "file_extension": ".py",
   "mimetype": "text/x-python",
   "name": "python",
   "nbconvert_exporter": "python",
   "pygments_lexer": "ipython3",
   "version": "3.9.2"
  }
 },
 "nbformat": 4,
 "nbformat_minor": 5
}
