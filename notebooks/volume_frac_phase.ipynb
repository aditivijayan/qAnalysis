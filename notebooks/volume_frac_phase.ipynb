{
 "cells": [
  {
   "cell_type": "code",
   "execution_count": 1,
   "id": "96871ce8",
   "metadata": {},
   "outputs": [],
   "source": [
    "\n",
    "import _init_\n",
    "from constants import * \n",
    "from set_path import *\n",
    "from config import *\n",
    "from functions import *"
   ]
  },
  {
   "cell_type": "code",
   "execution_count": 2,
   "id": "18fbb18c",
   "metadata": {},
   "outputs": [],
   "source": [
    "plt.rcParams['font.size']=28\n",
    "plt.rcParams['axes.linewidth']=2.\n",
    "plt.rcParams['xtick.major.size']=12\n",
    "plt.rcParams['xtick.minor.size']=1\n",
    "plt.rcParams['xtick.major.width']=2\n",
    "plt.rcParams['xtick.minor.width']=2.\n",
    "plt.rcParams['xtick.direction']='in'\n",
    "plt.rcParams['ytick.major.size']=12\n",
    "plt.rcParams['ytick.minor.size']=6\n",
    "plt.rcParams['ytick.major.width']=2\n",
    "plt.rcParams['ytick.minor.width']=2\n",
    "plt.rcParams['ytick.direction']='in'"
   ]
  },
  {
   "cell_type": "code",
   "execution_count": 3,
   "id": "d079f593",
   "metadata": {},
   "outputs": [],
   "source": [
    "home = '/g/data/jh2/av5889/quokka_myrepo/quokka/sims/SummitData/GasGravity/Production2pc/'\n",
    "\n",
    "data_path = os.path.join('/g/data/jh2/av5889/quokka_myrepo/quokka/sims/SummitData/GasGravity/Production2pc/')\n",
    "pltfile = ['R8', 'R8-0.2Zsol']\n"
   ]
  },
  {
   "cell_type": "code",
   "execution_count": 4,
   "id": "75549662",
   "metadata": {},
   "outputs": [],
   "source": [
    "file = '/g/data/jh2/av5889/freshquokka/quokka/extern/grackle_data_files/input/CloudyData_UVB=HM2012.h5'\n",
    "# file = '/g/data/jh2/av5889/quokka_myrepo/quokka/extern/grackle_data_files/input/CloudyData_UVB=FG2011.h5'\n",
    "grackle = h5py.File(file)\n",
    "array = grackle['CoolingRates/Primordial/MMW'][()]\n",
    "#density(1.e-6, 1.e4), redshift(0,15), temperature(10., 1.e9)\n",
    "table = array[:,0,:]\n",
    "table_nH   = np.logspace(-10., 4, array.shape[0])\n",
    "table_temp = np.logspace(1,  9, array.shape[2])"
   ]
  },
  {
   "cell_type": "code",
   "execution_count": 5,
   "id": "40bcc172",
   "metadata": {},
   "outputs": [],
   "source": [
    "\n",
    "i=0\n",
    "bins = 200\n",
    "egas_arr = np.logspace(-25., -5., bins)\n",
    "nH_arr   = np.logspace(-7.0, 4.0, int(bins))\n",
    "T = np.zeros((egas_arr.shape[0],nH_arr.shape[0]))\n",
    "\n",
    "for egas in egas_arr:\n",
    "    j=0\n",
    "    for nH in nH_arr:\n",
    "        C = (gamma - 1.) * egas / (boltzmann_constant_cgs*nH)\n",
    "        minT = C*np.amin(table)\n",
    "        maxT = C*np.amax(table)\n",
    "        def func(T):\n",
    "            mu = interpolate.interp2d(table_temp, table_nH, table,\\\n",
    "                              kind='linear', copy=True, bounds_error=False, fill_value=None)\n",
    "            return C*mu(T,nH)[0] - T\n",
    "\n",
    "        T[i,j] = scipy.optimize.toms748(func, minT, maxT)\n",
    "        j+=1\n",
    "    i+=1\n",
    "\n",
    "    \n",
    "# temperature_table = interpolate.RectBivariateSpline(egas_arr, nH_arr, T)\n"
   ]
  },
  {
   "cell_type": "code",
   "execution_count": 6,
   "id": "cd4f06c3",
   "metadata": {},
   "outputs": [],
   "source": [
    "infile   = os.path.join(data_path, pltfile[1], 'metal_uniform.in')\n",
    "# infile   = os.path.join(data_path, 'metal_uniform_512.in')\n",
    "dom_min, dom_max, ncells = getdomain(infile)\n",
    "fac = 1\n",
    "zrange = np.linspace(dom_min[2], dom_max[2], (fac*int(ncells[2])))\n",
    "xrange = np.linspace(dom_min[0], dom_max[0], (fac*int(ncells[0])))\n",
    "yrange = np.linspace(dom_min[1], dom_max[1], (fac*int(ncells[1])))\n",
    "\n",
    "dx = (dom_max[0]- dom_min[0])/(fac*int(ncells[0]))\n",
    "dy = (dom_max[1]- dom_min[1])/(fac*int(ncells[1]))\n",
    "dz = (dom_max[2]- dom_min[2])/(fac*int(ncells[2]))\n",
    "dV = dx * dy * dz"
   ]
  },
  {
   "cell_type": "code",
   "execution_count": 7,
   "id": "1d6dc4fd",
   "metadata": {},
   "outputs": [
    {
     "name": "stderr",
     "output_type": "stream",
     "text": [
      "yt : [INFO     ] 2024-09-21 15:44:30,607 Parameters: current_time              = 7105417624207872.0\n",
      "yt : [INFO     ] 2024-09-21 15:44:30,609 Parameters: domain_dimensions         = [ 512  512 4096]\n",
      "yt : [INFO     ] 2024-09-21 15:44:30,610 Parameters: domain_left_edge          = [ 0.0000e+00  0.0000e+00 -1.2072e+22]\n",
      "yt : [INFO     ] 2024-09-21 15:44:30,611 Parameters: domain_right_edge         = [3.0180e+21 3.0180e+21 1.2072e+22]\n"
     ]
    },
    {
     "data": {
      "text/plain": [
       "unyt_quantity(225.15709763, 'Myr')"
      ]
     },
     "execution_count": 7,
     "metadata": {},
     "output_type": "execute_result"
    }
   ],
   "source": [
    "f = 'plt3610000'\n",
    "inputfile = os.path.join(data_path, pltfile[1], f)\n",
    "ds   = yt.load(inputfile)\n",
    "ds.current_time.to('Myr')"
   ]
  },
  {
   "cell_type": "code",
   "execution_count": 8,
   "id": "efa141cb",
   "metadata": {},
   "outputs": [
    {
     "data": {
      "text/plain": [
       "1.453289022438157e-20"
      ]
     },
     "execution_count": 8,
     "metadata": {},
     "output_type": "execute_result"
    }
   ],
   "source": [
    "lev = 0\n",
    "data = ds.covering_grid(level=lev, left_edge=dom_min, dims=ds.domain_dimensions * fac, num_ghost_zones=0)\n",
    "timestep = ds.current_time.to('Myr')\n",
    "\n",
    "rho_gas = np.array(data['gasDensity'])\n",
    "eint    = np.array(data['gasInternalEnergy'])\n",
    "np.amin(eint)"
   ]
  },
  {
   "cell_type": "code",
   "execution_count": 9,
   "id": "81e82cbb",
   "metadata": {},
   "outputs": [],
   "source": [
    "egas0=eint\n",
    "density = rho_gas\n",
    "cloudy_H_mass_fraction = 1. / (1. + 0.1 * 3.971)\n",
    "rho0 = density*cloudy_H_mass_fraction/hydrogen_mass_cgs\n",
    "\n",
    "\n",
    "logrho_arr = np.log10(nH_arr[:-1])\n",
    "logrho     = np.log10(rho0)\n",
    "delta_rho  = logrho_arr[1] - logrho_arr[0]\n",
    "idxrho     = (np.floor((logrho - np.amin(logrho_arr))/delta_rho)).astype('int')\n",
    "\n",
    "logEgas_arr = np.log10(egas_arr[:-1])\n",
    "logEgas     = np.log10(egas0)\n",
    "delta_egas  = logEgas_arr[1] - logEgas_arr[0]\n",
    "\n",
    "idxegas     = (np.floor((logEgas-np.amin(logEgas_arr))/delta_egas)).astype('int')\n",
    "\n",
    "\n",
    "wgt_rho  = (logrho - (np.amin(logrho_arr) + delta_rho*idxrho))/delta_rho\n",
    "wgt_egas = (logEgas - (np.amin(logEgas_arr) + delta_egas*idxegas))/delta_egas\n",
    "\n",
    "temp = (1.-wgt_rho)*(1.-wgt_egas)* T[tuple(idxegas)  , tuple(idxrho)]   +\\\n",
    "           wgt_rho *    wgt_egas * T[tuple(idxegas+1), tuple(idxrho+1)] +\\\n",
    "      (1. -wgt_rho)*    wgt_egas * T[tuple(idxegas+1), tuple(idxrho)]   +\\\n",
    "           wgt_rho *(1.-wgt_egas)* T[tuple(idxegas)  , tuple(idxrho+1)]  "
   ]
  },
  {
   "cell_type": "code",
   "execution_count": 10,
   "id": "da01ac32",
   "metadata": {},
   "outputs": [],
   "source": [
    "dx = (dom_max[0]- dom_min[0])/(1*int(ncells[0]))\n",
    "dy = (dom_max[1]- dom_min[1])/(1*int(ncells[1]))\n",
    "dz = (dom_max[2]- dom_min[2])/(1*int(ncells[2]))\n",
    "dVol = dx*dy*dz\n",
    "\n",
    "nH   = rho_gas/hydrogen_mass_cgs\n",
    "mass = rho_gas * dVol\n",
    "bins = 201\n",
    "\n",
    "(dlow, dhigh)   = (1.e-6, 1.e2)\n",
    "(tlow, thigh)   = (10., 2.e10)\n",
    "\n",
    "zdisc = (np.abs(zrange)<300.*pc)\n",
    "temp_disc = temp[:,:, zdisc]\n",
    "nH_disc = nH[:,:, zdisc]\n",
    "mass_disc = mass[:,:, zdisc]\n",
    "\n",
    "dedges = np.logspace(np.log10(dlow), np.log10(dhigh), bins)\n",
    "tedges = np.logspace(np.log10(tlow), np.log10(thigh), bins)\n",
    "\n",
    "htot, binx, biny = np.histogram2d(nH.reshape(-1,1)[:,0], temp.reshape(-1,1)[:,0], \\\n",
    "                            bins=[dedges, tedges], weights=mass.reshape(-1,1)[:,0])\n",
    "\n",
    "hout, binx, biny = np.histogram2d(nH_disc.reshape(-1,1)[:,0], temp_disc.reshape(-1,1)[:,0], \\\n",
    "                            bins=[dedges, tedges], weights=mass_disc.reshape(-1,1)[:,0])\n"
   ]
  },
  {
   "cell_type": "code",
   "execution_count": 11,
   "id": "ac6d8cf9",
   "metadata": {},
   "outputs": [],
   "source": [
    "volume = np.full(temp.shape, dVol)\n",
    "zdisc = (np.abs(zrange)<300.*pc)\n",
    "cold = (temp<500.)\n",
    "warm = (temp>500.) & (temp<2.e4)\n",
    "\n",
    "cold_disc = cold * zdisc\n",
    "warm_disc = warm * zdisc\n",
    "\n",
    "cold_volume = np.sum(np.ma.array(volume, mask=~cold_disc), axis=(0,1)).data\n",
    "warm_volume = np.sum(np.ma.array(volume, mask=~warm_disc), axis=(0,1)).data"
   ]
  },
  {
   "cell_type": "code",
   "execution_count": 12,
   "id": "4deb3c62",
   "metadata": {},
   "outputs": [],
   "source": [
    "intm = (temp>2.e4) & (temp<1.e6)\n",
    "hot = (temp>1.e6) \n",
    "\n",
    "int_disc = intm * zdisc\n",
    "hot_disc = hot * zdisc\n",
    "\n",
    "int_volume = np.sum(np.ma.array(volume, mask=~int_disc), axis=(0,1)).data\n",
    "hot_volume = np.sum(np.ma.array(volume, mask=~hot_disc), axis=(0,1)).data"
   ]
  },
  {
   "cell_type": "code",
   "execution_count": 14,
   "id": "333972b2",
   "metadata": {},
   "outputs": [
    {
     "name": "stdout",
     "output_type": "stream",
     "text": [
      "--------Written file------->> /g/data/jh2/av5889/quokka_myrepo/quokka/sims/SummitData/GasGravity/Production2pc/R8-0.2Zsol/histo_3610000.h5\n"
     ]
    }
   ],
   "source": [
    "outputfile_name =os.path.join(data_path,'R8-0.2Zsol', 'histo_3610000.h5')\n",
    "\n",
    "hfo = h5py.File(outputfile_name, 'w')\n",
    "hfo.create_dataset('DensBins'       , data=binx)\n",
    "hfo.create_dataset('TempBins'       , data=biny)\n",
    "hfo.create_dataset('TotalMass'       , data=htot)\n",
    "hfo.create_dataset('ColdDiscVol'       , data=cold_volume)\n",
    "hfo.create_dataset('WarmDiscVol'       , data=warm_volume)\n",
    "hfo.create_dataset('IntDiscVol'       , data=int_volume)\n",
    "hfo.create_dataset('HotDiscVol'       , data=hot_volume)\n",
    "hfo.create_dataset('DiscMass'       , data=hout)\n",
    "hfo.create_dataset('Timestep', data=timestep)\n",
    "hfo.close()\n",
    "print(\"--------Written file------->>\",outputfile_name)"
   ]
  },
  {
   "cell_type": "code",
   "execution_count": 86,
   "id": "5e0e4811",
   "metadata": {
    "scrolled": false
   },
   "outputs": [
    {
     "name": "stdout",
     "output_type": "stream",
     "text": [
      "0.5668156165170162 0.43318438348298377 0.9218921069050914 86.92024049083584\n",
      "2.4923599178089416e-05 0.9999750764008218 0.2855517527499522 0.8371699463463659\n"
     ]
    },
    {
     "data": {
      "image/png": "[encoded data removed]",
      "text/plain": [
       "<Figure size 864x864 with 1 Axes>"
      ]
     },
     "metadata": {
      "needs_background": "light"
     },
     "output_type": "display_data"
    }
   ],
   "source": [
    "fig, ax = plt.subplots(1, 1, gridspec_kw = {'wspace':0., 'hspace':0.04},figsize=(12, 12))\n",
    "label = ['$\\Sigma13-Z1$', '$\\Sigma13-Z0.2$']\n",
    "color = ['mediumvioletred', 'navy']\n",
    "marker = ['*', 'o']\n",
    "kk=0\n",
    "\n",
    "path_home = '/g/data/jh2/av5889/quokka_myrepo/quokka/sims/SummitData/GasGravity/Production2pc/'\n",
    "file_list = ['R8/histo_6000000.h5', 'R8-0.2Zsol/histo_3610000.h5']\n",
    "xlabel = [r'$\\Sigma13$-Z$1$-H$150$', r'$\\Sigma13$-Z$0.2$-H$150$']\n",
    "label1 = [r'$T<500$ K', '']\n",
    "label2 = ['', r'$500$ K $<T<2\\times 10^4$ K']\n",
    "for file in file_list:\n",
    "    \n",
    "    data_path = os.path.join(path_home, file)\n",
    "    \n",
    "    hf = h5py.File(data_path ,'r')\n",
    "    cold_vol = (np.array(hf.get(\"ColdDiscVol\")))\n",
    "    warm_vol = (np.array(hf.get(\"WarmDiscVol\")))\n",
    "    int_vol = (np.array(hf.get(\"IntDiscVol\")))\n",
    "    hot_vol = (np.array(hf.get(\"HotDiscVol\")))\n",
    "\n",
    "    total_volume = kpc * kpc * 2 * 300. * pc\n",
    "    total_volume = np.sum(cold_vol) + np.sum(warm_vol)\n",
    "    \n",
    "    cfrac = np.sum(cold_vol)/total_volume\n",
    "    wfrac = np.sum(warm_vol)/total_volume\n",
    "    ifrac = np.sum(int_vol)/total_volume\n",
    "    hfrac = np.sum(hot_vol)/total_volume\n",
    "    \n",
    "    ax.bar(xlabel[kk], cfrac, color='darkolivegreen', label=label1[kk], width=0.5)\n",
    "    ax.bar(xlabel[kk], wfrac, bottom=cfrac, color='darkslategrey', hatch='/', label=label2[kk], width=0.5)\n",
    "    print(cfrac, wfrac, ifrac, hfrac)\n",
    "#     ax.bar(xlabel[kk], np.sum(int_vol)/total_volume, color='orange', label='Int')\n",
    "#     ax.bar(xlabel[kk], np.sum(hot_vol)/total_volume, color='black', label='Hot')\n",
    "    kk+=1\n",
    "\n",
    "ax.text(0.1, 0.3, 'Cold', transform=ax.transAxes, color='white', fontsize=60)\n",
    "ax.text(0.125, 0.25, '\\n ($T<500$ K)', transform=ax.transAxes, color='white', fontsize=14)\n",
    "\n",
    "ax.text(0.67, 0.3, 'Warm', transform=ax.transAxes, color='white', fontsize=60)\n",
    "ax.text(0.68, 0.25, r'($500$ K $<T< 2\\times 10^4$ K)', transform=ax.transAxes, color='white', fontsize=14)\n",
    "\n",
    "ax.set_ylim(0.0, 1.)\n",
    "ax.set_ylabel(r'$\\frac{V_{\\rm c/w}}{(V_{\\rm c}+V_{\\rm w})}$', fontsize=60, labelpad=30)\n",
    "ax.set_yticks([0.0, 0.5, 1.0])\n",
    "# ax.legend(ncol=2, frameon=False, fontsize=26)\n",
    "filename = fig_path +  '/Paper/volume_frac.jpeg'\n",
    "plt.savefig(filename, bbox_inches='tight',  dpi=160)"
   ]
  },
  {
   "cell_type": "code",
   "execution_count": null,
   "id": "326daf8f",
   "metadata": {},
   "outputs": [],
   "source": []
  }
 ],
 "metadata": {
  "kernelspec": {
   "display_name": "Python 3 (ipykernel)",
   "language": "python",
   "name": "python3"
  },
  "language_info": {
   "codemirror_mode": {
    "name": "ipython",
    "version": 3
   },
   "file_extension": ".py",
   "mimetype": "text/x-python",
   "name": "python",
   "nbconvert_exporter": "python",
   "pygments_lexer": "ipython3",
   "version": "3.9.2"
  }
 },
 "nbformat": 4,
 "nbformat_minor": 5
}
